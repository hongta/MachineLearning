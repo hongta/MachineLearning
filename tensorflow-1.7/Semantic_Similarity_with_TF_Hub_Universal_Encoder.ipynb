{
  "nbformat": 4,
  "nbformat_minor": 0,
  "metadata": {
    "colab": {
      "name": "Semantic Similarity with TF-Hub Universal Encoder.ipynb",
      "version": "0.3.2",
      "views": {},
      "default_view": {},
      "provenance": [],
      "collapsed_sections": []
    },
    "kernelspec": {
      "name": "python3",
      "display_name": "Python 3"
    }
  },
  "cells": [
    {
      "metadata": {
        "id": "nUjNTne15Kh5",
        "colab_type": "text"
      },
      "cell_type": "markdown",
      "source": [
        "source https://colab.research.google.com/github/tensorflow/hub/blob/r0.1/examples/colab/semantic_similarity_with_tf_hub_universal_encoder.ipynb"
      ]
    },
    {
      "metadata": {
        "id": "r9AQgdjg4Z0w",
        "colab_type": "code",
        "colab": {
          "autoexec": {
            "startup": false,
            "wait_interval": 0
          }
        }
      },
      "cell_type": "code",
      "source": [
        "!pip install -q --upgrade \"tensorflow>=1.7\" tensorflow-hub\n"
      ],
      "execution_count": 0,
      "outputs": []
    },
    {
      "metadata": {
        "id": "WQRsuGjd45Gx",
        "colab_type": "code",
        "colab": {
          "autoexec": {
            "startup": false,
            "wait_interval": 0
          }
        }
      },
      "cell_type": "code",
      "source": [
        "import tensorflow as tf\n",
        "import tensorflow_hub as hub\n",
        "import matplotlib.pyplot as plt\n",
        "import numpy as np\n",
        "import os \n",
        "import pandas as pd\n",
        "import re\n",
        "import seaborn as sns"
      ],
      "execution_count": 0,
      "outputs": []
    },
    {
      "metadata": {
        "id": "72GORsLd5FVJ",
        "colab_type": "code",
        "colab": {
          "autoexec": {
            "startup": false,
            "wait_interval": 0
          },
          "base_uri": "https://localhost:8080/",
          "height": 34
        },
        "outputId": "6e6aadb0-d997-4703-bf05-95582e0e230c",
        "executionInfo": {
          "status": "ok",
          "timestamp": 1523956607353,
          "user_tz": -480,
          "elapsed": 583,
          "user": {
            "displayName": "Hongta Wu",
            "photoUrl": "https://lh3.googleusercontent.com/a/default-user=s128",
            "userId": "100376649227286665005"
          }
        }
      },
      "cell_type": "code",
      "source": [
        "tf.__version__"
      ],
      "execution_count": 4,
      "outputs": [
        {
          "output_type": "execute_result",
          "data": {
            "text/plain": [
              "'1.7.0'"
            ]
          },
          "metadata": {
            "tags": []
          },
          "execution_count": 4
        }
      ]
    },
    {
      "metadata": {
        "id": "lUCH_jw14hLA",
        "colab_type": "text"
      },
      "cell_type": "markdown",
      "source": [
        "# Universal Sentence Encoder"
      ]
    },
    {
      "metadata": {
        "id": "ziUtBCgi5gpp",
        "colab_type": "text"
      },
      "cell_type": "markdown",
      "source": [
        "## Getting started"
      ]
    },
    {
      "metadata": {
        "id": "o8kCNUgJ4jNI",
        "colab_type": "code",
        "colab": {
          "autoexec": {
            "startup": false,
            "wait_interval": 0
          },
          "base_uri": "https://localhost:8080/",
          "height": 221
        },
        "outputId": "bc8ed90a-d3d1-4e95-fc61-889c0c46f43f",
        "executionInfo": {
          "status": "ok",
          "timestamp": 1523957770407,
          "user_tz": -480,
          "elapsed": 15401,
          "user": {
            "displayName": "Hongta Wu",
            "photoUrl": "https://lh3.googleusercontent.com/a/default-user=s128",
            "userId": "100376649227286665005"
          }
        }
      },
      "cell_type": "code",
      "source": [
        "# Import the Universal Sentence Encoder's TF Hub module\n",
        "embed = hub.Module(\"https://tfhub.dev/google/universal-sentence-encoder/1\")\n",
        "\n",
        "#Compute a representation for each message, showing various lengths supported.\n",
        "word = \"Elephant\"\n",
        "sentence = \"I am a sentence for which I would like to get its embedding.\"\n",
        "paragraph = (\n",
        "    \"Universal Sentence Encoder embeddings also support short paragraphs. \"\n",
        "    \"There is no hard limit on how long the paragraph is. Roughly, the longer \"\n",
        "    \"the more 'diluted' the embedding will be.\")\n",
        "\n",
        "messages = [word, sentence, paragraph]\n",
        "\n",
        "# Reduce logging output.\n",
        "tf.logging.set_verbosity(tf.logging.ERROR)\n",
        "\n",
        "with tf.Session() as session:\n",
        "  session.run([tf.global_variables_initializer(), tf.tables_initializer()])\n",
        "  \n",
        "  message_embeddings = session.run(embed(messages))\n",
        "  \n",
        "  for i, message_embedding in enumerate(np.array(message_embeddings).tolist()):\n",
        "    print(\"Message: {}\".format(messages[i]))\n",
        "    print(\"Embedding size: {}\".format(len(message_embedding)))\n",
        "    message_embedding_snippet = \", \".join(\n",
        "        (str(x) for x in message_embedding[:3]))\n",
        "    print(\"Embedding: [{}, ...]\\n\".format(message_embedding_snippet))"
      ],
      "execution_count": 7,
      "outputs": [
        {
          "output_type": "stream",
          "text": [
            "Message: Elephant\n",
            "Embedding size: 512\n",
            "Embedding: [-0.016987282782793045, -0.008949815295636654, -0.0070627182722091675, ...]\n",
            "\n",
            "Message: I am a sentence for which I would like to get its embedding.\n",
            "Embedding size: 512\n",
            "Embedding: [0.03531332314014435, -0.025384284555912018, -0.007880025543272495, ...]\n",
            "\n",
            "Message: Universal Sentence Encoder embeddings also support short paragraphs. There is no hard limit on how long the paragraph is. Roughly, the longer the more 'diluted' the embedding will be.\n",
            "Embedding size: 512\n",
            "Embedding: [0.01879097707569599, 0.045365191996097565, -0.02001088112592697, ...]\n",
            "\n"
          ],
          "name": "stdout"
        }
      ]
    },
    {
      "metadata": {
        "id": "MDbBURVr8sXb",
        "colab_type": "code",
        "colab": {
          "autoexec": {
            "startup": false,
            "wait_interval": 0
          }
        }
      },
      "cell_type": "code",
      "source": [
        ""
      ],
      "execution_count": 0,
      "outputs": []
    },
    {
      "metadata": {
        "id": "EvQ9-aAC8tyn",
        "colab_type": "text"
      },
      "cell_type": "markdown",
      "source": [
        "## Semantic Textual Similarity Task Example"
      ]
    },
    {
      "metadata": {
        "id": "TgEOlXZb9BW1",
        "colab_type": "text"
      },
      "cell_type": "markdown",
      "source": [
        "The embeddings produced by the Universal Sentence Encoder are approximately normalized. The semantic similarity of two sentences can be trivially computed as \n",
        "inner product of the encodings"
      ]
    },
    {
      "metadata": {
        "id": "IwrbPUh39AJs",
        "colab_type": "code",
        "colab": {
          "autoexec": {
            "startup": false,
            "wait_interval": 0
          }
        }
      },
      "cell_type": "code",
      "source": [
        "def plot_similarity(labels, features, rotation):\n",
        "  corr = np.inner(features, features)\n",
        "  sns.set(font_scale=1.2)\n",
        "  g = sns.heatmap(\n",
        "    corr,\n",
        "    xticklabels=labels,\n",
        "    yticklabels=labels,\n",
        "    vmin=0,\n",
        "    vmax=1,\n",
        "    cmap=\"YlOrRd\")\n",
        "  g.set_xticklabels(labels, rotation=rotation)\n",
        "  g.set_title(\"Semantic Textual Similarity\")\n",
        "  \n",
        "def run_and_plot(session_, input_tensor_, messages_, encoding_tensor):\n",
        "  message_embeddings_ = session_.run(\n",
        "      encoding_tensor, feed_dict={input_tensor_: messages})\n",
        "  plot_similarity(messages_, message_embeddings_, 90)\n",
        "  "
      ],
      "execution_count": 0,
      "outputs": []
    },
    {
      "metadata": {
        "id": "iTnerC-L_sA3",
        "colab_type": "text"
      },
      "cell_type": "markdown",
      "source": [
        "### Similarity Visualized"
      ]
    },
    {
      "metadata": {
        "id": "IXrncmHE-5IK",
        "colab_type": "code",
        "colab": {
          "autoexec": {
            "startup": false,
            "wait_interval": 0
          },
          "base_uri": "https://localhost:8080/",
          "height": 585
        },
        "outputId": "d4997c76-536d-48f5-9870-0eee9f1d7bd6",
        "executionInfo": {
          "status": "ok",
          "timestamp": 1523958815736,
          "user_tz": -480,
          "elapsed": 17850,
          "user": {
            "displayName": "Hongta Wu",
            "photoUrl": "https://lh3.googleusercontent.com/a/default-user=s128",
            "userId": "100376649227286665005"
          }
        }
      },
      "cell_type": "code",
      "source": [
        "messages = [\n",
        "    # Smartphones\n",
        "    \"I like my phone\",\n",
        "    \"My phone is not good.\",\n",
        "    \"Your cellphone looks great.\",\n",
        "\n",
        "    # Weather\n",
        "    \"Will it snow tomorrow?\",\n",
        "    \"Recently a lot of hurricanes have hit the US\",\n",
        "    \"Global warming is real\",\n",
        "\n",
        "    # Food and health\n",
        "    \"An apple a day, keeps the doctors away\",\n",
        "    \"Eating strawberries is healthy\",\n",
        "    \"Is paleo better than keto?\",\n",
        "\n",
        "    # Asking about age\n",
        "    \"How old are you?\",\n",
        "    \"what is your age?\",\n",
        "]\n",
        "\n",
        "similarity_input_placeholder = tf.placeholder(tf.string, shape=(None))\n",
        "similarity_message_encodings = embed(similarity_input_placeholder)\n",
        "with tf.Session() as session:\n",
        "  session.run(tf.global_variables_initializer())\n",
        "  session.run(tf.tables_initializer())\n",
        "  \n",
        "  run_and_plot(session, similarity_input_placeholder, messages, similarity_message_encodings)"
      ],
      "execution_count": 17,
      "outputs": [
        {
          "output_type": "display_data",
          "data": {
            "image/png": "[encoded data removed]",
            "text/plain": [
              "<matplotlib.figure.Figure at 0x7fa71a6fce80>"
            ]
          },
          "metadata": {
            "tags": []
          }
        }
      ]
    },
    {
      "metadata": {
        "id": "nGwwJ6Zp_xCz",
        "colab_type": "code",
        "colab": {
          "autoexec": {
            "startup": false,
            "wait_interval": 0
          }
        }
      },
      "cell_type": "code",
      "source": [
        ""
      ],
      "execution_count": 0,
      "outputs": []
    },
    {
      "metadata": {
        "id": "EzeDB-nxCom5",
        "colab_type": "text"
      },
      "cell_type": "markdown",
      "source": [
        "## Evaluation: Semantic Textual Similarity Benchmark"
      ]
    },
    {
      "metadata": {
        "id": "yLMCDu9DJg62",
        "colab_type": "text"
      },
      "cell_type": "markdown",
      "source": [
        "### Download data"
      ]
    },
    {
      "metadata": {
        "id": "tjjmMA5rCwPQ",
        "colab_type": "code",
        "colab": {
          "autoexec": {
            "startup": false,
            "wait_interval": 0
          }
        }
      },
      "cell_type": "code",
      "source": [
        "\n",
        "import scipy\n",
        "import math\n",
        "\n",
        "def load_sts_dataset(filename):\n",
        "  sent_pairs = []\n",
        "  with tf.gfile.GFile(filename, \"r\") as f:\n",
        "    for line in f:\n",
        "      ts = line.strip().split(\"\\t\")\n",
        "      # (sent_1, sent_2, similarity_score)\n",
        "      sent_pairs.append((ts[5], ts[6], float(ts[4])))\n",
        "      \n",
        "  return pd.DataFrame(sent_pairs, columns=[\"sent_1\", \"sent_2\", \"sim\"])\n",
        "\n",
        "\n",
        "def download_and_load_sts_data():\n",
        "  sts_dataset = tf.keras.utils.get_file(\n",
        "      fname=\"Stsbenchmar.tar.gz\",\n",
        "      origin=\"http://ixa2.si.ehu.es/stswiki/images/4/48/Stsbenchmark.tar.gz\",\n",
        "      extract=True)\n",
        "  \n",
        "  sts_dev = load_sts_dataset(\n",
        "    os.path.join(os.path.dirname(sts_dataset), \"stsbenchmark\", \"sts-dev.csv\"))\n",
        "  sts_test = load_sts_dataset(\n",
        "    os.path.join(\n",
        "      os.path.dirname(sts_dataset), \"stsbenchmark\", \"sts-test.csv\"))\n",
        "  \n",
        "  return sts_dev, sts_test\n",
        "\n",
        "sts_dev, sts_test = download_and_load_sts_data()\n",
        "  "
      ],
      "execution_count": 0,
      "outputs": []
    },
    {
      "metadata": {
        "id": "FseACoasLd8R",
        "colab_type": "text"
      },
      "cell_type": "markdown",
      "source": [
        "### Build Evaluation Graph"
      ]
    },
    {
      "metadata": {
        "id": "ZjLoeKDlLGdr",
        "colab_type": "code",
        "colab": {
          "autoexec": {
            "startup": false,
            "wait_interval": 0
          }
        }
      },
      "cell_type": "code",
      "source": [
        "text_a = sts_dev['sent_1'].tolist()\n",
        "text_b = sts_dev['sent_2'].tolist()\n",
        "dev_scores = sts_dev['sim'].tolist()\n",
        "\n",
        "sts_input1 = tf.placeholder(tf.string, shape=(None))\n",
        "sts_input2 = tf.placeholder(tf.string, shape=(None))\n",
        "\n",
        "# For evaluation we use exactly normalized rather than\n",
        "# approximately normalized\n",
        "sts_encode1 = tf.nn.l2_normalize(embed(sts_input1))\n",
        "sts_encode2 = tf.nn.l2_normalize(embed(sts_input2))\n",
        "sim_scores = tf.reduce_sum(tf.multiply(sts_encode1, sts_encode2), axis=1)"
      ],
      "execution_count": 0,
      "outputs": []
    },
    {
      "metadata": {
        "id": "TOdfBJmCMXa5",
        "colab_type": "code",
        "colab": {
          "autoexec": {
            "startup": false,
            "wait_interval": 0
          }
        }
      },
      "cell_type": "code",
      "source": [
        ""
      ],
      "execution_count": 0,
      "outputs": []
    },
    {
      "metadata": {
        "id": "q_R95DbCMemA",
        "colab_type": "text"
      },
      "cell_type": "markdown",
      "source": [
        "### Evaluate Sentence Embeddings"
      ]
    },
    {
      "metadata": {
        "id": "3QGLko7mMgsL",
        "colab_type": "code",
        "colab": {
          "autoexec": {
            "startup": false,
            "wait_interval": 0
          },
          "base_uri": "https://localhost:8080/",
          "height": 51
        },
        "outputId": "179b5e64-91a3-4fd8-d2fd-c28cd1255c59",
        "executionInfo": {
          "status": "ok",
          "timestamp": 1523961945897,
          "user_tz": -480,
          "elapsed": 16224,
          "user": {
            "displayName": "Hongta Wu",
            "photoUrl": "https://lh3.googleusercontent.com/a/default-user=s128",
            "userId": "100376649227286665005"
          }
        }
      },
      "cell_type": "code",
      "source": [
        "def run_sts_benchmark(session):\n",
        "  emba, embb, scores = session.run(\n",
        "    [sts_encode1, sts_encode2, sim_scores],\n",
        "    feed_dict={\n",
        "        sts_input1: text_a,\n",
        "        sts_input2: text_b\n",
        "    })\n",
        "  return scores\n",
        "\n",
        "with tf.Session() as session:\n",
        "  session.run(tf.global_variables_initializer())\n",
        "  session.run(tf.tables_initializer())\n",
        "  \n",
        "  scores = run_sts_benchmark(session)\n",
        "  \n",
        "  \n",
        "pearson_correlation = scipy.stats.pearsonr(scores, dev_scores)\n",
        "print('Pearson correlation coefficient = {0}\\np-value = {1}'.format(\n",
        "    pearson_correlation[0], pearson_correlation[1]))"
      ],
      "execution_count": 22,
      "outputs": [
        {
          "output_type": "stream",
          "text": [
            "Pearson correlation coefficient = 0.7513779772819759\n",
            "p-value = 9.743625041468064e-273\n"
          ],
          "name": "stdout"
        }
      ]
    },
    {
      "metadata": {
        "id": "Bs9q1SX2NZ-U",
        "colab_type": "code",
        "colab": {
          "autoexec": {
            "startup": false,
            "wait_interval": 0
          }
        }
      },
      "cell_type": "code",
      "source": [
        ""
      ],
      "execution_count": 0,
      "outputs": []
    }
  ]
}