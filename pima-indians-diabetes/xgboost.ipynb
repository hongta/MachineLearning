{
 "cells": [
  {
   "cell_type": "code",
   "execution_count": 2,
   "metadata": {},
   "outputs": [],
   "source": [
    "import numpy as np\n",
    "from xgboost import XGBClassifier\n",
    "from sklearn.model_selection import train_test_split\n",
    "from sklearn.metrics import accuracy_score"
   ]
  },
  {
   "cell_type": "code",
   "execution_count": 4,
   "metadata": {},
   "outputs": [],
   "source": [
    "pima_dataset = np.loadtxt(\"dataset/pima-indians-diabetes.data\", delimiter=\",\")"
   ]
  },
  {
   "cell_type": "code",
   "execution_count": 12,
   "metadata": {},
   "outputs": [],
   "source": [
    "X = pima_dataset[:,0:8]\n",
    "y = pima_dataset[:,8]"
   ]
  },
  {
   "cell_type": "code",
   "execution_count": 13,
   "metadata": {
    "scrolled": true
   },
   "outputs": [
    {
     "data": {
      "text/plain": [
       "(768, 8)"
      ]
     },
     "execution_count": 13,
     "metadata": {},
     "output_type": "execute_result"
    }
   ],
   "source": [
    "X.shape"
   ]
  },
  {
   "cell_type": "code",
   "execution_count": 14,
   "metadata": {},
   "outputs": [
    {
     "data": {
      "text/plain": [
       "(768,)"
      ]
     },
     "execution_count": 14,
     "metadata": {},
     "output_type": "execute_result"
    }
   ],
   "source": [
    "y.shape"
   ]
  },
  {
   "cell_type": "code",
   "execution_count": 15,
   "metadata": {},
   "outputs": [
    {
     "data": {
      "text/plain": [
       "array([   6.   ,  148.   ,   72.   ,   35.   ,    0.   ,   33.6  ,\n",
       "          0.627,   50.   ])"
      ]
     },
     "execution_count": 15,
     "metadata": {},
     "output_type": "execute_result"
    }
   ],
   "source": [
    "X[0]"
   ]
  },
  {
   "cell_type": "markdown",
   "metadata": {},
   "source": [
    "## prepare dataset"
   ]
  },
  {
   "cell_type": "code",
   "execution_count": 9,
   "metadata": {
    "collapsed": true
   },
   "outputs": [],
   "source": [
    "seed = 23\n",
    "test_size = 0.33"
   ]
  },
  {
   "cell_type": "code",
   "execution_count": 16,
   "metadata": {
    "scrolled": true
   },
   "outputs": [],
   "source": [
    "X_train, X_test, y_train, y_test = train_test_split(X, y, test_size=test_size, random_state=seed)"
   ]
  },
  {
   "cell_type": "code",
   "execution_count": 42,
   "metadata": {},
   "outputs": [
    {
     "data": {
      "text/plain": [
       "XGBClassifier(base_score=0.5, colsample_bylevel=1, colsample_bytree=1,\n",
       "       gamma=0, learning_rate=0.18, max_delta_step=0, max_depth=1,\n",
       "       min_child_weight=1, missing=None, n_estimators=120, nthread=-1,\n",
       "       objective='binary:logistic', reg_alpha=0, reg_lambda=1,\n",
       "       scale_pos_weight=1, seed=0, silent=True, subsample=1)"
      ]
     },
     "execution_count": 42,
     "metadata": {},
     "output_type": "execute_result"
    }
   ],
   "source": [
    "model = XGBClassifier(learning_rate=0.18, max_depth=1, n_estimators=120)\n",
    "model.fit(X_train, y_train)"
   ]
  },
  {
   "cell_type": "code",
   "execution_count": 43,
   "metadata": {
    "collapsed": true
   },
   "outputs": [],
   "source": [
    "y_pred = model.predict(X_test)\n",
    "\n",
    "#predictions = [round(value) for value in y_pred]"
   ]
  },
  {
   "cell_type": "code",
   "execution_count": 44,
   "metadata": {},
   "outputs": [
    {
     "data": {
      "text/plain": [
       "array([ 0.,  1.,  1.,  0.,  0.])"
      ]
     },
     "execution_count": 44,
     "metadata": {},
     "output_type": "execute_result"
    }
   ],
   "source": [
    "y_pred[:5]"
   ]
  },
  {
   "cell_type": "code",
   "execution_count": 45,
   "metadata": {},
   "outputs": [
    {
     "name": "stdout",
     "output_type": "stream",
     "text": [
      "Accuracy: 76.77%\n"
     ]
    }
   ],
   "source": [
    "accuracy = accuracy_score(y_test, y_pred)\n",
    "print(\"Accuracy: %.2f%%\" % (accuracy * 100.0))"
   ]
  },
  {
   "cell_type": "markdown",
   "metadata": {},
   "source": [
    "## moniotring the models"
   ]
  },
  {
   "cell_type": "code",
   "execution_count": 24,
   "metadata": {},
   "outputs": [
    {
     "name": "stdout",
     "output_type": "stream",
     "text": [
      "[0]\tvalidation_0-logloss:0.661969\n",
      "Will train until validation_0-logloss hasn't improved in 10 rounds.\n",
      "[1]\tvalidation_0-logloss:0.63672\n",
      "[2]\tvalidation_0-logloss:0.615611\n",
      "[3]\tvalidation_0-logloss:0.598612\n",
      "[4]\tvalidation_0-logloss:0.586367\n",
      "[5]\tvalidation_0-logloss:0.574021\n",
      "[6]\tvalidation_0-logloss:0.562797\n",
      "[7]\tvalidation_0-logloss:0.554446\n",
      "[8]\tvalidation_0-logloss:0.54714\n",
      "[9]\tvalidation_0-logloss:0.541942\n",
      "[10]\tvalidation_0-logloss:0.53917\n",
      "[11]\tvalidation_0-logloss:0.534595\n",
      "[12]\tvalidation_0-logloss:0.528139\n",
      "[13]\tvalidation_0-logloss:0.523643\n",
      "[14]\tvalidation_0-logloss:0.519986\n",
      "[15]\tvalidation_0-logloss:0.517312\n",
      "[16]\tvalidation_0-logloss:0.514372\n",
      "[17]\tvalidation_0-logloss:0.510811\n",
      "[18]\tvalidation_0-logloss:0.509339\n",
      "[19]\tvalidation_0-logloss:0.508222\n",
      "[20]\tvalidation_0-logloss:0.507236\n",
      "[21]\tvalidation_0-logloss:0.506946\n",
      "[22]\tvalidation_0-logloss:0.506057\n",
      "[23]\tvalidation_0-logloss:0.504998\n",
      "[24]\tvalidation_0-logloss:0.502785\n",
      "[25]\tvalidation_0-logloss:0.501826\n",
      "[26]\tvalidation_0-logloss:0.500872\n",
      "[27]\tvalidation_0-logloss:0.501335\n",
      "[28]\tvalidation_0-logloss:0.500843\n",
      "[29]\tvalidation_0-logloss:0.499688\n",
      "[30]\tvalidation_0-logloss:0.49737\n",
      "[31]\tvalidation_0-logloss:0.496649\n",
      "[32]\tvalidation_0-logloss:0.497667\n",
      "[33]\tvalidation_0-logloss:0.499036\n",
      "[34]\tvalidation_0-logloss:0.498343\n",
      "[35]\tvalidation_0-logloss:0.499079\n",
      "[36]\tvalidation_0-logloss:0.498511\n",
      "[37]\tvalidation_0-logloss:0.499707\n",
      "[38]\tvalidation_0-logloss:0.499326\n",
      "[39]\tvalidation_0-logloss:0.49921\n",
      "[40]\tvalidation_0-logloss:0.499399\n",
      "[41]\tvalidation_0-logloss:0.500595\n",
      "Stopping. Best iteration:\n",
      "[31]\tvalidation_0-logloss:0.496649\n",
      "\n"
     ]
    },
    {
     "data": {
      "text/plain": [
       "XGBClassifier(base_score=0.5, colsample_bylevel=1, colsample_bytree=1,\n",
       "       gamma=0, learning_rate=0.1, max_delta_step=0, max_depth=3,\n",
       "       min_child_weight=1, missing=None, n_estimators=100, nthread=-1,\n",
       "       objective='binary:logistic', reg_alpha=0, reg_lambda=1,\n",
       "       scale_pos_weight=1, seed=0, silent=True, subsample=1)"
      ]
     },
     "execution_count": 24,
     "metadata": {},
     "output_type": "execute_result"
    }
   ],
   "source": [
    "model = XGBClassifier()\n",
    "eval_set = [(X_test, y_test)]\n",
    "model.fit(X_train, \n",
    "          y_train, \n",
    "          early_stopping_rounds=10, \n",
    "          eval_metric=\"logloss\", \n",
    "          eval_set=eval_set,\n",
    "          verbose=True)"
   ]
  },
  {
   "cell_type": "code",
   "execution_count": null,
   "metadata": {
    "collapsed": true
   },
   "outputs": [],
   "source": []
  },
  {
   "cell_type": "markdown",
   "metadata": {},
   "source": [
    "found out the Early stopping"
   ]
  },
  {
   "cell_type": "markdown",
   "metadata": {},
   "source": [
    "```\n",
    "Stopping. Best iteration:\n",
    "[31]\tvalidation_0-logloss:0.496649\n",
    "```"
   ]
  },
  {
   "cell_type": "markdown",
   "metadata": {},
   "source": [
    "## found out important features"
   ]
  },
  {
   "cell_type": "code",
   "execution_count": 25,
   "metadata": {
    "collapsed": true
   },
   "outputs": [],
   "source": [
    "from xgboost import plot_importance\n",
    "import matplotlib.pyplot as plt\n",
    "%matplotlib inline"
   ]
  },
  {
   "cell_type": "code",
   "execution_count": 28,
   "metadata": {},
   "outputs": [
    {
     "data": {
      "image/png": "[encoded data removed]",
      "text/plain": [
       "<matplotlib.figure.Figure at 0x113d1bf28>"
      ]
     },
     "metadata": {},
     "output_type": "display_data"
    }
   ],
   "source": [
    "model = XGBClassifier()\n",
    "model.fit(X, y)\n",
    "plot_importance(model)\n",
    "plt.show()"
   ]
  },
  {
   "cell_type": "markdown",
   "metadata": {
    "collapsed": true
   },
   "source": [
    "## Use GridSearchCV"
   ]
  },
  {
   "cell_type": "code",
   "execution_count": 29,
   "metadata": {
    "collapsed": true
   },
   "outputs": [],
   "source": [
    "from sklearn.model_selection import GridSearchCV\n",
    "from sklearn.model_selection import StratifiedKFold"
   ]
  },
  {
   "cell_type": "code",
   "execution_count": 30,
   "metadata": {
    "collapsed": true
   },
   "outputs": [],
   "source": [
    "learning_rate = [0.0001, 0.001, 0.01, 0.1, 0.2, 0.3]\n",
    "param_grid = dict(learning_rate=learning_rate)\n",
    "kfold = StratifiedKFold(n_splits=10, shuffle=True, random_state=7)\n",
    "\n",
    "grid_search = GridSearchCV(model, param_grid, scoring=\"neg_log_loss\", n_jobs=-1, cv=kfold)\n",
    "grid_result = grid_search.fit(X, y)"
   ]
  },
  {
   "cell_type": "code",
   "execution_count": 31,
   "metadata": {},
   "outputs": [
    {
     "name": "stdout",
     "output_type": "stream",
     "text": [
      "Best: -0.483304 using {'learning_rate': 0.1}\n"
     ]
    }
   ],
   "source": [
    "print(\"Best: %f using %s\" % (grid_result.best_score_, grid_result.best_params_))"
   ]
  },
  {
   "cell_type": "code",
   "execution_count": 32,
   "metadata": {
    "scrolled": true
   },
   "outputs": [
    {
     "name": "stdout",
     "output_type": "stream",
     "text": [
      "-0.689811 (0.000475) with: {'learning_rate': 0.0001}\n",
      "-0.661827 (0.004625) with: {'learning_rate': 0.001}\n",
      "-0.531155 (0.028945) with: {'learning_rate': 0.01}\n",
      "-0.483304 (0.055151) with: {'learning_rate': 0.1}\n",
      "-0.515642 (0.061723) with: {'learning_rate': 0.2}\n",
      "-0.554158 (0.067557) with: {'learning_rate': 0.3}\n"
     ]
    }
   ],
   "source": [
    "means = grid_result.cv_results_['mean_test_score']\n",
    "stds = grid_result.cv_results_['std_test_score']\n",
    "params = grid_result.cv_results_['params']\n",
    "for mean, stdev, param in zip(means, stds, params):\n",
    "    print(\"%f (%f) with: %r\" % (mean, stdev, param))"
   ]
  },
  {
   "cell_type": "code",
   "execution_count": 40,
   "metadata": {},
   "outputs": [],
   "source": [
    "learning_rate = [0.01, 0.05, 0.1, 0.15, 0.18]\n",
    "max_depth = [1, 2, 3, 4, 5, 6, 7, 8]\n",
    "n_estimators=[50, 80, 100, 120, 150, 200]\n",
    "\n",
    "param_grid = dict(learning_rate=learning_rate, max_depth=max_depth, n_estimators=n_estimators)\n",
    "\n",
    "grid_search = GridSearchCV(model, param_grid, scoring=\"neg_log_loss\", n_jobs=-1, cv=kfold)\n",
    "grid_result = grid_search.fit(X, y)"
   ]
  },
  {
   "cell_type": "code",
   "execution_count": 41,
   "metadata": {},
   "outputs": [
    {
     "name": "stdout",
     "output_type": "stream",
     "text": [
      "Best: -0.469025 using {'learning_rate': 0.18, 'max_depth': 1, 'n_estimators': 120}\n"
     ]
    }
   ],
   "source": [
    "print(\"Best: %f using %s\" % (grid_result.best_score_, grid_result.best_params_))"
   ]
  },
  {
   "cell_type": "code",
   "execution_count": null,
   "metadata": {
    "collapsed": true
   },
   "outputs": [],
   "source": []
  }
 ],
 "metadata": {
  "kernelspec": {
   "display_name": "Python 3",
   "language": "python",
   "name": "python3"
  },
  "language_info": {
   "codemirror_mode": {
    "name": "ipython",
    "version": 3
   },
   "file_extension": ".py",
   "mimetype": "text/x-python",
   "name": "python",
   "nbconvert_exporter": "python",
   "pygments_lexer": "ipython3",
   "version": "3.6.2"
  }
 },
 "nbformat": 4,
 "nbformat_minor": 2
}
