{
 "cells": [
  {
   "cell_type": "code",
   "execution_count": 1,
   "metadata": {
    "collapsed": true
   },
   "outputs": [],
   "source": [
    "import os\n",
    "os.environ['KERAS_BACKEND'] = 'tensorflow'"
   ]
  },
  {
   "cell_type": "code",
   "execution_count": 32,
   "metadata": {},
   "outputs": [],
   "source": [
    "import keras\n",
    "from keras.applications.inception_resnet_v2 import InceptionResNetV2, preprocess_input\n",
    "from keras.layers import Conv2D, UpSampling2D, InputLayer, Input, Reshape, concatenate\n",
    "from keras.callbacks import TensorBoard\n",
    "from keras.models import Sequential, Model\n",
    "from keras.layers.core import RepeatVector\n",
    "from keras.preprocessing.image import ImageDataGenerator, array_to_img, img_to_array, load_img\n",
    "from skimage.color import rgb2lab, lab2rgb, rgb2gray, gray2rgb\n",
    "from skimage.io import imsave\n",
    "from skimage.transform import resize\n",
    "\n",
    "import numpy as np\n",
    "import random\n",
    "import tensorflow as tf"
   ]
  },
  {
   "cell_type": "code",
   "execution_count": 3,
   "metadata": {},
   "outputs": [
    {
     "name": "stdout",
     "output_type": "stream",
     "text": [
      "2.0.9\n",
      "1.3.0\n"
     ]
    }
   ],
   "source": [
    "print(keras.__version__)\n",
    "print(tf.__version__)"
   ]
  },
  {
   "cell_type": "code",
   "execution_count": 4,
   "metadata": {
    "collapsed": true
   },
   "outputs": [],
   "source": [
    "DATASET_PATH = './dataset'"
   ]
  },
  {
   "cell_type": "code",
   "execution_count": 5,
   "metadata": {
    "collapsed": true
   },
   "outputs": [],
   "source": [
    "# Get images\n",
    "X = []\n",
    "for filename in os.listdir(f\"{DATASET_PATH}/train/\"):\n",
    "    X.append(img_to_array(load_img(f\"{DATASET_PATH}/train/{filename}\")))\n",
    "\n",
    "X = np.array(X, dtype='float32')\n",
    "X_train = 1.0 / 255 * X"
   ]
  },
  {
   "cell_type": "code",
   "execution_count": 6,
   "metadata": {
    "scrolled": true
   },
   "outputs": [
    {
     "name": "stdout",
     "output_type": "stream",
     "text": [
      "Downloading data from https://github.com/fchollet/deep-learning-models/releases/download/v0.7/inception_resnet_v2_weights_tf_dim_ordering_tf_kernels.h5\n",
      "225214464/225209952 [==============================] - 73s 0us/step\n"
     ]
    }
   ],
   "source": [
    "# Load weights\n",
    "inception = InceptionResNetV2(weights=\"imagenet\", include_top=True)\n",
    "inception.graph = tf.get_default_graph()"
   ]
  },
  {
   "cell_type": "code",
   "execution_count": 8,
   "metadata": {},
   "outputs": [],
   "source": [
    "from functools import partial\n",
    "\n",
    "conv = partial(Conv2D,\n",
    "               1,\n",
    "               (3, 3),\n",
    "               activation='relu',\n",
    "               padding='same'\n",
    "               )"
   ]
  },
  {
   "cell_type": "code",
   "execution_count": 24,
   "metadata": {
    "collapsed": true
   },
   "outputs": [],
   "source": [
    "embed_input = Input(shape=(1000,))\n",
    "\n",
    "# Encoder\n",
    "encoder_input = Input(shape=(256, 256, 1,))\n",
    "encoder = Conv2D(64, (3, 3), activation='relu', padding='same', strides=2)(encoder_input)\n",
    "encoder = Conv2D(128, (3, 3), activation='relu', padding='same')(encoder)\n",
    "encoder = Conv2D(128, (3, 3), activation='relu', padding='same', strides=2)(encoder)\n",
    "encoder = Conv2D(256, (3, 3), activation='relu', padding='same')(encoder)\n",
    "encoder = Conv2D(256, (3, 3), activation='relu', padding='same', strides=2)(encoder)\n",
    "encoder = Conv2D(512, (3, 3), activation='relu', padding='same')(encoder)\n",
    "encoder = Conv2D(512, (3, 3), activation='relu', padding='same')(encoder)\n",
    "encoder = Conv2D(256, (3, 3), activation='relu', padding='same')(encoder)\n"
   ]
  },
  {
   "cell_type": "code",
   "execution_count": 25,
   "metadata": {},
   "outputs": [],
   "source": [
    "#Fusion\n",
    "fusion = RepeatVector(32 * 32)(embed_input) \n",
    "# embed_input.shape = (?, 1000)\n",
    "# funsion.shape = (?, 1024, 1000)\n",
    "fusion = Reshape(([32, 32, 1000]))(fusion)\n",
    "fusion = concatenate([encoder, fusion], axis=3)\n",
    "# funsion.shape = (?, 32, 32, 1000 + 256)\n",
    "fusion = Conv2D(256, (1, 1), activation='relu', padding='same')(fusion)\n",
    "# fusion.shape = (?, 32, 32, 256)"
   ]
  },
  {
   "cell_type": "code",
   "execution_count": 26,
   "metadata": {},
   "outputs": [],
   "source": [
    "# Decoder\n",
    "decoder = Conv2D(128, (3, 3), activation='relu', padding='same')(fusion)\n",
    "decoder = UpSampling2D((2, 2))(decoder)\n",
    "decoder = Conv2D(64, (3, 3), activation='relu', padding='same')(decoder)\n",
    "decoder = UpSampling2D((2, 2))(decoder)\n",
    "decoder = Conv2D(32, (3, 3), activation='relu', padding='same')(decoder)\n",
    "decoder = Conv2D(16, (3, 3), activation='relu', padding='same')(decoder)\n",
    "decoder = Conv2D(2, (3, 3), activation='tanh', padding='same')(decoder)\n",
    "decoder = UpSampling2D((2, 2))(decoder)"
   ]
  },
  {
   "cell_type": "code",
   "execution_count": 27,
   "metadata": {},
   "outputs": [],
   "source": [
    "model = Model(inputs=[encoder_input, embed_input], outputs=decoder)"
   ]
  },
  {
   "cell_type": "code",
   "execution_count": 34,
   "metadata": {
    "collapsed": true
   },
   "outputs": [],
   "source": [
    "def create_inception_embedding(grayscaled_rgb):\n",
    "    grayscaled_rgb_resized = []\n",
    "    for i in grayscaled_rgb:\n",
    "        i = resize(i, (299, 299, 3), mode='constant')\n",
    "        grayscaled_rgb_resized.append(i)\n",
    "    grayscaled_rgb_resized = np.array(grayscaled_rgb_resized)\n",
    "    grayscaled_rgb_resized = preprocess_input(grayscaled_rgb_resized)\n",
    "    with inception.graph.as_default():\n",
    "        embed = inception.predict(grayscaled_rgb_resized)\n",
    "    return embed"
   ]
  },
  {
   "cell_type": "code",
   "execution_count": 29,
   "metadata": {
    "collapsed": true
   },
   "outputs": [],
   "source": [
    "def image_a_b_gen(batch_size):\n",
    "    for batch in datagen.flow(X_train, batch_size=batch_size):\n",
    "        grayscaled_rgb = gray2rgb(rgb2gray(batch))\n",
    "        embed = create_inception_embedding(grayscaled_rgb)\n",
    "        lab_batch = rgb2lab(batch)\n",
    "        X_batch = lab_batch[:, :, :, 0]\n",
    "        X_batch = X_batch.reshape(X_batch.shape + (1, ))\n",
    "        y_batch = lab_batch[:, :, :, 1:] / 128.\n",
    "        \n",
    "        yield ([X_batch, create_inception_embedding(grayscaled_rgb)], y_batch)"
   ]
  },
  {
   "cell_type": "code",
   "execution_count": 30,
   "metadata": {
    "collapsed": true
   },
   "outputs": [],
   "source": [
    "# Image transformer\n",
    "datagen = ImageDataGenerator(shear_range=0.2,\n",
    "                             zoom_range=0.2,\n",
    "                             rotation_range=20,\n",
    "                             horizontal_flip=True)\n",
    "batch_size = 10\n",
    "\n",
    "model.compile(optimizer='rmsprop',\n",
    "              loss = 'mse')"
   ]
  },
  {
   "cell_type": "code",
   "execution_count": 35,
   "metadata": {},
   "outputs": [
    {
     "name": "stdout",
     "output_type": "stream",
     "text": [
      "Epoch 1/1\n",
      "1/1 [==============================] - 49s 49s/step - loss: 0.0327\n"
     ]
    },
    {
     "data": {
      "text/plain": [
       "<keras.callbacks.History at 0x2bd0c630>"
      ]
     },
     "execution_count": 35,
     "metadata": {},
     "output_type": "execute_result"
    }
   ],
   "source": [
    "model.fit_generator(image_a_b_gen(batch_size), epochs=1, steps_per_epoch=1)"
   ]
  },
  {
   "cell_type": "code",
   "execution_count": 36,
   "metadata": {
    "collapsed": true
   },
   "outputs": [],
   "source": [
    "color_me = []\n",
    "for filename in os.listdir(f\"{DATASET_PATH}/test/\"):\n",
    "    color_me.append(img_to_array(load_img(f\"{DATASET_PATH}/test/{filename}\")))\n",
    "color_me = np.array(color_me, dtype='float32')\n",
    "gray_me = gray2rgb(rgb2gray(1.0 / 255 * color_me))\n",
    "color_me_embed = create_inception_embedding(gray_me)\n",
    "color_me = rgb2lab(1.0 / 255 * color_me)[:, :, : , 0]\n",
    "color_me = color_me.reshape(color_me.shape + (1, ))"
   ]
  },
  {
   "cell_type": "code",
   "execution_count": 39,
   "metadata": {},
   "outputs": [
    {
     "name": "stderr",
     "output_type": "stream",
     "text": [
      "C:\\Users\\wuht\\AppData\\Local\\Continuum\\anaconda3\\lib\\site-packages\\skimage\\color\\colorconv.py:985: UserWarning: Color data out of range: Z < 0 in 40730 pixels\n",
      "  warn('Color data out of range: Z < 0 in %s pixels' % invalid[0].size)\n",
      "C:\\Users\\wuht\\AppData\\Local\\Continuum\\anaconda3\\lib\\site-packages\\skimage\\util\\dtype.py:122: UserWarning: Possible precision loss when converting from float64 to uint8\n",
      "  .format(dtypeobj_in, dtypeobj_out))\n",
      "C:\\Users\\wuht\\AppData\\Local\\Continuum\\anaconda3\\lib\\site-packages\\skimage\\color\\colorconv.py:985: UserWarning: Color data out of range: Z < 0 in 39811 pixels\n",
      "  warn('Color data out of range: Z < 0 in %s pixels' % invalid[0].size)\n",
      "C:\\Users\\wuht\\AppData\\Local\\Continuum\\anaconda3\\lib\\site-packages\\skimage\\color\\colorconv.py:985: UserWarning: Color data out of range: Z < 0 in 41096 pixels\n",
      "  warn('Color data out of range: Z < 0 in %s pixels' % invalid[0].size)\n",
      "C:\\Users\\wuht\\AppData\\Local\\Continuum\\anaconda3\\lib\\site-packages\\skimage\\color\\colorconv.py:985: UserWarning: Color data out of range: Z < 0 in 16659 pixels\n",
      "  warn('Color data out of range: Z < 0 in %s pixels' % invalid[0].size)\n",
      "C:\\Users\\wuht\\AppData\\Local\\Continuum\\anaconda3\\lib\\site-packages\\skimage\\color\\colorconv.py:985: UserWarning: Color data out of range: Z < 0 in 51990 pixels\n",
      "  warn('Color data out of range: Z < 0 in %s pixels' % invalid[0].size)\n",
      "C:\\Users\\wuht\\AppData\\Local\\Continuum\\anaconda3\\lib\\site-packages\\skimage\\color\\colorconv.py:985: UserWarning: Color data out of range: Z < 0 in 30495 pixels\n",
      "  warn('Color data out of range: Z < 0 in %s pixels' % invalid[0].size)\n",
      "C:\\Users\\wuht\\AppData\\Local\\Continuum\\anaconda3\\lib\\site-packages\\skimage\\color\\colorconv.py:985: UserWarning: Color data out of range: Z < 0 in 21198 pixels\n",
      "  warn('Color data out of range: Z < 0 in %s pixels' % invalid[0].size)\n",
      "C:\\Users\\wuht\\AppData\\Local\\Continuum\\anaconda3\\lib\\site-packages\\skimage\\color\\colorconv.py:985: UserWarning: Color data out of range: Z < 0 in 22093 pixels\n",
      "  warn('Color data out of range: Z < 0 in %s pixels' % invalid[0].size)\n"
     ]
    }
   ],
   "source": [
    "# Test model\n",
    "output = model.predict([color_me, color_me_embed])\n",
    "output = output * 128\n",
    "\n",
    "# Output colorizations\n",
    "for i in range(len(output)):\n",
    "    cur = np.zeros((256, 256, 3))\n",
    "    cur[:, :, 0] = color_me[i][:,:, 0]\n",
    "    cur[:, :, 1:] = output[i]\n",
    "    imsave(f\"result/full_img_{str(i)}.png\", lab2rgb(cur))"
   ]
  },
  {
   "cell_type": "code",
   "execution_count": 41,
   "metadata": {},
   "outputs": [
    {
     "data": {
      "text/plain": [
       "array([[[[ 1.        ,  1.        ],\n",
       "         [ 1.        ,  1.        ],\n",
       "         [ 1.        ,  1.        ],\n",
       "         ..., \n",
       "         [ 1.        ,  1.        ],\n",
       "         [ 1.        , -0.99999785],\n",
       "         [ 1.        , -0.99999785]],\n",
       "\n",
       "        [[ 1.        ,  1.        ],\n",
       "         [ 1.        ,  1.        ],\n",
       "         [ 1.        ,  1.        ],\n",
       "         ..., \n",
       "         [ 1.        ,  1.        ],\n",
       "         [ 1.        , -0.99999785],\n",
       "         [ 1.        , -0.99999785]],\n",
       "\n",
       "        [[ 1.        ,  1.        ],\n",
       "         [ 1.        ,  1.        ],\n",
       "         [ 1.        ,  1.        ],\n",
       "         ..., \n",
       "         [ 1.        ,  1.        ],\n",
       "         [ 1.        ,  0.9999997 ],\n",
       "         [ 1.        ,  0.9999997 ]],\n",
       "\n",
       "        ..., \n",
       "        [[ 1.        ,  1.        ],\n",
       "         [ 1.        ,  1.        ],\n",
       "         [ 1.        , -1.        ],\n",
       "         ..., \n",
       "         [ 1.        , -1.        ],\n",
       "         [ 1.        , -1.        ],\n",
       "         [ 1.        , -1.        ]],\n",
       "\n",
       "        [[ 1.        ,  0.99986559],\n",
       "         [ 1.        ,  0.99986559],\n",
       "         [ 1.        , -1.        ],\n",
       "         ..., \n",
       "         [ 1.        , -1.        ],\n",
       "         [ 1.        , -1.        ],\n",
       "         [ 1.        , -1.        ]],\n",
       "\n",
       "        [[ 1.        ,  0.99986559],\n",
       "         [ 1.        ,  0.99986559],\n",
       "         [ 1.        , -1.        ],\n",
       "         ..., \n",
       "         [ 1.        , -1.        ],\n",
       "         [ 1.        , -1.        ],\n",
       "         [ 1.        , -1.        ]]],\n",
       "\n",
       "\n",
       "       [[[ 0.34869239,  0.24385589],\n",
       "         [ 0.34869239,  0.24385589],\n",
       "         [ 0.43436679,  0.27026075],\n",
       "         ..., \n",
       "         [ 0.23883286,  0.14406288],\n",
       "         [ 0.30791822, -0.00828523],\n",
       "         [ 0.30791822, -0.00828523]],\n",
       "\n",
       "        [[ 0.34869239,  0.24385589],\n",
       "         [ 0.34869239,  0.24385589],\n",
       "         [ 0.43436679,  0.27026075],\n",
       "         ..., \n",
       "         [ 0.23883286,  0.14406288],\n",
       "         [ 0.30791822, -0.00828523],\n",
       "         [ 0.30791822, -0.00828523]],\n",
       "\n",
       "        [[ 0.57895017,  0.2044639 ],\n",
       "         [ 0.57895017,  0.2044639 ],\n",
       "         [ 0.76413512,  0.18494713],\n",
       "         ..., \n",
       "         [ 0.65699178,  0.39467442],\n",
       "         [ 0.49789008,  0.06538239],\n",
       "         [ 0.49789008,  0.06538239]],\n",
       "\n",
       "        ..., \n",
       "        [[ 0.83674538,  0.37900707],\n",
       "         [ 0.83674538,  0.37900707],\n",
       "         [ 0.99012792, -0.19400935],\n",
       "         ..., \n",
       "         [ 0.9667604 , -0.67643481],\n",
       "         [ 0.88572389, -0.89953774],\n",
       "         [ 0.88572389, -0.89953774]],\n",
       "\n",
       "        [[ 0.41089779,  0.11843242],\n",
       "         [ 0.41089779,  0.11843242],\n",
       "         [ 0.9154399 , -0.38287759],\n",
       "         ..., \n",
       "         [ 0.93148178, -0.74808788],\n",
       "         [ 0.62600929, -0.89635378],\n",
       "         [ 0.62600929, -0.89635378]],\n",
       "\n",
       "        [[ 0.41089779,  0.11843242],\n",
       "         [ 0.41089779,  0.11843242],\n",
       "         [ 0.9154399 , -0.38287759],\n",
       "         ..., \n",
       "         [ 0.93148178, -0.74808788],\n",
       "         [ 0.62600929, -0.89635378],\n",
       "         [ 0.62600929, -0.89635378]]],\n",
       "\n",
       "\n",
       "       [[[ 1.        ,  1.        ],\n",
       "         [ 1.        ,  1.        ],\n",
       "         [ 1.        ,  1.        ],\n",
       "         ..., \n",
       "         [ 1.        ,  1.        ],\n",
       "         [ 1.        , -1.        ],\n",
       "         [ 1.        , -1.        ]],\n",
       "\n",
       "        [[ 1.        ,  1.        ],\n",
       "         [ 1.        ,  1.        ],\n",
       "         [ 1.        ,  1.        ],\n",
       "         ..., \n",
       "         [ 1.        ,  1.        ],\n",
       "         [ 1.        , -1.        ],\n",
       "         [ 1.        , -1.        ]],\n",
       "\n",
       "        [[ 1.        ,  1.        ],\n",
       "         [ 1.        ,  1.        ],\n",
       "         [ 1.        ,  1.        ],\n",
       "         ..., \n",
       "         [ 1.        ,  1.        ],\n",
       "         [ 1.        ,  1.        ],\n",
       "         [ 1.        ,  1.        ]],\n",
       "\n",
       "        ..., \n",
       "        [[ 1.        ,  1.        ],\n",
       "         [ 1.        ,  1.        ],\n",
       "         [ 1.        , -1.        ],\n",
       "         ..., \n",
       "         [ 1.        , -1.        ],\n",
       "         [ 1.        , -1.        ],\n",
       "         [ 1.        , -1.        ]],\n",
       "\n",
       "        [[ 1.        ,  1.        ],\n",
       "         [ 1.        ,  1.        ],\n",
       "         [ 1.        , -1.        ],\n",
       "         ..., \n",
       "         [ 1.        , -1.        ],\n",
       "         [ 1.        , -1.        ],\n",
       "         [ 1.        , -1.        ]],\n",
       "\n",
       "        [[ 1.        ,  1.        ],\n",
       "         [ 1.        ,  1.        ],\n",
       "         [ 1.        , -1.        ],\n",
       "         ..., \n",
       "         [ 1.        , -1.        ],\n",
       "         [ 1.        , -1.        ],\n",
       "         [ 1.        , -1.        ]]],\n",
       "\n",
       "\n",
       "       ..., \n",
       "       [[[ 1.        ,  1.        ],\n",
       "         [ 1.        ,  1.        ],\n",
       "         [ 1.        ,  1.        ],\n",
       "         ..., \n",
       "         [ 1.        ,  1.        ],\n",
       "         [ 1.        , -1.        ],\n",
       "         [ 1.        , -1.        ]],\n",
       "\n",
       "        [[ 1.        ,  1.        ],\n",
       "         [ 1.        ,  1.        ],\n",
       "         [ 1.        ,  1.        ],\n",
       "         ..., \n",
       "         [ 1.        ,  1.        ],\n",
       "         [ 1.        , -1.        ],\n",
       "         [ 1.        , -1.        ]],\n",
       "\n",
       "        [[ 1.        ,  1.        ],\n",
       "         [ 1.        ,  1.        ],\n",
       "         [ 1.        ,  1.        ],\n",
       "         ..., \n",
       "         [ 1.        ,  1.        ],\n",
       "         [ 1.        ,  1.        ],\n",
       "         [ 1.        ,  1.        ]],\n",
       "\n",
       "        ..., \n",
       "        [[ 1.        ,  1.        ],\n",
       "         [ 1.        ,  1.        ],\n",
       "         [ 1.        , -1.        ],\n",
       "         ..., \n",
       "         [ 1.        , -1.        ],\n",
       "         [ 1.        , -1.        ],\n",
       "         [ 1.        , -1.        ]],\n",
       "\n",
       "        [[ 1.        ,  1.        ],\n",
       "         [ 1.        ,  1.        ],\n",
       "         [ 1.        , -1.        ],\n",
       "         ..., \n",
       "         [ 1.        , -1.        ],\n",
       "         [ 1.        , -1.        ],\n",
       "         [ 1.        , -1.        ]],\n",
       "\n",
       "        [[ 1.        ,  1.        ],\n",
       "         [ 1.        ,  1.        ],\n",
       "         [ 1.        , -1.        ],\n",
       "         ..., \n",
       "         [ 1.        , -1.        ],\n",
       "         [ 1.        , -1.        ],\n",
       "         [ 1.        , -1.        ]]],\n",
       "\n",
       "\n",
       "       [[[ 1.        ,  1.        ],\n",
       "         [ 1.        ,  1.        ],\n",
       "         [ 1.        ,  1.        ],\n",
       "         ..., \n",
       "         [ 1.        ,  1.        ],\n",
       "         [ 1.        , -1.        ],\n",
       "         [ 1.        , -1.        ]],\n",
       "\n",
       "        [[ 1.        ,  1.        ],\n",
       "         [ 1.        ,  1.        ],\n",
       "         [ 1.        ,  1.        ],\n",
       "         ..., \n",
       "         [ 1.        ,  1.        ],\n",
       "         [ 1.        , -1.        ],\n",
       "         [ 1.        , -1.        ]],\n",
       "\n",
       "        [[ 1.        ,  1.        ],\n",
       "         [ 1.        ,  1.        ],\n",
       "         [ 1.        ,  1.        ],\n",
       "         ..., \n",
       "         [ 1.        ,  1.        ],\n",
       "         [ 1.        ,  1.        ],\n",
       "         [ 1.        ,  1.        ]],\n",
       "\n",
       "        ..., \n",
       "        [[ 1.        ,  1.        ],\n",
       "         [ 1.        ,  1.        ],\n",
       "         [ 1.        , -1.        ],\n",
       "         ..., \n",
       "         [ 1.        , -1.        ],\n",
       "         [ 1.        , -1.        ],\n",
       "         [ 1.        , -1.        ]],\n",
       "\n",
       "        [[ 1.        ,  0.99999964],\n",
       "         [ 1.        ,  0.99999964],\n",
       "         [ 1.        , -1.        ],\n",
       "         ..., \n",
       "         [ 1.        , -1.        ],\n",
       "         [ 1.        , -1.        ],\n",
       "         [ 1.        , -1.        ]],\n",
       "\n",
       "        [[ 1.        ,  0.99999964],\n",
       "         [ 1.        ,  0.99999964],\n",
       "         [ 1.        , -1.        ],\n",
       "         ..., \n",
       "         [ 1.        , -1.        ],\n",
       "         [ 1.        , -1.        ],\n",
       "         [ 1.        , -1.        ]]],\n",
       "\n",
       "\n",
       "       [[[ 1.        ,  1.        ],\n",
       "         [ 1.        ,  1.        ],\n",
       "         [ 1.        ,  1.        ],\n",
       "         ..., \n",
       "         [ 1.        ,  1.        ],\n",
       "         [ 1.        , -1.        ],\n",
       "         [ 1.        , -1.        ]],\n",
       "\n",
       "        [[ 1.        ,  1.        ],\n",
       "         [ 1.        ,  1.        ],\n",
       "         [ 1.        ,  1.        ],\n",
       "         ..., \n",
       "         [ 1.        ,  1.        ],\n",
       "         [ 1.        , -1.        ],\n",
       "         [ 1.        , -1.        ]],\n",
       "\n",
       "        [[ 1.        ,  1.        ],\n",
       "         [ 1.        ,  1.        ],\n",
       "         [ 1.        ,  1.        ],\n",
       "         ..., \n",
       "         [ 1.        ,  1.        ],\n",
       "         [ 1.        ,  1.        ],\n",
       "         [ 1.        ,  1.        ]],\n",
       "\n",
       "        ..., \n",
       "        [[ 1.        ,  1.        ],\n",
       "         [ 1.        ,  1.        ],\n",
       "         [ 1.        , -1.        ],\n",
       "         ..., \n",
       "         [ 1.        , -1.        ],\n",
       "         [ 1.        , -1.        ],\n",
       "         [ 1.        , -1.        ]],\n",
       "\n",
       "        [[ 1.        ,  1.        ],\n",
       "         [ 1.        ,  1.        ],\n",
       "         [ 1.        , -1.        ],\n",
       "         ..., \n",
       "         [ 1.        , -1.        ],\n",
       "         [ 1.        , -1.        ],\n",
       "         [ 1.        , -1.        ]],\n",
       "\n",
       "        [[ 1.        ,  1.        ],\n",
       "         [ 1.        ,  1.        ],\n",
       "         [ 1.        , -1.        ],\n",
       "         ..., \n",
       "         [ 1.        , -1.        ],\n",
       "         [ 1.        , -1.        ],\n",
       "         [ 1.        , -1.        ]]]], dtype=float32)"
      ]
     },
     "execution_count": 41,
     "metadata": {},
     "output_type": "execute_result"
    }
   ],
   "source": [
    "output = model.predict([color_me, color_me_embed])\n",
    "output"
   ]
  },
  {
   "cell_type": "code",
   "execution_count": null,
   "metadata": {
    "collapsed": true
   },
   "outputs": [],
   "source": []
  }
 ],
 "metadata": {
  "kernelspec": {
   "display_name": "Python 3",
   "language": "python",
   "name": "python3"
  },
  "language_info": {
   "codemirror_mode": {
    "name": "ipython",
    "version": 3
   },
   "file_extension": ".py",
   "mimetype": "text/x-python",
   "name": "python",
   "nbconvert_exporter": "python",
   "pygments_lexer": "ipython3",
   "version": "3.6.3"
  }
 },
 "nbformat": 4,
 "nbformat_minor": 2
}
