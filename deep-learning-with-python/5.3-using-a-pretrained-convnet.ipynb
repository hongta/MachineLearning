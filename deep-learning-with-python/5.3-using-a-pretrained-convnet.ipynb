{
 "cells": [
  {
   "cell_type": "markdown",
   "metadata": {},
   "source": [
    "# using-a-pretrained-convnet"
   ]
  },
  {
   "cell_type": "code",
   "execution_count": 1,
   "metadata": {},
   "outputs": [
    {
     "name": "stderr",
     "output_type": "stream",
     "text": [
      "Using TensorFlow backend.\n",
      "/home/hongta/anaconda3/envs/rcnn/lib/python3.6/importlib/_bootstrap.py:219: RuntimeWarning: compiletime version 3.5 of module 'tensorflow.python.framework.fast_tensor_util' does not match runtime version 3.6\n",
      "  return f(*args, **kwds)\n"
     ]
    },
    {
     "data": {
      "text/plain": [
       "'2.0.9'"
      ]
     },
     "execution_count": 1,
     "metadata": {},
     "output_type": "execute_result"
    }
   ],
   "source": [
    "import keras\n",
    "keras.__version__"
   ]
  },
  {
   "cell_type": "markdown",
   "metadata": {},
   "source": [
    "pre-trained Imagenet model:\n",
    "  - Xception\n",
    "  - InceptionV3\n",
    "  - ResNet50\n",
    "  - VGG16\n",
    "  - VGg19\n",
    "  - MobileNet"
   ]
  },
  {
   "cell_type": "code",
   "execution_count": 2,
   "metadata": {
    "collapsed": true
   },
   "outputs": [],
   "source": [
    "from keras.applications import VGG16\n",
    "\n",
    "conv_base = VGG16(weights='imagenet',\n",
    "                  include_top=False,\n",
    "                  input_shape=(150, 150, 3))"
   ]
  },
  {
   "cell_type": "code",
   "execution_count": 4,
   "metadata": {},
   "outputs": [
    {
     "name": "stdout",
     "output_type": "stream",
     "text": [
      "_________________________________________________________________\n",
      "Layer (type)                 Output Shape              Param #   \n",
      "=================================================================\n",
      "input_1 (InputLayer)         (None, 150, 150, 3)       0         \n",
      "_________________________________________________________________\n",
      "block1_conv1 (Conv2D)        (None, 150, 150, 64)      1792      \n",
      "_________________________________________________________________\n",
      "block1_conv2 (Conv2D)        (None, 150, 150, 64)      36928     \n",
      "_________________________________________________________________\n",
      "block1_pool (MaxPooling2D)   (None, 75, 75, 64)        0         \n",
      "_________________________________________________________________\n",
      "block2_conv1 (Conv2D)        (None, 75, 75, 128)       73856     \n",
      "_________________________________________________________________\n",
      "block2_conv2 (Conv2D)        (None, 75, 75, 128)       147584    \n",
      "_________________________________________________________________\n",
      "block2_pool (MaxPooling2D)   (None, 37, 37, 128)       0         \n",
      "_________________________________________________________________\n",
      "block3_conv1 (Conv2D)        (None, 37, 37, 256)       295168    \n",
      "_________________________________________________________________\n",
      "block3_conv2 (Conv2D)        (None, 37, 37, 256)       590080    \n",
      "_________________________________________________________________\n",
      "block3_conv3 (Conv2D)        (None, 37, 37, 256)       590080    \n",
      "_________________________________________________________________\n",
      "block3_pool (MaxPooling2D)   (None, 18, 18, 256)       0         \n",
      "_________________________________________________________________\n",
      "block4_conv1 (Conv2D)        (None, 18, 18, 512)       1180160   \n",
      "_________________________________________________________________\n",
      "block4_conv2 (Conv2D)        (None, 18, 18, 512)       2359808   \n",
      "_________________________________________________________________\n",
      "block4_conv3 (Conv2D)        (None, 18, 18, 512)       2359808   \n",
      "_________________________________________________________________\n",
      "block4_pool (MaxPooling2D)   (None, 9, 9, 512)         0         \n",
      "_________________________________________________________________\n",
      "block5_conv1 (Conv2D)        (None, 9, 9, 512)         2359808   \n",
      "_________________________________________________________________\n",
      "block5_conv2 (Conv2D)        (None, 9, 9, 512)         2359808   \n",
      "_________________________________________________________________\n",
      "block5_conv3 (Conv2D)        (None, 9, 9, 512)         2359808   \n",
      "_________________________________________________________________\n",
      "block5_pool (MaxPooling2D)   (None, 4, 4, 512)         0         \n",
      "=================================================================\n",
      "Total params: 14,714,688\n",
      "Trainable params: 14,714,688\n",
      "Non-trainable params: 0\n",
      "_________________________________________________________________\n"
     ]
    }
   ],
   "source": [
    "conv_base.summary()"
   ]
  },
  {
   "cell_type": "code",
   "execution_count": 10,
   "metadata": {
    "collapsed": true
   },
   "outputs": [],
   "source": [
    "import os\n",
    "import numpy as np\n",
    "from keras.preprocessing.image import ImageDataGenerator\n",
    "\n",
    "base_dir = './dataset/dogs_vs_cats/sample'\n",
    "\n",
    "train_dir = os.path.join(base_dir, 'train')\n",
    "validation_dir = os.path.join(base_dir, 'valid')\n",
    "test_dir = os.path.join(base_dir, 'test')"
   ]
  },
  {
   "cell_type": "code",
   "execution_count": 11,
   "metadata": {},
   "outputs": [
    {
     "name": "stdout",
     "output_type": "stream",
     "text": [
      "5005\r\n"
     ]
    }
   ],
   "source": [
    "!ls -l {train_dir}/* | wc -l"
   ]
  },
  {
   "cell_type": "code",
   "execution_count": 16,
   "metadata": {},
   "outputs": [
    {
     "name": "stdout",
     "output_type": "stream",
     "text": [
      "505\r\n"
     ]
    }
   ],
   "source": [
    "!ls -l {validation_dir}/* | wc -l"
   ]
  },
  {
   "cell_type": "code",
   "execution_count": 23,
   "metadata": {},
   "outputs": [
    {
     "name": "stdout",
     "output_type": "stream",
     "text": [
      "1000\r\n"
     ]
    }
   ],
   "source": [
    "!ls -l {test_dir}/* | wc -l"
   ]
  },
  {
   "cell_type": "code",
   "execution_count": 7,
   "metadata": {
    "collapsed": true
   },
   "outputs": [],
   "source": [
    "datagen = ImageDataGenerator(rescale=1./255)\n",
    "batch_size = 20\n",
    "\n",
    "def extract_features(directory, sample_count):\n",
    "    features = np.zeros(shape=(sample_count, 4, 4, 512))\n",
    "    labels = np.zeros(shape=(sample_count))\n",
    "    generator = datagen.flow_from_directory(directory,\n",
    "                                            target_size=(150, 150),\n",
    "                                            batch_size=batch_size,\n",
    "                                            class_mode=\"binary\")\n",
    "    i = 0\n",
    "    for inputs_batch, labels_batch in generator:\n",
    "        features_batch = conv_base.predict(inputs_batch)\n",
    "        features[i * batch_size: (i + 1) * batch_size] = features_batch\n",
    "        labels[i * batch_size: (i + 1) * batch_size] = labels_batch\n",
    "        i += 1\n",
    "        if i * batch_size >= sample_count:\n",
    "            # note that since generators yield data indefinitely in a loop.\n",
    "            # we muse `break` after evey image has been seen once.\n",
    "            break\n",
    "    \n",
    "    return features, labels"
   ]
  },
  {
   "cell_type": "code",
   "execution_count": 32,
   "metadata": {},
   "outputs": [
    {
     "name": "stdout",
     "output_type": "stream",
     "text": [
      "Found 5000 images belonging to 2 classes.\n",
      "Found 500 images belonging to 2 classes.\n"
     ]
    }
   ],
   "source": [
    "train_features, train_labels = extract_features(train_dir, 5000)\n",
    "validation_features, validation_labels = extract_features(validation_dir, 500)\n",
    "#test_features, test_labels = extract_features(test_dir, 1000)"
   ]
  },
  {
   "cell_type": "code",
   "execution_count": 33,
   "metadata": {},
   "outputs": [
    {
     "data": {
      "text/plain": [
       "(5000, 4, 4, 512)"
      ]
     },
     "execution_count": 33,
     "metadata": {},
     "output_type": "execute_result"
    }
   ],
   "source": [
    "train_features.shape"
   ]
  },
  {
   "cell_type": "code",
   "execution_count": 34,
   "metadata": {
    "collapsed": true
   },
   "outputs": [],
   "source": [
    "train_features = np.reshape(train_features, (5000, 4 * 4 * 512))\n",
    "validation_features = np.reshape(validation_features, (500, 4 * 4 * 512))"
   ]
  },
  {
   "cell_type": "code",
   "execution_count": 55,
   "metadata": {},
   "outputs": [
    {
     "data": {
      "text/plain": [
       "array([ 0.04416406,  0.        ,  0.        , ...,  0.        ,\n",
       "        0.41261017,  0.        ])"
      ]
     },
     "execution_count": 55,
     "metadata": {},
     "output_type": "execute_result"
    }
   ],
   "source": [
    "validation_features[0]"
   ]
  },
  {
   "cell_type": "code",
   "execution_count": 57,
   "metadata": {
    "collapsed": true
   },
   "outputs": [],
   "source": [
    "from keras import models\n",
    "from keras import layers\n",
    "from keras import optimizers\n",
    "\n",
    "d = models.Sequential()\n",
    "d.add(layers.Dense(256, activation='relu', input_shape=(8192,)))\n",
    "d.add(layers.Dropout(0.5))\n",
    "d.add(layers.Dense(1, activation='sigmoid'))"
   ]
  },
  {
   "cell_type": "code",
   "execution_count": 58,
   "metadata": {
    "collapsed": true
   },
   "outputs": [],
   "source": [
    "d.compile(optimizer=optimizers.RMSprop(lr=1e-4),\n",
    "          loss='binary_crossentropy',\n",
    "          metrics=['acc'])\n"
   ]
  },
  {
   "cell_type": "code",
   "execution_count": 60,
   "metadata": {
    "scrolled": true
   },
   "outputs": [
    {
     "name": "stdout",
     "output_type": "stream",
     "text": [
      "Train on 5000 samples, validate on 500 samples\n",
      "Epoch 1/30\n",
      "5000/5000 [==============================] - 2s 316us/step - loss: 0.1992 - acc: 0.9178 - val_loss: 0.2884 - val_acc: 0.8640\n",
      "Epoch 2/30\n",
      "5000/5000 [==============================] - 2s 326us/step - loss: 0.1806 - acc: 0.9254 - val_loss: 0.2637 - val_acc: 0.8940\n",
      "Epoch 3/30\n",
      "5000/5000 [==============================] - 2s 343us/step - loss: 0.1635 - acc: 0.9352 - val_loss: 0.2661 - val_acc: 0.9040\n",
      "Epoch 4/30\n",
      "5000/5000 [==============================] - 2s 342us/step - loss: 0.1509 - acc: 0.9426 - val_loss: 0.2867 - val_acc: 0.8560\n",
      "Epoch 5/30\n",
      "5000/5000 [==============================] - 2s 343us/step - loss: 0.1343 - acc: 0.9510 - val_loss: 0.2932 - val_acc: 0.8640\n",
      "Epoch 6/30\n",
      "5000/5000 [==============================] - 2s 343us/step - loss: 0.1214 - acc: 0.9534 - val_loss: 0.2891 - val_acc: 0.8740\n",
      "Epoch 7/30\n",
      "5000/5000 [==============================] - 2s 342us/step - loss: 0.1142 - acc: 0.9558 - val_loss: 0.3180 - val_acc: 0.8600\n",
      "Epoch 8/30\n",
      "5000/5000 [==============================] - 2s 341us/step - loss: 0.1053 - acc: 0.9620 - val_loss: 0.2979 - val_acc: 0.8680\n",
      "Epoch 9/30\n",
      "5000/5000 [==============================] - 2s 341us/step - loss: 0.0949 - acc: 0.9640 - val_loss: 0.3055 - val_acc: 0.8920\n",
      "Epoch 10/30\n",
      "5000/5000 [==============================] - 2s 343us/step - loss: 0.0856 - acc: 0.9690 - val_loss: 0.3473 - val_acc: 0.8840\n",
      "Epoch 11/30\n",
      "5000/5000 [==============================] - 2s 343us/step - loss: 0.0844 - acc: 0.9706 - val_loss: 0.3826 - val_acc: 0.8500\n",
      "Epoch 12/30\n",
      "5000/5000 [==============================] - 2s 341us/step - loss: 0.0769 - acc: 0.9742 - val_loss: 0.3326 - val_acc: 0.8840\n",
      "Epoch 13/30\n",
      "5000/5000 [==============================] - 2s 343us/step - loss: 0.0687 - acc: 0.9766 - val_loss: 0.3427 - val_acc: 0.8800\n",
      "Epoch 14/30\n",
      "5000/5000 [==============================] - 2s 343us/step - loss: 0.0624 - acc: 0.9796 - val_loss: 0.3599 - val_acc: 0.8840\n",
      "Epoch 15/30\n",
      "5000/5000 [==============================] - 2s 344us/step - loss: 0.0578 - acc: 0.9814 - val_loss: 0.3830 - val_acc: 0.8800\n",
      "Epoch 16/30\n",
      "5000/5000 [==============================] - 2s 343us/step - loss: 0.0515 - acc: 0.9848 - val_loss: 0.3778 - val_acc: 0.8800\n",
      "Epoch 17/30\n",
      "5000/5000 [==============================] - 2s 343us/step - loss: 0.0471 - acc: 0.9864 - val_loss: 0.3937 - val_acc: 0.8800\n",
      "Epoch 18/30\n",
      "5000/5000 [==============================] - 2s 345us/step - loss: 0.0438 - acc: 0.9862 - val_loss: 0.4147 - val_acc: 0.8760\n",
      "Epoch 19/30\n",
      "5000/5000 [==============================] - 2s 343us/step - loss: 0.0394 - acc: 0.9880 - val_loss: 0.4255 - val_acc: 0.8680\n",
      "Epoch 20/30\n",
      "5000/5000 [==============================] - 2s 343us/step - loss: 0.0361 - acc: 0.9892 - val_loss: 0.4276 - val_acc: 0.8680\n",
      "Epoch 21/30\n",
      "5000/5000 [==============================] - 2s 345us/step - loss: 0.0344 - acc: 0.9900 - val_loss: 0.4532 - val_acc: 0.8800\n",
      "Epoch 22/30\n",
      "5000/5000 [==============================] - 2s 345us/step - loss: 0.0301 - acc: 0.9916 - val_loss: 0.4662 - val_acc: 0.8820\n",
      "Epoch 23/30\n",
      "5000/5000 [==============================] - 2s 344us/step - loss: 0.0285 - acc: 0.9912 - val_loss: 0.4696 - val_acc: 0.8780\n",
      "Epoch 24/30\n",
      "5000/5000 [==============================] - 2s 343us/step - loss: 0.0236 - acc: 0.9942 - val_loss: 0.4906 - val_acc: 0.8760\n",
      "Epoch 25/30\n",
      "5000/5000 [==============================] - 2s 343us/step - loss: 0.0232 - acc: 0.9948 - val_loss: 0.4930 - val_acc: 0.8800\n",
      "Epoch 26/30\n",
      "5000/5000 [==============================] - 2s 346us/step - loss: 0.0214 - acc: 0.9942 - val_loss: 0.4985 - val_acc: 0.8760\n",
      "Epoch 27/30\n",
      "5000/5000 [==============================] - 2s 346us/step - loss: 0.0169 - acc: 0.9962 - val_loss: 0.5418 - val_acc: 0.8720\n",
      "Epoch 28/30\n",
      "5000/5000 [==============================] - 2s 340us/step - loss: 0.0195 - acc: 0.9956 - val_loss: 0.5956 - val_acc: 0.8400\n",
      "Epoch 29/30\n",
      "5000/5000 [==============================] - 2s 341us/step - loss: 0.0155 - acc: 0.9960 - val_loss: 0.6033 - val_acc: 0.8540\n",
      "Epoch 30/30\n",
      "5000/5000 [==============================] - 2s 343us/step - loss: 0.0147 - acc: 0.9964 - val_loss: 0.5583 - val_acc: 0.8720\n"
     ]
    }
   ],
   "source": [
    "history = d.fit(train_features,\n",
    "                train_labels,\n",
    "                epochs=30,\n",
    "                batch_size=20,\n",
    "                validation_data=(validation_features, validation_labels))"
   ]
  },
  {
   "cell_type": "code",
   "execution_count": 22,
   "metadata": {},
   "outputs": [
    {
     "data": {
      "image/png": "[encoded data removed]",
      "text/plain": [
       "<matplotlib.figure.Figure at 0x7f35cc281f98>"
      ]
     },
     "metadata": {},
     "output_type": "display_data"
    },
    {
     "data": {
      "image/png": "[encoded data removed]",
      "text/plain": [
       "<matplotlib.figure.Figure at 0x7f35ef19e4a8>"
      ]
     },
     "metadata": {},
     "output_type": "display_data"
    }
   ],
   "source": [
    "import matplotlib.pyplot as plt\n",
    "%matplotlib inline\n",
    "\n",
    "acc = history.history['acc']\n",
    "val_acc = history.history['val_acc']\n",
    "loss = history.history['loss']\n",
    "val_loss = history.history['val_loss']\n",
    "\n",
    "epochs = range(len(acc))\n",
    "\n",
    "plt.plot(epochs, acc, 'bo', label='Training acc')\n",
    "plt.plot(epochs, val_acc, 'b', label='Validation acc')\n",
    "plt.title('Training and validation accuracy')\n",
    "plt.legend()\n",
    "\n",
    "plt.figure()\n",
    "\n",
    "plt.plot(epochs, loss, 'bo', label='Training loss')\n",
    "plt.plot(epochs, val_loss, 'b', label='Validation loss')\n",
    "plt.legend()\n",
    "plt.show()"
   ]
  },
  {
   "cell_type": "code",
   "execution_count": 3,
   "metadata": {
    "collapsed": true
   },
   "outputs": [],
   "source": [
    "from keras import models\n",
    "from keras import layers\n",
    "\n",
    "model = models.Sequential()\n",
    "model.add(conv_base)\n",
    "model.add(layers.Flatten())\n",
    "model.add(layers.Dense(256, activation='relu'))\n",
    "model.add(layers.Dense(1, activation='sigmoid'))"
   ]
  },
  {
   "cell_type": "code",
   "execution_count": 4,
   "metadata": {},
   "outputs": [
    {
     "name": "stdout",
     "output_type": "stream",
     "text": [
      "_________________________________________________________________\n",
      "Layer (type)                 Output Shape              Param #   \n",
      "=================================================================\n",
      "vgg16 (Model)                (None, 4, 4, 512)         14714688  \n",
      "_________________________________________________________________\n",
      "flatten_1 (Flatten)          (None, 8192)              0         \n",
      "_________________________________________________________________\n",
      "dense_1 (Dense)              (None, 256)               2097408   \n",
      "_________________________________________________________________\n",
      "dense_2 (Dense)              (None, 1)                 257       \n",
      "=================================================================\n",
      "Total params: 16,812,353\n",
      "Trainable params: 16,812,353\n",
      "Non-trainable params: 0\n",
      "_________________________________________________________________\n"
     ]
    }
   ],
   "source": [
    "model.summary()"
   ]
  },
  {
   "cell_type": "code",
   "execution_count": 5,
   "metadata": {},
   "outputs": [
    {
     "name": "stdout",
     "output_type": "stream",
     "text": [
      "This is the number of trainable weights before freezing the conv base: 30\n"
     ]
    }
   ],
   "source": [
    "print('This is the number of trainable weights '\n",
    "      'before freezing the conv base:', len(model.trainable_weights))"
   ]
  },
  {
   "cell_type": "code",
   "execution_count": 6,
   "metadata": {
    "collapsed": true
   },
   "outputs": [],
   "source": [
    "conv_base.trainable = False"
   ]
  },
  {
   "cell_type": "code",
   "execution_count": 7,
   "metadata": {},
   "outputs": [
    {
     "name": "stdout",
     "output_type": "stream",
     "text": [
      "This is the number of trainable weights after freezing the conv base: 4\n"
     ]
    }
   ],
   "source": [
    "print('This is the number of trainable weights '\n",
    "      'after freezing the conv base:', len(model.trainable_weights))"
   ]
  },
  {
   "cell_type": "code",
   "execution_count": 8,
   "metadata": {
    "collapsed": true
   },
   "outputs": [],
   "source": [
    "from keras.preprocessing.image import ImageDataGenerator"
   ]
  },
  {
   "cell_type": "code",
   "execution_count": 11,
   "metadata": {
    "scrolled": true
   },
   "outputs": [
    {
     "name": "stdout",
     "output_type": "stream",
     "text": [
      "Found 5000 images belonging to 2 classes.\n",
      "Found 500 images belonging to 2 classes.\n"
     ]
    }
   ],
   "source": [
    "train_datagen = ImageDataGenerator(rescale=1./255,\n",
    "                                   rotation_range=40,\n",
    "                                   width_shift_range=0.2,\n",
    "                                   height_shift_range=0.2,\n",
    "                                   shear_range=0.2,\n",
    "                                   zoom_range=0.2,\n",
    "                                   horizontal_flip=True,\n",
    "                                   fill_mode='nearest')\n",
    "\n",
    "test_datagen = ImageDataGenerator(rescale=1./255)\n",
    "\n",
    "train_generator = train_datagen.flow_from_directory(train_dir,\n",
    "                                                    target_size=(150, 150),\n",
    "                                                    batch_size=20, \n",
    "                                                    class_mode='binary')\n",
    "\n",
    "validation_generator = test_datagen.flow_from_directory(validation_dir,\n",
    "                                                        target_size=(150, 150),\n",
    "                                                        batch_size=20,\n",
    "                                                        class_mode='binary')\n"
   ]
  },
  {
   "cell_type": "code",
   "execution_count": 13,
   "metadata": {
    "collapsed": true
   },
   "outputs": [],
   "source": [
    "from keras import optimizers"
   ]
  },
  {
   "cell_type": "code",
   "execution_count": 14,
   "metadata": {},
   "outputs": [],
   "source": [
    "model.compile(loss='binary_crossentropy',\n",
    "              optimizer=optimizers.RMSprop(lr=2e-5),\n",
    "              metrics=['acc'])"
   ]
  },
  {
   "cell_type": "code",
   "execution_count": 17,
   "metadata": {},
   "outputs": [
    {
     "name": "stdout",
     "output_type": "stream",
     "text": [
      "Epoch 1/30\n",
      "100/100 [==============================] - 56s 564ms/step - loss: 0.5194 - acc: 0.7270 - val_loss: 0.2722 - val_acc: 0.8940\n",
      "Epoch 2/30\n",
      "100/100 [==============================] - 50s 502ms/step - loss: 0.2891 - acc: 0.8825 - val_loss: 0.2052 - val_acc: 0.9030\n",
      "Epoch 3/30\n",
      "100/100 [==============================] - 50s 503ms/step - loss: 0.2397 - acc: 0.9010 - val_loss: 0.1349 - val_acc: 0.9490\n",
      "Epoch 4/30\n",
      "100/100 [==============================] - 50s 503ms/step - loss: 0.2168 - acc: 0.9090 - val_loss: 0.1706 - val_acc: 0.9260\n",
      "Epoch 5/30\n",
      "100/100 [==============================] - 50s 504ms/step - loss: 0.1803 - acc: 0.9315 - val_loss: 0.1650 - val_acc: 0.9300\n",
      "Epoch 6/30\n",
      "100/100 [==============================] - 50s 503ms/step - loss: 0.1890 - acc: 0.9185 - val_loss: 0.0968 - val_acc: 0.9620\n",
      "Epoch 7/30\n",
      "100/100 [==============================] - 50s 503ms/step - loss: 0.1606 - acc: 0.9380 - val_loss: 0.1209 - val_acc: 0.9580\n",
      "Epoch 8/30\n",
      "100/100 [==============================] - 50s 504ms/step - loss: 0.1468 - acc: 0.9405 - val_loss: 0.0751 - val_acc: 0.9620\n",
      "Epoch 9/30\n",
      "100/100 [==============================] - 50s 503ms/step - loss: 0.1433 - acc: 0.9380 - val_loss: 0.0798 - val_acc: 0.9690\n",
      "Epoch 10/30\n",
      "100/100 [==============================] - 50s 503ms/step - loss: 0.1504 - acc: 0.9360 - val_loss: 0.0923 - val_acc: 0.9580\n",
      "Epoch 11/30\n",
      "100/100 [==============================] - 50s 503ms/step - loss: 0.1388 - acc: 0.9450 - val_loss: 0.0841 - val_acc: 0.9670\n",
      "Epoch 12/30\n",
      "100/100 [==============================] - 50s 503ms/step - loss: 0.1257 - acc: 0.9475 - val_loss: 0.1225 - val_acc: 0.9340\n",
      "Epoch 13/30\n",
      "100/100 [==============================] - 50s 503ms/step - loss: 0.1243 - acc: 0.9540 - val_loss: 0.0872 - val_acc: 0.9720\n",
      "Epoch 14/30\n",
      "100/100 [==============================] - 50s 503ms/step - loss: 0.1003 - acc: 0.9655 - val_loss: 0.0774 - val_acc: 0.9740\n",
      "Epoch 15/30\n",
      "100/100 [==============================] - 50s 503ms/step - loss: 0.1100 - acc: 0.9550 - val_loss: 0.0794 - val_acc: 0.9650\n",
      "Epoch 16/30\n",
      "100/100 [==============================] - 50s 502ms/step - loss: 0.1001 - acc: 0.9655 - val_loss: 0.1151 - val_acc: 0.9480\n",
      "Epoch 17/30\n",
      "100/100 [==============================] - 50s 503ms/step - loss: 0.1123 - acc: 0.9565 - val_loss: 0.0707 - val_acc: 0.9720\n",
      "Epoch 18/30\n",
      "100/100 [==============================] - 50s 501ms/step - loss: 0.0999 - acc: 0.9650 - val_loss: 0.1333 - val_acc: 0.9520\n",
      "Epoch 19/30\n",
      "100/100 [==============================] - 50s 501ms/step - loss: 0.0847 - acc: 0.9690 - val_loss: 0.0778 - val_acc: 0.9720\n",
      "Epoch 20/30\n",
      "100/100 [==============================] - 50s 502ms/step - loss: 0.1005 - acc: 0.9615 - val_loss: 0.0773 - val_acc: 0.9730\n",
      "Epoch 21/30\n",
      "100/100 [==============================] - 50s 501ms/step - loss: 0.0821 - acc: 0.9690 - val_loss: 0.0617 - val_acc: 0.9720\n",
      "Epoch 22/30\n",
      "100/100 [==============================] - 50s 502ms/step - loss: 0.1066 - acc: 0.9590 - val_loss: 0.0904 - val_acc: 0.9700\n",
      "Epoch 23/30\n",
      "100/100 [==============================] - 50s 502ms/step - loss: 0.0940 - acc: 0.9670 - val_loss: 0.0901 - val_acc: 0.9670\n",
      "Epoch 24/30\n",
      "100/100 [==============================] - 50s 501ms/step - loss: 0.0758 - acc: 0.9755 - val_loss: 0.1070 - val_acc: 0.9610\n",
      "Epoch 25/30\n",
      "100/100 [==============================] - 50s 502ms/step - loss: 0.0816 - acc: 0.9690 - val_loss: 0.0893 - val_acc: 0.9730\n",
      "Epoch 26/30\n",
      "100/100 [==============================] - 50s 500ms/step - loss: 0.0770 - acc: 0.9675 - val_loss: 0.1116 - val_acc: 0.9690\n",
      "Epoch 27/30\n",
      "100/100 [==============================] - 50s 500ms/step - loss: 0.0812 - acc: 0.9705 - val_loss: 0.1893 - val_acc: 0.9580\n",
      "Epoch 28/30\n",
      "100/100 [==============================] - 50s 501ms/step - loss: 0.0827 - acc: 0.9700 - val_loss: 0.2088 - val_acc: 0.9420\n",
      "Epoch 29/30\n",
      "100/100 [==============================] - 50s 500ms/step - loss: 0.0599 - acc: 0.9795 - val_loss: 0.0742 - val_acc: 0.9720\n",
      "Epoch 30/30\n",
      "100/100 [==============================] - 50s 501ms/step - loss: 0.0734 - acc: 0.9755 - val_loss: 0.0991 - val_acc: 0.9670\n"
     ]
    }
   ],
   "source": [
    "history = model.fit_generator(train_generator,\n",
    "                              steps_per_epoch=100,\n",
    "                              epochs=30,\n",
    "                              validation_data=validation_generator,\n",
    "                              validation_steps=50)"
   ]
  },
  {
   "cell_type": "code",
   "execution_count": 20,
   "metadata": {
    "collapsed": true
   },
   "outputs": [],
   "source": [
    "model.save('cats_and_dogs_small_3.h5')"
   ]
  },
  {
   "cell_type": "code",
   "execution_count": 23,
   "metadata": {},
   "outputs": [
    {
     "data": {
      "image/png": "[encoded data removed]",
      "text/plain": [
       "<matplotlib.figure.Figure at 0x7f358d581518>"
      ]
     },
     "metadata": {},
     "output_type": "display_data"
    },
    {
     "data": {
      "image/png": "[encoded data removed]",
      "text/plain": [
       "<matplotlib.figure.Figure at 0x7f358d4f6a20>"
      ]
     },
     "metadata": {},
     "output_type": "display_data"
    }
   ],
   "source": [
    "acc = history.history['acc']\n",
    "val_acc = history.history['val_acc']\n",
    "loss = history.history['loss']\n",
    "val_loss = history.history['val_loss']\n",
    "\n",
    "epochs = range(len(acc))\n",
    "\n",
    "plt.plot(epochs, acc, 'bo', label='Training acc')\n",
    "plt.plot(epochs, val_acc, 'b', label='Validation acc')\n",
    "plt.title('Training and validation accuracy')\n",
    "plt.legend()\n",
    "\n",
    "plt.figure()\n",
    "\n",
    "plt.plot(epochs, loss, 'bo', label='Training loss')\n",
    "plt.plot(epochs, val_loss, 'b', label='Validation loss')\n",
    "plt.title('Training and validation loss')\n",
    "plt.legend()\n",
    "\n",
    "plt.show()"
   ]
  },
  {
   "cell_type": "markdown",
   "metadata": {},
   "source": [
    "## Fine-tuning"
   ]
  },
  {
   "cell_type": "markdown",
   "metadata": {},
   "source": [
    "The steps for fine-tuning a network are as follow:\n",
    "  1. Add your custom network on top of an already trained base network\n",
    "  1. Freeze the base network\n",
    "  1. Train the part you added.\n",
    "  1. Unfreeze some layers in the base network.\n",
    "  1. Joinly train both these layers and the part you added"
   ]
  },
  {
   "cell_type": "code",
   "execution_count": 24,
   "metadata": {
    "collapsed": true
   },
   "outputs": [],
   "source": [
    "conv_base.trainable = True\n",
    "\n",
    "set_trainable = False\n",
    "for layer in conv_base.layers:\n",
    "    if layer.name == 'block5_conv1':\n",
    "        set_trainable=True\n",
    "    \n",
    "    if set_trainable:\n",
    "        layer.trainable = True\n",
    "    else:\n",
    "        layer.trainable = False"
   ]
  },
  {
   "cell_type": "code",
   "execution_count": 25,
   "metadata": {},
   "outputs": [
    {
     "name": "stdout",
     "output_type": "stream",
     "text": [
      "_________________________________________________________________\n",
      "Layer (type)                 Output Shape              Param #   \n",
      "=================================================================\n",
      "input_1 (InputLayer)         (None, 150, 150, 3)       0         \n",
      "_________________________________________________________________\n",
      "block1_conv1 (Conv2D)        (None, 150, 150, 64)      1792      \n",
      "_________________________________________________________________\n",
      "block1_conv2 (Conv2D)        (None, 150, 150, 64)      36928     \n",
      "_________________________________________________________________\n",
      "block1_pool (MaxPooling2D)   (None, 75, 75, 64)        0         \n",
      "_________________________________________________________________\n",
      "block2_conv1 (Conv2D)        (None, 75, 75, 128)       73856     \n",
      "_________________________________________________________________\n",
      "block2_conv2 (Conv2D)        (None, 75, 75, 128)       147584    \n",
      "_________________________________________________________________\n",
      "block2_pool (MaxPooling2D)   (None, 37, 37, 128)       0         \n",
      "_________________________________________________________________\n",
      "block3_conv1 (Conv2D)        (None, 37, 37, 256)       295168    \n",
      "_________________________________________________________________\n",
      "block3_conv2 (Conv2D)        (None, 37, 37, 256)       590080    \n",
      "_________________________________________________________________\n",
      "block3_conv3 (Conv2D)        (None, 37, 37, 256)       590080    \n",
      "_________________________________________________________________\n",
      "block3_pool (MaxPooling2D)   (None, 18, 18, 256)       0         \n",
      "_________________________________________________________________\n",
      "block4_conv1 (Conv2D)        (None, 18, 18, 512)       1180160   \n",
      "_________________________________________________________________\n",
      "block4_conv2 (Conv2D)        (None, 18, 18, 512)       2359808   \n",
      "_________________________________________________________________\n",
      "block4_conv3 (Conv2D)        (None, 18, 18, 512)       2359808   \n",
      "_________________________________________________________________\n",
      "block4_pool (MaxPooling2D)   (None, 9, 9, 512)         0         \n",
      "_________________________________________________________________\n",
      "block5_conv1 (Conv2D)        (None, 9, 9, 512)         2359808   \n",
      "_________________________________________________________________\n",
      "block5_conv2 (Conv2D)        (None, 9, 9, 512)         2359808   \n",
      "_________________________________________________________________\n",
      "block5_conv3 (Conv2D)        (None, 9, 9, 512)         2359808   \n",
      "_________________________________________________________________\n",
      "block5_pool (MaxPooling2D)   (None, 4, 4, 512)         0         \n",
      "=================================================================\n",
      "Total params: 14,714,688\n",
      "Trainable params: 7,079,424\n",
      "Non-trainable params: 7,635,264\n",
      "_________________________________________________________________\n"
     ]
    }
   ],
   "source": [
    "conv_base.summary()"
   ]
  },
  {
   "cell_type": "code",
   "execution_count": 26,
   "metadata": {
    "collapsed": true
   },
   "outputs": [],
   "source": [
    "model.compile(loss='binary_crossentropy',\n",
    "              optimizer=optimizers.RMSprop(lr=1e-5),\n",
    "              metrics=['acc'])\n",
    "\n"
   ]
  },
  {
   "cell_type": "code",
   "execution_count": 28,
   "metadata": {},
   "outputs": [
    {
     "name": "stdout",
     "output_type": "stream",
     "text": [
      "Epoch 1/30\n",
      "100/100 [==============================] - 29s 289ms/step - loss: 0.0430 - acc: 0.9840 - val_loss: 0.1004 - val_acc: 0.9760\n",
      "Epoch 2/30\n",
      "100/100 [==============================] - 28s 277ms/step - loss: 0.0575 - acc: 0.9780 - val_loss: 0.1180 - val_acc: 0.9690\n",
      "Epoch 3/30\n",
      "100/100 [==============================] - 27s 275ms/step - loss: 0.0337 - acc: 0.9885 - val_loss: 0.1462 - val_acc: 0.9670\n",
      "Epoch 4/30\n",
      "100/100 [==============================] - 27s 274ms/step - loss: 0.0336 - acc: 0.9840 - val_loss: 0.1320 - val_acc: 0.9730\n",
      "Epoch 5/30\n",
      "100/100 [==============================] - 27s 273ms/step - loss: 0.0388 - acc: 0.9855 - val_loss: 0.1675 - val_acc: 0.9670\n",
      "Epoch 6/30\n",
      "100/100 [==============================] - 27s 271ms/step - loss: 0.0322 - acc: 0.9880 - val_loss: 0.1412 - val_acc: 0.9720\n",
      "Epoch 7/30\n",
      "100/100 [==============================] - 27s 273ms/step - loss: 0.0455 - acc: 0.9840 - val_loss: 0.1202 - val_acc: 0.9700\n",
      "Epoch 8/30\n",
      "100/100 [==============================] - 27s 269ms/step - loss: 0.0431 - acc: 0.9880 - val_loss: 0.1243 - val_acc: 0.9690\n",
      "Epoch 9/30\n",
      "100/100 [==============================] - 27s 269ms/step - loss: 0.0362 - acc: 0.9855 - val_loss: 0.1395 - val_acc: 0.9720\n",
      "Epoch 10/30\n",
      "100/100 [==============================] - 27s 268ms/step - loss: 0.0286 - acc: 0.9915 - val_loss: 0.1249 - val_acc: 0.9680\n",
      "Epoch 11/30\n",
      "100/100 [==============================] - 27s 271ms/step - loss: 0.0374 - acc: 0.9875 - val_loss: 0.1296 - val_acc: 0.9690\n",
      "Epoch 12/30\n",
      "100/100 [==============================] - 27s 270ms/step - loss: 0.0325 - acc: 0.9900 - val_loss: 0.1687 - val_acc: 0.9680\n",
      "Epoch 13/30\n",
      "100/100 [==============================] - 27s 268ms/step - loss: 0.0393 - acc: 0.9870 - val_loss: 0.1156 - val_acc: 0.9750\n",
      "Epoch 14/30\n",
      "100/100 [==============================] - 27s 266ms/step - loss: 0.0337 - acc: 0.9855 - val_loss: 0.1509 - val_acc: 0.9680\n",
      "Epoch 15/30\n",
      "100/100 [==============================] - 27s 270ms/step - loss: 0.0311 - acc: 0.9900 - val_loss: 0.1564 - val_acc: 0.9780\n",
      "Epoch 16/30\n",
      "100/100 [==============================] - 27s 266ms/step - loss: 0.0208 - acc: 0.9920 - val_loss: 0.1624 - val_acc: 0.9640\n",
      "Epoch 17/30\n",
      "100/100 [==============================] - 27s 269ms/step - loss: 0.0324 - acc: 0.9905 - val_loss: 0.1201 - val_acc: 0.9730\n",
      "Epoch 18/30\n",
      "100/100 [==============================] - 27s 269ms/step - loss: 0.0262 - acc: 0.9885 - val_loss: 0.1186 - val_acc: 0.9750\n",
      "Epoch 19/30\n",
      "100/100 [==============================] - 26s 265ms/step - loss: 0.0264 - acc: 0.9900 - val_loss: 0.1451 - val_acc: 0.9720\n",
      "Epoch 20/30\n",
      "100/100 [==============================] - 27s 267ms/step - loss: 0.0241 - acc: 0.9900 - val_loss: 0.1330 - val_acc: 0.9730\n",
      "Epoch 21/30\n",
      "100/100 [==============================] - 27s 266ms/step - loss: 0.0294 - acc: 0.9910 - val_loss: 0.1315 - val_acc: 0.9740\n",
      "Epoch 22/30\n",
      "100/100 [==============================] - 26s 265ms/step - loss: 0.0314 - acc: 0.9895 - val_loss: 0.1209 - val_acc: 0.9750\n",
      "Epoch 23/30\n",
      "100/100 [==============================] - 26s 265ms/step - loss: 0.0228 - acc: 0.9940 - val_loss: 0.1314 - val_acc: 0.9750\n",
      "Epoch 24/30\n",
      "100/100 [==============================] - 26s 264ms/step - loss: 0.0289 - acc: 0.9895 - val_loss: 0.1561 - val_acc: 0.9670\n",
      "Epoch 25/30\n",
      "100/100 [==============================] - 27s 267ms/step - loss: 0.0269 - acc: 0.9905 - val_loss: 0.1993 - val_acc: 0.9670\n",
      "Epoch 26/30\n",
      "100/100 [==============================] - 27s 265ms/step - loss: 0.0215 - acc: 0.9915 - val_loss: 0.1702 - val_acc: 0.9670\n",
      "Epoch 27/30\n",
      "100/100 [==============================] - 26s 262ms/step - loss: 0.0223 - acc: 0.9915 - val_loss: 0.1712 - val_acc: 0.9730\n",
      "Epoch 28/30\n",
      "100/100 [==============================] - 27s 265ms/step - loss: 0.0369 - acc: 0.9880 - val_loss: 0.1633 - val_acc: 0.9680\n",
      "Epoch 29/30\n",
      "100/100 [==============================] - 26s 260ms/step - loss: 0.0245 - acc: 0.9905 - val_loss: 0.1810 - val_acc: 0.9690\n",
      "Epoch 30/30\n",
      "100/100 [==============================] - 26s 262ms/step - loss: 0.0339 - acc: 0.9890 - val_loss: 0.1783 - val_acc: 0.9630\n"
     ]
    }
   ],
   "source": [
    "history = model.fit_generator(train_generator,\n",
    "                              steps_per_epoch=100,\n",
    "                              epochs=30,\n",
    "                              validation_data=validation_generator,\n",
    "                              validation_steps=50)"
   ]
  },
  {
   "cell_type": "code",
   "execution_count": 29,
   "metadata": {
    "collapsed": true
   },
   "outputs": [],
   "source": [
    "model.save('cats_and_dogs_small_4.h5')"
   ]
  },
  {
   "cell_type": "code",
   "execution_count": 30,
   "metadata": {},
   "outputs": [
    {
     "data": {
      "image/png": "[encoded data removed]",
      "text/plain": [
       "<matplotlib.figure.Figure at 0x7f358c83fd68>"
      ]
     },
     "metadata": {},
     "output_type": "display_data"
    },
    {
     "data": {
      "image/png": "[encoded data removed]",
      "text/plain": [
       "<matplotlib.figure.Figure at 0x7f358d091b00>"
      ]
     },
     "metadata": {},
     "output_type": "display_data"
    }
   ],
   "source": [
    "acc = history.history['acc']\n",
    "val_acc = history.history['val_acc']\n",
    "loss = history.history['loss']\n",
    "val_loss = history.history['val_loss']\n",
    "\n",
    "epochs = range(len(acc))\n",
    "\n",
    "plt.plot(epochs, acc, 'bo', label='Training acc')\n",
    "plt.plot(epochs, val_acc, 'b', label='Validation acc')\n",
    "plt.title('Training and validation accuracy')\n",
    "plt.legend()\n",
    "\n",
    "plt.figure()\n",
    "\n",
    "plt.plot(epochs, loss, 'bo', label='Training loss')\n",
    "plt.plot(epochs, val_loss, 'b', label='Validation loss')\n",
    "plt.title('Training and validation loss')\n",
    "plt.legend()\n",
    "\n",
    "plt.show()"
   ]
  },
  {
   "cell_type": "code",
   "execution_count": 31,
   "metadata": {
    "collapsed": true
   },
   "outputs": [],
   "source": [
    "def smooth_curve(points, factor=0.8):\n",
    "    smoothed_points = []\n",
    "    for point in points:\n",
    "        if smoothed_points:\n",
    "            previous = smoothed_points[-1]\n",
    "            smoothed_points.append(previous * factor + point * (1 - factor))\n",
    "        else:\n",
    "            smoothed_points.append(point)\n",
    "    \n",
    "    return smoothed_points"
   ]
  },
  {
   "cell_type": "code",
   "execution_count": 32,
   "metadata": {},
   "outputs": [
    {
     "data": {
      "image/png": "[encoded data removed]",
      "text/plain": [
       "<matplotlib.figure.Figure at 0x7f358d529898>"
      ]
     },
     "metadata": {},
     "output_type": "display_data"
    },
    {
     "data": {
      "image/png": "[encoded data removed]",
      "text/plain": [
       "<matplotlib.figure.Figure at 0x7f35ef13f208>"
      ]
     },
     "metadata": {},
     "output_type": "display_data"
    }
   ],
   "source": [
    "plt.plot(epochs,\n",
    "         smooth_curve(acc), 'bo', label='Smoothed training acc')\n",
    "plt.plot(epochs,\n",
    "         smooth_curve(val_acc), 'b', label='Smoothed validation acc')\n",
    "plt.title('Training and validation accuracy')\n",
    "plt.legend()\n",
    "\n",
    "plt.figure()\n",
    "\n",
    "plt.plot(epochs,\n",
    "         smooth_curve(loss), 'bo', label='Smoothed training loss')\n",
    "plt.plot(epochs,\n",
    "         smooth_curve(val_loss), 'b', label='Smoothed validation loss')\n",
    "plt.title('Training and validation loss')\n",
    "plt.legend()\n",
    "\n",
    "plt.show()"
   ]
  },
  {
   "cell_type": "code",
   "execution_count": null,
   "metadata": {},
   "outputs": [],
   "source": [
    "test_generator = test_datagen.flow_from_directory(test_dir,\n",
    "                                                  target_size=(150, 150),\n",
    "                                                  batch_size=20,\n",
    "                                                  class_mode='binary')\n",
    "\n",
    "test_loss, test_acc = model.evaluate_generator(test_generator, steps=50)\n",
    "print(\"test acc: \", test_acc)"
   ]
  },
  {
   "cell_type": "code",
   "execution_count": null,
   "metadata": {
    "collapsed": true
   },
   "outputs": [],
   "source": []
  }
 ],
 "metadata": {
  "kernelspec": {
   "display_name": "Python 3",
   "language": "python",
   "name": "python3"
  },
  "language_info": {
   "codemirror_mode": {
    "name": "ipython",
    "version": 3
   },
   "file_extension": ".py",
   "mimetype": "text/x-python",
   "name": "python",
   "nbconvert_exporter": "python",
   "pygments_lexer": "ipython3",
   "version": "3.6.3"
  }
 },
 "nbformat": 4,
 "nbformat_minor": 2
}
