{
 "cells": [
  {
   "cell_type": "code",
   "execution_count": 1,
   "metadata": {
    "collapsed": true
   },
   "outputs": [],
   "source": [
    "import numpy as np\n",
    "import os\n",
    "from utils.utilities import *\n",
    "from sklearn.model_selection import train_test_split\n",
    "import matplotlib.pyplot as plt\n",
    "%matplotlib inline"
   ]
  },
  {
   "cell_type": "code",
   "execution_count": 2,
   "metadata": {
    "collapsed": true
   },
   "outputs": [],
   "source": [
    "import tensorflow as tf"
   ]
  },
  {
   "cell_type": "code",
   "execution_count": 3,
   "metadata": {},
   "outputs": [
    {
     "name": "stdout",
     "output_type": "stream",
     "text": [
      "1.3.0\n"
     ]
    }
   ],
   "source": [
    "print(tf.__version__)"
   ]
  },
  {
   "cell_type": "markdown",
   "metadata": {},
   "source": [
    "## Load data"
   ]
  },
  {
   "cell_type": "code",
   "execution_count": 4,
   "metadata": {
    "collapsed": true
   },
   "outputs": [],
   "source": [
    "DATASET_PATH = \"./dataset/UCI HAR Dataset/\""
   ]
  },
  {
   "cell_type": "code",
   "execution_count": 5,
   "metadata": {
    "collapsed": true
   },
   "outputs": [],
   "source": [
    "INPUT_SIGNAL_TYPES = [\n",
    "    \"body_acc_x_\",\n",
    "    \"body_acc_y_\",\n",
    "    \"body_acc_z_\",\n",
    "    \"body_gyro_x_\",\n",
    "    \"body_gyro_y_\",\n",
    "    \"body_gyro_z_\",\n",
    "    \"total_acc_x_\",\n",
    "    \"total_acc_y_\",\n",
    "    \"total_acc_z_\"\n",
    "]"
   ]
  },
  {
   "cell_type": "code",
   "execution_count": 6,
   "metadata": {
    "collapsed": true
   },
   "outputs": [],
   "source": [
    "def load_X(X_signals_paths):\n",
    "    X_signals = []\n",
    "    \n",
    "    for signal_type_path in X_signals_paths:\n",
    "        with open(signal_type_path, \"r\") as f:\n",
    "            X_signals.append(\n",
    "                [np.array(serie, dtype=np.float32)\n",
    "                    for serie in [row.replace('  ', ' ').strip().split(' ') for row in f]]\n",
    "            )\n",
    "    return np.transpose(X_signals, (1, 2, 0))\n",
    "\n",
    "def load_y(y_path):\n",
    "\n",
    "    # Read dataset from disk, dealing with text file's syntax\n",
    "    with open(y_path, \"r\") as f:\n",
    "        y = np.array(\n",
    "            [elem for elem in [\n",
    "                row.replace('  ', ' ').strip().split(' ') for row in f\n",
    "            ]], \n",
    "            dtype=np.int32\n",
    "        )\n",
    "            \n",
    "    y = y.reshape(-1,)\n",
    "    # Substract 1 to each output class for friendly 0-based indexing \n",
    "    return y - 1"
   ]
  },
  {
   "cell_type": "code",
   "execution_count": 7,
   "metadata": {
    "collapsed": true
   },
   "outputs": [],
   "source": [
    "X_train_signals_paths = [\n",
    "    DATASET_PATH + \"train/Inertial Signals/\" + signal + \"train.txt\" for signal in INPUT_SIGNAL_TYPES\n",
    "]\n",
    "X_test_signals_paths = [\n",
    "    DATASET_PATH + \"test/Inertial Signals/\" + signal + \"test.txt\" for signal in INPUT_SIGNAL_TYPES\n",
    "]"
   ]
  },
  {
   "cell_type": "code",
   "execution_count": 8,
   "metadata": {
    "collapsed": true
   },
   "outputs": [],
   "source": [
    "har_X_train = load_X(X_train_signals_paths)\n",
    "har_X_test = load_X(X_test_signals_paths)"
   ]
  },
  {
   "cell_type": "code",
   "execution_count": 9,
   "metadata": {
    "collapsed": true
   },
   "outputs": [],
   "source": [
    "y_train_path = DATASET_PATH + \"train/y_train.txt\"\n",
    "y_test_path = DATASET_PATH + \"test/y_test.txt\""
   ]
  },
  {
   "cell_type": "code",
   "execution_count": 10,
   "metadata": {
    "collapsed": true
   },
   "outputs": [],
   "source": [
    "har_y_train = load_y(y_train_path)\n",
    "har_y_test = load_y(y_test_path)"
   ]
  },
  {
   "cell_type": "markdown",
   "metadata": {},
   "source": [
    "## Prepare data"
   ]
  },
  {
   "cell_type": "code",
   "execution_count": 11,
   "metadata": {
    "collapsed": true
   },
   "outputs": [],
   "source": [
    "X_train, X_valid, y_train, y_valid = train_test_split(har_X_train, har_y_train, random_state=42)"
   ]
  },
  {
   "cell_type": "code",
   "execution_count": 12,
   "metadata": {
    "scrolled": false
   },
   "outputs": [
    {
     "data": {
      "text/plain": [
       "((5514, 128, 9), (5514,))"
      ]
     },
     "execution_count": 12,
     "metadata": {},
     "output_type": "execute_result"
    }
   ],
   "source": [
    "X_train.shape, y_train.shape"
   ]
  },
  {
   "cell_type": "code",
   "execution_count": 13,
   "metadata": {
    "collapsed": true
   },
   "outputs": [],
   "source": [
    "X_train = np.transpose(X_train, (0, 2, 1))\n",
    "X_valid = np.transpose(X_valid, (0, 2, 1))\n",
    "har_X_test = np.transpose(har_X_test, (0, 2, 1))"
   ]
  },
  {
   "cell_type": "code",
   "execution_count": 14,
   "metadata": {
    "scrolled": false
   },
   "outputs": [
    {
     "data": {
      "text/plain": [
       "((5514, 9, 128), (5514,))"
      ]
     },
     "execution_count": 14,
     "metadata": {},
     "output_type": "execute_result"
    }
   ],
   "source": [
    "X_train.shape, y_train.shape"
   ]
  },
  {
   "cell_type": "markdown",
   "metadata": {},
   "source": [
    "# Build LSTM model"
   ]
  },
  {
   "cell_type": "markdown",
   "metadata": {},
   "source": [
    "## Hyperparameters"
   ]
  },
  {
   "cell_type": "code",
   "execution_count": 15,
   "metadata": {
    "collapsed": true
   },
   "outputs": [],
   "source": [
    "batch_size = 200\n",
    "n_epochs = 100\n",
    "learning_rate = 0.0005\n",
    "\n",
    "seq_len = 128\n",
    "n_channels = 9\n",
    "n_neurons = 100\n",
    "n_layers = 3\n",
    "\n",
    "# outputs\n",
    "n_classes = 6"
   ]
  },
  {
   "cell_type": "code",
   "execution_count": 16,
   "metadata": {
    "collapsed": true
   },
   "outputs": [],
   "source": [
    "n_batches = X_train.shape[0] // batch_size"
   ]
  },
  {
   "cell_type": "markdown",
   "metadata": {},
   "source": [
    "## a simple LSTM model"
   ]
  },
  {
   "cell_type": "code",
   "execution_count": 17,
   "metadata": {
    "collapsed": true
   },
   "outputs": [],
   "source": [
    "tf.reset_default_graph()\n",
    "tf.set_random_seed(73)\n",
    "np.random.seed(73)\n",
    "\n",
    "X = tf.placeholder(tf.float32, (None, n_channels, seq_len), name=\"X\")\n",
    "y = tf.placeholder(tf.int32, (None), name=\"y\")\n",
    "\n",
    "# is in training phase\n",
    "training = tf.placeholder_with_default(False, shape=(), name=\"training\")\n"
   ]
  },
  {
   "cell_type": "code",
   "execution_count": 18,
   "metadata": {
    "collapsed": true,
    "scrolled": false
   },
   "outputs": [],
   "source": [
    "with tf.name_scope(\"rnn\"):\n",
    "    \n",
    "    basic_cell = tf.contrib.rnn.BasicLSTMCell(num_units=n_neurons,\n",
    "                                             activation=tf.nn.relu)\n",
    "    outputs, states = tf.nn.dynamic_rnn(basic_cell, X, dtype=tf.float32)\n",
    "    \n",
    "\n",
    "    top_layer_h_state = states[-1]\n",
    "    #print(top_layer_h_state.shape)\n",
    "    states_concat = tf.concat(axis=1, values=states)\n",
    "    logits = tf.layers.dense(states_concat, n_classes)"
   ]
  },
  {
   "cell_type": "code",
   "execution_count": 19,
   "metadata": {
    "collapsed": true
   },
   "outputs": [],
   "source": [
    "with tf.name_scope(\"loss\"):\n",
    "    xentropy = tf.nn.sparse_softmax_cross_entropy_with_logits(logits=logits, labels=y)\n",
    "    loss = tf.reduce_mean(xentropy, name=\"loss\")"
   ]
  },
  {
   "cell_type": "code",
   "execution_count": 20,
   "metadata": {
    "collapsed": true
   },
   "outputs": [],
   "source": [
    "with tf.name_scope(\"train\"):\n",
    "    optimizer = tf.train.AdamOptimizer(learning_rate=learning_rate)\n",
    "    training_op = optimizer.minimize(loss)"
   ]
  },
  {
   "cell_type": "code",
   "execution_count": 21,
   "metadata": {
    "collapsed": true
   },
   "outputs": [],
   "source": [
    "with tf.name_scope(\"eval\"):\n",
    "    #correct = tf.equal(tf.argmax(logits, 1), tf.argmax(y, 1))\n",
    "    correct = tf.nn.in_top_k(logits, y, 1)\n",
    "    accuracy = tf.reduce_mean(tf.cast(correct, tf.float32), name=\"accuracy\")"
   ]
  },
  {
   "cell_type": "code",
   "execution_count": 22,
   "metadata": {
    "collapsed": true
   },
   "outputs": [],
   "source": [
    "init = tf.global_variables_initializer()\n",
    "saver = tf.train.Saver()"
   ]
  },
  {
   "cell_type": "code",
   "execution_count": 23,
   "metadata": {
    "scrolled": false
   },
   "outputs": [
    {
     "name": "stdout",
     "output_type": "stream",
     "text": [
      "Epoch:  0 Loss: 1.10706 Valid accuracy:  0.624048\n",
      "Epoch:  10 Loss: 0.221656 Valid accuracy:  0.90914\n",
      "Epoch:  20 Loss: 0.189022 Valid accuracy:  0.934168\n",
      "Epoch:  30 Loss: 0.186363 Valid accuracy:  0.93852\n",
      "Epoch:  40 Loss: 0.206757 Valid accuracy:  0.942329\n",
      "Epoch:  50 Loss: 0.237743 Valid accuracy:  0.942329\n",
      "Epoch:  60 Loss: 0.27503 Valid accuracy:  0.942329\n",
      "Epoch:  70 Loss: 0.31223 Valid accuracy:  0.942329\n",
      "Epoch:  80 Loss: 0.358149 Valid accuracy:  0.940152\n",
      "Epoch:  90 Loss: 0.415947 Valid accuracy:  0.939608\n"
     ]
    }
   ],
   "source": [
    "with tf.Session() as sess:\n",
    "    sess.run(init)\n",
    "    \n",
    "    for epoch in range(n_epochs):\n",
    "        for i in range(n_batches):\n",
    "            X_batch = X_train[i * batch_size:(i+1) * batch_size]\n",
    "            y_batch = y_train[i * batch_size:(i+1) * batch_size]\n",
    "            train_acc =  sess.run([training_op], feed_dict={X: X_batch, y: y_batch, training: True})\n",
    "        \n",
    "        if epoch % 10 == 0:\n",
    "            valid_acc, loss_val = sess.run([accuracy, loss], feed_dict={X: X_valid, y: y_valid})\n",
    "            print(\"Epoch: \", epoch,\"Loss:\", loss_val, \"Valid accuracy: \", valid_acc)\n",
    "    saver.save(sess, \"./model/har_first_lstm_model.ckpt\")"
   ]
  },
  {
   "cell_type": "code",
   "execution_count": 24,
   "metadata": {
    "scrolled": false
   },
   "outputs": [
    {
     "name": "stdout",
     "output_type": "stream",
     "text": [
      "INFO:tensorflow:Restoring parameters from ./model/har_first_lstm_model.ckpt\n",
      "valid Accuracy:  0.947769\n",
      "Test Accuracy:  0.890397\n"
     ]
    }
   ],
   "source": [
    "with tf.Session() as sess:\n",
    "    saver.restore(sess, \"./model/har_first_lstm_model.ckpt\")\n",
    "    valid_acc = accuracy.eval(feed_dict={X: X_valid, y: y_valid})\n",
    "    test_acc = accuracy.eval(feed_dict={X: har_X_test, y: har_y_test})\n",
    "    print(\"valid Accuracy: \", valid_acc)\n",
    "    print(\"Test Accuracy: \", test_acc)"
   ]
  },
  {
   "cell_type": "code",
   "execution_count": null,
   "metadata": {
    "collapsed": true
   },
   "outputs": [],
   "source": []
  },
  {
   "cell_type": "markdown",
   "metadata": {},
   "source": [
    "## Basic RNN model with dropout"
   ]
  },
  {
   "cell_type": "code",
   "execution_count": 25,
   "metadata": {
    "collapsed": true
   },
   "outputs": [],
   "source": [
    "tf.reset_default_graph()\n",
    "tf.set_random_seed(73)\n",
    "np.random.seed(73)\n",
    "\n",
    "X = tf.placeholder(tf.float32, (None, n_channels, seq_len), name=\"X\")\n",
    "y = tf.placeholder(tf.int32, (None), name=\"y\")\n",
    "\n",
    "# is in training phase\n",
    "training = tf.placeholder_with_default(False, shape=(), name=\"training\")\n"
   ]
  },
  {
   "cell_type": "code",
   "execution_count": 26,
   "metadata": {
    "collapsed": true,
    "scrolled": false
   },
   "outputs": [
    {
     "name": "stdout",
     "output_type": "stream",
     "text": [
      "(?, 100)\n"
     ]
    }
   ],
   "source": [
    "with tf.name_scope(\"rnn\"):\n",
    "    \n",
    "    basic_cell = tf.contrib.rnn.BasicLSTMCell(num_units=n_neurons,\n",
    "                                             activation=tf.nn.relu)\n",
    "    drop_basic_cell = tf.contrib.rnn.DropoutWrapper(basic_cell, output_keep_prob=0.8)\n",
    "    outputs, states = tf.nn.dynamic_rnn(drop_basic_cell, X, dtype=tf.float32)\n",
    "    \n",
    "    top_layer_h_state = states[-1]\n",
    "    print(top_layer_h_state.shape)\n",
    "    states_concat = tf.concat(axis=1, values=states)\n",
    "    logits = tf.layers.dense(states_concat, n_classes)"
   ]
  },
  {
   "cell_type": "code",
   "execution_count": 27,
   "metadata": {
    "collapsed": true
   },
   "outputs": [],
   "source": [
    "with tf.name_scope(\"loss\"):\n",
    "    xentropy = tf.nn.sparse_softmax_cross_entropy_with_logits(logits=logits, labels=y)\n",
    "    loss = tf.reduce_mean(xentropy, name=\"loss\")"
   ]
  },
  {
   "cell_type": "code",
   "execution_count": 28,
   "metadata": {
    "collapsed": true
   },
   "outputs": [],
   "source": [
    "with tf.name_scope(\"train\"):\n",
    "    optimizer = tf.train.AdamOptimizer(learning_rate=learning_rate)\n",
    "    training_op = optimizer.minimize(loss)"
   ]
  },
  {
   "cell_type": "code",
   "execution_count": 29,
   "metadata": {
    "collapsed": true
   },
   "outputs": [],
   "source": [
    "with tf.name_scope(\"eval\"):\n",
    "    #correct = tf.equal(tf.argmax(logits, 1), tf.argmax(y, 1))\n",
    "    correct = tf.nn.in_top_k(logits, y, 1)\n",
    "    accuracy = tf.reduce_mean(tf.cast(correct, tf.float32), name=\"accuracy\")"
   ]
  },
  {
   "cell_type": "code",
   "execution_count": 30,
   "metadata": {
    "collapsed": true
   },
   "outputs": [],
   "source": [
    "init = tf.global_variables_initializer()\n",
    "saver = tf.train.Saver()"
   ]
  },
  {
   "cell_type": "code",
   "execution_count": 31,
   "metadata": {
    "scrolled": false
   },
   "outputs": [
    {
     "name": "stdout",
     "output_type": "stream",
     "text": [
      "Epoch:  0 Loss: 1.15221 Valid accuracy:  0.634385\n",
      "Epoch:  10 Loss: 0.193351 Valid accuracy:  0.926551\n",
      "Epoch:  20 Loss: 0.193662 Valid accuracy:  0.934168\n",
      "Epoch:  30 Loss: 0.20791 Valid accuracy:  0.934712\n",
      "Epoch:  40 Loss: 0.213674 Valid accuracy:  0.936344\n",
      "Epoch:  50 Loss: 0.223299 Valid accuracy:  0.93852\n",
      "Epoch:  60 Loss: 0.239362 Valid accuracy:  0.940696\n",
      "Epoch:  70 Loss: 0.259687 Valid accuracy:  0.940696\n",
      "Epoch:  80 Loss: 0.290383 Valid accuracy:  0.942329\n",
      "Epoch:  90 Loss: 0.324128 Valid accuracy:  0.937976\n"
     ]
    }
   ],
   "source": [
    "with tf.Session() as sess:\n",
    "    sess.run(init)\n",
    "    \n",
    "    for epoch in range(n_epochs):\n",
    "        for i in range(n_batches):\n",
    "            X_batch = X_train[i * batch_size:(i+1) * batch_size]\n",
    "            y_batch = y_train[i * batch_size:(i+1) * batch_size]\n",
    "            train_acc =  sess.run([training_op], feed_dict={X: X_batch, y: y_batch, training: True})\n",
    "        \n",
    "        if epoch % 10 == 0:\n",
    "            valid_acc, loss_val = sess.run([accuracy, loss], feed_dict={X: X_valid, y: y_valid})\n",
    "            print(\"Epoch: \", epoch,\"Loss:\", loss_val, \"Valid accuracy: \", valid_acc)\n",
    "    saver.save(sess, \"./model/har_lstm_dropout_model.ckpt\")"
   ]
  },
  {
   "cell_type": "code",
   "execution_count": 32,
   "metadata": {
    "scrolled": false
   },
   "outputs": [
    {
     "name": "stdout",
     "output_type": "stream",
     "text": [
      "INFO:tensorflow:Restoring parameters from ./model/har_lstm_dropout_model.ckpt\n",
      "valid Accuracy:  0.937976\n",
      "Test Accuracy:  0.875467\n"
     ]
    }
   ],
   "source": [
    "with tf.Session() as sess:\n",
    "    saver.restore(sess, \"./model/har_lstm_dropout_model.ckpt\")\n",
    "    valid_acc = accuracy.eval(feed_dict={X: X_valid, y: y_valid})\n",
    "    test_acc = accuracy.eval(feed_dict={X: har_X_test, y: har_y_test})\n",
    "    print(\"valid Accuracy: \", valid_acc)\n",
    "    print(\"Test Accuracy: \", test_acc)"
   ]
  },
  {
   "cell_type": "code",
   "execution_count": null,
   "metadata": {
    "collapsed": true
   },
   "outputs": [],
   "source": []
  },
  {
   "cell_type": "markdown",
   "metadata": {},
   "source": [
    "# Three LSTM layers with  early stopping"
   ]
  },
  {
   "cell_type": "code",
   "execution_count": 33,
   "metadata": {
    "collapsed": true
   },
   "outputs": [],
   "source": [
    "# maximum number of epoch\n",
    "n_epochs=600"
   ]
  },
  {
   "cell_type": "code",
   "execution_count": 34,
   "metadata": {
    "collapsed": true
   },
   "outputs": [],
   "source": [
    "tf.reset_default_graph()\n",
    "tf.set_random_seed(73)\n",
    "np.random.seed(73)\n",
    "\n",
    "X = tf.placeholder(tf.float32, (None, n_channels, seq_len), name=\"X\")\n",
    "y = tf.placeholder(tf.int32, (None), name=\"y\")\n",
    "\n",
    "# is in training phase\n",
    "training = tf.placeholder_with_default(False, shape=(), name=\"training\")\n"
   ]
  },
  {
   "cell_type": "code",
   "execution_count": 35,
   "metadata": {
    "collapsed": true,
    "scrolled": false
   },
   "outputs": [],
   "source": [
    "with tf.name_scope(\"rnn\"):\n",
    "    \n",
    "    cells = [tf.contrib.rnn.BasicLSTMCell(num_units=n_neurons, activation=tf.nn.relu)\n",
    "                 for _ in range(n_layers)]\n",
    "    \n",
    "    multi_cells = tf.contrib.rnn.MultiRNNCell(cells)\n",
    "   \n",
    "    outputs, states = tf.nn.dynamic_rnn(multi_cells, X, dtype=tf.float32)\n",
    "    top_layer_h_state = states[-1][-1]\n",
    "    states_concat = tf.concat(axis=1, values=states)\n",
    "    logits = tf.layers.dense(top_layer_h_state, n_classes)"
   ]
  },
  {
   "cell_type": "code",
   "execution_count": 36,
   "metadata": {},
   "outputs": [
    {
     "data": {
      "text/plain": [
       "TensorShape([Dimension(None), Dimension(100)])"
      ]
     },
     "execution_count": 36,
     "metadata": {},
     "output_type": "execute_result"
    }
   ],
   "source": [
    "top_layer_h_state.shape"
   ]
  },
  {
   "cell_type": "code",
   "execution_count": 37,
   "metadata": {
    "collapsed": true
   },
   "outputs": [],
   "source": [
    "with tf.name_scope(\"loss\"):\n",
    "    xentropy = tf.nn.sparse_softmax_cross_entropy_with_logits(logits=logits, labels=y)\n",
    "    loss = tf.reduce_mean(xentropy, name=\"loss\")"
   ]
  },
  {
   "cell_type": "code",
   "execution_count": 38,
   "metadata": {
    "collapsed": true
   },
   "outputs": [],
   "source": [
    "with tf.name_scope(\"train\"):\n",
    "    optimizer = tf.train.AdamOptimizer(learning_rate=learning_rate)\n",
    "    training_op = optimizer.minimize(loss)"
   ]
  },
  {
   "cell_type": "code",
   "execution_count": 39,
   "metadata": {
    "collapsed": true
   },
   "outputs": [],
   "source": [
    "with tf.name_scope(\"eval\"):\n",
    "    #correct = tf.equal(tf.argmax(logits, 1), tf.argmax(y, 1))\n",
    "    correct = tf.nn.in_top_k(logits, y, 1)\n",
    "    accuracy = tf.reduce_mean(tf.cast(correct, tf.float32), name=\"accuracy\")"
   ]
  },
  {
   "cell_type": "code",
   "execution_count": 40,
   "metadata": {
    "collapsed": true
   },
   "outputs": [],
   "source": [
    "init = tf.global_variables_initializer()\n",
    "saver = tf.train.Saver()"
   ]
  },
  {
   "cell_type": "code",
   "execution_count": 41,
   "metadata": {
    "scrolled": false
   },
   "outputs": [
    {
     "name": "stdout",
     "output_type": "stream",
     "text": [
      "Epoch:  0 Loss:  1.42134 Valid accuracy:  0.433079\n",
      "Epoch:  5 Loss:  0.262649 Valid accuracy:  0.895539\n",
      "Epoch:  10 Loss:  0.252129 Valid accuracy:  0.920022\n",
      "Epoch:  15 Loss:  0.218751 Valid accuracy:  0.930903\n",
      "Epoch:  20 Loss:  0.243178 Valid accuracy:  0.930359\n",
      "Epoch:  25 Loss:  0.215112 Valid accuracy:  0.937976\n",
      "Epoch:  30 Loss:  0.215124 Valid accuracy:  0.94124\n",
      "Epoch:  35 Loss:  0.216702 Valid accuracy:  0.940696\n",
      "Epoch:  40 Loss:  0.228729 Valid accuracy:  0.939608\n",
      "Epoch:  45 Loss:  0.247192 Valid accuracy:  0.939608\n",
      "Epoch:  50 Loss:  0.259968 Valid accuracy:  0.940152\n",
      "Epoch:  55 Loss:  0.299531 Valid accuracy:  0.939608\n",
      "Epoch:  60 Loss:  0.194971 Valid accuracy:  0.941785\n",
      "Epoch:  65 Loss:  0.188479 Valid accuracy:  0.943961\n",
      "Epoch:  70 Loss:  0.198659 Valid accuracy:  0.942329\n",
      "Epoch:  75 Loss:  0.209958 Valid accuracy:  0.945049\n",
      "Epoch:  80 Loss:  0.219781 Valid accuracy:  0.940152\n",
      "Epoch:  85 Loss:  0.232615 Valid accuracy:  0.943961\n",
      "Epoch:  90 Loss:  0.243724 Valid accuracy:  0.945049\n",
      "Epoch:  95 Loss:  0.224741 Valid accuracy:  0.942329\n",
      "Epoch:  100 Loss:  0.240708 Valid accuracy:  0.948857\n",
      "Epoch:  105 Loss:  0.255802 Valid accuracy:  0.948857\n",
      "Epoch:  110 Loss:  0.26781 Valid accuracy:  0.951578\n",
      "Epoch:  115 Loss:  0.265706 Valid accuracy:  0.951578\n",
      "Epoch:  120 Loss:  0.18665 Valid accuracy:  0.947769\n",
      "Epoch:  125 Loss:  0.170986 Valid accuracy:  0.960827\n",
      "Epoch:  130 Loss:  0.178271 Valid accuracy:  0.961915\n",
      "Epoch:  135 Loss:  0.187851 Valid accuracy:  0.96518\n",
      "Epoch:  140 Loss:  0.188796 Valid accuracy:  0.963003\n",
      "Epoch:  145 Loss:  0.205867 Valid accuracy:  0.960827\n",
      "Epoch:  150 Loss:  0.219046 Valid accuracy:  0.962459\n",
      "Epoch:  155 Loss:  0.231796 Valid accuracy:  0.963547\n",
      "Epoch:  160 Loss:  0.149127 Valid accuracy:  0.958107\n",
      "Epoch:  165 Loss:  0.165974 Valid accuracy:  0.964635\n",
      "Epoch:  170 Loss:  0.186894 Valid accuracy:  0.964091\n",
      "Epoch:  175 Loss:  0.203792 Valid accuracy:  0.960827\n",
      "Epoch:  180 Loss:  0.224381 Valid accuracy:  0.960827\n",
      "Epoch:  185 Loss:  0.243998 Valid accuracy:  0.960827\n",
      "Epoch:  190 Loss:  0.284426 Valid accuracy:  0.958651\n",
      "Epoch:  195 Loss:  0.231365 Valid accuracy:  0.964635\n",
      "Epoch:  200 Loss:  0.275569 Valid accuracy:  0.958651\n",
      "Epoch:  205 Loss:  0.298451 Valid accuracy:  0.959195\n"
     ]
    }
   ],
   "source": [
    "best_loss = np.infty\n",
    "epochs_without_progress = 0\n",
    "max_epochs_without_progress=150\n",
    "\n",
    "with tf.Session() as sess:\n",
    "    sess.run(init)\n",
    "    \n",
    "    for epoch in range(n_epochs):\n",
    "        for i in range(n_batches):\n",
    "            X_batch = X_train[i * batch_size:(i+1) * batch_size]\n",
    "            y_batch = y_train[i * batch_size:(i+1) * batch_size]\n",
    "            train_acc =  sess.run([training_op], feed_dict={X: X_batch, y: y_batch, training: True})\n",
    "    \n",
    "        if epoch % 5 == 0:\n",
    "            valid_acc, loss_val = sess.run([accuracy, loss], feed_dict={X: X_valid, y: y_valid})\n",
    "            print(\"Epoch: \", epoch, \"Loss: \", loss_val, \"Valid accuracy: \", valid_acc)\n",
    "            if np.around(loss_val, decimals=4) < best_loss:\n",
    "                saver.save(sess, \"./model/har_lstm_early_stopping_model.ckpt\")\n",
    "                best_loss = loss_val\n",
    "            else:\n",
    "                epochs_without_progress +=5\n",
    "                if epochs_without_progress > max_epochs_without_progress:\n",
    "                    break"
   ]
  },
  {
   "cell_type": "code",
   "execution_count": 42,
   "metadata": {
    "scrolled": true
   },
   "outputs": [
    {
     "name": "stdout",
     "output_type": "stream",
     "text": [
      "INFO:tensorflow:Restoring parameters from ./model/har_lstm_early_stopping_model.ckpt\n",
      "valid Accuracy:  0.958107\n",
      "Test Accuracy:  0.876824\n"
     ]
    }
   ],
   "source": [
    "with tf.Session() as sess:\n",
    "    saver.restore(sess, \"./model/har_lstm_early_stopping_model.ckpt\")\n",
    "    valid_acc = accuracy.eval(feed_dict={X: X_valid, y: y_valid})\n",
    "    test_acc = accuracy.eval(feed_dict={X: har_X_test, y: har_y_test})\n",
    "    print(\"valid Accuracy: \", valid_acc)\n",
    "    print(\"Test Accuracy: \", test_acc)"
   ]
  },
  {
   "cell_type": "markdown",
   "metadata": {},
   "source": [
    "## Bi-directional LSTM"
   ]
  },
  {
   "cell_type": "code",
   "execution_count": 43,
   "metadata": {
    "collapsed": true
   },
   "outputs": [],
   "source": [
    "n_epochs=200"
   ]
  },
  {
   "cell_type": "code",
   "execution_count": 44,
   "metadata": {
    "collapsed": true
   },
   "outputs": [],
   "source": [
    "tf.reset_default_graph()\n",
    "tf.set_random_seed(73)\n",
    "np.random.seed(73)\n",
    "\n",
    "X = tf.placeholder(tf.float32, (None, n_channels, seq_len), name=\"X\")\n",
    "y = tf.placeholder(tf.int32, (None), name=\"y\")\n",
    "\n",
    "# is in training phase\n",
    "training = tf.placeholder_with_default(False, shape=(), name=\"training\")\n"
   ]
  },
  {
   "cell_type": "code",
   "execution_count": 45,
   "metadata": {
    "collapsed": true,
    "scrolled": false
   },
   "outputs": [],
   "source": [
    "with tf.name_scope(\"rnn\"):\n",
    "    \n",
    "    fw_cells = [tf.contrib.rnn.BasicLSTMCell(num_units=n_neurons,\n",
    "                                                 activation=tf.nn.relu)\n",
    "                         for _ in range(n_layers)]\n",
    "    \n",
    "    bw_cells = [tf.contrib.rnn.BasicLSTMCell(num_units=n_neurons,\n",
    "                                                 activation=tf.nn.relu)\n",
    "                         for _ in range(n_layers)]\n",
    "    multi_fw_cells = tf.contrib.rnn.MultiRNNCell(fw_cells)\n",
    "    multi_bw_cells = tf.contrib.rnn.MultiRNNCell(bw_cells)\n",
    "        \n",
    "    outputs, states = tf.nn.bidirectional_dynamic_rnn(multi_fw_cells, multi_bw_cells, X, dtype=tf.float32)\n",
    "    top_layer_h_state = states[-1][-1][-1]\n",
    "    states_concat = tf.concat(axis=1, values=states)\n",
    "    logits = tf.layers.dense(top_layer_h_state, n_classes)"
   ]
  },
  {
   "cell_type": "code",
   "execution_count": 46,
   "metadata": {},
   "outputs": [
    {
     "data": {
      "text/plain": [
       "TensorShape([Dimension(None), Dimension(100)])"
      ]
     },
     "execution_count": 46,
     "metadata": {},
     "output_type": "execute_result"
    }
   ],
   "source": [
    "top_layer_h_state.shape"
   ]
  },
  {
   "cell_type": "code",
   "execution_count": 47,
   "metadata": {
    "collapsed": true
   },
   "outputs": [],
   "source": [
    "with tf.name_scope(\"loss\"):\n",
    "    xentropy = tf.nn.sparse_softmax_cross_entropy_with_logits(logits=logits, labels=y)\n",
    "    loss = tf.reduce_mean(xentropy, name=\"loss\")"
   ]
  },
  {
   "cell_type": "code",
   "execution_count": 48,
   "metadata": {
    "collapsed": true
   },
   "outputs": [],
   "source": [
    "with tf.name_scope(\"train\"):\n",
    "    optimizer = tf.train.AdamOptimizer(learning_rate=learning_rate)\n",
    "    training_op = optimizer.minimize(loss)"
   ]
  },
  {
   "cell_type": "code",
   "execution_count": 49,
   "metadata": {
    "collapsed": true
   },
   "outputs": [],
   "source": [
    "with tf.name_scope(\"eval\"):\n",
    "    #correct = tf.equal(tf.argmax(logits, 1), tf.argmax(y, 1))\n",
    "    correct = tf.nn.in_top_k(logits, y, 1)\n",
    "    accuracy = tf.reduce_mean(tf.cast(correct, tf.float32), name=\"accuracy\")"
   ]
  },
  {
   "cell_type": "code",
   "execution_count": 50,
   "metadata": {
    "collapsed": true
   },
   "outputs": [],
   "source": [
    "init = tf.global_variables_initializer()\n",
    "saver = tf.train.Saver()"
   ]
  },
  {
   "cell_type": "code",
   "execution_count": 51,
   "metadata": {
    "scrolled": true
   },
   "outputs": [
    {
     "name": "stdout",
     "output_type": "stream",
     "text": [
      "Epoch:  0 Loss: 1.34852 Valid accuracy:  0.359086\n",
      "Epoch:  10 Loss: 0.231776 Valid accuracy:  0.900435\n",
      "Epoch:  20 Loss: 0.340472 Valid accuracy:  0.914037\n",
      "Epoch:  30 Loss: 0.198543 Valid accuracy:  0.942329\n",
      "Epoch:  40 Loss: 0.199508 Valid accuracy:  0.943417\n",
      "Epoch:  50 Loss: 0.21916 Valid accuracy:  0.942329\n",
      "Epoch:  60 Loss: 0.224513 Valid accuracy:  0.943961\n",
      "Epoch:  70 Loss: 0.173894 Valid accuracy:  0.946681\n",
      "Epoch:  80 Loss: 0.192409 Valid accuracy:  0.95049\n",
      "Epoch:  90 Loss: 0.213671 Valid accuracy:  0.949946\n",
      "Epoch:  100 Loss: 0.182285 Valid accuracy:  0.940696\n",
      "Epoch:  110 Loss: 0.161961 Valid accuracy:  0.949946\n",
      "Epoch:  120 Loss: 0.176571 Valid accuracy:  0.951034\n",
      "Epoch:  130 Loss: 0.194259 Valid accuracy:  0.954298\n",
      "Epoch:  140 Loss: 0.142518 Valid accuracy:  0.949946\n",
      "Epoch:  150 Loss: 0.169103 Valid accuracy:  0.951034\n",
      "Epoch:  160 Loss: 0.175119 Valid accuracy:  0.952666\n",
      "Epoch:  170 Loss: 0.168235 Valid accuracy:  0.95049\n",
      "Epoch:  180 Loss: 0.181946 Valid accuracy:  0.956474\n",
      "Epoch:  190 Loss: 0.191433 Valid accuracy:  0.951034\n"
     ]
    }
   ],
   "source": [
    "with tf.Session() as sess:\n",
    "    sess.run(init)\n",
    "    \n",
    "    for epoch in range(n_epochs):\n",
    "        for i in range(n_batches):\n",
    "            X_batch = X_train[i * batch_size:(i+1) * batch_size]\n",
    "            y_batch = y_train[i * batch_size:(i+1) * batch_size]\n",
    "            train_acc =  sess.run([training_op], feed_dict={X: X_batch, y: y_batch, training: True})\n",
    "             \n",
    "        if epoch % 10 == 0:\n",
    "            \n",
    "            valid_acc, loss_val = sess.run([accuracy, loss], feed_dict={X: X_valid, y: y_valid})\n",
    "            print(\"Epoch: \", epoch,\"Loss:\", loss_val, \"Valid accuracy: \", valid_acc)\n",
    "    saver.save(sess, \"./model/har_lstm_model.ckpt\")"
   ]
  },
  {
   "cell_type": "code",
   "execution_count": 52,
   "metadata": {
    "scrolled": true
   },
   "outputs": [
    {
     "name": "stdout",
     "output_type": "stream",
     "text": [
      "INFO:tensorflow:Restoring parameters from ./model/har_lstm_model.ckpt\n",
      "valid Accuracy:  0.958107\n",
      "Test Accuracy:  0.857482\n"
     ]
    }
   ],
   "source": [
    "with tf.Session() as sess:\n",
    "    saver.restore(sess, \"./model/har_lstm_model.ckpt\")\n",
    "    valid_acc = accuracy.eval(feed_dict={X: X_valid, y: y_valid})\n",
    "    test_acc = accuracy.eval(feed_dict={X: har_X_test, y: har_y_test})\n",
    "    print(\"valid Accuracy: \", valid_acc)\n",
    "    print(\"Test Accuracy: \", test_acc)"
   ]
  },
  {
   "cell_type": "code",
   "execution_count": null,
   "metadata": {
    "collapsed": true
   },
   "outputs": [],
   "source": []
  },
  {
   "cell_type": "markdown",
   "metadata": {},
   "source": [
    "# Bi-directional LSTM with dropout and early stopping"
   ]
  },
  {
   "cell_type": "code",
   "execution_count": 53,
   "metadata": {
    "collapsed": true
   },
   "outputs": [],
   "source": [
    "n_epochs=600"
   ]
  },
  {
   "cell_type": "code",
   "execution_count": 54,
   "metadata": {
    "collapsed": true
   },
   "outputs": [],
   "source": [
    "tf.reset_default_graph()\n",
    "tf.set_random_seed(73)\n",
    "np.random.seed(73)\n",
    "\n",
    "X = tf.placeholder(tf.float32, (None, n_channels, seq_len), name=\"X\")\n",
    "y = tf.placeholder(tf.int32, (None), name=\"y\")\n",
    "\n",
    "# is in training phase\n",
    "training = tf.placeholder_with_default(False, shape=(), name=\"training\")\n"
   ]
  },
  {
   "cell_type": "code",
   "execution_count": 55,
   "metadata": {
    "collapsed": true,
    "scrolled": false
   },
   "outputs": [],
   "source": [
    "with tf.name_scope(\"rnn\"):\n",
    "    \n",
    "    fw_cells = [tf.contrib.rnn.DropoutWrapper(tf.contrib.rnn.BasicLSTMCell(num_units=n_neurons, activation=tf.nn.relu),\n",
    "                                             output_keep_prob=0.8)\n",
    "                   for _ in range(n_layers)]\n",
    "    bw_cells = [tf.contrib.rnn.DropoutWrapper(tf.contrib.rnn.BasicLSTMCell(num_units=n_neurons, activation=tf.nn.relu),\n",
    "                                             output_keep_prob=0.8)\n",
    "                   for _ in range(n_layers)]\n",
    "    \n",
    "    multi_fw_cells = tf.contrib.rnn.MultiRNNCell(fw_cells)\n",
    "    multi_bw_cells = tf.contrib.rnn.MultiRNNCell(bw_cells)\n",
    "    \n",
    "    outputs, states = tf.nn.bidirectional_dynamic_rnn(multi_fw_cells, multi_bw_cells, X, dtype=tf.float32)\n",
    "    top_layer_h_state = states[-1][-1][-1]\n",
    "    states_concat = tf.concat(axis=1, values=states)\n",
    "    logits = tf.layers.dense(top_layer_h_state, n_classes)"
   ]
  },
  {
   "cell_type": "code",
   "execution_count": 56,
   "metadata": {},
   "outputs": [
    {
     "data": {
      "text/plain": [
       "TensorShape([Dimension(None), Dimension(100)])"
      ]
     },
     "execution_count": 56,
     "metadata": {},
     "output_type": "execute_result"
    }
   ],
   "source": [
    "top_layer_h_state.shape"
   ]
  },
  {
   "cell_type": "code",
   "execution_count": 57,
   "metadata": {
    "collapsed": true
   },
   "outputs": [],
   "source": [
    "with tf.name_scope(\"loss\"):\n",
    "    xentropy = tf.nn.sparse_softmax_cross_entropy_with_logits(logits=logits, labels=y)\n",
    "    loss = tf.reduce_mean(xentropy, name=\"loss\")"
   ]
  },
  {
   "cell_type": "code",
   "execution_count": 58,
   "metadata": {
    "collapsed": true
   },
   "outputs": [],
   "source": [
    "with tf.name_scope(\"train\"):\n",
    "    optimizer = tf.train.AdamOptimizer(learning_rate=learning_rate)\n",
    "    training_op = optimizer.minimize(loss)"
   ]
  },
  {
   "cell_type": "code",
   "execution_count": 59,
   "metadata": {
    "collapsed": true
   },
   "outputs": [],
   "source": [
    "with tf.name_scope(\"eval\"):\n",
    "    #correct = tf.equal(tf.argmax(logits, 1), tf.argmax(y, 1))\n",
    "    correct = tf.nn.in_top_k(logits, y, 1)\n",
    "    accuracy = tf.reduce_mean(tf.cast(correct, tf.float32), name=\"accuracy\")"
   ]
  },
  {
   "cell_type": "code",
   "execution_count": 60,
   "metadata": {
    "collapsed": true
   },
   "outputs": [],
   "source": [
    "init = tf.global_variables_initializer()\n",
    "saver = tf.train.Saver()"
   ]
  },
  {
   "cell_type": "code",
   "execution_count": 61,
   "metadata": {
    "scrolled": false
   },
   "outputs": [
    {
     "name": "stdout",
     "output_type": "stream",
     "text": [
      "Epoch:  0 Loss:  1.32307 Valid accuracy:  0.349837\n",
      "Epoch:  5 Loss:  0.452492 Valid accuracy:  0.822089\n",
      "Epoch:  10 Loss:  0.274729 Valid accuracy:  0.883025\n",
      "Epoch:  15 Loss:  0.321143 Valid accuracy:  0.891186\n",
      "Epoch:  20 Loss:  0.316844 Valid accuracy:  0.89173\n",
      "Epoch:  25 Loss:  0.231183 Valid accuracy:  0.922742\n",
      "Epoch:  30 Loss:  0.214636 Valid accuracy:  0.922742\n",
      "Epoch:  35 Loss:  0.208267 Valid accuracy:  0.930903\n",
      "Epoch:  40 Loss:  0.208984 Valid accuracy:  0.933079\n",
      "Epoch:  45 Loss:  0.211385 Valid accuracy:  0.929815\n",
      "Epoch:  50 Loss:  0.208526 Valid accuracy:  0.937976\n",
      "Epoch:  55 Loss:  0.187079 Valid accuracy:  0.924918\n",
      "Epoch:  60 Loss:  0.191786 Valid accuracy:  0.94124\n",
      "Epoch:  65 Loss:  0.17694 Valid accuracy:  0.942873\n",
      "Epoch:  70 Loss:  0.211531 Valid accuracy:  0.942329\n",
      "Epoch:  75 Loss:  0.193638 Valid accuracy:  0.948313\n",
      "Epoch:  80 Loss:  0.29349 Valid accuracy:  0.922198\n",
      "Epoch:  85 Loss:  0.275174 Valid accuracy:  0.940152\n",
      "Epoch:  90 Loss:  0.190795 Valid accuracy:  0.943417\n",
      "Epoch:  95 Loss:  0.194093 Valid accuracy:  0.94124\n",
      "Epoch:  100 Loss:  0.232693 Valid accuracy:  0.95049\n",
      "Epoch:  105 Loss:  0.156267 Valid accuracy:  0.947225\n",
      "Epoch:  110 Loss:  0.159908 Valid accuracy:  0.947769\n",
      "Epoch:  115 Loss:  0.158733 Valid accuracy:  0.951034\n",
      "Epoch:  120 Loss:  0.209446 Valid accuracy:  0.942873\n",
      "Epoch:  125 Loss:  0.203773 Valid accuracy:  0.946681\n",
      "Epoch:  130 Loss:  0.174795 Valid accuracy:  0.943961\n",
      "Epoch:  135 Loss:  0.189248 Valid accuracy:  0.947769\n",
      "Epoch:  140 Loss:  0.1584 Valid accuracy:  0.955386\n",
      "Epoch:  145 Loss:  0.185708 Valid accuracy:  0.944505\n"
     ]
    }
   ],
   "source": [
    "best_loss = np.infty\n",
    "epochs_without_progress = 0\n",
    "max_epochs_without_progress=100\n",
    "\n",
    "with tf.Session() as sess:\n",
    "    sess.run(init)\n",
    "    \n",
    "    for epoch in range(n_epochs):\n",
    "        for i in range(n_batches):\n",
    "            X_batch = X_train[i * batch_size:(i+1) * batch_size]\n",
    "            y_batch = y_train[i * batch_size:(i+1) * batch_size]\n",
    "            train_acc =  sess.run([training_op], feed_dict={X: X_batch, y: y_batch, training: True})\n",
    "    \n",
    "        if epoch % 5 == 0:\n",
    "            valid_acc, loss_val = sess.run([accuracy, loss], feed_dict={X: X_valid, y: y_valid})\n",
    "            print(\"Epoch: \", epoch, \"Loss: \", loss_val, \"Valid accuracy: \", valid_acc)\n",
    "            if np.around(loss_val, decimals=4) < best_loss:\n",
    "                saver.save(sess, \"./model/har_lstm_early_stopping_model.ckpt\")\n",
    "                best_loss = loss_val\n",
    "            else:\n",
    "                epochs_without_progress +=5\n",
    "                if epochs_without_progress > max_epochs_without_progress:\n",
    "                    break"
   ]
  },
  {
   "cell_type": "code",
   "execution_count": 62,
   "metadata": {
    "scrolled": false
   },
   "outputs": [
    {
     "name": "stdout",
     "output_type": "stream",
     "text": [
      "INFO:tensorflow:Restoring parameters from ./model/har_lstm_early_stopping_model.ckpt\n",
      "valid Accuracy:  0.949401\n",
      "Test Accuracy:  0.891754\n"
     ]
    }
   ],
   "source": [
    "with tf.Session() as sess:\n",
    "    saver.restore(sess, \"./model/har_lstm_early_stopping_model.ckpt\")\n",
    "    valid_acc = accuracy.eval(feed_dict={X: X_valid, y: y_valid})\n",
    "    test_acc = accuracy.eval(feed_dict={X: har_X_test, y: har_y_test})\n",
    "    print(\"valid Accuracy: \", valid_acc)\n",
    "    print(\"Test Accuracy: \", test_acc)"
   ]
  },
  {
   "cell_type": "code",
   "execution_count": null,
   "metadata": {
    "collapsed": true
   },
   "outputs": [],
   "source": []
  }
 ],
 "metadata": {
  "kernelspec": {
   "display_name": "Python 3",
   "language": "python",
   "name": "python3"
  },
  "language_info": {
   "codemirror_mode": {
    "name": "ipython",
    "version": 3
   },
   "file_extension": ".py",
   "mimetype": "text/x-python",
   "name": "python",
   "nbconvert_exporter": "python",
   "pygments_lexer": "ipython3",
   "version": "3.6.2"
  }
 },
 "nbformat": 4,
 "nbformat_minor": 2
}
