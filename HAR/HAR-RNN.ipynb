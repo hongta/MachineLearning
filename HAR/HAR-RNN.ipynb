{
 "cells": [
  {
   "cell_type": "code",
   "execution_count": 1,
   "metadata": {
    "collapsed": true
   },
   "outputs": [],
   "source": [
    "import numpy as np\n",
    "import os\n",
    "from utils.utilities import *\n",
    "from sklearn.model_selection import train_test_split\n",
    "import matplotlib.pyplot as plt\n",
    "%matplotlib inline"
   ]
  },
  {
   "cell_type": "code",
   "execution_count": 2,
   "metadata": {
    "collapsed": true
   },
   "outputs": [],
   "source": [
    "import tensorflow as tf"
   ]
  },
  {
   "cell_type": "code",
   "execution_count": 3,
   "metadata": {},
   "outputs": [
    {
     "name": "stdout",
     "output_type": "stream",
     "text": [
      "1.3.0\n"
     ]
    }
   ],
   "source": [
    "print(tf.__version__)"
   ]
  },
  {
   "cell_type": "markdown",
   "metadata": {},
   "source": [
    "## Load data"
   ]
  },
  {
   "cell_type": "code",
   "execution_count": 4,
   "metadata": {
    "collapsed": true
   },
   "outputs": [],
   "source": [
    "DATASET_PATH = \"./dataset/UCI HAR Dataset/\""
   ]
  },
  {
   "cell_type": "code",
   "execution_count": 5,
   "metadata": {
    "collapsed": true
   },
   "outputs": [],
   "source": [
    "INPUT_SIGNAL_TYPES = [\n",
    "    \"body_acc_x_\",\n",
    "    \"body_acc_y_\",\n",
    "    \"body_acc_z_\",\n",
    "    \"body_gyro_x_\",\n",
    "    \"body_gyro_y_\",\n",
    "    \"body_gyro_z_\",\n",
    "    \"total_acc_x_\",\n",
    "    \"total_acc_y_\",\n",
    "    \"total_acc_z_\"\n",
    "]"
   ]
  },
  {
   "cell_type": "code",
   "execution_count": 6,
   "metadata": {
    "collapsed": true
   },
   "outputs": [],
   "source": [
    "def load_X(X_signals_paths):\n",
    "    X_signals = []\n",
    "    \n",
    "    for signal_type_path in X_signals_paths:\n",
    "        with open(signal_type_path, \"r\") as f:\n",
    "            X_signals.append(\n",
    "                [np.array(serie, dtype=np.float32)\n",
    "                    for serie in [row.replace('  ', ' ').strip().split(' ') for row in f]]\n",
    "            )\n",
    "    return np.transpose(X_signals, (1, 2, 0))\n",
    "\n",
    "def load_y(y_path):\n",
    "\n",
    "    # Read dataset from disk, dealing with text file's syntax\n",
    "    with open(y_path, \"r\") as f:\n",
    "        y = np.array(\n",
    "            [elem for elem in [\n",
    "                row.replace('  ', ' ').strip().split(' ') for row in f\n",
    "            ]], \n",
    "            dtype=np.int32\n",
    "        )\n",
    "            \n",
    "    y = y.reshape(-1,)\n",
    "    # Substract 1 to each output class for friendly 0-based indexing \n",
    "    return y - 1"
   ]
  },
  {
   "cell_type": "code",
   "execution_count": 7,
   "metadata": {
    "collapsed": true
   },
   "outputs": [],
   "source": [
    "X_train_signals_paths = [\n",
    "    DATASET_PATH + \"train/Inertial Signals/\" + signal + \"train.txt\" for signal in INPUT_SIGNAL_TYPES\n",
    "]\n",
    "X_test_signals_paths = [\n",
    "    DATASET_PATH + \"test/Inertial Signals/\" + signal + \"test.txt\" for signal in INPUT_SIGNAL_TYPES\n",
    "]"
   ]
  },
  {
   "cell_type": "code",
   "execution_count": 8,
   "metadata": {
    "collapsed": true
   },
   "outputs": [],
   "source": [
    "har_X_train = load_X(X_train_signals_paths)\n",
    "har_X_test = load_X(X_test_signals_paths)"
   ]
  },
  {
   "cell_type": "code",
   "execution_count": 9,
   "metadata": {
    "collapsed": true
   },
   "outputs": [],
   "source": [
    "y_train_path = DATASET_PATH + \"train/y_train.txt\"\n",
    "y_test_path = DATASET_PATH + \"test/y_test.txt\""
   ]
  },
  {
   "cell_type": "code",
   "execution_count": 10,
   "metadata": {
    "collapsed": true
   },
   "outputs": [],
   "source": [
    "har_y_train = load_y(y_train_path)\n",
    "har_y_test = load_y(y_test_path)"
   ]
  },
  {
   "cell_type": "markdown",
   "metadata": {},
   "source": [
    "## Prepare data"
   ]
  },
  {
   "cell_type": "code",
   "execution_count": 11,
   "metadata": {
    "collapsed": true
   },
   "outputs": [],
   "source": [
    "X_train, X_valid, y_train, y_valid = train_test_split(har_X_train, har_y_train, random_state=42)"
   ]
  },
  {
   "cell_type": "code",
   "execution_count": 12,
   "metadata": {
    "scrolled": false
   },
   "outputs": [
    {
     "data": {
      "text/plain": [
       "((5514, 128, 9), (5514,))"
      ]
     },
     "execution_count": 12,
     "metadata": {},
     "output_type": "execute_result"
    }
   ],
   "source": [
    "X_train.shape, y_train.shape"
   ]
  },
  {
   "cell_type": "code",
   "execution_count": 13,
   "metadata": {
    "collapsed": true
   },
   "outputs": [],
   "source": [
    "X_train = np.transpose(X_train, (0, 2, 1))\n",
    "X_valid = np.transpose(X_valid, (0, 2, 1))\n",
    "har_X_test = np.transpose(har_X_test, (0, 2, 1))"
   ]
  },
  {
   "cell_type": "code",
   "execution_count": 14,
   "metadata": {
    "scrolled": false
   },
   "outputs": [
    {
     "data": {
      "text/plain": [
       "((5514, 9, 128), (5514,))"
      ]
     },
     "execution_count": 14,
     "metadata": {},
     "output_type": "execute_result"
    }
   ],
   "source": [
    "X_train.shape, y_train.shape"
   ]
  },
  {
   "cell_type": "markdown",
   "metadata": {},
   "source": [
    "# Build RNN model"
   ]
  },
  {
   "cell_type": "markdown",
   "metadata": {},
   "source": [
    "## Hyperparameters"
   ]
  },
  {
   "cell_type": "code",
   "execution_count": 15,
   "metadata": {
    "collapsed": true
   },
   "outputs": [],
   "source": [
    "batch_size = 200\n",
    "n_epochs = 200\n",
    "learning_rate = 0.003\n",
    "\n",
    "seq_len = 128\n",
    "n_channels = 9\n",
    "n_neurons = 100\n",
    "n_layers = 3\n",
    "\n",
    "# outputs\n",
    "n_classes = 6"
   ]
  },
  {
   "cell_type": "code",
   "execution_count": 16,
   "metadata": {
    "collapsed": true
   },
   "outputs": [],
   "source": [
    "n_batches = X_train.shape[0] // batch_size"
   ]
  },
  {
   "cell_type": "markdown",
   "metadata": {},
   "source": [
    "## a simple Basic RNN model"
   ]
  },
  {
   "cell_type": "code",
   "execution_count": 17,
   "metadata": {
    "collapsed": true
   },
   "outputs": [],
   "source": [
    "tf.reset_default_graph()\n",
    "tf.set_random_seed(73)\n",
    "np.random.seed(73)\n",
    "\n",
    "X = tf.placeholder(tf.float32, (None, n_channels, seq_len), name=\"X\")\n",
    "y = tf.placeholder(tf.int32, (None), name=\"y\")\n",
    "\n",
    "# is in training phase\n",
    "training = tf.placeholder_with_default(False, shape=(), name=\"training\")\n"
   ]
  },
  {
   "cell_type": "code",
   "execution_count": 18,
   "metadata": {
    "collapsed": true,
    "scrolled": false
   },
   "outputs": [],
   "source": [
    "with tf.name_scope(\"rnn\"):\n",
    "    \n",
    "    basic_cell = tf.contrib.rnn.BasicRNNCell(num_units=n_neurons,\n",
    "                                             activation=tf.nn.relu)\n",
    "    outputs, states = tf.nn.dynamic_rnn(basic_cell, X, dtype=tf.float32)\n",
    "    \n",
    "    # only one RNN cell, the shape of states is (None, n_neurons)\n",
    "    #states_concat = tf.concat(axis=1, values=states)\n",
    "    logits = tf.layers.dense(states, n_classes)"
   ]
  },
  {
   "cell_type": "code",
   "execution_count": 19,
   "metadata": {
    "collapsed": true
   },
   "outputs": [],
   "source": [
    "with tf.name_scope(\"loss\"):\n",
    "    xentropy = tf.nn.sparse_softmax_cross_entropy_with_logits(logits=logits, labels=y)\n",
    "    loss = tf.reduce_mean(xentropy, name=\"loss\")"
   ]
  },
  {
   "cell_type": "code",
   "execution_count": 20,
   "metadata": {
    "collapsed": true
   },
   "outputs": [],
   "source": [
    "with tf.name_scope(\"train\"):\n",
    "    optimizer = tf.train.AdamOptimizer(learning_rate=learning_rate)\n",
    "    training_op = optimizer.minimize(loss)"
   ]
  },
  {
   "cell_type": "code",
   "execution_count": 21,
   "metadata": {
    "collapsed": true
   },
   "outputs": [],
   "source": [
    "with tf.name_scope(\"eval\"):\n",
    "    #correct = tf.equal(tf.argmax(logits, 1), tf.argmax(y, 1))\n",
    "    correct = tf.nn.in_top_k(logits, y, 1)\n",
    "    accuracy = tf.reduce_mean(tf.cast(correct, tf.float32), name=\"accuracy\")"
   ]
  },
  {
   "cell_type": "code",
   "execution_count": 22,
   "metadata": {
    "collapsed": true
   },
   "outputs": [],
   "source": [
    "init = tf.global_variables_initializer()\n",
    "saver = tf.train.Saver()"
   ]
  },
  {
   "cell_type": "code",
   "execution_count": 23,
   "metadata": {
    "scrolled": false
   },
   "outputs": [
    {
     "name": "stdout",
     "output_type": "stream",
     "text": [
      "Epoch:  0 Loss: 0.507086 Valid accuracy:  0.781828\n",
      "Epoch:  10 Loss: 0.203461 Valid accuracy:  0.926551\n",
      "Epoch:  20 Loss: 0.189832 Valid accuracy:  0.926007\n",
      "Epoch:  30 Loss: 0.210398 Valid accuracy:  0.927639\n",
      "Epoch:  40 Loss: 0.147995 Valid accuracy:  0.945593\n",
      "Epoch:  50 Loss: 0.161578 Valid accuracy:  0.95049\n",
      "Epoch:  60 Loss: 0.205865 Valid accuracy:  0.945593\n",
      "Epoch:  70 Loss: 0.174509 Valid accuracy:  0.949946\n",
      "Epoch:  80 Loss: 0.187571 Valid accuracy:  0.951578\n",
      "Epoch:  90 Loss: 0.31176 Valid accuracy:  0.92111\n",
      "Epoch:  100 Loss: 0.159375 Valid accuracy:  0.959195\n",
      "Epoch:  110 Loss: 0.208423 Valid accuracy:  0.960283\n",
      "Epoch:  120 Loss: 0.191918 Valid accuracy:  0.955386\n",
      "Epoch:  130 Loss: 0.220724 Valid accuracy:  0.960283\n",
      "Epoch:  140 Loss: 0.27311 Valid accuracy:  0.960283\n",
      "Epoch:  150 Loss: 0.300344 Valid accuracy:  0.959739\n",
      "Epoch:  160 Loss: 0.316955 Valid accuracy:  0.957563\n",
      "Epoch:  170 Loss: 0.330345 Valid accuracy:  0.958107\n",
      "Epoch:  180 Loss: 0.342931 Valid accuracy:  0.957018\n",
      "Epoch:  190 Loss: 0.354989 Valid accuracy:  0.956474\n"
     ]
    }
   ],
   "source": [
    "with tf.Session() as sess:\n",
    "    sess.run(init)\n",
    "    \n",
    "    for epoch in range(n_epochs):\n",
    "        for i in range(n_batches):\n",
    "            X_batch = X_train[i * batch_size:(i+1) * batch_size]\n",
    "            y_batch = y_train[i * batch_size:(i+1) * batch_size]\n",
    "            train_acc =  sess.run([training_op], feed_dict={X: X_batch, y: y_batch, training: True})\n",
    "        \n",
    "        if epoch % 10 == 0:\n",
    "            valid_acc, loss_val = sess.run([accuracy, loss], feed_dict={X: X_valid, y: y_valid})\n",
    "            print(\"Epoch: \", epoch,\"Loss:\", loss_val, \"Valid accuracy: \", valid_acc)\n",
    "    saver.save(sess, \"./model/har_first_rnn_model.ckpt\")"
   ]
  },
  {
   "cell_type": "code",
   "execution_count": 24,
   "metadata": {
    "scrolled": false
   },
   "outputs": [
    {
     "name": "stdout",
     "output_type": "stream",
     "text": [
      "INFO:tensorflow:Restoring parameters from ./model/har_first_rnn_model.ckpt\n",
      "valid Accuracy:  0.955386\n",
      "Test Accuracy:  0.908721\n"
     ]
    }
   ],
   "source": [
    "with tf.Session() as sess:\n",
    "    saver.restore(sess, \"./model/har_first_rnn_model.ckpt\")\n",
    "    valid_acc = accuracy.eval(feed_dict={X: X_valid, y: y_valid})\n",
    "    test_acc = accuracy.eval(feed_dict={X: har_X_test, y: har_y_test})\n",
    "    print(\"valid Accuracy: \", valid_acc)\n",
    "    print(\"Test Accuracy: \", test_acc)"
   ]
  },
  {
   "cell_type": "code",
   "execution_count": null,
   "metadata": {
    "collapsed": true
   },
   "outputs": [],
   "source": []
  },
  {
   "cell_type": "markdown",
   "metadata": {},
   "source": [
    "## Basic RNN model with dropout"
   ]
  },
  {
   "cell_type": "code",
   "execution_count": 25,
   "metadata": {
    "collapsed": true
   },
   "outputs": [],
   "source": [
    "tf.reset_default_graph()\n",
    "tf.set_random_seed(73)\n",
    "np.random.seed(73)\n",
    "\n",
    "X = tf.placeholder(tf.float32, (None, n_channels, seq_len), name=\"X\")\n",
    "y = tf.placeholder(tf.int32, (None), name=\"y\")\n",
    "\n",
    "# is in training phase\n",
    "training = tf.placeholder_with_default(False, shape=(), name=\"training\")\n"
   ]
  },
  {
   "cell_type": "code",
   "execution_count": 26,
   "metadata": {
    "collapsed": true,
    "scrolled": false
   },
   "outputs": [],
   "source": [
    "with tf.name_scope(\"rnn\"):\n",
    "    \n",
    "    basic_cell = tf.contrib.rnn.BasicRNNCell(num_units=n_neurons,\n",
    "                                             activation=tf.nn.relu)\n",
    "    drop_basic_cell = tf.contrib.rnn.DropoutWrapper(basic_cell, output_keep_prob=0.8)\n",
    "    outputs, states = tf.nn.dynamic_rnn(drop_basic_cell, X, dtype=tf.float32)\n",
    "    \n",
    "    # only one RNN cell, the shape of states is (None, n_neurons)\n",
    "    #states_concat = tf.concat(axis=1, values=states)\n",
    "    logits = tf.layers.dense(states, n_classes)"
   ]
  },
  {
   "cell_type": "code",
   "execution_count": 27,
   "metadata": {
    "collapsed": true
   },
   "outputs": [],
   "source": [
    "with tf.name_scope(\"loss\"):\n",
    "    xentropy = tf.nn.sparse_softmax_cross_entropy_with_logits(logits=logits, labels=y)\n",
    "    loss = tf.reduce_mean(xentropy, name=\"loss\")"
   ]
  },
  {
   "cell_type": "code",
   "execution_count": 28,
   "metadata": {
    "collapsed": true
   },
   "outputs": [],
   "source": [
    "with tf.name_scope(\"train\"):\n",
    "    optimizer = tf.train.AdamOptimizer(learning_rate=learning_rate)\n",
    "    training_op = optimizer.minimize(loss)"
   ]
  },
  {
   "cell_type": "code",
   "execution_count": 29,
   "metadata": {
    "collapsed": true
   },
   "outputs": [],
   "source": [
    "with tf.name_scope(\"eval\"):\n",
    "    #correct = tf.equal(tf.argmax(logits, 1), tf.argmax(y, 1))\n",
    "    correct = tf.nn.in_top_k(logits, y, 1)\n",
    "    accuracy = tf.reduce_mean(tf.cast(correct, tf.float32), name=\"accuracy\")"
   ]
  },
  {
   "cell_type": "code",
   "execution_count": 30,
   "metadata": {
    "collapsed": true
   },
   "outputs": [],
   "source": [
    "init = tf.global_variables_initializer()\n",
    "saver = tf.train.Saver()"
   ]
  },
  {
   "cell_type": "code",
   "execution_count": 31,
   "metadata": {
    "scrolled": false
   },
   "outputs": [
    {
     "name": "stdout",
     "output_type": "stream",
     "text": [
      "Epoch:  0 Loss: 0.514964 Valid accuracy:  0.774211\n",
      "Epoch:  10 Loss: 0.182779 Valid accuracy:  0.939064\n",
      "Epoch:  20 Loss: 0.142929 Valid accuracy:  0.949946\n",
      "Epoch:  30 Loss: 0.141336 Valid accuracy:  0.947225\n",
      "Epoch:  40 Loss: 0.180644 Valid accuracy:  0.945593\n",
      "Epoch:  50 Loss: 0.214971 Valid accuracy:  0.935256\n",
      "Epoch:  60 Loss: 0.173295 Valid accuracy:  0.955386\n",
      "Epoch:  70 Loss: 0.188844 Valid accuracy:  0.943417\n",
      "Epoch:  80 Loss: 0.190031 Valid accuracy:  0.957018\n",
      "Epoch:  90 Loss: 0.231158 Valid accuracy:  0.956474\n",
      "Epoch:  100 Loss: 0.211775 Valid accuracy:  0.961371\n",
      "Epoch:  110 Loss: 0.240163 Valid accuracy:  0.961371\n",
      "Epoch:  120 Loss: 0.265905 Valid accuracy:  0.960827\n",
      "Epoch:  130 Loss: 0.198752 Valid accuracy:  0.957563\n",
      "Epoch:  140 Loss: 0.289762 Valid accuracy:  0.944505\n",
      "Epoch:  150 Loss: 0.255943 Valid accuracy:  0.957018\n",
      "Epoch:  160 Loss: 0.309293 Valid accuracy:  0.939064\n",
      "Epoch:  170 Loss: 0.253106 Valid accuracy:  0.963003\n",
      "Epoch:  180 Loss: 0.230918 Valid accuracy:  0.967356\n",
      "Epoch:  190 Loss: 0.24953 Valid accuracy:  0.965724\n"
     ]
    }
   ],
   "source": [
    "with tf.Session() as sess:\n",
    "    sess.run(init)\n",
    "    \n",
    "    for epoch in range(n_epochs):\n",
    "        for i in range(n_batches):\n",
    "            X_batch = X_train[i * batch_size:(i+1) * batch_size]\n",
    "            y_batch = y_train[i * batch_size:(i+1) * batch_size]\n",
    "            train_acc =  sess.run([training_op], feed_dict={X: X_batch, y: y_batch, training: True})\n",
    "        \n",
    "        if epoch % 10 == 0:\n",
    "            valid_acc, loss_val = sess.run([accuracy, loss], feed_dict={X: X_valid, y: y_valid})\n",
    "            print(\"Epoch: \", epoch,\"Loss:\", loss_val, \"Valid accuracy: \", valid_acc)\n",
    "    saver.save(sess, \"./model/har_rnn_dropout_model.ckpt\")"
   ]
  },
  {
   "cell_type": "code",
   "execution_count": 32,
   "metadata": {
    "scrolled": false
   },
   "outputs": [
    {
     "name": "stdout",
     "output_type": "stream",
     "text": [
      "INFO:tensorflow:Restoring parameters from ./model/har_rnn_dropout_model.ckpt\n",
      "valid Accuracy:  0.96518\n",
      "Test Accuracy:  0.920937\n"
     ]
    }
   ],
   "source": [
    "with tf.Session() as sess:\n",
    "    saver.restore(sess, \"./model/har_rnn_dropout_model.ckpt\")\n",
    "    valid_acc = accuracy.eval(feed_dict={X: X_valid, y: y_valid})\n",
    "    test_acc = accuracy.eval(feed_dict={X: har_X_test, y: har_y_test})\n",
    "    print(\"valid Accuracy: \", valid_acc)\n",
    "    print(\"Test Accuracy: \", test_acc)"
   ]
  },
  {
   "cell_type": "code",
   "execution_count": null,
   "metadata": {
    "collapsed": true
   },
   "outputs": [],
   "source": []
  },
  {
   "cell_type": "markdown",
   "metadata": {},
   "source": [
    "# Three Basic RNN layers with  early stopping"
   ]
  },
  {
   "cell_type": "code",
   "execution_count": 33,
   "metadata": {
    "collapsed": true
   },
   "outputs": [],
   "source": [
    "# maximum number of epoch\n",
    "n_epochs=600"
   ]
  },
  {
   "cell_type": "code",
   "execution_count": 34,
   "metadata": {
    "collapsed": true
   },
   "outputs": [],
   "source": [
    "tf.reset_default_graph()\n",
    "tf.set_random_seed(73)\n",
    "np.random.seed(73)\n",
    "\n",
    "X = tf.placeholder(tf.float32, (None, n_channels, seq_len), name=\"X\")\n",
    "y = tf.placeholder(tf.int32, (None), name=\"y\")\n",
    "\n",
    "# is in training phase\n",
    "training = tf.placeholder_with_default(False, shape=(), name=\"training\")\n"
   ]
  },
  {
   "cell_type": "code",
   "execution_count": 35,
   "metadata": {
    "collapsed": true,
    "scrolled": false
   },
   "outputs": [],
   "source": [
    "with tf.name_scope(\"rnn\"):\n",
    "    \n",
    "\n",
    "    cells = [tf.contrib.rnn.BasicRNNCell(num_units=n_neurons, activation=tf.nn.relu)\n",
    "                 for _ in range(n_layers)]\n",
    "    \n",
    "    multi_cells = tf.contrib.rnn.MultiRNNCell(cells)\n",
    "   \n",
    "    outputs, states = tf.nn.dynamic_rnn(multi_cells, X, dtype=tf.float32)\n",
    "    top_layer_h_state = states[-1]\n",
    "    states_concat = tf.concat(axis=1, values=states)\n",
    "    logits = tf.layers.dense(top_layer_h_state, n_classes)"
   ]
  },
  {
   "cell_type": "code",
   "execution_count": 36,
   "metadata": {},
   "outputs": [
    {
     "data": {
      "text/plain": [
       "TensorShape([Dimension(None), Dimension(100)])"
      ]
     },
     "execution_count": 36,
     "metadata": {},
     "output_type": "execute_result"
    }
   ],
   "source": [
    "top_layer_h_state.shape"
   ]
  },
  {
   "cell_type": "code",
   "execution_count": 37,
   "metadata": {
    "collapsed": true
   },
   "outputs": [],
   "source": [
    "with tf.name_scope(\"loss\"):\n",
    "    xentropy = tf.nn.sparse_softmax_cross_entropy_with_logits(logits=logits, labels=y)\n",
    "    loss = tf.reduce_mean(xentropy, name=\"loss\")"
   ]
  },
  {
   "cell_type": "code",
   "execution_count": 38,
   "metadata": {
    "collapsed": true
   },
   "outputs": [],
   "source": [
    "with tf.name_scope(\"train\"):\n",
    "    optimizer = tf.train.AdamOptimizer(learning_rate=learning_rate)\n",
    "    training_op = optimizer.minimize(loss)"
   ]
  },
  {
   "cell_type": "code",
   "execution_count": 39,
   "metadata": {
    "collapsed": true
   },
   "outputs": [],
   "source": [
    "with tf.name_scope(\"eval\"):\n",
    "    #correct = tf.equal(tf.argmax(logits, 1), tf.argmax(y, 1))\n",
    "    correct = tf.nn.in_top_k(logits, y, 1)\n",
    "    accuracy = tf.reduce_mean(tf.cast(correct, tf.float32), name=\"accuracy\")"
   ]
  },
  {
   "cell_type": "code",
   "execution_count": 40,
   "metadata": {
    "collapsed": true
   },
   "outputs": [],
   "source": [
    "init = tf.global_variables_initializer()\n",
    "saver = tf.train.Saver()"
   ]
  },
  {
   "cell_type": "code",
   "execution_count": 41,
   "metadata": {
    "scrolled": false
   },
   "outputs": [
    {
     "name": "stdout",
     "output_type": "stream",
     "text": [
      "Epoch:  0 Loss:  0.47102 Valid accuracy:  0.793254\n",
      "Epoch:  5 Loss:  0.201861 Valid accuracy:  0.927639\n",
      "Epoch:  10 Loss:  0.16398 Valid accuracy:  0.945049\n",
      "Epoch:  15 Loss:  0.172413 Valid accuracy:  0.945049\n",
      "Epoch:  20 Loss:  0.186989 Valid accuracy:  0.940152\n",
      "Epoch:  25 Loss:  0.113493 Valid accuracy:  0.96518\n",
      "Epoch:  30 Loss:  0.168028 Valid accuracy:  0.958107\n",
      "Epoch:  35 Loss:  0.142219 Valid accuracy:  0.960827\n",
      "Epoch:  40 Loss:  0.130022 Valid accuracy:  0.967356\n",
      "Epoch:  45 Loss:  0.216629 Valid accuracy:  0.952666\n",
      "Epoch:  50 Loss:  0.195717 Valid accuracy:  0.95593\n",
      "Epoch:  55 Loss:  0.20686 Valid accuracy:  0.954842\n",
      "Epoch:  60 Loss:  0.181368 Valid accuracy:  0.965724\n",
      "Epoch:  65 Loss:  0.188134 Valid accuracy:  0.968444\n",
      "Epoch:  70 Loss:  0.207753 Valid accuracy:  0.964635\n",
      "Epoch:  75 Loss:  0.224124 Valid accuracy:  0.964091\n",
      "Epoch:  80 Loss:  0.232567 Valid accuracy:  0.964091\n",
      "Epoch:  85 Loss:  0.23896 Valid accuracy:  0.963547\n",
      "Epoch:  90 Loss:  0.244448 Valid accuracy:  0.963547\n",
      "Epoch:  95 Loss:  0.249315 Valid accuracy:  0.963547\n",
      "Epoch:  100 Loss:  0.253623 Valid accuracy:  0.963547\n",
      "Epoch:  105 Loss:  0.257701 Valid accuracy:  0.963547\n",
      "Epoch:  110 Loss:  0.26149 Valid accuracy:  0.963003\n",
      "Epoch:  115 Loss:  0.264949 Valid accuracy:  0.963003\n",
      "Epoch:  120 Loss:  0.268259 Valid accuracy:  0.963003\n",
      "Epoch:  125 Loss:  0.271427 Valid accuracy:  0.964091\n",
      "Epoch:  130 Loss:  0.274458 Valid accuracy:  0.964091\n",
      "Epoch:  135 Loss:  0.277434 Valid accuracy:  0.964091\n",
      "Epoch:  140 Loss:  0.280318 Valid accuracy:  0.964635\n",
      "Epoch:  145 Loss:  0.283211 Valid accuracy:  0.96518\n",
      "Epoch:  150 Loss:  0.286057 Valid accuracy:  0.96518\n",
      "Epoch:  155 Loss:  0.288771 Valid accuracy:  0.96518\n",
      "Epoch:  160 Loss:  0.291473 Valid accuracy:  0.96518\n",
      "Epoch:  165 Loss:  0.294102 Valid accuracy:  0.96518\n",
      "Epoch:  170 Loss:  0.296637 Valid accuracy:  0.96518\n"
     ]
    }
   ],
   "source": [
    "best_loss = np.infty\n",
    "epochs_without_progress = 0\n",
    "max_epochs_without_progress=150\n",
    "\n",
    "with tf.Session() as sess:\n",
    "    sess.run(init)\n",
    "    \n",
    "    for epoch in range(n_epochs):\n",
    "        for i in range(n_batches):\n",
    "            X_batch = X_train[i * batch_size:(i+1) * batch_size]\n",
    "            y_batch = y_train[i * batch_size:(i+1) * batch_size]\n",
    "            train_acc =  sess.run([training_op], feed_dict={X: X_batch, y: y_batch, training: True})\n",
    "    \n",
    "        if epoch % 5 == 0:\n",
    "            valid_acc, loss_val = sess.run([accuracy, loss], feed_dict={X: X_valid, y: y_valid})\n",
    "            print(\"Epoch: \", epoch, \"Loss: \", loss_val, \"Valid accuracy: \", valid_acc)\n",
    "            if np.around(loss_val, decimals=4) < best_loss:\n",
    "                saver.save(sess, \"./model/har_basic_rnn_early_stopping_model.ckpt\")\n",
    "                best_loss = loss_val\n",
    "            else:\n",
    "                epochs_without_progress +=5\n",
    "                if epochs_without_progress > max_epochs_without_progress:\n",
    "                    break"
   ]
  },
  {
   "cell_type": "code",
   "execution_count": 42,
   "metadata": {
    "scrolled": true
   },
   "outputs": [
    {
     "name": "stdout",
     "output_type": "stream",
     "text": [
      "INFO:tensorflow:Restoring parameters from ./model/har_basic_rnn_early_stopping_model.ckpt\n",
      "valid Accuracy:  0.96518\n",
      "Test Accuracy:  0.917883\n"
     ]
    }
   ],
   "source": [
    "with tf.Session() as sess:\n",
    "    saver.restore(sess, \"./model/har_basic_rnn_early_stopping_model.ckpt\")\n",
    "    valid_acc = accuracy.eval(feed_dict={X: X_valid, y: y_valid})\n",
    "    test_acc = accuracy.eval(feed_dict={X: har_X_test, y: har_y_test})\n",
    "    print(\"valid Accuracy: \", valid_acc)\n",
    "    print(\"Test Accuracy: \", test_acc)"
   ]
  },
  {
   "cell_type": "markdown",
   "metadata": {},
   "source": [
    "## Bi-directional Basic RNN"
   ]
  },
  {
   "cell_type": "code",
   "execution_count": 43,
   "metadata": {
    "collapsed": true
   },
   "outputs": [],
   "source": [
    "n_epochs=200"
   ]
  },
  {
   "cell_type": "code",
   "execution_count": 44,
   "metadata": {
    "collapsed": true
   },
   "outputs": [],
   "source": [
    "tf.reset_default_graph()\n",
    "tf.set_random_seed(73)\n",
    "np.random.seed(73)\n",
    "\n",
    "X = tf.placeholder(tf.float32, (None, n_channels, seq_len), name=\"X\")\n",
    "y = tf.placeholder(tf.int32, (None), name=\"y\")\n",
    "\n",
    "# is in training phase\n",
    "training = tf.placeholder_with_default(False, shape=(), name=\"training\")\n"
   ]
  },
  {
   "cell_type": "code",
   "execution_count": 45,
   "metadata": {
    "collapsed": true,
    "scrolled": false
   },
   "outputs": [],
   "source": [
    "with tf.name_scope(\"rnn\"):\n",
    "    \n",
    "    fw_cells = [tf.contrib.rnn.BasicRNNCell(num_units=n_neurons,\n",
    "                                                 activation=tf.nn.relu)\n",
    "                         for _ in range(n_layers)]\n",
    "    \n",
    "    bw_cells = [tf.contrib.rnn.BasicRNNCell(num_units=n_neurons,\n",
    "                                                 activation=tf.nn.relu)\n",
    "                         for _ in range(n_layers)]\n",
    "    multi_fw_cells = tf.contrib.rnn.MultiRNNCell(fw_cells)\n",
    "    multi_bw_cells = tf.contrib.rnn.MultiRNNCell(bw_cells)\n",
    "        \n",
    "    outputs, states = tf.nn.bidirectional_dynamic_rnn(multi_fw_cells, multi_bw_cells, X, dtype=tf.float32)\n",
    "    top_layer_h_state = states[-1][-1]\n",
    "    states_concat = tf.concat(axis=1, values=states)\n",
    "    logits = tf.layers.dense(top_layer_h_state, n_classes)"
   ]
  },
  {
   "cell_type": "code",
   "execution_count": 46,
   "metadata": {},
   "outputs": [
    {
     "data": {
      "text/plain": [
       "TensorShape([Dimension(None), Dimension(100)])"
      ]
     },
     "execution_count": 46,
     "metadata": {},
     "output_type": "execute_result"
    }
   ],
   "source": [
    "top_layer_h_state.shape"
   ]
  },
  {
   "cell_type": "code",
   "execution_count": 47,
   "metadata": {
    "collapsed": true
   },
   "outputs": [],
   "source": [
    "with tf.name_scope(\"loss\"):\n",
    "    xentropy = tf.nn.sparse_softmax_cross_entropy_with_logits(logits=logits, labels=y)\n",
    "    loss = tf.reduce_mean(xentropy, name=\"loss\")"
   ]
  },
  {
   "cell_type": "code",
   "execution_count": 48,
   "metadata": {
    "collapsed": true
   },
   "outputs": [],
   "source": [
    "with tf.name_scope(\"train\"):\n",
    "    optimizer = tf.train.AdamOptimizer(learning_rate=learning_rate)\n",
    "    training_op = optimizer.minimize(loss)"
   ]
  },
  {
   "cell_type": "code",
   "execution_count": 49,
   "metadata": {
    "collapsed": true
   },
   "outputs": [],
   "source": [
    "with tf.name_scope(\"eval\"):\n",
    "    #correct = tf.equal(tf.argmax(logits, 1), tf.argmax(y, 1))\n",
    "    correct = tf.nn.in_top_k(logits, y, 1)\n",
    "    accuracy = tf.reduce_mean(tf.cast(correct, tf.float32), name=\"accuracy\")"
   ]
  },
  {
   "cell_type": "code",
   "execution_count": 50,
   "metadata": {
    "collapsed": true
   },
   "outputs": [],
   "source": [
    "init = tf.global_variables_initializer()\n",
    "saver = tf.train.Saver()"
   ]
  },
  {
   "cell_type": "code",
   "execution_count": 51,
   "metadata": {
    "scrolled": true
   },
   "outputs": [
    {
     "name": "stdout",
     "output_type": "stream",
     "text": [
      "Epoch:  0 Loss: 0.544632 Valid accuracy:  0.767138\n",
      "Epoch:  10 Loss: 0.1603 Valid accuracy:  0.931447\n",
      "Epoch:  20 Loss: 0.160306 Valid accuracy:  0.947225\n",
      "Epoch:  30 Loss: 0.163517 Valid accuracy:  0.95321\n",
      "Epoch:  40 Loss: 0.165518 Valid accuracy:  0.955386\n",
      "Epoch:  50 Loss: 0.190788 Valid accuracy:  0.94124\n",
      "Epoch:  60 Loss: 0.1744 Valid accuracy:  0.960283\n",
      "Epoch:  70 Loss: 0.160103 Valid accuracy:  0.959195\n",
      "Epoch:  80 Loss: 0.19295 Valid accuracy:  0.964635\n",
      "Epoch:  90 Loss: 0.215903 Valid accuracy:  0.96518\n",
      "Epoch:  100 Loss: 0.157172 Valid accuracy:  0.96518\n",
      "Epoch:  110 Loss: 0.221274 Valid accuracy:  0.9679\n",
      "Epoch:  120 Loss: 0.24104 Valid accuracy:  0.966268\n",
      "Epoch:  130 Loss: 0.253817 Valid accuracy:  0.965724\n",
      "Epoch:  140 Loss: 0.263601 Valid accuracy:  0.96518\n",
      "Epoch:  150 Loss: 0.272024 Valid accuracy:  0.96518\n",
      "Epoch:  160 Loss: 0.279599 Valid accuracy:  0.965724\n",
      "Epoch:  170 Loss: 0.28653 Valid accuracy:  0.965724\n",
      "Epoch:  180 Loss: 0.293022 Valid accuracy:  0.965724\n",
      "Epoch:  190 Loss: 0.300593 Valid accuracy:  0.965724\n"
     ]
    }
   ],
   "source": [
    "with tf.Session() as sess:\n",
    "    sess.run(init)\n",
    "    \n",
    "    for epoch in range(n_epochs):\n",
    "        for i in range(n_batches):\n",
    "            X_batch = X_train[i * batch_size:(i+1) * batch_size]\n",
    "            y_batch = y_train[i * batch_size:(i+1) * batch_size]\n",
    "            train_acc =  sess.run([training_op], feed_dict={X: X_batch, y: y_batch, training: True})\n",
    "             \n",
    "        if epoch % 10 == 0:\n",
    "            \n",
    "            valid_acc, loss_val = sess.run([accuracy, loss], feed_dict={X: X_valid, y: y_valid})\n",
    "            print(\"Epoch: \", epoch,\"Loss:\", loss_val, \"Valid accuracy: \", valid_acc)\n",
    "    saver.save(sess, \"./model/har_rnn_model.ckpt\")"
   ]
  },
  {
   "cell_type": "code",
   "execution_count": 52,
   "metadata": {
    "scrolled": true
   },
   "outputs": [
    {
     "name": "stdout",
     "output_type": "stream",
     "text": [
      "INFO:tensorflow:Restoring parameters from ./model/har_rnn_model.ckpt\n",
      "valid Accuracy:  0.965724\n",
      "Test Accuracy:  0.900916\n"
     ]
    }
   ],
   "source": [
    "with tf.Session() as sess:\n",
    "    saver.restore(sess, \"./model/har_rnn_model.ckpt\")\n",
    "    valid_acc = accuracy.eval(feed_dict={X: X_valid, y: y_valid})\n",
    "    test_acc = accuracy.eval(feed_dict={X: har_X_test, y: har_y_test})\n",
    "    print(\"valid Accuracy: \", valid_acc)\n",
    "    print(\"Test Accuracy: \", test_acc)"
   ]
  },
  {
   "cell_type": "code",
   "execution_count": null,
   "metadata": {
    "collapsed": true
   },
   "outputs": [],
   "source": []
  },
  {
   "cell_type": "markdown",
   "metadata": {},
   "source": [
    "# Bi-directional Basic RNN with dropout and early stopping"
   ]
  },
  {
   "cell_type": "code",
   "execution_count": 53,
   "metadata": {
    "collapsed": true
   },
   "outputs": [],
   "source": [
    "n_epochs=600"
   ]
  },
  {
   "cell_type": "code",
   "execution_count": 54,
   "metadata": {
    "collapsed": true
   },
   "outputs": [],
   "source": [
    "tf.reset_default_graph()\n",
    "tf.set_random_seed(73)\n",
    "np.random.seed(73)\n",
    "\n",
    "X = tf.placeholder(tf.float32, (None, n_channels, seq_len), name=\"X\")\n",
    "y = tf.placeholder(tf.int32, (None), name=\"y\")\n",
    "\n",
    "# is in training phase\n",
    "training = tf.placeholder_with_default(False, shape=(), name=\"training\")\n"
   ]
  },
  {
   "cell_type": "code",
   "execution_count": 55,
   "metadata": {
    "collapsed": true,
    "scrolled": false
   },
   "outputs": [],
   "source": [
    "with tf.name_scope(\"rnn\"):\n",
    "    \n",
    "    fw_cells = [tf.contrib.rnn.DropoutWrapper(tf.contrib.rnn.BasicRNNCell(num_units=n_neurons, activation=tf.nn.relu),\n",
    "                                             output_keep_prob=0.8)\n",
    "                   for _ in range(n_layers)]\n",
    "    bw_cells = [tf.contrib.rnn.DropoutWrapper(tf.contrib.rnn.BasicRNNCell(num_units=n_neurons, activation=tf.nn.relu),\n",
    "                                             output_keep_prob=0.8)\n",
    "                   for _ in range(n_layers)]\n",
    "    \n",
    "    multi_fw_cells = tf.contrib.rnn.MultiRNNCell(fw_cells)\n",
    "    multi_bw_cells = tf.contrib.rnn.MultiRNNCell(bw_cells)\n",
    "    \n",
    "    outputs, states = tf.nn.bidirectional_dynamic_rnn(multi_fw_cells, multi_bw_cells, X, dtype=tf.float32)\n",
    "    top_layer_h_state = states[-1][-1]\n",
    "    states_concat = tf.concat(axis=1, values=states)\n",
    "    logits = tf.layers.dense(top_layer_h_state, n_classes)"
   ]
  },
  {
   "cell_type": "code",
   "execution_count": 56,
   "metadata": {},
   "outputs": [
    {
     "data": {
      "text/plain": [
       "TensorShape([Dimension(None), Dimension(100)])"
      ]
     },
     "execution_count": 56,
     "metadata": {},
     "output_type": "execute_result"
    }
   ],
   "source": [
    "top_layer_h_state.shape"
   ]
  },
  {
   "cell_type": "code",
   "execution_count": 57,
   "metadata": {
    "collapsed": true
   },
   "outputs": [],
   "source": [
    "with tf.name_scope(\"loss\"):\n",
    "    xentropy = tf.nn.sparse_softmax_cross_entropy_with_logits(logits=logits, labels=y)\n",
    "    loss = tf.reduce_mean(xentropy, name=\"loss\")"
   ]
  },
  {
   "cell_type": "code",
   "execution_count": 58,
   "metadata": {
    "collapsed": true
   },
   "outputs": [],
   "source": [
    "with tf.name_scope(\"train\"):\n",
    "    optimizer = tf.train.AdamOptimizer(learning_rate=learning_rate)\n",
    "    training_op = optimizer.minimize(loss)"
   ]
  },
  {
   "cell_type": "code",
   "execution_count": 59,
   "metadata": {
    "collapsed": true
   },
   "outputs": [],
   "source": [
    "with tf.name_scope(\"eval\"):\n",
    "    #correct = tf.equal(tf.argmax(logits, 1), tf.argmax(y, 1))\n",
    "    correct = tf.nn.in_top_k(logits, y, 1)\n",
    "    accuracy = tf.reduce_mean(tf.cast(correct, tf.float32), name=\"accuracy\")"
   ]
  },
  {
   "cell_type": "code",
   "execution_count": 60,
   "metadata": {
    "collapsed": true
   },
   "outputs": [],
   "source": [
    "init = tf.global_variables_initializer()\n",
    "saver = tf.train.Saver()"
   ]
  },
  {
   "cell_type": "code",
   "execution_count": 61,
   "metadata": {
    "scrolled": false
   },
   "outputs": [
    {
     "name": "stdout",
     "output_type": "stream",
     "text": [
      "Epoch:  0 Loss:  0.660713 Valid accuracy:  0.647987\n",
      "Epoch:  5 Loss:  0.231613 Valid accuracy:  0.912405\n",
      "Epoch:  10 Loss:  0.161311 Valid accuracy:  0.940696\n",
      "Epoch:  15 Loss:  0.202107 Valid accuracy:  0.934168\n",
      "Epoch:  20 Loss:  0.156147 Valid accuracy:  0.946137\n",
      "Epoch:  25 Loss:  0.144424 Valid accuracy:  0.951034\n",
      "Epoch:  30 Loss:  0.22227 Valid accuracy:  0.933623\n",
      "Epoch:  35 Loss:  0.124664 Valid accuracy:  0.952666\n",
      "Epoch:  40 Loss:  0.146628 Valid accuracy:  0.952122\n",
      "Epoch:  45 Loss:  0.184355 Valid accuracy:  0.952122\n",
      "Epoch:  50 Loss:  0.179646 Valid accuracy:  0.946681\n",
      "Epoch:  55 Loss:  0.140168 Valid accuracy:  0.963003\n",
      "Epoch:  60 Loss:  0.200739 Valid accuracy:  0.952122\n",
      "Epoch:  65 Loss:  0.164068 Valid accuracy:  0.953754\n",
      "Epoch:  70 Loss:  0.165173 Valid accuracy:  0.958651\n",
      "Epoch:  75 Loss:  0.196786 Valid accuracy:  0.952122\n",
      "Epoch:  80 Loss:  0.137225 Valid accuracy:  0.960827\n",
      "Epoch:  85 Loss:  0.226055 Valid accuracy:  0.949401\n",
      "Epoch:  90 Loss:  0.202783 Valid accuracy:  0.946681\n",
      "Epoch:  95 Loss:  0.123263 Valid accuracy:  0.964635\n",
      "Epoch:  100 Loss:  0.151902 Valid accuracy:  0.96518\n",
      "Epoch:  105 Loss:  0.154406 Valid accuracy:  0.959739\n",
      "Epoch:  110 Loss:  0.184867 Valid accuracy:  0.952666\n",
      "Epoch:  115 Loss:  0.168698 Valid accuracy:  0.958651\n",
      "Epoch:  120 Loss:  0.203932 Valid accuracy:  0.956474\n",
      "Epoch:  125 Loss:  0.156476 Valid accuracy:  0.946681\n",
      "Epoch:  130 Loss:  0.206704 Valid accuracy:  0.956474\n",
      "Epoch:  135 Loss:  0.276966 Valid accuracy:  0.955386\n"
     ]
    }
   ],
   "source": [
    "best_loss = np.infty\n",
    "epochs_without_progress = 0\n",
    "max_epochs_without_progress=100\n",
    "\n",
    "with tf.Session() as sess:\n",
    "    sess.run(init)\n",
    "    \n",
    "    for epoch in range(n_epochs):\n",
    "        for i in range(n_batches):\n",
    "            X_batch = X_train[i * batch_size:(i+1) * batch_size]\n",
    "            y_batch = y_train[i * batch_size:(i+1) * batch_size]\n",
    "            train_acc =  sess.run([training_op], feed_dict={X: X_batch, y: y_batch, training: True})\n",
    "    \n",
    "        if epoch % 5 == 0:\n",
    "            valid_acc, loss_val = sess.run([accuracy, loss], feed_dict={X: X_valid, y: y_valid})\n",
    "            print(\"Epoch: \", epoch, \"Loss: \", loss_val, \"Valid accuracy: \", valid_acc)\n",
    "            if np.around(loss_val, decimals=4) < best_loss:\n",
    "                saver.save(sess, \"./model/har_rnn_early_stopping_model.ckpt\")\n",
    "                best_loss = loss_val\n",
    "            else:\n",
    "                epochs_without_progress +=5\n",
    "                if epochs_without_progress > max_epochs_without_progress:\n",
    "                    break"
   ]
  },
  {
   "cell_type": "code",
   "execution_count": 62,
   "metadata": {
    "scrolled": false
   },
   "outputs": [
    {
     "name": "stdout",
     "output_type": "stream",
     "text": [
      "INFO:tensorflow:Restoring parameters from ./model/har_rnn_early_stopping_model.ckpt\n",
      "valid Accuracy:  0.970076\n",
      "Test Accuracy:  0.904649\n"
     ]
    }
   ],
   "source": [
    "with tf.Session() as sess:\n",
    "    saver.restore(sess, \"./model/har_rnn_early_stopping_model.ckpt\")\n",
    "    valid_acc = accuracy.eval(feed_dict={X: X_valid, y: y_valid})\n",
    "    test_acc = accuracy.eval(feed_dict={X: har_X_test, y: har_y_test})\n",
    "    print(\"valid Accuracy: \", valid_acc)\n",
    "    print(\"Test Accuracy: \", test_acc)"
   ]
  },
  {
   "cell_type": "code",
   "execution_count": null,
   "metadata": {
    "collapsed": true
   },
   "outputs": [],
   "source": []
  }
 ],
 "metadata": {
  "kernelspec": {
   "display_name": "Python 3",
   "language": "python",
   "name": "python3"
  },
  "language_info": {
   "codemirror_mode": {
    "name": "ipython",
    "version": 3
   },
   "file_extension": ".py",
   "mimetype": "text/x-python",
   "name": "python",
   "nbconvert_exporter": "python",
   "pygments_lexer": "ipython3",
   "version": "3.6.2"
  }
 },
 "nbformat": 4,
 "nbformat_minor": 2
}
