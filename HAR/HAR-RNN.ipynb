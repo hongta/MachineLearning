{
 "cells": [
  {
   "cell_type": "code",
   "execution_count": 1,
   "metadata": {
    "collapsed": true
   },
   "outputs": [],
   "source": [
    "import numpy as np\n",
    "import os\n",
    "from utils.utilities import *\n",
    "from sklearn.model_selection import train_test_split\n",
    "import matplotlib.pyplot as plt\n",
    "%matplotlib inline"
   ]
  },
  {
   "cell_type": "code",
   "execution_count": 2,
   "metadata": {},
   "outputs": [],
   "source": [
    "import tensorflow as tf"
   ]
  },
  {
   "cell_type": "markdown",
   "metadata": {},
   "source": [
    "## Load data"
   ]
  },
  {
   "cell_type": "code",
   "execution_count": 3,
   "metadata": {
    "collapsed": true
   },
   "outputs": [],
   "source": [
    "DATASET_PATH = \"./dataset/UCI HAR Dataset/\""
   ]
  },
  {
   "cell_type": "code",
   "execution_count": 4,
   "metadata": {
    "collapsed": true
   },
   "outputs": [],
   "source": [
    "INPUT_SIGNAL_TYPES = [\n",
    "    \"body_acc_x_\",\n",
    "    \"body_acc_y_\",\n",
    "    \"body_acc_z_\",\n",
    "    \"body_gyro_x_\",\n",
    "    \"body_gyro_y_\",\n",
    "    \"body_gyro_z_\",\n",
    "    \"total_acc_x_\",\n",
    "    \"total_acc_y_\",\n",
    "    \"total_acc_z_\"\n",
    "]"
   ]
  },
  {
   "cell_type": "code",
   "execution_count": 5,
   "metadata": {
    "collapsed": true
   },
   "outputs": [],
   "source": [
    "def load_X(X_signals_paths):\n",
    "    X_signals = []\n",
    "    \n",
    "    for signal_type_path in X_signals_paths:\n",
    "        with open(signal_type_path, \"r\") as f:\n",
    "            X_signals.append(\n",
    "                [np.array(serie, dtype=np.float32)\n",
    "                    for serie in [row.replace('  ', ' ').strip().split(' ') for row in f]]\n",
    "            )\n",
    "    return np.transpose(X_signals, (1, 2, 0))\n",
    "\n",
    "def load_y(y_path):\n",
    "\n",
    "    # Read dataset from disk, dealing with text file's syntax\n",
    "    with open(y_path, \"r\") as f:\n",
    "        y = np.array(\n",
    "            [elem for elem in [\n",
    "                row.replace('  ', ' ').strip().split(' ') for row in f\n",
    "            ]], \n",
    "            dtype=np.int32\n",
    "        )\n",
    "            \n",
    "    y = y.reshape(-1,)\n",
    "    # Substract 1 to each output class for friendly 0-based indexing \n",
    "    return y - 1"
   ]
  },
  {
   "cell_type": "code",
   "execution_count": 6,
   "metadata": {
    "collapsed": true
   },
   "outputs": [],
   "source": [
    "X_train_signals_paths = [\n",
    "    DATASET_PATH + \"train/Inertial Signals/\" + signal + \"train.txt\" for signal in INPUT_SIGNAL_TYPES\n",
    "]\n",
    "X_test_signals_paths = [\n",
    "    DATASET_PATH + \"test/Inertial Signals/\" + signal + \"test.txt\" for signal in INPUT_SIGNAL_TYPES\n",
    "]"
   ]
  },
  {
   "cell_type": "code",
   "execution_count": 7,
   "metadata": {
    "collapsed": true
   },
   "outputs": [],
   "source": [
    "har_X_train = load_X(X_train_signals_paths)\n",
    "har_X_test = load_X(X_test_signals_paths)"
   ]
  },
  {
   "cell_type": "code",
   "execution_count": 8,
   "metadata": {
    "collapsed": true
   },
   "outputs": [],
   "source": [
    "y_train_path = DATASET_PATH + \"train/y_train.txt\"\n",
    "y_test_path = DATASET_PATH + \"test/y_test.txt\""
   ]
  },
  {
   "cell_type": "code",
   "execution_count": 9,
   "metadata": {
    "collapsed": true
   },
   "outputs": [],
   "source": [
    "har_y_train = load_y(y_train_path)\n",
    "har_y_test = load_y(y_test_path)"
   ]
  },
  {
   "cell_type": "markdown",
   "metadata": {},
   "source": [
    "## Prepare data"
   ]
  },
  {
   "cell_type": "code",
   "execution_count": 10,
   "metadata": {},
   "outputs": [],
   "source": [
    "X_train, X_valid, y_train, y_valid = train_test_split(har_X_train, har_y_train, stratify=har_y_train, random_state=42)"
   ]
  },
  {
   "cell_type": "code",
   "execution_count": 11,
   "metadata": {
    "scrolled": false
   },
   "outputs": [
    {
     "data": {
      "text/plain": [
       "((5514, 128, 9), (5514,))"
      ]
     },
     "execution_count": 11,
     "metadata": {},
     "output_type": "execute_result"
    }
   ],
   "source": [
    "X_train.shape, y_train.shape"
   ]
  },
  {
   "cell_type": "code",
   "execution_count": 12,
   "metadata": {
    "collapsed": true
   },
   "outputs": [],
   "source": [
    "X_train = np.transpose(X_train, (0, 2, 1))\n",
    "X_valid = np.transpose(X_valid, (0, 2, 1))\n",
    "har_X_test = np.transpose(har_X_test, (0, 2, 1))"
   ]
  },
  {
   "cell_type": "code",
   "execution_count": 13,
   "metadata": {
    "scrolled": false
   },
   "outputs": [
    {
     "data": {
      "text/plain": [
       "((5514, 9, 128), (5514,))"
      ]
     },
     "execution_count": 13,
     "metadata": {},
     "output_type": "execute_result"
    }
   ],
   "source": [
    "X_train.shape, y_train.shape"
   ]
  },
  {
   "cell_type": "markdown",
   "metadata": {},
   "source": [
    "# Build RNN model"
   ]
  },
  {
   "cell_type": "markdown",
   "metadata": {},
   "source": [
    "## Hyperparameters"
   ]
  },
  {
   "cell_type": "code",
   "execution_count": 14,
   "metadata": {
    "collapsed": true
   },
   "outputs": [],
   "source": [
    "batch_size = 60\n",
    "n_epochs = 100\n",
    "learning_rate = 0.0001\n",
    "\n",
    "seq_len = 128\n",
    "n_channels = 9\n",
    "n_neurons = 100\n",
    "n_layers = 3\n",
    "\n",
    "# outputs\n",
    "n_classes = 6"
   ]
  },
  {
   "cell_type": "markdown",
   "metadata": {},
   "source": [
    "## first RNN model"
   ]
  },
  {
   "cell_type": "code",
   "execution_count": 15,
   "metadata": {
    "collapsed": true
   },
   "outputs": [],
   "source": [
    "tf.reset_default_graph()\n",
    "tf.set_random_seed(73)\n",
    "np.random.seed(73)\n",
    "\n",
    "X = tf.placeholder(tf.float32, (None, n_channels, seq_len), name=\"X\")\n",
    "y = tf.placeholder(tf.int32, (None), name=\"y\")\n",
    "\n",
    "# is in training phase\n",
    "training = tf.placeholder_with_default(False, shape=(), name=\"training\")\n"
   ]
  },
  {
   "cell_type": "code",
   "execution_count": 16,
   "metadata": {
    "collapsed": true,
    "scrolled": false
   },
   "outputs": [],
   "source": [
    "with tf.name_scope(\"rnn\"):\n",
    "    \n",
    "    # Convolutional layers\n",
    "    basic_cell = tf.contrib.rnn.BasicRNNCell(num_units=n_neurons,\n",
    "                                             activation=tf.nn.relu)\n",
    "    outputs, states = tf.nn.dynamic_rnn(basic_cell, X, dtype=tf.float32)\n",
    "    \n",
    "    # only one RNN cell, the shape of states is (None, n_neurons)\n",
    "    #states_concat = tf.concat(axis=1, values=states)\n",
    "    logits = tf.layers.dense(states, n_classes)"
   ]
  },
  {
   "cell_type": "code",
   "execution_count": 17,
   "metadata": {
    "collapsed": true
   },
   "outputs": [],
   "source": [
    "with tf.name_scope(\"loss\"):\n",
    "    xentropy = tf.nn.sparse_softmax_cross_entropy_with_logits(logits=logits, labels=y)\n",
    "    loss = tf.reduce_mean(xentropy, name=\"loss\")"
   ]
  },
  {
   "cell_type": "code",
   "execution_count": 18,
   "metadata": {
    "collapsed": true
   },
   "outputs": [],
   "source": [
    "with tf.name_scope(\"train\"):\n",
    "    optimizer = tf.train.AdamOptimizer(learning_rate=learning_rate)\n",
    "    training_op = optimizer.minimize(loss)"
   ]
  },
  {
   "cell_type": "code",
   "execution_count": 19,
   "metadata": {
    "collapsed": true
   },
   "outputs": [],
   "source": [
    "with tf.name_scope(\"eval\"):\n",
    "    #correct = tf.equal(tf.argmax(logits, 1), tf.argmax(y, 1))\n",
    "    correct = tf.nn.in_top_k(logits, y, 1)\n",
    "    accuracy = tf.reduce_mean(tf.cast(correct, tf.float32), name=\"accuracy\")"
   ]
  },
  {
   "cell_type": "code",
   "execution_count": 20,
   "metadata": {
    "collapsed": true
   },
   "outputs": [],
   "source": [
    "init = tf.global_variables_initializer()\n",
    "saver = tf.train.Saver()"
   ]
  },
  {
   "cell_type": "code",
   "execution_count": 21,
   "metadata": {
    "scrolled": false
   },
   "outputs": [
    {
     "name": "stdout",
     "output_type": "stream",
     "text": [
      "Epoch:  0 Valid accuracy:  0.583787\n",
      "Epoch:  10 Valid accuracy:  0.880849\n",
      "Epoch:  20 Valid accuracy:  0.908596\n",
      "Epoch:  30 Valid accuracy:  0.919478\n",
      "Epoch:  40 Valid accuracy:  0.923286\n",
      "Epoch:  50 Valid accuracy:  0.917301\n",
      "Epoch:  60 Valid accuracy:  0.917845\n",
      "Epoch:  70 Valid accuracy:  0.92111\n",
      "Epoch:  80 Valid accuracy:  0.934168\n",
      "Epoch:  90 Valid accuracy:  0.934712\n"
     ]
    }
   ],
   "source": [
    "with tf.Session() as sess:\n",
    "    sess.run(init)\n",
    "    \n",
    "    for epoch in range(n_epochs):\n",
    "        for X_batch, y_batch in get_batches(X_train, y_train, batch_size):\n",
    "            train_acc =  sess.run([training_op], feed_dict={X: X_batch, y: y_batch, training: True})\n",
    "        valid_acc = accuracy.eval(feed_dict={X: X_valid, y: y_valid})\n",
    "        \n",
    "        if epoch % 10 == 0:\n",
    "            print(\"Epoch: \", epoch, \"Valid accuracy: \", valid_acc)\n",
    "    saver.save(sess, \"./model/har_first_rnn_model.ckpt\")"
   ]
  },
  {
   "cell_type": "code",
   "execution_count": 22,
   "metadata": {
    "scrolled": true
   },
   "outputs": [
    {
     "name": "stdout",
     "output_type": "stream",
     "text": [
      "INFO:tensorflow:Restoring parameters from ./model/har_first_rnn_model.ckpt\n",
      "valid Accuracy:  0.935256\n",
      "Test Accuracy:  0.856464\n"
     ]
    }
   ],
   "source": [
    "with tf.Session() as sess:\n",
    "    saver.restore(sess, \"./model/har_first_rnn_model.ckpt\")\n",
    "    valid_acc = accuracy.eval(feed_dict={X: X_valid, y: y_valid})\n",
    "    test_acc = accuracy.eval(feed_dict={X: har_X_test, y: har_y_test})\n",
    "    print(\"valid Accuracy: \", valid_acc)\n",
    "    print(\"Test Accuracy: \", test_acc)"
   ]
  },
  {
   "cell_type": "markdown",
   "metadata": {},
   "source": [
    "## LSTM model"
   ]
  },
  {
   "cell_type": "code",
   "execution_count": 23,
   "metadata": {
    "collapsed": true
   },
   "outputs": [],
   "source": [
    "tf.reset_default_graph()\n",
    "tf.set_random_seed(73)\n",
    "np.random.seed(73)\n",
    "\n",
    "X = tf.placeholder(tf.float32, (None, n_channels, seq_len), name=\"X\")\n",
    "y = tf.placeholder(tf.int32, (None), name=\"y\")\n",
    "\n",
    "# is in training phase\n",
    "training = tf.placeholder_with_default(False, shape=(), name=\"training\")\n"
   ]
  },
  {
   "cell_type": "code",
   "execution_count": 24,
   "metadata": {
    "collapsed": true,
    "scrolled": false
   },
   "outputs": [],
   "source": [
    "with tf.name_scope(\"rnn\"):\n",
    "    \n",
    "    # Convolutional layers\n",
    "    lstm_cells = [tf.contrib.rnn.BasicLSTMCell(num_units=n_neurons,\n",
    "                                             activation=tf.nn.relu) \n",
    "                      for _ in range(n_layers)]\n",
    "    multi_cell = tf.contrib.rnn.MultiRNNCell(lstm_cells)\n",
    "    outputs, states = tf.nn.dynamic_rnn(multi_cell, X, dtype=tf.float32)\n",
    "    top_layer_h_state = states[-1][-1]\n",
    "    states_concat = tf.concat(axis=1, values=states)\n",
    "    logits = tf.layers.dense(top_layer_h_state, n_classes)"
   ]
  },
  {
   "cell_type": "code",
   "execution_count": 25,
   "metadata": {},
   "outputs": [
    {
     "data": {
      "text/plain": [
       "TensorShape([Dimension(None), Dimension(100)])"
      ]
     },
     "execution_count": 25,
     "metadata": {},
     "output_type": "execute_result"
    }
   ],
   "source": [
    "top_layer_h_state.shape"
   ]
  },
  {
   "cell_type": "code",
   "execution_count": 26,
   "metadata": {
    "collapsed": true
   },
   "outputs": [],
   "source": [
    "with tf.name_scope(\"loss\"):\n",
    "    xentropy = tf.nn.sparse_softmax_cross_entropy_with_logits(logits=logits, labels=y)\n",
    "    loss = tf.reduce_mean(xentropy, name=\"loss\")"
   ]
  },
  {
   "cell_type": "code",
   "execution_count": 27,
   "metadata": {
    "collapsed": true
   },
   "outputs": [],
   "source": [
    "with tf.name_scope(\"train\"):\n",
    "    optimizer = tf.train.AdamOptimizer(learning_rate=learning_rate)\n",
    "    training_op = optimizer.minimize(loss)"
   ]
  },
  {
   "cell_type": "code",
   "execution_count": 28,
   "metadata": {
    "collapsed": true
   },
   "outputs": [],
   "source": [
    "with tf.name_scope(\"eval\"):\n",
    "    #correct = tf.equal(tf.argmax(logits, 1), tf.argmax(y, 1))\n",
    "    correct = tf.nn.in_top_k(logits, y, 1)\n",
    "    accuracy = tf.reduce_mean(tf.cast(correct, tf.float32), name=\"accuracy\")"
   ]
  },
  {
   "cell_type": "code",
   "execution_count": 29,
   "metadata": {
    "collapsed": true
   },
   "outputs": [],
   "source": [
    "init = tf.global_variables_initializer()\n",
    "saver = tf.train.Saver()"
   ]
  },
  {
   "cell_type": "code",
   "execution_count": 30,
   "metadata": {
    "scrolled": true
   },
   "outputs": [
    {
     "name": "stdout",
     "output_type": "stream",
     "text": [
      "Epoch:  0 Valid accuracy:  0.326442\n",
      "Epoch:  10 Valid accuracy:  0.905332\n",
      "Epoch:  20 Valid accuracy:  0.917845\n",
      "Epoch:  30 Valid accuracy:  0.935256\n",
      "Epoch:  40 Valid accuracy:  0.944505\n",
      "Epoch:  50 Valid accuracy:  0.930359\n",
      "Epoch:  60 Valid accuracy:  0.944505\n",
      "Epoch:  70 Valid accuracy:  0.945593\n",
      "Epoch:  80 Valid accuracy:  0.944505\n",
      "Epoch:  90 Valid accuracy:  0.943417\n"
     ]
    }
   ],
   "source": [
    "with tf.Session() as sess:\n",
    "    sess.run(init)\n",
    "    \n",
    "    for epoch in range(n_epochs):\n",
    "        for X_batch, y_batch in get_batches(X_train, y_train, batch_size):\n",
    "            train_acc =  sess.run([training_op], feed_dict={X: X_batch, y: y_batch, training: True})\n",
    "        valid_acc = accuracy.eval(feed_dict={X: X_valid, y: y_valid})\n",
    "        \n",
    "        if epoch % 10 == 0:\n",
    "            print(\"Epoch: \", epoch, \"Valid accuracy: \", valid_acc)\n",
    "    saver.save(sess, \"./model/har_lstm_model.ckpt\")"
   ]
  },
  {
   "cell_type": "code",
   "execution_count": 31,
   "metadata": {},
   "outputs": [
    {
     "name": "stdout",
     "output_type": "stream",
     "text": [
      "INFO:tensorflow:Restoring parameters from ./model/har_lstm_model.ckpt\n",
      "valid Accuracy:  0.947225\n",
      "Test Accuracy:  0.892433\n"
     ]
    }
   ],
   "source": [
    "with tf.Session() as sess:\n",
    "    saver.restore(sess, \"./model/har_lstm_model.ckpt\")\n",
    "    valid_acc = accuracy.eval(feed_dict={X: X_valid, y: y_valid})\n",
    "    test_acc = accuracy.eval(feed_dict={X: har_X_test, y: har_y_test})\n",
    "    print(\"valid Accuracy: \", valid_acc)\n",
    "    print(\"Test Accuracy: \", test_acc)"
   ]
  },
  {
   "cell_type": "code",
   "execution_count": null,
   "metadata": {
    "collapsed": true
   },
   "outputs": [],
   "source": []
  }
 ],
 "metadata": {
  "kernelspec": {
   "display_name": "Python 3",
   "language": "python",
   "name": "python3"
  },
  "language_info": {
   "codemirror_mode": {
    "name": "ipython",
    "version": 3
   },
   "file_extension": ".py",
   "mimetype": "text/x-python",
   "name": "python",
   "nbconvert_exporter": "python",
   "pygments_lexer": "ipython3",
   "version": "3.6.2"
  }
 },
 "nbformat": 4,
 "nbformat_minor": 2
}
