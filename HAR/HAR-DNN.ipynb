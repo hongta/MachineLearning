{
 "cells": [
  {
   "cell_type": "code",
   "execution_count": 1,
   "metadata": {
    "collapsed": true
   },
   "outputs": [],
   "source": [
    "import numpy as np\n",
    "import os\n",
    "from utils.utilities import *\n",
    "from sklearn.model_selection import train_test_split\n",
    "import matplotlib.pyplot as plt\n",
    "%matplotlib inline"
   ]
  },
  {
   "cell_type": "code",
   "execution_count": 2,
   "metadata": {
    "collapsed": true
   },
   "outputs": [],
   "source": [
    "import tensorflow as tf"
   ]
  },
  {
   "cell_type": "markdown",
   "metadata": {},
   "source": [
    "## Prepare data"
   ]
  },
  {
   "cell_type": "code",
   "execution_count": 3,
   "metadata": {
    "collapsed": true
   },
   "outputs": [],
   "source": [
    "har_x_train, har_y_train, list_ch_train = read_data(data_path=\"./dataset/UCI HAR Dataset/\", split=\"train\") # train\n",
    "har_x_test, har_y_test, list_ch_test = read_data(data_path=\"./dataset/UCI HAR Dataset/\", split=\"train\") # test"
   ]
  },
  {
   "cell_type": "code",
   "execution_count": 4,
   "metadata": {
    "collapsed": true
   },
   "outputs": [],
   "source": [
    "X_train, X_valid, y_train, y_valid = train_test_split(har_x_train, har_y_train, stratify=har_y_train, random_state=42)"
   ]
  },
  {
   "cell_type": "code",
   "execution_count": 5,
   "metadata": {
    "scrolled": false
   },
   "outputs": [
    {
     "data": {
      "text/plain": [
       "((5514, 128, 9), (5514,))"
      ]
     },
     "execution_count": 5,
     "metadata": {},
     "output_type": "execute_result"
    }
   ],
   "source": [
    "X_train.shape, y_train.shape"
   ]
  },
  {
   "cell_type": "markdown",
   "metadata": {},
   "source": [
    "# Build DNN model"
   ]
  },
  {
   "cell_type": "markdown",
   "metadata": {},
   "source": [
    "## Hyperparameters"
   ]
  },
  {
   "cell_type": "code",
   "execution_count": 6,
   "metadata": {
    "collapsed": true
   },
   "outputs": [],
   "source": [
    "batch_size = 60\n",
    "seq_len = 128\n",
    "learning_rate = 0.01\n",
    "n_epochs = 100\n",
    "\n",
    "n_classes = 7 # from 1 - 6\n",
    "n_channels = 9"
   ]
  },
  {
   "cell_type": "markdown",
   "metadata": {},
   "source": [
    "reshape all data into 1D"
   ]
  },
  {
   "cell_type": "code",
   "execution_count": 7,
   "metadata": {},
   "outputs": [
    {
     "data": {
      "text/plain": [
       "((5514, 128, 9), (5514,))"
      ]
     },
     "execution_count": 7,
     "metadata": {},
     "output_type": "execute_result"
    }
   ],
   "source": [
    "X_train.shape, y_train.shape"
   ]
  },
  {
   "cell_type": "code",
   "execution_count": 8,
   "metadata": {
    "collapsed": true
   },
   "outputs": [],
   "source": [
    "X_train = X_train.reshape(-1, seq_len * n_channels)\n",
    "X_valid = X_valid.reshape(-1, seq_len * n_channels)\n",
    "har_x_test = har_x_test.reshape(-1, seq_len * n_channels)"
   ]
  },
  {
   "cell_type": "code",
   "execution_count": 9,
   "metadata": {},
   "outputs": [
    {
     "data": {
      "text/plain": [
       "((5514, 1152), (5514,))"
      ]
     },
     "execution_count": 9,
     "metadata": {},
     "output_type": "execute_result"
    }
   ],
   "source": [
    "X_train.shape, y_train.shape"
   ]
  },
  {
   "cell_type": "markdown",
   "metadata": {},
   "source": [
    "## the model"
   ]
  },
  {
   "cell_type": "code",
   "execution_count": 10,
   "metadata": {},
   "outputs": [],
   "source": [
    "tf.reset_default_graph()\n",
    "\n",
    "X = tf.placeholder(tf.float32, (None, seq_len * n_channels), name=\"X\")\n",
    "y = tf.placeholder(tf.int32, (None), name=\"y\")\n"
   ]
  },
  {
   "cell_type": "code",
   "execution_count": 11,
   "metadata": {
    "collapsed": true
   },
   "outputs": [],
   "source": [
    "with tf.name_scope(\"dnn\"):\n",
    "    \n",
    "    dense1 = tf.layers.dense(X, 300, activation=tf.nn.relu, name=\"dense1\")\n",
    "    dense2 = tf.layers.dense(dense1, 100, activation=tf.nn.relu, name=\"dense2\")\n",
    "    dense3 = tf.layers.dense(dense2, 50, activation=tf.nn.relu, name=\"dense3\")\n",
    "    \n",
    "    \n",
    "    #fc1 = tf.layers.dense(drop, 100)\n",
    "    #fc2 = tf.layers.dense(fc1, 100)\n",
    "    logits = tf.layers.dense(dense3, n_classes)\n",
    "    \n",
    "    "
   ]
  },
  {
   "cell_type": "code",
   "execution_count": 12,
   "metadata": {},
   "outputs": [
    {
     "data": {
      "text/plain": [
       "TensorShape([Dimension(None), Dimension(7)])"
      ]
     },
     "execution_count": 12,
     "metadata": {},
     "output_type": "execute_result"
    }
   ],
   "source": [
    "logits.get_shape()"
   ]
  },
  {
   "cell_type": "code",
   "execution_count": 13,
   "metadata": {
    "collapsed": true
   },
   "outputs": [],
   "source": [
    "with tf.name_scope(\"loss\"):\n",
    "    xentropy = tf.nn.sparse_softmax_cross_entropy_with_logits(logits=logits, labels=y)\n",
    "    loss = tf.reduce_mean(xentropy, name=\"loss\")"
   ]
  },
  {
   "cell_type": "code",
   "execution_count": 14,
   "metadata": {
    "collapsed": true
   },
   "outputs": [],
   "source": [
    "with tf.name_scope(\"train\"):\n",
    "    training_op = tf.train.AdamOptimizer(learning_rate=learning_rate).minimize(loss)"
   ]
  },
  {
   "cell_type": "code",
   "execution_count": 15,
   "metadata": {
    "collapsed": true
   },
   "outputs": [],
   "source": [
    "with tf.name_scope(\"eval\"):\n",
    "    #correct = tf.equal(tf.argmax(logits, 1), tf.argmax(y, 1))\n",
    "    correct = tf.nn.in_top_k(logits, y, 1)\n",
    "    accuracy = tf.reduce_mean(tf.cast(correct, tf.float32), name=\"accuracy\")"
   ]
  },
  {
   "cell_type": "code",
   "execution_count": 16,
   "metadata": {
    "collapsed": true
   },
   "outputs": [],
   "source": [
    "init = tf.global_variables_initializer()\n",
    "saver = tf.train.Saver()"
   ]
  },
  {
   "cell_type": "code",
   "execution_count": 17,
   "metadata": {
    "scrolled": false
   },
   "outputs": [
    {
     "name": "stdout",
     "output_type": "stream",
     "text": [
      "Epoch:  0 Valid accuracy:  0.861262\n",
      "Epoch:  1 Valid accuracy:  0.908052\n",
      "Epoch:  2 Valid accuracy:  0.875952\n",
      "Epoch:  3 Valid accuracy:  0.934712\n",
      "Epoch:  4 Valid accuracy:  0.942329\n",
      "Epoch:  5 Valid accuracy:  0.915125\n",
      "Epoch:  6 Valid accuracy:  0.92383\n",
      "Epoch:  7 Valid accuracy:  0.930903\n",
      "Epoch:  8 Valid accuracy:  0.930903\n",
      "Epoch:  9 Valid accuracy:  0.920022\n",
      "Epoch:  10 Valid accuracy:  0.87432\n",
      "Epoch:  11 Valid accuracy:  0.926551\n",
      "Epoch:  12 Valid accuracy:  0.945593\n",
      "Epoch:  13 Valid accuracy:  0.951578\n",
      "Epoch:  14 Valid accuracy:  0.949401\n",
      "Epoch:  15 Valid accuracy:  0.949401\n",
      "Epoch:  16 Valid accuracy:  0.945593\n",
      "Epoch:  17 Valid accuracy:  0.949401\n",
      "Epoch:  18 Valid accuracy:  0.949946\n",
      "Epoch:  19 Valid accuracy:  0.947769\n",
      "Epoch:  20 Valid accuracy:  0.949946\n",
      "Epoch:  21 Valid accuracy:  0.942873\n",
      "Epoch:  22 Valid accuracy:  0.921654\n",
      "Epoch:  23 Valid accuracy:  0.927095\n",
      "Epoch:  24 Valid accuracy:  0.922198\n",
      "Epoch:  25 Valid accuracy:  0.945049\n",
      "Epoch:  26 Valid accuracy:  0.942873\n",
      "Epoch:  27 Valid accuracy:  0.945593\n",
      "Epoch:  28 Valid accuracy:  0.952122\n",
      "Epoch:  29 Valid accuracy:  0.949401\n",
      "Epoch:  30 Valid accuracy:  0.956474\n",
      "Epoch:  31 Valid accuracy:  0.957563\n",
      "Epoch:  32 Valid accuracy:  0.960283\n",
      "Epoch:  33 Valid accuracy:  0.95593\n",
      "Epoch:  34 Valid accuracy:  0.95321\n",
      "Epoch:  35 Valid accuracy:  0.957563\n",
      "Epoch:  36 Valid accuracy:  0.960283\n",
      "Epoch:  37 Valid accuracy:  0.958651\n",
      "Epoch:  38 Valid accuracy:  0.947769\n",
      "Epoch:  39 Valid accuracy:  0.961371\n",
      "Epoch:  40 Valid accuracy:  0.952666\n",
      "Epoch:  41 Valid accuracy:  0.952122\n",
      "Epoch:  42 Valid accuracy:  0.954298\n",
      "Epoch:  43 Valid accuracy:  0.928727\n",
      "Epoch:  44 Valid accuracy:  0.928727\n",
      "Epoch:  45 Valid accuracy:  0.929815\n",
      "Epoch:  46 Valid accuracy:  0.944505\n",
      "Epoch:  47 Valid accuracy:  0.949401\n",
      "Epoch:  48 Valid accuracy:  0.947225\n",
      "Epoch:  49 Valid accuracy:  0.949401\n",
      "Epoch:  50 Valid accuracy:  0.940152\n",
      "Epoch:  51 Valid accuracy:  0.936888\n",
      "Epoch:  52 Valid accuracy:  0.949946\n",
      "Epoch:  53 Valid accuracy:  0.945593\n",
      "Epoch:  54 Valid accuracy:  0.949946\n",
      "Epoch:  55 Valid accuracy:  0.947225\n",
      "Epoch:  56 Valid accuracy:  0.954842\n",
      "Epoch:  57 Valid accuracy:  0.947769\n",
      "Epoch:  58 Valid accuracy:  0.949401\n",
      "Epoch:  59 Valid accuracy:  0.953754\n",
      "Epoch:  60 Valid accuracy:  0.951034\n",
      "Epoch:  61 Valid accuracy:  0.955386\n",
      "Epoch:  62 Valid accuracy:  0.948857\n",
      "Epoch:  63 Valid accuracy:  0.922742\n",
      "Epoch:  64 Valid accuracy:  0.931447\n",
      "Epoch:  65 Valid accuracy:  0.94124\n",
      "Epoch:  66 Valid accuracy:  0.930903\n",
      "Epoch:  67 Valid accuracy:  0.936344\n",
      "Epoch:  68 Valid accuracy:  0.951578\n",
      "Epoch:  69 Valid accuracy:  0.953754\n",
      "Epoch:  70 Valid accuracy:  0.948313\n",
      "Epoch:  71 Valid accuracy:  0.953754\n",
      "Epoch:  72 Valid accuracy:  0.954298\n",
      "Epoch:  73 Valid accuracy:  0.939608\n",
      "Epoch:  74 Valid accuracy:  0.951578\n",
      "Epoch:  75 Valid accuracy:  0.95321\n",
      "Epoch:  76 Valid accuracy:  0.95049\n",
      "Epoch:  77 Valid accuracy:  0.954298\n",
      "Epoch:  78 Valid accuracy:  0.95593\n",
      "Epoch:  79 Valid accuracy:  0.941785\n",
      "Epoch:  80 Valid accuracy:  0.917301\n",
      "Epoch:  81 Valid accuracy:  0.803047\n",
      "Epoch:  82 Valid accuracy:  0.87704\n",
      "Epoch:  83 Valid accuracy:  0.874864\n",
      "Epoch:  84 Valid accuracy:  0.925462\n",
      "Epoch:  85 Valid accuracy:  0.934168\n",
      "Epoch:  86 Valid accuracy:  0.931991\n",
      "Epoch:  87 Valid accuracy:  0.945593\n",
      "Epoch:  88 Valid accuracy:  0.942329\n",
      "Epoch:  89 Valid accuracy:  0.948857\n",
      "Epoch:  90 Valid accuracy:  0.949946\n",
      "Epoch:  91 Valid accuracy:  0.94124\n",
      "Epoch:  92 Valid accuracy:  0.942329\n",
      "Epoch:  93 Valid accuracy:  0.946137\n",
      "Epoch:  94 Valid accuracy:  0.949946\n",
      "Epoch:  95 Valid accuracy:  0.942873\n",
      "Epoch:  96 Valid accuracy:  0.951034\n",
      "Epoch:  97 Valid accuracy:  0.948857\n",
      "Epoch:  98 Valid accuracy:  0.949401\n",
      "Epoch:  99 Valid accuracy:  0.95321\n"
     ]
    }
   ],
   "source": [
    "with tf.Session() as sess:\n",
    "    sess.run(init)\n",
    "    \n",
    "    for epoch in range(n_epochs):\n",
    "        for X_batch, y_batch in get_batches(X_train, y_train, batch_size):\n",
    "            train_acc =  sess.run([training_op], feed_dict={X: X_batch, y: y_batch})\n",
    "        valid_acc = accuracy.eval(feed_dict={X: X_valid, y: y_valid})\n",
    "        \n",
    "        print(\"Epoch: \", epoch, \"Valid accuracy: \", valid_acc)\n",
    "    saver.save(sess, \"./model/har_cnn_model.ckpt\")"
   ]
  },
  {
   "cell_type": "code",
   "execution_count": 18,
   "metadata": {},
   "outputs": [
    {
     "name": "stdout",
     "output_type": "stream",
     "text": [
      "INFO:tensorflow:Restoring parameters from ./model/har_cnn_model.ckpt\n",
      "Test Accuracy:  0.960827\n"
     ]
    }
   ],
   "source": [
    "with tf.Session() as sess:\n",
    "    saver.restore(sess, \"./model/har_cnn_model.ckpt\")\n",
    "    test_acc = accuracy.eval(feed_dict={X: har_x_test, y: har_y_test})\n",
    "    print(\"Test Accuracy: \", test_acc)"
   ]
  },
  {
   "cell_type": "code",
   "execution_count": null,
   "metadata": {
    "collapsed": true
   },
   "outputs": [],
   "source": []
  }
 ],
 "metadata": {
  "kernelspec": {
   "display_name": "Python 3",
   "language": "python",
   "name": "python3"
  },
  "language_info": {
   "codemirror_mode": {
    "name": "ipython",
    "version": 3
   },
   "file_extension": ".py",
   "mimetype": "text/x-python",
   "name": "python",
   "nbconvert_exporter": "python",
   "pygments_lexer": "ipython3",
   "version": "3.5.3"
  }
 },
 "nbformat": 4,
 "nbformat_minor": 2
}
