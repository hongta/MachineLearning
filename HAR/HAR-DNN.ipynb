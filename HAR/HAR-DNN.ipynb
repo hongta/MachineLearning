{
 "cells": [
  {
   "cell_type": "code",
   "execution_count": 13,
   "metadata": {
    "collapsed": true
   },
   "outputs": [],
   "source": [
    "import numpy as np\n",
    "import os\n",
    "from utils.utilities import *\n",
    "from sklearn.model_selection import train_test_split\n",
    "import matplotlib.pyplot as plt\n",
    "%matplotlib inline"
   ]
  },
  {
   "cell_type": "code",
   "execution_count": 14,
   "metadata": {
    "collapsed": true
   },
   "outputs": [],
   "source": [
    "import tensorflow as tf"
   ]
  },
  {
   "cell_type": "markdown",
   "metadata": {},
   "source": [
    "## Load data"
   ]
  },
  {
   "cell_type": "code",
   "execution_count": 15,
   "metadata": {
    "collapsed": true
   },
   "outputs": [],
   "source": [
    "DATASET_PATH = \"./dataset/UCI HAR Dataset/\""
   ]
  },
  {
   "cell_type": "code",
   "execution_count": 16,
   "metadata": {
    "collapsed": true
   },
   "outputs": [],
   "source": [
    "INPUT_SIGNAL_TYPES = [\n",
    "    \"body_acc_x_\",\n",
    "    \"body_acc_y_\",\n",
    "    \"body_acc_z_\",\n",
    "    \"body_gyro_x_\",\n",
    "    \"body_gyro_y_\",\n",
    "    \"body_gyro_z_\",\n",
    "    \"total_acc_x_\",\n",
    "    \"total_acc_y_\",\n",
    "    \"total_acc_z_\"\n",
    "]"
   ]
  },
  {
   "cell_type": "code",
   "execution_count": 17,
   "metadata": {
    "collapsed": true
   },
   "outputs": [],
   "source": [
    "def load_X(X_signals_paths):\n",
    "    X_signals = []\n",
    "    \n",
    "    for signal_type_path in X_signals_paths:\n",
    "        with open(signal_type_path, \"r\") as f:\n",
    "            X_signals.append(\n",
    "                [np.array(serie, dtype=np.float32)\n",
    "                    for serie in [row.replace('  ', ' ').strip().split(' ') for row in f]]\n",
    "            )\n",
    "    return np.transpose(X_signals, (1, 2, 0))\n",
    "\n",
    "def load_y(y_path):\n",
    "\n",
    "    # Read dataset from disk, dealing with text file's syntax\n",
    "    with open(y_path, \"r\") as f:\n",
    "        y = np.array(\n",
    "            [elem for elem in [\n",
    "                row.replace('  ', ' ').strip().split(' ') for row in f\n",
    "            ]], \n",
    "            dtype=np.int32\n",
    "        )\n",
    "            \n",
    "    y = y.reshape(-1,)\n",
    "    # Substract 1 to each output class for friendly 0-based indexing \n",
    "    return y - 1"
   ]
  },
  {
   "cell_type": "code",
   "execution_count": 18,
   "metadata": {},
   "outputs": [],
   "source": [
    "X_train_signals_paths = [\n",
    "    DATASET_PATH + \"train/Inertial Signals/\" + signal + \"train.txt\" for signal in INPUT_SIGNAL_TYPES\n",
    "]\n",
    "X_test_signals_paths = [\n",
    "    DATASET_PATH + \"test/Inertial Signals/\" + signal + \"test.txt\" for signal in INPUT_SIGNAL_TYPES\n",
    "]"
   ]
  },
  {
   "cell_type": "code",
   "execution_count": 19,
   "metadata": {},
   "outputs": [],
   "source": [
    "har_X_train = load_X(X_train_signals_paths)\n",
    "har_X_test = load_X(X_test_signals_paths)"
   ]
  },
  {
   "cell_type": "code",
   "execution_count": 20,
   "metadata": {
    "collapsed": true
   },
   "outputs": [],
   "source": [
    "y_train_path = DATASET_PATH + \"train/y_train.txt\"\n",
    "y_test_path = DATASET_PATH + \"test/y_test.txt\""
   ]
  },
  {
   "cell_type": "code",
   "execution_count": 21,
   "metadata": {
    "collapsed": true
   },
   "outputs": [],
   "source": [
    "har_y_train = load_y(y_train_path)\n",
    "har_y_test = load_y(y_test_path)"
   ]
  },
  {
   "cell_type": "markdown",
   "metadata": {},
   "source": [
    "## Prepare data"
   ]
  },
  {
   "cell_type": "code",
   "execution_count": 22,
   "metadata": {
    "collapsed": true
   },
   "outputs": [],
   "source": [
    "seq_len = 128\n",
    "n_channels = 9"
   ]
  },
  {
   "cell_type": "code",
   "execution_count": 23,
   "metadata": {
    "scrolled": true
   },
   "outputs": [],
   "source": [
    "har_X_train = har_X_train.reshape(-1, seq_len * n_channels)\n",
    "har_X_test = har_X_test.reshape(-1, seq_len * n_channels)"
   ]
  },
  {
   "cell_type": "code",
   "execution_count": 24,
   "metadata": {},
   "outputs": [],
   "source": [
    "X_train, X_valid, y_train, y_valid = train_test_split(har_X_train, har_y_train,test_size=0.3, random_state=42)"
   ]
  },
  {
   "cell_type": "code",
   "execution_count": 45,
   "metadata": {
    "scrolled": false
   },
   "outputs": [
    {
     "data": {
      "text/plain": [
       "((5146, 1152), (5146,))"
      ]
     },
     "execution_count": 45,
     "metadata": {},
     "output_type": "execute_result"
    }
   ],
   "source": [
    "X_train.shape, y_train.shape"
   ]
  },
  {
   "cell_type": "code",
   "execution_count": 46,
   "metadata": {},
   "outputs": [
    {
     "data": {
      "text/plain": [
       "(2206, 1152)"
      ]
     },
     "execution_count": 46,
     "metadata": {},
     "output_type": "execute_result"
    }
   ],
   "source": [
    "X_valid.shape"
   ]
  },
  {
   "cell_type": "markdown",
   "metadata": {},
   "source": [
    "# Build DNN model"
   ]
  },
  {
   "cell_type": "markdown",
   "metadata": {},
   "source": [
    "## Hyperparameters"
   ]
  },
  {
   "cell_type": "code",
   "execution_count": 47,
   "metadata": {
    "collapsed": true
   },
   "outputs": [],
   "source": [
    "batch_size = 600\n",
    "learning_rate = 0.001\n",
    "n_epochs = 200\n",
    "\n",
    "# outputs\n",
    "n_classes = 6"
   ]
  },
  {
   "cell_type": "code",
   "execution_count": 27,
   "metadata": {
    "collapsed": true
   },
   "outputs": [],
   "source": [
    "n_batches = X_train.shape[0] // batch_size"
   ]
  },
  {
   "cell_type": "markdown",
   "metadata": {},
   "source": [
    "## the model"
   ]
  },
  {
   "cell_type": "code",
   "execution_count": 28,
   "metadata": {
    "collapsed": true
   },
   "outputs": [],
   "source": [
    "tf.reset_default_graph()\n",
    "\n",
    "X = tf.placeholder(tf.float32, (None, seq_len * n_channels), name=\"X\")\n",
    "y = tf.placeholder(tf.int32, (None), name=\"y\")\n"
   ]
  },
  {
   "cell_type": "code",
   "execution_count": 29,
   "metadata": {
    "collapsed": true
   },
   "outputs": [],
   "source": [
    "with tf.name_scope(\"dnn\"):\n",
    "    \n",
    "    dense1 = tf.layers.dense(X, 300, activation=tf.nn.relu, name=\"dense1\")\n",
    "    dense2 = tf.layers.dense(dense1, 100, activation=tf.nn.relu, name=\"dense2\")\n",
    "\n",
    "    logits = tf.layers.dense(dense2, n_classes)    "
   ]
  },
  {
   "cell_type": "code",
   "execution_count": 30,
   "metadata": {
    "collapsed": true
   },
   "outputs": [],
   "source": [
    "with tf.name_scope(\"loss\"):\n",
    "    xentropy = tf.nn.sparse_softmax_cross_entropy_with_logits(logits=logits, labels=y)\n",
    "    loss = tf.reduce_mean(xentropy, name=\"loss\")\n",
    "\n",
    "with tf.name_scope(\"train\"):\n",
    "    training_op = tf.train.AdamOptimizer(learning_rate=learning_rate).minimize(loss)\n",
    "\n",
    "with tf.name_scope(\"eval\"):\n",
    "    #correct = tf.equal(tf.argmax(logits, 1), tf.argmax(y, 1))\n",
    "    correct = tf.nn.in_top_k(logits, y, 1)\n",
    "    accuracy = tf.reduce_mean(tf.cast(correct, tf.float32), name=\"accuracy\")"
   ]
  },
  {
   "cell_type": "code",
   "execution_count": 31,
   "metadata": {},
   "outputs": [
    {
     "name": "stdout",
     "output_type": "stream",
     "text": [
      "Epoch:  0 Valid accuracy:  0.591115\n",
      "Epoch:  10 Valid accuracy:  0.93155\n",
      "Epoch:  20 Valid accuracy:  0.936083\n",
      "Epoch:  30 Valid accuracy:  0.93019\n",
      "Epoch:  40 Valid accuracy:  0.933363\n",
      "Epoch:  50 Valid accuracy:  0.940616\n",
      "Epoch:  60 Valid accuracy:  0.930644\n",
      "Epoch:  70 Valid accuracy:  0.93427\n",
      "Epoch:  80 Valid accuracy:  0.93291\n",
      "Epoch:  90 Valid accuracy:  0.940617\n",
      "Epoch:  100 Valid accuracy:  0.951496\n",
      "Epoch:  110 Valid accuracy:  0.94515\n",
      "Epoch:  120 Valid accuracy:  0.952403\n",
      "Epoch:  130 Valid accuracy:  0.94651\n",
      "Epoch:  140 Valid accuracy:  0.94651\n",
      "Epoch:  150 Valid accuracy:  0.94107\n",
      "Epoch:  160 Valid accuracy:  0.943336\n",
      "Epoch:  170 Valid accuracy:  0.941523\n",
      "Epoch:  180 Valid accuracy:  0.939257\n",
      "Epoch:  190 Valid accuracy:  0.940617\n"
     ]
    }
   ],
   "source": [
    "init = tf.global_variables_initializer()\n",
    "saver = tf.train.Saver()\n",
    "\n",
    "with tf.Session() as sess:\n",
    "    sess.run(init)\n",
    "    \n",
    "    for epoch in range(n_epochs):\n",
    "        shuffled_idx = np.random.permutation(X_train.shape[0])\n",
    "        X_random = X_train[shuffled_idx]\n",
    "        y_random = y_train[shuffled_idx]\n",
    "        for i in range(n_batches):\n",
    "            X_batch = X_random[i * batch_size:(i+1) * batch_size]\n",
    "            y_batch = y_random[i * batch_size:(i+1) * batch_size]\n",
    "            train_acc =  sess.run([training_op], feed_dict={X: X_batch, y: y_batch})\n",
    "        valid_acc = accuracy.eval(feed_dict={X: X_valid, y: y_valid})\n",
    "        \n",
    "        if epoch % 10 == 0:\n",
    "            print(\"Epoch: \", epoch, \"Valid accuracy: \", valid_acc)\n",
    "    saver.save(sess, \"./model/har_dnn_model.ckpt\")"
   ]
  },
  {
   "cell_type": "code",
   "execution_count": 32,
   "metadata": {},
   "outputs": [
    {
     "name": "stdout",
     "output_type": "stream",
     "text": [
      "INFO:tensorflow:Restoring parameters from ./model/har_dnn_model.ckpt\n",
      "Valid accuracy:  0.93291\n",
      "Test Accuracy:  0.858161\n"
     ]
    }
   ],
   "source": [
    "with tf.Session() as sess:\n",
    "    saver.restore(sess, \"./model/har_dnn_model.ckpt\")\n",
    "    valid_acc = accuracy.eval(feed_dict={X: X_valid, y: y_valid})\n",
    "    test_acc = accuracy.eval(feed_dict={X: har_X_test, y: har_y_test})\n",
    "    print(\"Valid accuracy: \", valid_acc)\n",
    "    print(\"Test Accuracy: \", test_acc)"
   ]
  },
  {
   "cell_type": "markdown",
   "metadata": {
    "collapsed": true
   },
   "source": [
    "## Add Batch Norm to the model"
   ]
  },
  {
   "cell_type": "markdown",
   "metadata": {},
   "source": [
    "In tensorflow we use `tf.layers.batch_normalization` for batch normalization\n",
    "  - first apply the function to each dense layer, including logits layer\n",
    "  - second need training the `tf.GraphKeys.UPDATE_OPS` after optimizer"
   ]
  },
  {
   "cell_type": "markdown",
   "metadata": {},
   "source": [
    "fine tuning the model:\n",
    "  1. training much slowly after batch norm added\n",
    "  2. use `elu` to replace `relu`, but slow and worse accuracy\n",
    "  3. use `batch_size` 600, but got worse accuracy"
   ]
  },
  {
   "cell_type": "code",
   "execution_count": 67,
   "metadata": {
    "collapsed": true
   },
   "outputs": [],
   "source": [
    "dropout_rate = 0.65"
   ]
  },
  {
   "cell_type": "code",
   "execution_count": 68,
   "metadata": {
    "collapsed": true
   },
   "outputs": [],
   "source": [
    "tf.reset_default_graph()\n",
    "\n",
    "X = tf.placeholder(tf.float32, (None, seq_len * n_channels), name=\"X\")\n",
    "y = tf.placeholder(tf.int32, (None), name=\"y\")\n",
    "training = tf.placeholder_with_default(False, shape=(), name=\"training\")"
   ]
  },
  {
   "cell_type": "code",
   "execution_count": 69,
   "metadata": {},
   "outputs": [],
   "source": [
    "with tf.name_scope(\"dnn\"):\n",
    "    \n",
    "    dense1 = tf.layers.dense(X, 80, name=\"dense1\", kernel_regularizer=tf.contrib.layers.l2_regularizer(0.0001))\n",
    "    bn1 = tf.layers.batch_normalization(dense1, training=training)\n",
    "    bn1_act = tf.nn.relu(bn1)\n",
    "    drop1 = tf.layers.dropout(bn1_act, dropout_rate, training=training)\n",
    "    \n",
    "    dense2 = tf.layers.dense(drop1, 80, name=\"dense2\", kernel_regularizer=tf.contrib.layers.l1_regularizer(0.0001))\n",
    "    bn2 = tf.layers.batch_normalization(dense2, training=training)\n",
    "    bn2_act = tf.nn.relu(bn2)\n",
    "    drop2 = tf.layers.dropout(bn2_act, dropout_rate, training=training)\n",
    "    \n",
    "    #dense3 = tf.layers.dense(drop2, 50, name=\"dense3\")\n",
    "    #bn3 = tf.layers.batch_normalization(dense3, training=training)\n",
    "    #bn3_act = tf.nn.relu(bn3)\n",
    "    #drop3 = tf.layers.dropout(bn3_act, dropout_rate, training=training)\n",
    "    \n",
    "    logits_before_bn = tf.layers.dense(drop2, n_classes)\n",
    "    logits = tf.layers.batch_normalization(logits_before_bn, training=training)\n"
   ]
  },
  {
   "cell_type": "code",
   "execution_count": 70,
   "metadata": {},
   "outputs": [],
   "source": [
    "with tf.name_scope(\"loss\"):\n",
    "    xentropy = tf.nn.sparse_softmax_cross_entropy_with_logits(logits=logits, labels=y)\n",
    "    base_loss = tf.reduce_mean(xentropy, name=\"avg_xentropy\")\n",
    "    reg_losses = tf.get_collection(tf.GraphKeys.REGULARIZATION_LOSSES)\n",
    "    loss = tf.add_n([base_loss] + reg_losses, name=\"loss\")\n",
    "    #loss = tf.reduce_mean(xentropy, name=\"loss\")\n",
    "\n",
    "with tf.name_scope(\"train\"):   \n",
    "    extra_update_ops = tf.get_collection(tf.GraphKeys.UPDATE_OPS)\n",
    "    with tf.control_dependencies(extra_update_ops):\n",
    "        training_op = tf.train.AdamOptimizer(learning_rate=learning_rate).minimize(loss) \n",
    "\n",
    "with tf.name_scope(\"eval\"):\n",
    "    correct = tf.nn.in_top_k(logits, y, 1)\n",
    "    accuracy = tf.reduce_mean(tf.cast(correct, tf.float32), name=\"accuracy\")"
   ]
  },
  {
   "cell_type": "code",
   "execution_count": 71,
   "metadata": {
    "scrolled": false
   },
   "outputs": [
    {
     "name": "stdout",
     "output_type": "stream",
     "text": [
      "Epoch:  0 Valid accuracy:  0.357208\n",
      "Epoch:  10 Valid accuracy:  0.496827\n",
      "Epoch:  20 Valid accuracy:  0.703989\n",
      "Epoch:  30 Valid accuracy:  0.868994\n",
      "Epoch:  40 Valid accuracy:  0.899365\n",
      "Epoch:  50 Valid accuracy:  0.916138\n",
      "Epoch:  60 Valid accuracy:  0.925204\n",
      "Epoch:  70 Valid accuracy:  0.924297\n",
      "Epoch:  80 Valid accuracy:  0.929737\n",
      "Epoch:  90 Valid accuracy:  0.929284\n",
      "Epoch:  100 Valid accuracy:  0.932457\n",
      "Epoch:  110 Valid accuracy:  0.938803\n",
      "Epoch:  120 Valid accuracy:  0.937897\n",
      "Epoch:  130 Valid accuracy:  0.944696\n",
      "Epoch:  140 Valid accuracy:  0.936083\n",
      "Epoch:  150 Valid accuracy:  0.94243\n",
      "Epoch:  160 Valid accuracy:  0.942883\n",
      "Epoch:  170 Valid accuracy:  0.946963\n",
      "Epoch:  180 Valid accuracy:  0.93835\n",
      "Epoch:  190 Valid accuracy:  0.946056\n"
     ]
    }
   ],
   "source": [
    "init = tf.global_variables_initializer()\n",
    "saver = tf.train.Saver()\n",
    "\n",
    "with tf.Session() as sess:\n",
    "    sess.run(init)\n",
    "    \n",
    "    for epoch in range(n_epochs):\n",
    "        shuffled_idx = np.random.permutation(X_train.shape[0])\n",
    "        X_random = X_train[shuffled_idx]\n",
    "        y_random = y_train[shuffled_idx]\n",
    "        for i in range(n_batches):\n",
    "            X_batch = X_random[i * batch_size:(i+1) * batch_size]\n",
    "            y_batch = y_random[i * batch_size:(i+1) * batch_size]\n",
    "            train_acc =  sess.run([training_op], feed_dict={X: X_batch, y: y_batch, training:True})\n",
    "        valid_acc = accuracy.eval(feed_dict={X: X_valid, y: y_valid})\n",
    "        \n",
    "        if epoch % 10 == 0:\n",
    "            print(\"Epoch: \", epoch, \"Valid accuracy: \", valid_acc)\n",
    "    saver.save(sess, \"./model/har_dnn_model.ckpt\")"
   ]
  },
  {
   "cell_type": "code",
   "execution_count": 72,
   "metadata": {},
   "outputs": [
    {
     "name": "stdout",
     "output_type": "stream",
     "text": [
      "INFO:tensorflow:Restoring parameters from ./model/har_dnn_model.ckpt\n",
      "Valid accuracy:  0.946509\n",
      "Test Accuracy:  0.888361\n"
     ]
    }
   ],
   "source": [
    "with tf.Session() as sess:\n",
    "    saver.restore(sess, \"./model/har_dnn_model.ckpt\")\n",
    "    valid_acc = accuracy.eval(feed_dict={X: X_valid, y: y_valid})\n",
    "    test_acc = accuracy.eval(feed_dict={X: har_X_test, y: har_y_test})\n",
    "    print(\"Valid accuracy: \", valid_acc)\n",
    "    print(\"Test Accuracy: \", test_acc)"
   ]
  },
  {
   "cell_type": "code",
   "execution_count": null,
   "metadata": {
    "collapsed": true
   },
   "outputs": [],
   "source": []
  }
 ],
 "metadata": {
  "kernelspec": {
   "display_name": "Python 3",
   "language": "python",
   "name": "python3"
  }
 },
 "nbformat": 4,
 "nbformat_minor": 2
}
