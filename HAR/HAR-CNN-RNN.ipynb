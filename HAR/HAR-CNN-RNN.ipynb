{
 "cells": [
  {
   "cell_type": "code",
   "execution_count": 17,
   "metadata": {
    "collapsed": true
   },
   "outputs": [],
   "source": [
    "import numpy as np\n",
    "import os\n",
    "from utils.utilities import *\n",
    "from sklearn.model_selection import train_test_split\n",
    "import matplotlib.pyplot as plt\n",
    "%matplotlib inline"
   ]
  },
  {
   "cell_type": "code",
   "execution_count": 18,
   "metadata": {
    "collapsed": true
   },
   "outputs": [],
   "source": [
    "import tensorflow as tf"
   ]
  },
  {
   "cell_type": "code",
   "execution_count": 19,
   "metadata": {},
   "outputs": [
    {
     "name": "stdout",
     "output_type": "stream",
     "text": [
      "1.3.0\n"
     ]
    }
   ],
   "source": [
    "print(tf.__version__)"
   ]
  },
  {
   "cell_type": "markdown",
   "metadata": {},
   "source": [
    "## Load data"
   ]
  },
  {
   "cell_type": "code",
   "execution_count": 20,
   "metadata": {
    "collapsed": true
   },
   "outputs": [],
   "source": [
    "DATASET_PATH = \"./dataset/UCI HAR Dataset/\""
   ]
  },
  {
   "cell_type": "code",
   "execution_count": 21,
   "metadata": {
    "collapsed": true
   },
   "outputs": [],
   "source": [
    "INPUT_SIGNAL_TYPES = [\n",
    "    \"body_acc_x_\",\n",
    "    \"body_acc_y_\",\n",
    "    \"body_acc_z_\",\n",
    "    \"body_gyro_x_\",\n",
    "    \"body_gyro_y_\",\n",
    "    \"body_gyro_z_\",\n",
    "    \"total_acc_x_\",\n",
    "    \"total_acc_y_\",\n",
    "    \"total_acc_z_\"\n",
    "]"
   ]
  },
  {
   "cell_type": "code",
   "execution_count": 22,
   "metadata": {
    "collapsed": true
   },
   "outputs": [],
   "source": [
    "def load_X(X_signals_paths):\n",
    "    X_signals = []\n",
    "    \n",
    "    for signal_type_path in X_signals_paths:\n",
    "        with open(signal_type_path, \"r\") as f:\n",
    "            X_signals.append(\n",
    "                [np.array(serie, dtype=np.float32)\n",
    "                    for serie in [row.replace('  ', ' ').strip().split(' ') for row in f]]\n",
    "            )\n",
    "    return np.transpose(X_signals, (1, 2, 0))\n",
    "\n",
    "def load_y(y_path):\n",
    "\n",
    "    # Read dataset from disk, dealing with text file's syntax\n",
    "    with open(y_path, \"r\") as f:\n",
    "        y = np.array(\n",
    "            [elem for elem in [\n",
    "                row.replace('  ', ' ').strip().split(' ') for row in f\n",
    "            ]], \n",
    "            dtype=np.int32\n",
    "        )\n",
    "            \n",
    "    y = y.reshape(-1,)\n",
    "    # Substract 1 to each output class for friendly 0-based indexing \n",
    "    return y - 1"
   ]
  },
  {
   "cell_type": "code",
   "execution_count": 23,
   "metadata": {
    "collapsed": true
   },
   "outputs": [],
   "source": [
    "X_train_signals_paths = [\n",
    "    DATASET_PATH + \"train/Inertial Signals/\" + signal + \"train.txt\" for signal in INPUT_SIGNAL_TYPES\n",
    "]\n",
    "X_test_signals_paths = [\n",
    "    DATASET_PATH + \"test/Inertial Signals/\" + signal + \"test.txt\" for signal in INPUT_SIGNAL_TYPES\n",
    "]"
   ]
  },
  {
   "cell_type": "code",
   "execution_count": 77,
   "metadata": {
    "collapsed": true
   },
   "outputs": [],
   "source": [
    "har_X_train = load_X(X_train_signals_paths)\n",
    "har_X_test = load_X(X_test_signals_paths)"
   ]
  },
  {
   "cell_type": "code",
   "execution_count": 25,
   "metadata": {
    "collapsed": true
   },
   "outputs": [],
   "source": [
    "y_train_path = DATASET_PATH + \"train/y_train.txt\"\n",
    "y_test_path = DATASET_PATH + \"test/y_test.txt\""
   ]
  },
  {
   "cell_type": "code",
   "execution_count": 26,
   "metadata": {
    "collapsed": true
   },
   "outputs": [],
   "source": [
    "har_y_train = load_y(y_train_path)\n",
    "har_y_test = load_y(y_test_path)"
   ]
  },
  {
   "cell_type": "markdown",
   "metadata": {},
   "source": [
    "## Prepare data"
   ]
  },
  {
   "cell_type": "code",
   "execution_count": 63,
   "metadata": {
    "collapsed": true
   },
   "outputs": [],
   "source": [
    "X_train, X_valid, y_train, y_valid = train_test_split(har_X_train, har_y_train, random_state=42)"
   ]
  },
  {
   "cell_type": "code",
   "execution_count": 64,
   "metadata": {
    "scrolled": false
   },
   "outputs": [
    {
     "data": {
      "text/plain": [
       "((5514, 128, 9), (5514,))"
      ]
     },
     "execution_count": 64,
     "metadata": {},
     "output_type": "execute_result"
    }
   ],
   "source": [
    "X_train.shape, y_train.shape"
   ]
  },
  {
   "cell_type": "code",
   "execution_count": 65,
   "metadata": {
    "collapsed": true
   },
   "outputs": [],
   "source": [
    "#X_train = np.transpose(X_train, (0, 2, 1))\n",
    "#X_valid = np.transpose(X_valid, (0, 2, 1))\n",
    "#har_X_test = np.transpose(har_X_test, (0, 2, 1))"
   ]
  },
  {
   "cell_type": "code",
   "execution_count": 66,
   "metadata": {
    "scrolled": false
   },
   "outputs": [
    {
     "data": {
      "text/plain": [
       "((5514, 128, 9), (5514,))"
      ]
     },
     "execution_count": 66,
     "metadata": {},
     "output_type": "execute_result"
    }
   ],
   "source": [
    "X_train.shape, y_train.shape"
   ]
  },
  {
   "cell_type": "markdown",
   "metadata": {},
   "source": [
    "# Build RNN model"
   ]
  },
  {
   "cell_type": "markdown",
   "metadata": {},
   "source": [
    "## Hyperparameters"
   ]
  },
  {
   "cell_type": "code",
   "execution_count": 67,
   "metadata": {
    "collapsed": true
   },
   "outputs": [],
   "source": [
    "batch_size = 200\n",
    "n_epochs = 200\n",
    "learning_rate = 0.001\n",
    "\n",
    "seq_len = 128\n",
    "n_channels = 9\n",
    "n_neurons = 100\n",
    "n_layers = 3\n",
    "\n",
    "# outputs\n",
    "n_classes = 6"
   ]
  },
  {
   "cell_type": "code",
   "execution_count": 68,
   "metadata": {
    "collapsed": true
   },
   "outputs": [],
   "source": [
    "n_batches = X_train.shape[0] // batch_size"
   ]
  },
  {
   "cell_type": "markdown",
   "metadata": {},
   "source": [
    "## CNN + RNN model"
   ]
  },
  {
   "cell_type": "code",
   "execution_count": 83,
   "metadata": {
    "collapsed": true
   },
   "outputs": [],
   "source": [
    "tf.reset_default_graph()\n",
    "tf.set_random_seed(73)\n",
    "np.random.seed(73)\n",
    "\n",
    "X = tf.placeholder(tf.float32, (None, seq_len, n_channels), name=\"X\")\n",
    "y = tf.placeholder(tf.int32, (None), name=\"y\")\n",
    "\n",
    "# is in training phase\n",
    "training = tf.placeholder_with_default(False, shape=(), name=\"training\")\n"
   ]
  },
  {
   "cell_type": "code",
   "execution_count": 84,
   "metadata": {
    "collapsed": true,
    "scrolled": false
   },
   "outputs": [
    {
     "name": "stdout",
     "output_type": "stream",
     "text": [
      "(?, 128, 32)\n"
     ]
    }
   ],
   "source": [
    "with tf.name_scope(\"cnn_rnn\"):\n",
    "    \n",
    "    cnn = tf.layers.conv1d(X,\n",
    "                           filters=32,\n",
    "                           kernel_size=4,\n",
    "                           strides=1,\n",
    "                           padding=\"same\",\n",
    "                           activation=tf.nn.relu)\n",
    "    print(cnn.shape)\n",
    "    cnn = tf.reshape(cnn, (-1, 32, 128))\n",
    "    basic_cell = tf.contrib.rnn.BasicRNNCell(num_units=n_neurons,\n",
    "                                             activation=tf.nn.relu)\n",
    "    outputs, states = tf.nn.dynamic_rnn(basic_cell, cnn, dtype=tf.float32)\n",
    "    \n",
    "    # only one RNN cell, the shape of states is (None, n_neurons)\n",
    "    #states_concat = tf.concat(axis=1, values=states)\n",
    "    logits = tf.layers.dense(states, n_classes)"
   ]
  },
  {
   "cell_type": "code",
   "execution_count": 85,
   "metadata": {
    "collapsed": true
   },
   "outputs": [],
   "source": [
    "with tf.name_scope(\"loss\"):\n",
    "    xentropy = tf.nn.sparse_softmax_cross_entropy_with_logits(logits=logits, labels=y)\n",
    "    loss = tf.reduce_mean(xentropy, name=\"loss\")"
   ]
  },
  {
   "cell_type": "code",
   "execution_count": 86,
   "metadata": {
    "collapsed": true
   },
   "outputs": [],
   "source": [
    "with tf.name_scope(\"train\"):\n",
    "    optimizer = tf.train.AdamOptimizer(learning_rate=learning_rate)\n",
    "    training_op = optimizer.minimize(loss)"
   ]
  },
  {
   "cell_type": "code",
   "execution_count": 87,
   "metadata": {
    "collapsed": true
   },
   "outputs": [],
   "source": [
    "with tf.name_scope(\"eval\"):\n",
    "    #correct = tf.equal(tf.argmax(logits, 1), tf.argmax(y, 1))\n",
    "    correct = tf.nn.in_top_k(logits, y, 1)\n",
    "    accuracy = tf.reduce_mean(tf.cast(correct, tf.float32), name=\"accuracy\")"
   ]
  },
  {
   "cell_type": "code",
   "execution_count": 88,
   "metadata": {
    "collapsed": true
   },
   "outputs": [],
   "source": [
    "init = tf.global_variables_initializer()\n",
    "saver = tf.train.Saver()"
   ]
  },
  {
   "cell_type": "code",
   "execution_count": 89,
   "metadata": {
    "scrolled": false
   },
   "outputs": [
    {
     "name": "stdout",
     "output_type": "stream",
     "text": [
      "Epoch:  0 Loss: 0.822897 Valid accuracy:  0.661045\n",
      "Epoch:  10 Loss: 0.154491 Valid accuracy:  0.947225\n",
      "Epoch:  20 Loss: 0.123808 Valid accuracy:  0.952666\n",
      "Epoch:  30 Loss: 0.116499 Valid accuracy:  0.954298\n",
      "Epoch:  40 Loss: 0.115157 Valid accuracy:  0.954842\n",
      "Epoch:  50 Loss: 0.105123 Valid accuracy:  0.95593\n",
      "Epoch:  60 Loss: 0.098916 Valid accuracy:  0.957018\n",
      "Epoch:  70 Loss: 0.115285 Valid accuracy:  0.943961\n",
      "Epoch:  80 Loss: 0.118064 Valid accuracy:  0.947769\n",
      "Epoch:  90 Loss: 0.0992844 Valid accuracy:  0.95593\n",
      "Epoch:  100 Loss: 0.0915025 Valid accuracy:  0.957563\n",
      "Epoch:  110 Loss: 0.090007 Valid accuracy:  0.957018\n",
      "Epoch:  120 Loss: 0.0992666 Valid accuracy:  0.965724\n",
      "Epoch:  130 Loss: 0.0819517 Valid accuracy:  0.962459\n",
      "Epoch:  140 Loss: 0.079552 Valid accuracy:  0.966268\n",
      "Epoch:  150 Loss: 0.138266 Valid accuracy:  0.953754\n",
      "Epoch:  160 Loss: 0.0836969 Valid accuracy:  0.963003\n",
      "Epoch:  170 Loss: 0.106737 Valid accuracy:  0.945049\n",
      "Epoch:  180 Loss: 0.0856682 Valid accuracy:  0.962459\n",
      "Epoch:  190 Loss: 0.100698 Valid accuracy:  0.967356\n"
     ]
    }
   ],
   "source": [
    "with tf.Session() as sess:\n",
    "    sess.run(init)\n",
    "    \n",
    "    for epoch in range(n_epochs):\n",
    "        for i in range(n_batches):\n",
    "            X_batch = X_train[i * batch_size:(i+1) * batch_size]\n",
    "            y_batch = y_train[i * batch_size:(i+1) * batch_size]\n",
    "            train_acc =  sess.run([training_op], feed_dict={X: X_batch, y: y_batch, training: True})\n",
    "        \n",
    "        if epoch % 10 == 0:\n",
    "            valid_acc, loss_val = sess.run([accuracy, loss], feed_dict={X: X_valid, y: y_valid})\n",
    "            print(\"Epoch: \", epoch,\"Loss:\", loss_val, \"Valid accuracy: \", valid_acc)\n",
    "    saver.save(sess, \"./model/har_first_cnn_rnn_model.ckpt\")"
   ]
  },
  {
   "cell_type": "code",
   "execution_count": 90,
   "metadata": {
    "scrolled": false
   },
   "outputs": [
    {
     "name": "stdout",
     "output_type": "stream",
     "text": [
      "INFO:tensorflow:Restoring parameters from ./model/har_first_cnn_rnn_model.ckpt\n",
      "valid Accuracy:  0.960283\n",
      "Test Accuracy:  0.911775\n"
     ]
    }
   ],
   "source": [
    "with tf.Session() as sess:\n",
    "    saver.restore(sess, \"./model/har_first_cnn_rnn_model.ckpt\")\n",
    "    valid_acc = accuracy.eval(feed_dict={X: X_valid, y: y_valid})\n",
    "    test_acc = accuracy.eval(feed_dict={X: har_X_test, y: har_y_test})\n",
    "    print(\"valid Accuracy: \", valid_acc)\n",
    "    print(\"Test Accuracy: \", test_acc)"
   ]
  },
  {
   "cell_type": "code",
   "execution_count": null,
   "metadata": {
    "collapsed": true
   },
   "outputs": [],
   "source": []
  },
  {
   "cell_type": "markdown",
   "metadata": {},
   "source": [
    "## Basic RNN model with dropout"
   ]
  },
  {
   "cell_type": "code",
   "execution_count": 110,
   "metadata": {
    "collapsed": true
   },
   "outputs": [],
   "source": [
    "tf.reset_default_graph()\n",
    "tf.set_random_seed(73)\n",
    "np.random.seed(73)\n",
    "\n",
    "X = tf.placeholder(tf.float32, (None, seq_len, n_channels), name=\"X\")\n",
    "y = tf.placeholder(tf.int32, (None), name=\"y\")\n",
    "\n",
    "# is in training phase\n",
    "training = tf.placeholder_with_default(False, shape=(), name=\"training\")\n"
   ]
  },
  {
   "cell_type": "code",
   "execution_count": 111,
   "metadata": {
    "collapsed": true,
    "scrolled": false
   },
   "outputs": [
    {
     "name": "stdout",
     "output_type": "stream",
     "text": [
      "(?, 128, 32)\n"
     ]
    }
   ],
   "source": [
    "with tf.name_scope(\"cnn_lstm\"):\n",
    "\n",
    "    cnn = tf.layers.conv1d(X,\n",
    "                           filters=32,\n",
    "                           kernel_size=4,\n",
    "                           strides=1,\n",
    "                           padding=\"same\",\n",
    "                           activation=tf.nn.relu)\n",
    "    \n",
    "    cnn = tf.reshape(cnn, (-1, 32, 128))    \n",
    "    \n",
    "    cell = tf.contrib.rnn.BasicLSTMCell(num_units=n_neurons,\n",
    "                                             activation=tf.nn.relu)\n",
    "    outputs, states = tf.nn.dynamic_rnn(cell, cnn, dtype=tf.float32)\n",
    "    \n",
    "    # only one RNN cell, the shape of states is (None, n_neurons)\n",
    "    states_concat = tf.concat(axis=1, values=states)\n",
    "    logits = tf.layers.dense(states_concat, n_classes)"
   ]
  },
  {
   "cell_type": "code",
   "execution_count": 112,
   "metadata": {
    "collapsed": true
   },
   "outputs": [],
   "source": [
    "with tf.name_scope(\"loss\"):\n",
    "    xentropy = tf.nn.sparse_softmax_cross_entropy_with_logits(logits=logits, labels=y)\n",
    "    loss = tf.reduce_mean(xentropy, name=\"loss\")"
   ]
  },
  {
   "cell_type": "code",
   "execution_count": 113,
   "metadata": {
    "collapsed": true
   },
   "outputs": [],
   "source": [
    "with tf.name_scope(\"train\"):\n",
    "    optimizer = tf.train.AdamOptimizer(learning_rate=learning_rate)\n",
    "    training_op = optimizer.minimize(loss)"
   ]
  },
  {
   "cell_type": "code",
   "execution_count": 114,
   "metadata": {
    "collapsed": true
   },
   "outputs": [],
   "source": [
    "with tf.name_scope(\"eval\"):\n",
    "    #correct = tf.equal(tf.argmax(logits, 1), tf.argmax(y, 1))\n",
    "    correct = tf.nn.in_top_k(logits, y, 1)\n",
    "    accuracy = tf.reduce_mean(tf.cast(correct, tf.float32), name=\"accuracy\")"
   ]
  },
  {
   "cell_type": "code",
   "execution_count": 115,
   "metadata": {
    "collapsed": true
   },
   "outputs": [],
   "source": [
    "init = tf.global_variables_initializer()\n",
    "saver = tf.train.Saver()"
   ]
  },
  {
   "cell_type": "code",
   "execution_count": 116,
   "metadata": {
    "scrolled": false
   },
   "outputs": [
    {
     "name": "stdout",
     "output_type": "stream",
     "text": [
      "Epoch:  0 Loss: 0.586714 Valid accuracy:  0.746464\n",
      "Epoch:  10 Loss: 0.132703 Valid accuracy:  0.939608\n",
      "Epoch:  20 Loss: 0.117247 Valid accuracy:  0.94124\n",
      "Epoch:  30 Loss: 0.10133 Valid accuracy:  0.957563\n",
      "Epoch:  40 Loss: 0.127094 Valid accuracy:  0.948857\n",
      "Epoch:  50 Loss: 0.104333 Valid accuracy:  0.949946\n",
      "Epoch:  60 Loss: 0.134786 Valid accuracy:  0.935256\n",
      "Epoch:  70 Loss: 0.0816167 Valid accuracy:  0.966268\n",
      "Epoch:  80 Loss: 0.0848946 Valid accuracy:  0.965724\n",
      "Epoch:  90 Loss: 0.0891107 Valid accuracy:  0.96518\n",
      "Epoch:  100 Loss: 0.0993783 Valid accuracy:  0.961915\n",
      "Epoch:  110 Loss: 0.0623821 Valid accuracy:  0.974973\n",
      "Epoch:  120 Loss: 0.0606186 Valid accuracy:  0.976605\n",
      "Epoch:  130 Loss: 0.0568671 Valid accuracy:  0.983134\n",
      "Epoch:  140 Loss: 0.0655618 Valid accuracy:  0.978237\n",
      "Epoch:  150 Loss: 0.0692112 Valid accuracy:  0.980413\n",
      "Epoch:  160 Loss: 0.0727688 Valid accuracy:  0.980958\n",
      "Epoch:  170 Loss: 0.0642399 Valid accuracy:  0.981502\n",
      "Epoch:  180 Loss: 0.103562 Valid accuracy:  0.957563\n",
      "Epoch:  190 Loss: 0.0574766 Valid accuracy:  0.979325\n"
     ]
    }
   ],
   "source": [
    "with tf.Session() as sess:\n",
    "    sess.run(init)\n",
    "    \n",
    "    for epoch in range(n_epochs):\n",
    "        for i in range(n_batches):\n",
    "            X_batch = X_train[i * batch_size:(i+1) * batch_size]\n",
    "            y_batch = y_train[i * batch_size:(i+1) * batch_size]\n",
    "            train_acc =  sess.run([training_op], feed_dict={X: X_batch, y: y_batch, training: True})\n",
    "        \n",
    "        if epoch % 10 == 0:\n",
    "            valid_acc, loss_val = sess.run([accuracy, loss], feed_dict={X: X_valid, y: y_valid})\n",
    "            print(\"Epoch: \", epoch,\"Loss:\", loss_val, \"Valid accuracy: \", valid_acc)\n",
    "    saver.save(sess, \"./model/har_cnn_lstm_model.ckpt\")"
   ]
  },
  {
   "cell_type": "code",
   "execution_count": 117,
   "metadata": {
    "scrolled": false
   },
   "outputs": [
    {
     "name": "stdout",
     "output_type": "stream",
     "text": [
      "INFO:tensorflow:Restoring parameters from ./model/har_rnn_dropout_model.ckpt\n",
      "valid Accuracy:  0.974429\n",
      "Test Accuracy:  0.91415\n"
     ]
    }
   ],
   "source": [
    "with tf.Session() as sess:\n",
    "    saver.restore(sess, \"./model/har_cnn_lstm_model.ckpt\")\n",
    "    valid_acc = accuracy.eval(feed_dict={X: X_valid, y: y_valid})\n",
    "    test_acc = accuracy.eval(feed_dict={X: har_X_test, y: har_y_test})\n",
    "    print(\"valid Accuracy: \", valid_acc)\n",
    "    print(\"Test Accuracy: \", test_acc)"
   ]
  },
  {
   "cell_type": "code",
   "execution_count": null,
   "metadata": {
    "collapsed": true
   },
   "outputs": [],
   "source": []
  },
  {
   "cell_type": "markdown",
   "metadata": {},
   "source": [
    "# CNN + Three LSTM layers with  early stopping"
   ]
  },
  {
   "cell_type": "code",
   "execution_count": 118,
   "metadata": {
    "collapsed": true
   },
   "outputs": [],
   "source": [
    "# maximum number of epoch\n",
    "n_epochs=600"
   ]
  },
  {
   "cell_type": "code",
   "execution_count": 123,
   "metadata": {
    "collapsed": true
   },
   "outputs": [],
   "source": [
    "tf.reset_default_graph()\n",
    "tf.set_random_seed(73)\n",
    "np.random.seed(73)\n",
    "\n",
    "X = tf.placeholder(tf.float32, (None, seq_len, n_channels), name=\"X\")\n",
    "y = tf.placeholder(tf.int32, (None), name=\"y\")\n",
    "\n",
    "# is in training phase\n",
    "training = tf.placeholder_with_default(False, shape=(), name=\"training\")\n"
   ]
  },
  {
   "cell_type": "code",
   "execution_count": 124,
   "metadata": {
    "collapsed": true,
    "scrolled": false
   },
   "outputs": [],
   "source": [
    "with tf.name_scope(\"cnn_lstm\"):\n",
    "    \n",
    "    cnn_layer = tf.layers.conv1d(X,\n",
    "                                 filters=32,\n",
    "                                 kernel_size=2,\n",
    "                                 strides=1,\n",
    "                                 padding=\"same\",\n",
    "                                 activation=tf.nn.relu)\n",
    "    cnn_layer = tf.reshape(cnn_layer, (-1, 32, 128))\n",
    "    \n",
    "    cells = [tf.contrib.rnn.BasicRNNCell(num_units=n_neurons, activation=tf.nn.relu)\n",
    "                 for _ in range(n_layers)]\n",
    "    \n",
    "    multi_cells = tf.contrib.rnn.MultiRNNCell(cells)\n",
    "   \n",
    "    outputs, states = tf.nn.dynamic_rnn(multi_cells, cnn_layer, dtype=tf.float32)\n",
    "    #top_layer_h_state = states[-1]\n",
    "    states_concat = tf.concat(axis=1, values=states)\n",
    "    logits = tf.layers.dense(states_concat, n_classes)"
   ]
  },
  {
   "cell_type": "code",
   "execution_count": 126,
   "metadata": {
    "collapsed": true
   },
   "outputs": [],
   "source": [
    "with tf.name_scope(\"loss\"):\n",
    "    xentropy = tf.nn.sparse_softmax_cross_entropy_with_logits(logits=logits, labels=y)\n",
    "    loss = tf.reduce_mean(xentropy, name=\"loss\")"
   ]
  },
  {
   "cell_type": "code",
   "execution_count": 127,
   "metadata": {
    "collapsed": true
   },
   "outputs": [],
   "source": [
    "with tf.name_scope(\"train\"):\n",
    "    optimizer = tf.train.AdamOptimizer(learning_rate=learning_rate)\n",
    "    training_op = optimizer.minimize(loss)"
   ]
  },
  {
   "cell_type": "code",
   "execution_count": 128,
   "metadata": {
    "collapsed": true
   },
   "outputs": [],
   "source": [
    "with tf.name_scope(\"eval\"):\n",
    "    #correct = tf.equal(tf.argmax(logits, 1), tf.argmax(y, 1))\n",
    "    correct = tf.nn.in_top_k(logits, y, 1)\n",
    "    accuracy = tf.reduce_mean(tf.cast(correct, tf.float32), name=\"accuracy\")"
   ]
  },
  {
   "cell_type": "code",
   "execution_count": 129,
   "metadata": {
    "collapsed": true
   },
   "outputs": [],
   "source": [
    "init = tf.global_variables_initializer()\n",
    "saver = tf.train.Saver()"
   ]
  },
  {
   "cell_type": "code",
   "execution_count": 130,
   "metadata": {
    "scrolled": false
   },
   "outputs": [
    {
     "name": "stdout",
     "output_type": "stream",
     "text": [
      "Epoch:  0 Loss:  0.632894 Valid accuracy:  0.708379\n",
      "Epoch:  5 Loss:  0.155949 Valid accuracy:  0.939608\n",
      "Epoch:  10 Loss:  0.138249 Valid accuracy:  0.944505\n",
      "Epoch:  15 Loss:  0.157683 Valid accuracy:  0.931447\n",
      "Epoch:  20 Loss:  0.107463 Valid accuracy:  0.95593\n",
      "Epoch:  25 Loss:  0.110758 Valid accuracy:  0.947769\n",
      "Epoch:  30 Loss:  0.0983662 Valid accuracy:  0.957563\n",
      "Epoch:  35 Loss:  0.106005 Valid accuracy:  0.952122\n",
      "Epoch:  40 Loss:  0.0941343 Valid accuracy:  0.956474\n",
      "Epoch:  45 Loss:  0.101297 Valid accuracy:  0.956474\n",
      "Epoch:  50 Loss:  0.0918952 Valid accuracy:  0.956474\n",
      "Epoch:  55 Loss:  0.101611 Valid accuracy:  0.956474\n",
      "Epoch:  60 Loss:  0.238746 Valid accuracy:  0.925462\n",
      "Epoch:  65 Loss:  0.0934247 Valid accuracy:  0.959195\n",
      "Epoch:  70 Loss:  0.102751 Valid accuracy:  0.951034\n",
      "Epoch:  75 Loss:  0.0840065 Valid accuracy:  0.955386\n",
      "Epoch:  80 Loss:  0.0896026 Valid accuracy:  0.957563\n",
      "Epoch:  85 Loss:  0.0866468 Valid accuracy:  0.959739\n",
      "Epoch:  90 Loss:  0.100553 Valid accuracy:  0.949946\n",
      "Epoch:  95 Loss:  0.0972899 Valid accuracy:  0.95049\n",
      "Epoch:  100 Loss:  0.0775627 Valid accuracy:  0.960827\n",
      "Epoch:  105 Loss:  0.0977649 Valid accuracy:  0.946681\n",
      "Epoch:  110 Loss:  0.0717501 Valid accuracy:  0.968444\n",
      "Epoch:  115 Loss:  0.0860295 Valid accuracy:  0.959739\n",
      "Epoch:  120 Loss:  0.0770121 Valid accuracy:  0.963547\n",
      "Epoch:  125 Loss:  0.119761 Valid accuracy:  0.944505\n",
      "Epoch:  130 Loss:  0.0793463 Valid accuracy:  0.963547\n",
      "Epoch:  135 Loss:  0.0845155 Valid accuracy:  0.966268\n",
      "Epoch:  140 Loss:  0.0729331 Valid accuracy:  0.963547\n",
      "Epoch:  145 Loss:  0.0781805 Valid accuracy:  0.96518\n",
      "Epoch:  150 Loss:  0.075939 Valid accuracy:  0.961915\n",
      "Epoch:  155 Loss:  0.0628401 Valid accuracy:  0.968444\n",
      "Epoch:  160 Loss:  0.083561 Valid accuracy:  0.961371\n",
      "Epoch:  165 Loss:  0.147086 Valid accuracy:  0.936344\n",
      "Epoch:  170 Loss:  0.0652752 Valid accuracy:  0.971164\n",
      "Epoch:  175 Loss:  0.0630191 Valid accuracy:  0.974429\n",
      "Epoch:  180 Loss:  0.0582769 Valid accuracy:  0.974429\n",
      "Epoch:  185 Loss:  0.0819546 Valid accuracy:  0.962459\n",
      "Epoch:  190 Loss:  0.0575864 Valid accuracy:  0.972252\n",
      "Epoch:  195 Loss:  0.0569817 Valid accuracy:  0.973341\n",
      "Epoch:  200 Loss:  0.0672649 Valid accuracy:  0.971708\n",
      "Epoch:  205 Loss:  0.0565207 Valid accuracy:  0.976605\n",
      "Epoch:  210 Loss:  0.0486076 Valid accuracy:  0.975517\n",
      "Epoch:  215 Loss:  0.0472509 Valid accuracy:  0.978781\n",
      "Epoch:  220 Loss:  0.0446667 Valid accuracy:  0.980958\n",
      "Epoch:  225 Loss:  0.0464686 Valid accuracy:  0.977149\n",
      "Epoch:  230 Loss:  0.0486214 Valid accuracy:  0.978781\n",
      "Epoch:  235 Loss:  0.051648 Valid accuracy:  0.978781\n",
      "Epoch:  240 Loss:  0.0474557 Valid accuracy:  0.979869\n"
     ]
    }
   ],
   "source": [
    "best_loss = np.infty\n",
    "epochs_without_progress = 0\n",
    "max_epochs_without_progress=150\n",
    "\n",
    "with tf.Session() as sess:\n",
    "    sess.run(init)\n",
    "    \n",
    "    for epoch in range(n_epochs):\n",
    "        for i in range(n_batches):\n",
    "            X_batch = X_train[i * batch_size:(i+1) * batch_size]\n",
    "            y_batch = y_train[i * batch_size:(i+1) * batch_size]\n",
    "            train_acc =  sess.run([training_op], feed_dict={X: X_batch, y: y_batch, training: True})\n",
    "    \n",
    "        if epoch % 5 == 0:\n",
    "            valid_acc, loss_val = sess.run([accuracy, loss], feed_dict={X: X_valid, y: y_valid})\n",
    "            print(\"Epoch: \", epoch, \"Loss: \", loss_val, \"Valid accuracy: \", valid_acc)\n",
    "            if np.around(loss_val, decimals=4) < best_loss:\n",
    "                saver.save(sess, \"./model/har_cnn_lstm_early_stopping_model.ckpt\")\n",
    "                best_loss = loss_val\n",
    "            else:\n",
    "                epochs_without_progress +=5\n",
    "                if epochs_without_progress > max_epochs_without_progress:\n",
    "                    break"
   ]
  },
  {
   "cell_type": "code",
   "execution_count": 131,
   "metadata": {
    "scrolled": true
   },
   "outputs": [
    {
     "name": "stdout",
     "output_type": "stream",
     "text": [
      "INFO:tensorflow:Restoring parameters from ./model/har_cnn_lstm_early_stopping_model.ckpt\n",
      "valid Accuracy:  0.980958\n",
      "Test Accuracy:  0.902952\n"
     ]
    }
   ],
   "source": [
    "with tf.Session() as sess:\n",
    "    saver.restore(sess, \"./model/har_cnn_lstm_early_stopping_model.ckpt\")\n",
    "    valid_acc = accuracy.eval(feed_dict={X: X_valid, y: y_valid})\n",
    "    test_acc = accuracy.eval(feed_dict={X: har_X_test, y: har_y_test})\n",
    "    print(\"valid Accuracy: \", valid_acc)\n",
    "    print(\"Test Accuracy: \", test_acc)"
   ]
  },
  {
   "cell_type": "markdown",
   "metadata": {},
   "source": [
    "## CNN with Bi-directional LSTM"
   ]
  },
  {
   "cell_type": "code",
   "execution_count": 148,
   "metadata": {
    "collapsed": true
   },
   "outputs": [],
   "source": [
    "n_epochs=200"
   ]
  },
  {
   "cell_type": "code",
   "execution_count": 151,
   "metadata": {
    "collapsed": true
   },
   "outputs": [],
   "source": [
    "tf.reset_default_graph()\n",
    "tf.set_random_seed(73)\n",
    "np.random.seed(73)\n",
    "\n",
    "X = tf.placeholder(tf.float32, (None, seq_len, n_channels), name=\"X\")\n",
    "y = tf.placeholder(tf.int32, (None), name=\"y\")\n",
    "\n",
    "# is in training phase\n",
    "training = tf.placeholder_with_default(False, shape=(), name=\"training\")\n"
   ]
  },
  {
   "cell_type": "code",
   "execution_count": 152,
   "metadata": {
    "collapsed": true,
    "scrolled": false
   },
   "outputs": [],
   "source": [
    "with tf.name_scope(\"rnn\"):\n",
    "    \n",
    "\n",
    "    cnn_layer = tf.layers.conv1d(X,\n",
    "                                 filters=32,\n",
    "                                 kernel_size=2,\n",
    "                                 strides=1,\n",
    "                                 padding=\"same\",\n",
    "                                 activation=tf.nn.relu)\n",
    "    cnn_layer = tf.transpose(cnn_layer, perm=(0, 2, 1))\n",
    "    \n",
    "    fw_cells = [tf.contrib.rnn.BasicRNNCell(num_units=n_neurons,\n",
    "                                                 activation=tf.nn.relu)\n",
    "                         for _ in range(n_layers)]\n",
    "    \n",
    "    bw_cells = [tf.contrib.rnn.BasicRNNCell(num_units=n_neurons,\n",
    "                                                 activation=tf.nn.relu)\n",
    "                         for _ in range(n_layers)]\n",
    "    multi_fw_cells = tf.contrib.rnn.MultiRNNCell(fw_cells)\n",
    "    multi_bw_cells = tf.contrib.rnn.MultiRNNCell(bw_cells)\n",
    "        \n",
    "    outputs, states = tf.nn.bidirectional_dynamic_rnn(multi_fw_cells, multi_bw_cells, cnn_layer, dtype=tf.float32)\n",
    "    #print(states.shape)\n",
    "    #top_layer_h_state = states[-1][-1]\n",
    "    states_concat = tf.concat(axis=1, values=states[-1][-1])\n",
    "    logits = tf.layers.dense(states_concat, n_classes)"
   ]
  },
  {
   "cell_type": "code",
   "execution_count": 153,
   "metadata": {
    "collapsed": true
   },
   "outputs": [],
   "source": [
    "with tf.name_scope(\"loss\"):\n",
    "    xentropy = tf.nn.sparse_softmax_cross_entropy_with_logits(logits=logits, labels=y)\n",
    "    loss = tf.reduce_mean(xentropy, name=\"loss\")"
   ]
  },
  {
   "cell_type": "code",
   "execution_count": 154,
   "metadata": {
    "collapsed": true
   },
   "outputs": [],
   "source": [
    "with tf.name_scope(\"train\"):\n",
    "    optimizer = tf.train.AdamOptimizer(learning_rate=learning_rate)\n",
    "    training_op = optimizer.minimize(loss)"
   ]
  },
  {
   "cell_type": "code",
   "execution_count": 155,
   "metadata": {
    "collapsed": true
   },
   "outputs": [],
   "source": [
    "with tf.name_scope(\"eval\"):\n",
    "    #correct = tf.equal(tf.argmax(logits, 1), tf.argmax(y, 1))\n",
    "    correct = tf.nn.in_top_k(logits, y, 1)\n",
    "    accuracy = tf.reduce_mean(tf.cast(correct, tf.float32), name=\"accuracy\")"
   ]
  },
  {
   "cell_type": "code",
   "execution_count": 156,
   "metadata": {
    "collapsed": true
   },
   "outputs": [],
   "source": [
    "init = tf.global_variables_initializer()\n",
    "saver = tf.train.Saver()"
   ]
  },
  {
   "cell_type": "code",
   "execution_count": 157,
   "metadata": {
    "scrolled": true
   },
   "outputs": [
    {
     "name": "stdout",
     "output_type": "stream",
     "text": [
      "Epoch:  0 Loss: 0.65961 Valid accuracy:  0.696953\n",
      "Epoch:  10 Loss: 0.172222 Valid accuracy:  0.925462\n",
      "Epoch:  20 Loss: 0.140146 Valid accuracy:  0.945049\n",
      "Epoch:  30 Loss: 0.106622 Valid accuracy:  0.947225\n",
      "Epoch:  40 Loss: 0.127846 Valid accuracy:  0.952122\n",
      "Epoch:  50 Loss: 0.11166 Valid accuracy:  0.958651\n",
      "Epoch:  60 Loss: 0.117796 Valid accuracy:  0.95593\n",
      "Epoch:  70 Loss: 0.110877 Valid accuracy:  0.964635\n",
      "Epoch:  80 Loss: 0.175128 Valid accuracy:  0.955386\n",
      "Epoch:  90 Loss: 0.150007 Valid accuracy:  0.963547\n",
      "Epoch:  100 Loss: 0.180045 Valid accuracy:  0.959739\n",
      "Epoch:  110 Loss: 0.106107 Valid accuracy:  0.973885\n",
      "Epoch:  120 Loss: 0.10993 Valid accuracy:  0.963003\n",
      "Epoch:  130 Loss: 0.16914 Valid accuracy:  0.964091\n",
      "Epoch:  140 Loss: 0.215812 Valid accuracy:  0.963003\n",
      "Epoch:  150 Loss: 0.164962 Valid accuracy:  0.963547\n",
      "Epoch:  160 Loss: 0.164917 Valid accuracy:  0.967356\n",
      "Epoch:  170 Loss: 0.135381 Valid accuracy:  0.972796\n",
      "Epoch:  180 Loss: 0.187119 Valid accuracy:  0.9679\n",
      "Epoch:  190 Loss: 0.104445 Valid accuracy:  0.974973\n"
     ]
    }
   ],
   "source": [
    "with tf.Session() as sess:\n",
    "    sess.run(init)\n",
    "    \n",
    "    for epoch in range(n_epochs):\n",
    "        for i in range(n_batches):\n",
    "            X_batch = X_train[i * batch_size:(i+1) * batch_size]\n",
    "            y_batch = y_train[i * batch_size:(i+1) * batch_size]\n",
    "            train_acc =  sess.run([training_op], feed_dict={X: X_batch, y: y_batch, training: True})\n",
    "             \n",
    "        if epoch % 10 == 0:\n",
    "            \n",
    "            valid_acc, loss_val = sess.run([accuracy, loss], feed_dict={X: X_valid, y: y_valid})\n",
    "            print(\"Epoch: \", epoch,\"Loss:\", loss_val, \"Valid accuracy: \", valid_acc)\n",
    "    saver.save(sess, \"./model/har_cnn_bilstm_model.ckpt\")"
   ]
  },
  {
   "cell_type": "code",
   "execution_count": 158,
   "metadata": {
    "scrolled": true
   },
   "outputs": [
    {
     "name": "stdout",
     "output_type": "stream",
     "text": [
      "INFO:tensorflow:Restoring parameters from ./model/har_cnn_bilstm_model.ckpt\n",
      "valid Accuracy:  0.976605\n",
      "Test Accuracy:  0.922973\n"
     ]
    }
   ],
   "source": [
    "with tf.Session() as sess:\n",
    "    saver.restore(sess, \"./model/har_cnn_bilstm_model.ckpt\")\n",
    "    valid_acc = accuracy.eval(feed_dict={X: X_valid, y: y_valid})\n",
    "    test_acc = accuracy.eval(feed_dict={X: har_X_test, y: har_y_test})\n",
    "    print(\"valid Accuracy: \", valid_acc)\n",
    "    print(\"Test Accuracy: \", test_acc)"
   ]
  },
  {
   "cell_type": "code",
   "execution_count": null,
   "metadata": {
    "collapsed": true
   },
   "outputs": [],
   "source": []
  },
  {
   "cell_type": "markdown",
   "metadata": {},
   "source": [
    "# Bi-directional Basic RNN with dropout and early stopping"
   ]
  },
  {
   "cell_type": "code",
   "execution_count": 159,
   "metadata": {
    "collapsed": true
   },
   "outputs": [],
   "source": [
    "n_epochs=600"
   ]
  },
  {
   "cell_type": "code",
   "execution_count": 164,
   "metadata": {
    "collapsed": true
   },
   "outputs": [],
   "source": [
    "tf.reset_default_graph()\n",
    "tf.set_random_seed(73)\n",
    "np.random.seed(73)\n",
    "\n",
    "X = tf.placeholder(tf.float32, (None, seq_len, n_channels), name=\"X\")\n",
    "y = tf.placeholder(tf.int32, (None), name=\"y\")\n",
    "\n",
    "# is in training phase\n",
    "training = tf.placeholder_with_default(False, shape=(), name=\"training\")\n"
   ]
  },
  {
   "cell_type": "code",
   "execution_count": 165,
   "metadata": {
    "collapsed": true,
    "scrolled": false
   },
   "outputs": [],
   "source": [
    "with tf.name_scope(\"cnn_lstm\"):\n",
    "    \n",
    "    cnn_layer = tf.layers.conv1d(X,\n",
    "                                filters=32,\n",
    "                                kernel_size=2,\n",
    "                                strides=1,\n",
    "                                padding=\"same\",\n",
    "                                activation=tf.nn.relu)\n",
    "    cnn_layer = tf.transpose(cnn_layer, perm=(0, 2, 1))\n",
    "    \n",
    "    fw_cells = [tf.contrib.rnn.DropoutWrapper(tf.contrib.rnn.BasicRNNCell(num_units=n_neurons, activation=tf.nn.relu),\n",
    "                                             output_keep_prob=0.8)\n",
    "                   for _ in range(n_layers)]\n",
    "    bw_cells = [tf.contrib.rnn.DropoutWrapper(tf.contrib.rnn.BasicRNNCell(num_units=n_neurons, activation=tf.nn.relu),\n",
    "                                             output_keep_prob=0.8)\n",
    "                   for _ in range(n_layers)]\n",
    "    \n",
    "    multi_fw_cells = tf.contrib.rnn.MultiRNNCell(fw_cells)\n",
    "    multi_bw_cells = tf.contrib.rnn.MultiRNNCell(bw_cells)\n",
    "    \n",
    "    outputs, states = tf.nn.bidirectional_dynamic_rnn(multi_fw_cells, multi_bw_cells, cnn_layer, dtype=tf.float32)\n",
    "    \n",
    "    states_concat = tf.concat(axis=1, values=states[-1][-1])\n",
    "    logits = tf.layers.dense(states_concat, n_classes)"
   ]
  },
  {
   "cell_type": "code",
   "execution_count": 166,
   "metadata": {
    "collapsed": true
   },
   "outputs": [],
   "source": [
    "with tf.name_scope(\"loss\"):\n",
    "    xentropy = tf.nn.sparse_softmax_cross_entropy_with_logits(logits=logits, labels=y)\n",
    "    loss = tf.reduce_mean(xentropy, name=\"loss\")"
   ]
  },
  {
   "cell_type": "code",
   "execution_count": 167,
   "metadata": {
    "collapsed": true
   },
   "outputs": [],
   "source": [
    "with tf.name_scope(\"train\"):\n",
    "    optimizer = tf.train.AdamOptimizer(learning_rate=learning_rate)\n",
    "    training_op = optimizer.minimize(loss)"
   ]
  },
  {
   "cell_type": "code",
   "execution_count": 168,
   "metadata": {
    "collapsed": true
   },
   "outputs": [],
   "source": [
    "with tf.name_scope(\"eval\"):\n",
    "    #correct = tf.equal(tf.argmax(logits, 1), tf.argmax(y, 1))\n",
    "    correct = tf.nn.in_top_k(logits, y, 1)\n",
    "    accuracy = tf.reduce_mean(tf.cast(correct, tf.float32), name=\"accuracy\")"
   ]
  },
  {
   "cell_type": "code",
   "execution_count": 169,
   "metadata": {
    "collapsed": true
   },
   "outputs": [],
   "source": [
    "init = tf.global_variables_initializer()\n",
    "saver = tf.train.Saver()"
   ]
  },
  {
   "cell_type": "code",
   "execution_count": 170,
   "metadata": {
    "scrolled": false
   },
   "outputs": [
    {
     "name": "stdout",
     "output_type": "stream",
     "text": [
      "Epoch:  0 Loss:  0.911722 Valid accuracy:  0.589772\n",
      "Epoch:  5 Loss:  0.282099 Valid accuracy:  0.885745\n",
      "Epoch:  10 Loss:  0.212058 Valid accuracy:  0.906964\n",
      "Epoch:  15 Loss:  0.18817 Valid accuracy:  0.928727\n",
      "Epoch:  20 Loss:  0.1688 Valid accuracy:  0.937432\n",
      "Epoch:  25 Loss:  0.144179 Valid accuracy:  0.94124\n",
      "Epoch:  30 Loss:  0.145876 Valid accuracy:  0.945049\n",
      "Epoch:  35 Loss:  0.126862 Valid accuracy:  0.949401\n",
      "Epoch:  40 Loss:  0.108876 Valid accuracy:  0.954298\n",
      "Epoch:  45 Loss:  0.122585 Valid accuracy:  0.949946\n",
      "Epoch:  50 Loss:  0.121778 Valid accuracy:  0.954842\n",
      "Epoch:  55 Loss:  0.100945 Valid accuracy:  0.955386\n",
      "Epoch:  60 Loss:  0.130247 Valid accuracy:  0.954842\n",
      "Epoch:  65 Loss:  0.113569 Valid accuracy:  0.95321\n",
      "Epoch:  70 Loss:  0.11305 Valid accuracy:  0.952666\n",
      "Epoch:  75 Loss:  0.124593 Valid accuracy:  0.949946\n",
      "Epoch:  80 Loss:  0.133599 Valid accuracy:  0.954298\n",
      "Epoch:  85 Loss:  0.170425 Valid accuracy:  0.947769\n",
      "Epoch:  90 Loss:  0.154386 Valid accuracy:  0.948857\n",
      "Epoch:  95 Loss:  0.146224 Valid accuracy:  0.949401\n",
      "Epoch:  100 Loss:  0.128857 Valid accuracy:  0.954298\n",
      "Epoch:  105 Loss:  0.0888018 Valid accuracy:  0.969532\n",
      "Epoch:  110 Loss:  0.124566 Valid accuracy:  0.957018\n",
      "Epoch:  115 Loss:  0.114683 Valid accuracy:  0.963003\n",
      "Epoch:  120 Loss:  0.113714 Valid accuracy:  0.963547\n",
      "Epoch:  125 Loss:  0.120047 Valid accuracy:  0.964091\n",
      "Epoch:  130 Loss:  0.101428 Valid accuracy:  0.96518\n",
      "Epoch:  135 Loss:  0.116049 Valid accuracy:  0.9679\n",
      "Epoch:  140 Loss:  0.114819 Valid accuracy:  0.961371\n",
      "Epoch:  145 Loss:  0.16933 Valid accuracy:  0.946137\n",
      "Epoch:  150 Loss:  0.122911 Valid accuracy:  0.9679\n"
     ]
    }
   ],
   "source": [
    "best_loss = np.infty\n",
    "epochs_without_progress = 0\n",
    "max_epochs_without_progress=100\n",
    "\n",
    "with tf.Session() as sess:\n",
    "    sess.run(init)\n",
    "    \n",
    "    for epoch in range(n_epochs):\n",
    "        for i in range(n_batches):\n",
    "            X_batch = X_train[i * batch_size:(i+1) * batch_size]\n",
    "            y_batch = y_train[i * batch_size:(i+1) * batch_size]\n",
    "            train_acc =  sess.run([training_op], feed_dict={X: X_batch, y: y_batch, training: True})\n",
    "    \n",
    "        if epoch % 5 == 0:\n",
    "            valid_acc, loss_val = sess.run([accuracy, loss], feed_dict={X: X_valid, y: y_valid})\n",
    "            print(\"Epoch: \", epoch, \"Loss: \", loss_val, \"Valid accuracy: \", valid_acc)\n",
    "            if np.around(loss_val, decimals=4) < best_loss:\n",
    "                saver.save(sess, \"./model/har_cnn_bilstm_early_stopping_model.ckpt\")\n",
    "                best_loss = loss_val\n",
    "            else:\n",
    "                epochs_without_progress +=5\n",
    "                if epochs_without_progress > max_epochs_without_progress:\n",
    "                    break"
   ]
  },
  {
   "cell_type": "code",
   "execution_count": 62,
   "metadata": {
    "scrolled": false
   },
   "outputs": [
    {
     "name": "stdout",
     "output_type": "stream",
     "text": [
      "INFO:tensorflow:Restoring parameters from ./model/har_rnn_early_stopping_model.ckpt\n",
      "valid Accuracy:  0.970076\n",
      "Test Accuracy:  0.904649\n"
     ]
    }
   ],
   "source": [
    "with tf.Session() as sess:\n",
    "    saver.restore(sess, \"./model/har_cnn_bilstm_early_stopping_model.ckpt\")\n",
    "    valid_acc = accuracy.eval(feed_dict={X: X_valid, y: y_valid})\n",
    "    test_acc = accuracy.eval(feed_dict={X: har_X_test, y: har_y_test})\n",
    "    print(\"valid Accuracy: \", valid_acc)\n",
    "    print(\"Test Accuracy: \", test_acc)"
   ]
  },
  {
   "cell_type": "code",
   "execution_count": null,
   "metadata": {
    "collapsed": true
   },
   "outputs": [],
   "source": []
  }
 ],
 "metadata": {
  "kernelspec": {
   "display_name": "Python 3",
   "language": "python",
   "name": "python3"
  },
  "language_info": {
   "codemirror_mode": {
    "name": "ipython",
    "version": 3
   },
   "file_extension": ".py",
   "mimetype": "text/x-python",
   "name": "python",
   "nbconvert_exporter": "python",
   "pygments_lexer": "ipython3",
   "version": "3.6.2"
  }
 },
 "nbformat": 4,
 "nbformat_minor": 2
}
