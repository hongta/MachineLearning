{
 "cells": [
  {
   "cell_type": "code",
   "execution_count": 1,
   "metadata": {
    "collapsed": true
   },
   "outputs": [],
   "source": [
    "import numpy as np\n",
    "import os\n",
    "from utils.utilities import *\n",
    "from sklearn.model_selection import train_test_split\n",
    "import matplotlib.pyplot as plt\n",
    "%matplotlib inline"
   ]
  },
  {
   "cell_type": "code",
   "execution_count": 2,
   "metadata": {
    "collapsed": true
   },
   "outputs": [],
   "source": [
    "import tensorflow as tf"
   ]
  },
  {
   "cell_type": "markdown",
   "metadata": {},
   "source": [
    "## Load data"
   ]
  },
  {
   "cell_type": "code",
   "execution_count": 3,
   "metadata": {
    "collapsed": true
   },
   "outputs": [],
   "source": [
    "DATASET_PATH = \"./dataset/UCI HAR Dataset/\""
   ]
  },
  {
   "cell_type": "code",
   "execution_count": 4,
   "metadata": {
    "collapsed": true
   },
   "outputs": [],
   "source": [
    "INPUT_SIGNAL_TYPES = [\n",
    "    \"body_acc_x_\",\n",
    "    \"body_acc_y_\",\n",
    "    \"body_acc_z_\",\n",
    "    \"body_gyro_x_\",\n",
    "    \"body_gyro_y_\",\n",
    "    \"body_gyro_z_\",\n",
    "    \"total_acc_x_\",\n",
    "    \"total_acc_y_\",\n",
    "    \"total_acc_z_\"\n",
    "]"
   ]
  },
  {
   "cell_type": "code",
   "execution_count": 5,
   "metadata": {
    "collapsed": true
   },
   "outputs": [],
   "source": [
    "def load_X(X_signals_paths):\n",
    "    X_signals = []\n",
    "    \n",
    "    for signal_type_path in X_signals_paths:\n",
    "        with open(signal_type_path, \"r\") as f:\n",
    "            X_signals.append(\n",
    "                [np.array(serie, dtype=np.float32)\n",
    "                    for serie in [row.replace('  ', ' ').strip().split(' ') for row in f]]\n",
    "            )\n",
    "    return np.transpose(X_signals, (1, 2, 0))\n",
    "\n",
    "def load_y(y_path):\n",
    "\n",
    "    # Read dataset from disk, dealing with text file's syntax\n",
    "    with open(y_path, \"r\") as f:\n",
    "        y = np.array(\n",
    "            [elem for elem in [\n",
    "                row.replace('  ', ' ').strip().split(' ') for row in f\n",
    "            ]], \n",
    "            dtype=np.int32\n",
    "        )\n",
    "            \n",
    "    y = y.reshape(-1,)\n",
    "    # Substract 1 to each output class for friendly 0-based indexing \n",
    "    return y - 1"
   ]
  },
  {
   "cell_type": "code",
   "execution_count": 6,
   "metadata": {
    "collapsed": true
   },
   "outputs": [],
   "source": [
    "X_train_signals_paths = [\n",
    "    DATASET_PATH + \"train/Inertial Signals/\" + signal + \"train.txt\" for signal in INPUT_SIGNAL_TYPES\n",
    "]\n",
    "X_test_signals_paths = [\n",
    "    DATASET_PATH + \"test/Inertial Signals/\" + signal + \"test.txt\" for signal in INPUT_SIGNAL_TYPES\n",
    "]"
   ]
  },
  {
   "cell_type": "code",
   "execution_count": 7,
   "metadata": {
    "collapsed": true
   },
   "outputs": [],
   "source": [
    "har_X_train = load_X(X_train_signals_paths)\n",
    "har_X_test = load_X(X_test_signals_paths)"
   ]
  },
  {
   "cell_type": "code",
   "execution_count": 8,
   "metadata": {
    "collapsed": true
   },
   "outputs": [],
   "source": [
    "y_train_path = DATASET_PATH + \"train/y_train.txt\"\n",
    "y_test_path = DATASET_PATH + \"test/y_test.txt\""
   ]
  },
  {
   "cell_type": "code",
   "execution_count": 9,
   "metadata": {
    "collapsed": true
   },
   "outputs": [],
   "source": [
    "har_y_train = load_y(y_train_path)\n",
    "har_y_test = load_y(y_test_path)"
   ]
  },
  {
   "cell_type": "markdown",
   "metadata": {},
   "source": [
    "## Prepare data"
   ]
  },
  {
   "cell_type": "code",
   "execution_count": 10,
   "metadata": {
    "collapsed": true
   },
   "outputs": [],
   "source": [
    "X_train, X_valid, y_train, y_valid = train_test_split(har_X_train, har_y_train, stratify=har_y_train, random_state=42)"
   ]
  },
  {
   "cell_type": "code",
   "execution_count": 11,
   "metadata": {
    "scrolled": true
   },
   "outputs": [
    {
     "data": {
      "text/plain": [
       "((5514, 128, 9), (5514,))"
      ]
     },
     "execution_count": 11,
     "metadata": {},
     "output_type": "execute_result"
    }
   ],
   "source": [
    "X_train.shape, y_train.shape"
   ]
  },
  {
   "cell_type": "code",
   "execution_count": 12,
   "metadata": {},
   "outputs": [
    {
     "data": {
      "text/plain": [
       "(1838, 128, 9)"
      ]
     },
     "execution_count": 12,
     "metadata": {},
     "output_type": "execute_result"
    }
   ],
   "source": [
    "X_valid.shape"
   ]
  },
  {
   "cell_type": "code",
   "execution_count": 48,
   "metadata": {},
   "outputs": [
    {
     "data": {
      "text/plain": [
       "(2947, 128, 9)"
      ]
     },
     "execution_count": 48,
     "metadata": {},
     "output_type": "execute_result"
    }
   ],
   "source": [
    "har_X_test.shape"
   ]
  },
  {
   "cell_type": "markdown",
   "metadata": {},
   "source": [
    "# Build CNN model"
   ]
  },
  {
   "cell_type": "markdown",
   "metadata": {},
   "source": [
    "## Hyperparameters"
   ]
  },
  {
   "cell_type": "code",
   "execution_count": 14,
   "metadata": {
    "collapsed": true
   },
   "outputs": [],
   "source": [
    "batch_size = 600\n",
    "learning_rate = 0.001\n",
    "n_epochs = 200\n",
    "\n",
    "# outputs\n",
    "n_classes = 6\n",
    "\n",
    "seq_len = 128\n",
    "n_channels = 9"
   ]
  },
  {
   "cell_type": "code",
   "execution_count": 33,
   "metadata": {
    "collapsed": true
   },
   "outputs": [],
   "source": [
    "n_batches = X_train.shape[0] // batch_size"
   ]
  },
  {
   "cell_type": "markdown",
   "metadata": {},
   "source": [
    "## first CNN model"
   ]
  },
  {
   "cell_type": "code",
   "execution_count": 35,
   "metadata": {
    "collapsed": true
   },
   "outputs": [],
   "source": [
    "tf.reset_default_graph()\n",
    "\n",
    "X = tf.placeholder(tf.float32, (None, seq_len, n_channels), name=\"X\")\n",
    "y = tf.placeholder(tf.int32, (None), name=\"y\")\n",
    "\n",
    "# is in training phase\n",
    "training = tf.placeholder_with_default(False, shape=(), name=\"training\")\n"
   ]
  },
  {
   "cell_type": "code",
   "execution_count": 36,
   "metadata": {},
   "outputs": [
    {
     "name": "stdout",
     "output_type": "stream",
     "text": [
      "[None, 128, 64]\n"
     ]
    }
   ],
   "source": [
    "with tf.name_scope(\"cnn\"):\n",
    "    \n",
    "    # Convolutional layers\n",
    "    conv1 = tf.layers.conv1d(X, \n",
    "                             filters=32, \n",
    "                             kernel_size=2, \n",
    "                             strides=1,\n",
    "                             padding=\"same\",\n",
    "                             activation=tf.nn.relu)\n",
    "\n",
    "    conv2 = tf.layers.conv1d(conv1,\n",
    "                             filters=64, \n",
    "                             kernel_size=2,\n",
    "                             strides=1,\n",
    "                             padding=\"same\",\n",
    "                             activation=tf.nn.relu)\n",
    "\n",
    "    \n",
    "    last_shape = conv2.get_shape().as_list()\n",
    "    print(last_shape)\n",
    "    # Fully Connected layers\n",
    "    flat = tf.reshape(conv2, (-1, last_shape[1] * last_shape[2]))\n",
    "   \n",
    "    fc1 = tf.layers.dense(flat, 100, activation=tf.nn.relu)\n",
    "    fc2 = tf.layers.dense(fc1, 100, activation=tf.nn.relu)\n",
    "    \n",
    "    logits = tf.layers.dense(fc2, n_classes)\n",
    "    \n",
    "    "
   ]
  },
  {
   "cell_type": "code",
   "execution_count": 37,
   "metadata": {},
   "outputs": [
    {
     "data": {
      "text/plain": [
       "TensorShape([Dimension(None), Dimension(6)])"
      ]
     },
     "execution_count": 37,
     "metadata": {},
     "output_type": "execute_result"
    }
   ],
   "source": [
    "logits.get_shape()"
   ]
  },
  {
   "cell_type": "code",
   "execution_count": 38,
   "metadata": {
    "collapsed": true
   },
   "outputs": [],
   "source": [
    "with tf.name_scope(\"loss\"):\n",
    "    xentropy = tf.nn.sparse_softmax_cross_entropy_with_logits(logits=logits, labels=y)\n",
    "    loss = tf.reduce_mean(xentropy, name=\"loss\")"
   ]
  },
  {
   "cell_type": "code",
   "execution_count": 39,
   "metadata": {},
   "outputs": [],
   "source": [
    "with tf.name_scope(\"train\"):\n",
    "    optimizer = tf.train.AdamOptimizer(learning_rate=learning_rate)\n",
    "    training_op = optimizer.minimize(loss)"
   ]
  },
  {
   "cell_type": "code",
   "execution_count": 40,
   "metadata": {
    "collapsed": true
   },
   "outputs": [],
   "source": [
    "with tf.name_scope(\"eval\"):\n",
    "    #correct = tf.equal(tf.argmax(logits, 1), tf.argmax(y, 1))\n",
    "    correct = tf.nn.in_top_k(logits, y, 1)\n",
    "    accuracy = tf.reduce_mean(tf.cast(correct, tf.float32), name=\"accuracy\")"
   ]
  },
  {
   "cell_type": "code",
   "execution_count": 41,
   "metadata": {
    "collapsed": true
   },
   "outputs": [],
   "source": [
    "init = tf.global_variables_initializer()\n",
    "saver = tf.train.Saver()"
   ]
  },
  {
   "cell_type": "code",
   "execution_count": 43,
   "metadata": {
    "scrolled": false
   },
   "outputs": [
    {
     "name": "stdout",
     "output_type": "stream",
     "text": [
      "Epoch:  0 Valid accuracy:  0.710555\n",
      "Epoch:  10 Valid accuracy:  0.939608\n",
      "Epoch:  20 Valid accuracy:  0.95593\n",
      "Epoch:  30 Valid accuracy:  0.960827\n",
      "Epoch:  40 Valid accuracy:  0.959195\n",
      "Epoch:  50 Valid accuracy:  0.966812\n",
      "Epoch:  60 Valid accuracy:  0.964635\n",
      "Epoch:  70 Valid accuracy:  0.972796\n",
      "Epoch:  80 Valid accuracy:  0.970076\n",
      "Epoch:  90 Valid accuracy:  0.972796\n",
      "Epoch:  100 Valid accuracy:  0.978781\n",
      "Epoch:  110 Valid accuracy:  0.976605\n",
      "Epoch:  120 Valid accuracy:  0.979325\n",
      "Epoch:  130 Valid accuracy:  0.958107\n",
      "Epoch:  140 Valid accuracy:  0.975517\n",
      "Epoch:  150 Valid accuracy:  0.979869\n",
      "Epoch:  160 Valid accuracy:  0.980958\n",
      "Epoch:  170 Valid accuracy:  0.978781\n",
      "Epoch:  180 Valid accuracy:  0.976061\n",
      "Epoch:  190 Valid accuracy:  0.981502\n"
     ]
    }
   ],
   "source": [
    "with tf.Session() as sess:\n",
    "    sess.run(init)\n",
    "    \n",
    "    for epoch in range(n_epochs):\n",
    "        shuffled_idx = np.random.permutation(X_train.shape[0])\n",
    "        X_random = X_train[shuffled_idx]\n",
    "        y_random = y_train[shuffled_idx]\n",
    "        for i in range(n_batches):\n",
    "            X_batch = X_random[i * batch_size:(i+1) * batch_size]\n",
    "            y_batch = y_random[i * batch_size:(i+1) * batch_size]\n",
    "            train_acc =  sess.run([training_op], feed_dict={X: X_batch, y: y_batch, training: True})\n",
    "        valid_acc = accuracy.eval(feed_dict={X: X_valid, y: y_valid})\n",
    "        \n",
    "        if epoch % 10 == 0:\n",
    "            print(\"Epoch: \", epoch, \"Valid accuracy: \", valid_acc)\n",
    "    saver.save(sess, \"./model/har_cnn_model.ckpt\")"
   ]
  },
  {
   "cell_type": "code",
   "execution_count": 45,
   "metadata": {},
   "outputs": [
    {
     "name": "stdout",
     "output_type": "stream",
     "text": [
      "INFO:tensorflow:Restoring parameters from ./model/har_cnn_model.ckpt\n",
      "Test Accuracy:  0.895487\n"
     ]
    }
   ],
   "source": [
    "with tf.Session() as sess:\n",
    "    saver.restore(sess, \"./model/har_cnn_model.ckpt\")\n",
    "    test_acc = accuracy.eval(feed_dict={X: har_X_test, y: har_y_test})\n",
    "    print(\"Test Accuracy: \", test_acc)"
   ]
  },
  {
   "cell_type": "code",
   "execution_count": null,
   "metadata": {
    "collapsed": true
   },
   "outputs": [],
   "source": []
  },
  {
   "cell_type": "markdown",
   "metadata": {},
   "source": [
    "## CNN model"
   ]
  },
  {
   "cell_type": "code",
   "execution_count": 49,
   "metadata": {
    "collapsed": true
   },
   "outputs": [],
   "source": [
    "tf.reset_default_graph()\n",
    "\n",
    "X = tf.placeholder(tf.float32, (None, seq_len, n_channels), name=\"X\")\n",
    "y = tf.placeholder(tf.int32, (None), name=\"y\")\n",
    "\n",
    "# is in training phase\n",
    "training = tf.placeholder_with_default(False, shape=(), name=\"training\")\n",
    "\n",
    "# learning rate exponential decay\n",
    "global_step = tf.Variable(0, trainable=False)\n",
    "starter_learning_rate = 0.01\n",
    "learning_rate = tf.train.exponential_decay(starter_learning_rate, global_step,\n",
    "                                           100, 0.96, staircase=True)"
   ]
  },
  {
   "cell_type": "code",
   "execution_count": 50,
   "metadata": {},
   "outputs": [
    {
     "name": "stdout",
     "output_type": "stream",
     "text": [
      "[None, 128, 96]\n"
     ]
    }
   ],
   "source": [
    "with tf.name_scope(\"cnn\"):\n",
    "    \n",
    "    # Convolutional layers\n",
    "    conv1 = tf.layers.conv1d(X, \n",
    "                             filters=32, \n",
    "                             kernel_size=2, \n",
    "                             strides=1,\n",
    "                             padding=\"same\",\n",
    "                             activation=tf.nn.relu)\n",
    "\n",
    "    conv2 = tf.layers.conv1d(conv1,\n",
    "                             filters=64, \n",
    "                             kernel_size=2,\n",
    "                             strides=1,\n",
    "                             padding=\"same\",\n",
    "                             activation=tf.nn.relu)\n",
    "\n",
    "    conv3 = tf.layers.conv1d(conv1,\n",
    "                             filters=96, \n",
    "                             kernel_size=2,\n",
    "                             strides=1,\n",
    "                             padding=\"same\",\n",
    "                             activation=tf.nn.relu)\n",
    "    \n",
    "    last_shape = conv3.get_shape().as_list()\n",
    "    print(last_shape)\n",
    "    # Fully Connected layers\n",
    "    flat = tf.reshape(conv3, (-1, last_shape[1] * last_shape[2]))\n",
    "    #drop = tf.nn.dropout(flat, keep_prob=1.0, training=training)\n",
    "    \n",
    "    fc1 = tf.layers.dense(flat, 100)\n",
    "    bn_fc1 = tf.layers.batch_normalization(fc1, training=training)\n",
    "    bn_fc1_act = tf.nn.relu(bn_fc1)\n",
    "    \n",
    "    fc2 = tf.layers.dense(bn_fc1_act, 100)\n",
    "    bn_fc2 = tf.layers.batch_normalization(fc2, training=training)\n",
    "    bn_fc2_act = tf.nn.relu(bn_fc2)\n",
    "    \n",
    "    logits_before_bn = tf.layers.dense(bn_fc2_act, n_classes)\n",
    "    logits = tf.layers.batch_normalization(logits_before_bn, training=training)\n",
    "    #logits = tf.layers.dense(bn_fc2_act, n_classes)\n",
    "    \n",
    "    "
   ]
  },
  {
   "cell_type": "code",
   "execution_count": 51,
   "metadata": {},
   "outputs": [
    {
     "data": {
      "text/plain": [
       "TensorShape([Dimension(None), Dimension(6)])"
      ]
     },
     "execution_count": 51,
     "metadata": {},
     "output_type": "execute_result"
    }
   ],
   "source": [
    "logits.get_shape()"
   ]
  },
  {
   "cell_type": "code",
   "execution_count": 52,
   "metadata": {
    "collapsed": true
   },
   "outputs": [],
   "source": [
    "with tf.name_scope(\"loss\"):\n",
    "    xentropy = tf.nn.sparse_softmax_cross_entropy_with_logits(logits=logits, labels=y)\n",
    "    loss = tf.reduce_mean(xentropy, name=\"loss\")"
   ]
  },
  {
   "cell_type": "code",
   "execution_count": 53,
   "metadata": {
    "collapsed": true
   },
   "outputs": [],
   "source": [
    "with tf.name_scope(\"train\"):\n",
    "    extra_update_ops = tf.get_collection(tf.GraphKeys.UPDATE_OPS)\n",
    "    with tf.control_dependencies(extra_update_ops):\n",
    "        optimizer = tf.train.AdamOptimizer(learning_rate=learning_rate)\n",
    "        training_op = optimizer.minimize(loss, global_step=global_step)"
   ]
  },
  {
   "cell_type": "code",
   "execution_count": 54,
   "metadata": {
    "collapsed": true
   },
   "outputs": [],
   "source": [
    "with tf.name_scope(\"eval\"):\n",
    "    #correct = tf.equal(tf.argmax(logits, 1), tf.argmax(y, 1))\n",
    "    correct = tf.nn.in_top_k(logits, y, 1)\n",
    "    accuracy = tf.reduce_mean(tf.cast(correct, tf.float32), name=\"accuracy\")"
   ]
  },
  {
   "cell_type": "code",
   "execution_count": 55,
   "metadata": {
    "collapsed": true
   },
   "outputs": [],
   "source": [
    "init = tf.global_variables_initializer()\n",
    "saver = tf.train.Saver()"
   ]
  },
  {
   "cell_type": "code",
   "execution_count": 56,
   "metadata": {
    "scrolled": false
   },
   "outputs": [
    {
     "name": "stdout",
     "output_type": "stream",
     "text": [
      "Epoch:  0 Learning rate: 0.01 Valid accuracy:  0.145811\n",
      "Epoch:  10 Learning rate: 0.01 Valid accuracy:  0.570729\n",
      "Epoch:  20 Learning rate: 0.0096 Valid accuracy:  0.846572\n",
      "Epoch:  30 Learning rate: 0.009216 Valid accuracy:  0.936888\n",
      "Epoch:  40 Learning rate: 0.00884736 Valid accuracy:  0.957018\n",
      "Epoch:  50 Learning rate: 0.00849346 Valid accuracy:  0.972796\n",
      "Epoch:  60 Learning rate: 0.00815373 Valid accuracy:  0.97062\n",
      "Epoch:  70 Learning rate: 0.00782758 Valid accuracy:  0.95321\n",
      "Epoch:  80 Learning rate: 0.00751447 Valid accuracy:  0.968988\n",
      "Epoch:  90 Learning rate: 0.00721389 Valid accuracy:  0.967356\n",
      "Epoch:  100 Learning rate: 0.00692534 Valid accuracy:  0.966812\n",
      "Epoch:  110 Learning rate: 0.00692534 Valid accuracy:  0.964635\n",
      "Epoch:  120 Learning rate: 0.00664832 Valid accuracy:  0.980413\n",
      "Epoch:  130 Learning rate: 0.00638239 Valid accuracy:  0.980413\n",
      "Epoch:  140 Learning rate: 0.0061271 Valid accuracy:  0.979325\n",
      "Epoch:  150 Learning rate: 0.00588201 Valid accuracy:  0.981502\n",
      "Epoch:  160 Learning rate: 0.00564673 Valid accuracy:  0.982046\n",
      "Epoch:  170 Learning rate: 0.00542086 Valid accuracy:  0.981502\n",
      "Epoch:  180 Learning rate: 0.00520403 Valid accuracy:  0.982046\n",
      "Epoch:  190 Learning rate: 0.00499587 Valid accuracy:  0.981502\n"
     ]
    }
   ],
   "source": [
    "with tf.Session() as sess:\n",
    "    sess.run(init)\n",
    "    \n",
    "    for epoch in range(n_epochs):\n",
    "        shuffled_idx = np.random.permutation(X_train.shape[0])\n",
    "        X_random = X_train[shuffled_idx]\n",
    "        y_random = y_train[shuffled_idx]\n",
    "        for i in range(n_batches):\n",
    "            X_batch = X_random[i * batch_size:(i+1) * batch_size]\n",
    "            y_batch = y_random[i * batch_size:(i+1) * batch_size]\n",
    "            train_acc =  sess.run([training_op], feed_dict={X: X_batch, y: y_batch, training: True})\n",
    "        valid_acc = accuracy.eval(feed_dict={X: X_valid, y: y_valid})\n",
    "        \n",
    "        if epoch % 10 == 0:\n",
    "            print(\"Epoch: \", epoch,\"Learning rate:\", sess.run(optimizer._lr), \"Valid accuracy: \", valid_acc)\n",
    "    saver.save(sess, \"./model/har_cnn_model.ckpt\")"
   ]
  },
  {
   "cell_type": "code",
   "execution_count": 58,
   "metadata": {},
   "outputs": [
    {
     "name": "stdout",
     "output_type": "stream",
     "text": [
      "INFO:tensorflow:Restoring parameters from ./model/har_cnn_model.ckpt\n",
      "Test Accuracy:  0.890397\n"
     ]
    }
   ],
   "source": [
    "with tf.Session() as sess:\n",
    "    saver.restore(sess, \"./model/har_cnn_model.ckpt\")\n",
    "    test_acc = accuracy.eval(feed_dict={X: har_X_test, y: har_y_test})\n",
    "    print(\"Test Accuracy: \", test_acc)"
   ]
  },
  {
   "cell_type": "code",
   "execution_count": null,
   "metadata": {
    "collapsed": true
   },
   "outputs": [],
   "source": []
  }
 ],
 "metadata": {
  "kernelspec": {
   "display_name": "Python 3",
   "language": "python",
   "name": "python3"
  },
  "language_info": {
   "codemirror_mode": {
    "name": "ipython",
    "version": 3
   },
   "file_extension": ".py",
   "mimetype": "text/x-python",
   "name": "python",
   "nbconvert_exporter": "python",
   "pygments_lexer": "ipython3",
   "version": "3.6.2"
  }
 },
 "nbformat": 4,
 "nbformat_minor": 2
}
