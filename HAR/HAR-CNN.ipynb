{
 "cells": [
  {
   "cell_type": "code",
   "execution_count": 1,
   "metadata": {
    "collapsed": true
   },
   "outputs": [],
   "source": [
    "import numpy as np\n",
    "import os\n",
    "from utils.utilities import *\n",
    "from sklearn.model_selection import train_test_split\n",
    "import matplotlib.pyplot as plt\n",
    "%matplotlib inline"
   ]
  },
  {
   "cell_type": "code",
   "execution_count": 2,
   "metadata": {
    "collapsed": true
   },
   "outputs": [],
   "source": [
    "import tensorflow as tf"
   ]
  },
  {
   "cell_type": "markdown",
   "metadata": {},
   "source": [
    "## Prepare data"
   ]
  },
  {
   "cell_type": "code",
   "execution_count": 3,
   "metadata": {
    "collapsed": true
   },
   "outputs": [],
   "source": [
    "har_x_train, har_y_train, list_ch_train = read_data(data_path=\"./dataset/UCI HAR Dataset/\", split=\"train\") # train\n",
    "har_x_test, har_y_test, list_ch_test = read_data(data_path=\"./dataset/UCI HAR Dataset/\", split=\"train\") # test"
   ]
  },
  {
   "cell_type": "code",
   "execution_count": 4,
   "metadata": {
    "collapsed": true
   },
   "outputs": [],
   "source": [
    "har_x_train, har_x_test = standardize(har_x_train, har_x_test)"
   ]
  },
  {
   "cell_type": "code",
   "execution_count": 5,
   "metadata": {
    "collapsed": true
   },
   "outputs": [],
   "source": [
    "#har_y_train = har_y_train - 1"
   ]
  },
  {
   "cell_type": "code",
   "execution_count": 6,
   "metadata": {
    "collapsed": true
   },
   "outputs": [],
   "source": [
    "#har_y_test = har_y_test - 1"
   ]
  },
  {
   "cell_type": "code",
   "execution_count": 7,
   "metadata": {
    "collapsed": true
   },
   "outputs": [],
   "source": [
    "X_train, X_valid, y_train, y_valid = train_test_split(har_x_train, har_y_train, stratify=har_y_train, random_state=42)"
   ]
  },
  {
   "cell_type": "code",
   "execution_count": 8,
   "metadata": {
    "scrolled": true
   },
   "outputs": [
    {
     "data": {
      "text/plain": [
       "((5514, 128, 9), (5514,))"
      ]
     },
     "execution_count": 8,
     "metadata": {},
     "output_type": "execute_result"
    }
   ],
   "source": [
    "X_train.shape, y_train.shape"
   ]
  },
  {
   "cell_type": "markdown",
   "metadata": {},
   "source": [
    "# Build CNN model"
   ]
  },
  {
   "cell_type": "markdown",
   "metadata": {},
   "source": [
    "## Hyperparameters"
   ]
  },
  {
   "cell_type": "code",
   "execution_count": 230,
   "metadata": {
    "collapsed": true
   },
   "outputs": [],
   "source": [
    "batch_size = 60\n",
    "seq_len = 128\n",
    "learning_rate = 0.01\n",
    "n_epochs = 100\n",
    "\n",
    "n_classes = 7 # from 1 - 6\n",
    "n_channels = 9"
   ]
  },
  {
   "cell_type": "markdown",
   "metadata": {},
   "source": [
    "## the model"
   ]
  },
  {
   "cell_type": "code",
   "execution_count": 231,
   "metadata": {},
   "outputs": [],
   "source": [
    "tf.reset_default_graph()\n",
    "\n",
    "X = tf.placeholder(tf.float32, (None, seq_len, n_channels), name=\"X\")\n",
    "y = tf.placeholder(tf.int32, (None), name=\"y\")\n",
    "\n",
    "# is in training phase\n",
    "training = tf.placeholder_with_default(False, shape=(), name=\"training\")\n",
    "\n",
    "# learning rate exponential decay\n",
    "global_step = tf.Variable(0, trainable=False)\n",
    "starter_learning_rate = 0.01\n",
    "learning_rate = tf.train.exponential_decay(starter_learning_rate, global_step,\n",
    "                                           100, 0.96, staircase=True)"
   ]
  },
  {
   "cell_type": "code",
   "execution_count": 232,
   "metadata": {},
   "outputs": [
    {
     "name": "stdout",
     "output_type": "stream",
     "text": [
      "[None, 128, 96]\n"
     ]
    }
   ],
   "source": [
    "with tf.name_scope(\"cnn\"):\n",
    "    \n",
    "    # Convolutional layers\n",
    "    conv1 = tf.layers.conv1d(X, \n",
    "                             filters=32, \n",
    "                             kernel_size=2, \n",
    "                             strides=1,\n",
    "                             padding=\"same\",\n",
    "                             activation=tf.nn.relu)\n",
    "\n",
    "    conv2 = tf.layers.conv1d(conv1,\n",
    "                             filters=64, \n",
    "                             kernel_size=2,\n",
    "                             strides=1,\n",
    "                             padding=\"same\",\n",
    "                             activation=tf.nn.relu)\n",
    "\n",
    "    conv3 = tf.layers.conv1d(conv1,\n",
    "                             filters=96, \n",
    "                             kernel_size=2,\n",
    "                             strides=1,\n",
    "                             padding=\"same\",\n",
    "                             activation=tf.nn.relu)\n",
    "    \n",
    "    last_shape = conv3.get_shape().as_list()\n",
    "    print(last_shape)\n",
    "    # Fully Connected layers\n",
    "    flat = tf.reshape(conv3, (-1, last_shape[1] * last_shape[2]))\n",
    "    #drop = tf.nn.dropout(flat, keep_prob=1.0, training=training)\n",
    "    \n",
    "    fc1 = tf.layers.dense(flat, 100)\n",
    "    bn_fc1 = tf.layers.batch_normalization(fc1, training=training)\n",
    "    bn_fc1_act = tf.nn.relu(bn_fc1)\n",
    "    \n",
    "    fc2 = tf.layers.dense(bn_fc1_act, 100)\n",
    "    bn_fc2 = tf.layers.batch_normalization(fc2, training=training)\n",
    "    bn_fc2_act = tf.nn.relu(bn_fc2)\n",
    "    \n",
    "    logits_before_bn = tf.layers.dense(bn_fc2_act, n_classes)\n",
    "    logits = tf.layers.batch_normalization(logits_before_bn, training=training)\n",
    "    #logits = tf.layers.dense(bn_fc2_act, n_classes)\n",
    "    \n",
    "    "
   ]
  },
  {
   "cell_type": "code",
   "execution_count": 233,
   "metadata": {},
   "outputs": [
    {
     "data": {
      "text/plain": [
       "TensorShape([Dimension(None), Dimension(7)])"
      ]
     },
     "execution_count": 233,
     "metadata": {},
     "output_type": "execute_result"
    }
   ],
   "source": [
    "logits.get_shape()"
   ]
  },
  {
   "cell_type": "code",
   "execution_count": 234,
   "metadata": {},
   "outputs": [],
   "source": [
    "with tf.name_scope(\"loss\"):\n",
    "    xentropy = tf.nn.sparse_softmax_cross_entropy_with_logits(logits=logits, labels=y)\n",
    "    loss = tf.reduce_mean(xentropy, name=\"loss\")"
   ]
  },
  {
   "cell_type": "code",
   "execution_count": 235,
   "metadata": {},
   "outputs": [],
   "source": [
    "with tf.name_scope(\"train\"):\n",
    "    extra_update_ops = tf.get_collection(tf.GraphKeys.UPDATE_OPS)\n",
    "    with tf.control_dependencies(extra_update_ops):\n",
    "        optimizer = tf.train.AdamOptimizer(learning_rate=learning_rate)\n",
    "        training_op = optimizer.minimize(loss, global_step=global_step)"
   ]
  },
  {
   "cell_type": "code",
   "execution_count": 236,
   "metadata": {
    "collapsed": true
   },
   "outputs": [],
   "source": [
    "with tf.name_scope(\"eval\"):\n",
    "    #correct = tf.equal(tf.argmax(logits, 1), tf.argmax(y, 1))\n",
    "    correct = tf.nn.in_top_k(logits, y, 1)\n",
    "    accuracy = tf.reduce_mean(tf.cast(correct, tf.float32), name=\"accuracy\")"
   ]
  },
  {
   "cell_type": "code",
   "execution_count": 237,
   "metadata": {
    "collapsed": true
   },
   "outputs": [],
   "source": [
    "init = tf.global_variables_initializer()\n",
    "saver = tf.train.Saver()"
   ]
  },
  {
   "cell_type": "code",
   "execution_count": 238,
   "metadata": {
    "scrolled": false
   },
   "outputs": [
    {
     "name": "stdout",
     "output_type": "stream",
     "text": [
      "Epoch:  0 Learning rate: 0.01 Valid accuracy:  0.156692\n",
      "Epoch:  10 Learning rate: 0.00664832 Valid accuracy:  0.873232\n",
      "Epoch:  20 Learning rate: 0.00460419 Valid accuracy:  0.875408\n",
      "Epoch:  30 Learning rate: 0.00318856 Valid accuracy:  0.87704\n",
      "Epoch:  40 Learning rate: 0.00220818 Valid accuracy:  0.876496\n",
      "Epoch:  50 Learning rate: 0.00152924 Valid accuracy:  0.877584\n",
      "Epoch:  60 Learning rate: 0.00105905 Valid accuracy:  0.877584\n",
      "Epoch:  70 Learning rate: 0.000733429 Valid accuracy:  0.879761\n",
      "Epoch:  80 Learning rate: 0.000507925 Valid accuracy:  0.879761\n",
      "Epoch:  90 Learning rate: 0.000351755 Valid accuracy:  0.879761\n"
     ]
    }
   ],
   "source": [
    "with tf.Session() as sess:\n",
    "    sess.run(init)\n",
    "    \n",
    "    for epoch in range(n_epochs):\n",
    "        for X_batch, y_batch in get_batches(X_train, y_train, batch_size):\n",
    "            train_acc =  sess.run([training_op], feed_dict={X: X_batch, y: y_batch, training: True})\n",
    "        valid_acc = accuracy.eval(feed_dict={X: X_valid, y: y_valid})\n",
    "        \n",
    "        if epoch % 10 == 0:\n",
    "            print(\"Epoch: \", epoch,\"Learning rate:\", sess.run(optimizer._lr), \"Valid accuracy: \", valid_acc)\n",
    "    saver.save(sess, \"./model/har_cnn_model.ckpt\")"
   ]
  },
  {
   "cell_type": "code",
   "execution_count": 239,
   "metadata": {},
   "outputs": [
    {
     "name": "stdout",
     "output_type": "stream",
     "text": [
      "INFO:tensorflow:Restoring parameters from ./model/har_cnn_model.ckpt\n",
      "Test Accuracy:  0.968852\n"
     ]
    }
   ],
   "source": [
    "with tf.Session() as sess:\n",
    "    saver.restore(sess, \"./model/har_cnn_model.ckpt\")\n",
    "    test_acc = accuracy.eval(feed_dict={X: har_x_test, y: har_y_test})\n",
    "    print(\"Test Accuracy: \", test_acc)"
   ]
  },
  {
   "cell_type": "code",
   "execution_count": null,
   "metadata": {
    "collapsed": true
   },
   "outputs": [],
   "source": []
  }
 ],
 "metadata": {
  "kernelspec": {
   "display_name": "Python 3",
   "language": "python",
   "name": "python3"
  },
  "language_info": {
   "codemirror_mode": {
    "name": "ipython",
    "version": 3
   },
   "file_extension": ".py",
   "mimetype": "text/x-python",
   "name": "python",
   "nbconvert_exporter": "python",
   "pygments_lexer": "ipython3",
   "version": "3.5.3"
  }
 },
 "nbformat": 4,
 "nbformat_minor": 2
}
