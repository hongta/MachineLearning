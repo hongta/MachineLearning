{
 "cells": [
  {
   "cell_type": "code",
   "execution_count": 1,
   "metadata": {
    "collapsed": true
   },
   "outputs": [],
   "source": [
    "import numpy as np\n",
    "import os\n",
    "from utils.utilities import *\n",
    "from sklearn.model_selection import train_test_split\n",
    "import matplotlib.pyplot as plt\n",
    "%matplotlib inline"
   ]
  },
  {
   "cell_type": "code",
   "execution_count": 2,
   "metadata": {
    "collapsed": true
   },
   "outputs": [],
   "source": [
    "import tensorflow as tf"
   ]
  },
  {
   "cell_type": "markdown",
   "metadata": {},
   "source": [
    "## Prepare data"
   ]
  },
  {
   "cell_type": "code",
   "execution_count": 3,
   "metadata": {
    "collapsed": true
   },
   "outputs": [],
   "source": [
    "har_x_train, har_y_train, list_ch_train = read_data(data_path=\"./dataset/UCI HAR Dataset/\", split=\"train\") # train\n",
    "har_x_test, har_y_test, list_ch_test = read_data(data_path=\"./dataset/UCI HAR Dataset/\", split=\"train\") # test"
   ]
  },
  {
   "cell_type": "code",
   "execution_count": 4,
   "metadata": {
    "collapsed": true
   },
   "outputs": [],
   "source": [
    "har_x_train, har_x_test = standardize(har_x_train, har_x_test)"
   ]
  },
  {
   "cell_type": "code",
   "execution_count": 5,
   "metadata": {
    "collapsed": true
   },
   "outputs": [],
   "source": [
    "har_y_train = har_y_train - 1"
   ]
  },
  {
   "cell_type": "code",
   "execution_count": 30,
   "metadata": {
    "collapsed": true
   },
   "outputs": [],
   "source": [
    "har_y_test = har_y_test - 1"
   ]
  },
  {
   "cell_type": "code",
   "execution_count": 6,
   "metadata": {
    "collapsed": true
   },
   "outputs": [],
   "source": [
    "X_train, X_valid, y_train, y_valid = train_test_split(har_x_train, har_y_train, stratify=har_y_train, random_state=42)"
   ]
  },
  {
   "cell_type": "code",
   "execution_count": 7,
   "metadata": {
    "collapsed": true
   },
   "outputs": [],
   "source": [
    "y_train_onehot = one_hot(y_train)\n",
    "y_train_valid = one_hot(y_valid)\n",
    "y_test_onehot = one_hot(har_y_test)"
   ]
  },
  {
   "cell_type": "code",
   "execution_count": 8,
   "metadata": {
    "scrolled": true
   },
   "outputs": [
    {
     "data": {
      "text/plain": [
       "((5514, 128, 9), (5514,))"
      ]
     },
     "execution_count": 8,
     "metadata": {},
     "output_type": "execute_result"
    }
   ],
   "source": [
    "X_train.shape, y_train.shape"
   ]
  },
  {
   "cell_type": "markdown",
   "metadata": {},
   "source": [
    "# Build CNN model"
   ]
  },
  {
   "cell_type": "markdown",
   "metadata": {},
   "source": [
    "## Hyperparameters"
   ]
  },
  {
   "cell_type": "code",
   "execution_count": 21,
   "metadata": {
    "collapsed": true
   },
   "outputs": [],
   "source": [
    "batch_size = 60\n",
    "seq_len = 128\n",
    "learning_rate = 0.01\n",
    "n_epochs = 100\n",
    "\n",
    "n_classes = 6\n",
    "n_channels = 9"
   ]
  },
  {
   "cell_type": "markdown",
   "metadata": {},
   "source": [
    "## the model"
   ]
  },
  {
   "cell_type": "code",
   "execution_count": 22,
   "metadata": {},
   "outputs": [],
   "source": [
    "tf.reset_default_graph()\n",
    "\n",
    "X = tf.placeholder(tf.float32, (None, seq_len, n_channels), name=\"X\")\n",
    "y = tf.placeholder(tf.int32, (None), name=\"y\")"
   ]
  },
  {
   "cell_type": "code",
   "execution_count": 23,
   "metadata": {
    "collapsed": true
   },
   "outputs": [],
   "source": [
    "with tf.name_scope(\"cnn\"):\n",
    "    \n",
    "    # Convolutional layers\n",
    "    conv1 = tf.layers.conv1d(X, \n",
    "                             filters=18, \n",
    "                             kernel_size=2, \n",
    "                             strides=1,\n",
    "                             padding=\"same\",\n",
    "                             activation=tf.nn.relu)\n",
    "    max_pool1 = tf.layers.max_pooling1d(conv1,\n",
    "                                 pool_size=4,\n",
    "                                 strides=4,\n",
    "                                 padding=\"same\")\n",
    "    conv2 = tf.layers.conv1d(max_pool1,\n",
    "                             filters=36, \n",
    "                             kernel_size=2,\n",
    "                             strides=1,\n",
    "                             padding=\"same\",\n",
    "                             activation=tf.nn.relu)\n",
    "    max_pool2 = tf.layers.max_pooling1d(conv2,\n",
    "                                        pool_size=4,\n",
    "                                        strides=4,\n",
    "                                        padding=\"same\")\n",
    "    conv3 = tf.layers.conv1d(max_pool2,\n",
    "                             filters=72,\n",
    "                             kernel_size=2,\n",
    "                             strides=1,\n",
    "                             padding=\"same\",\n",
    "                             activation=tf.nn.relu)\n",
    "    max_pool3 = tf.layers.max_pooling1d(conv3,\n",
    "                                        pool_size=4,\n",
    "                                        strides=4,\n",
    "                                        padding=\"same\")\n",
    "    \n",
    "    # Fully Connected layers\n",
    "    flat = tf.reshape(max_pool3, (-1, 2*72))\n",
    "    drop = tf.nn.dropout(flat, keep_prob=0.8)\n",
    "    \n",
    "    logits = tf.layers.dense(drop, n_classes)\n",
    "    \n",
    "    "
   ]
  },
  {
   "cell_type": "code",
   "execution_count": 24,
   "metadata": {},
   "outputs": [
    {
     "data": {
      "text/plain": [
       "TensorShape([Dimension(None), Dimension(6)])"
      ]
     },
     "execution_count": 24,
     "metadata": {},
     "output_type": "execute_result"
    }
   ],
   "source": [
    "logits.get_shape()"
   ]
  },
  {
   "cell_type": "code",
   "execution_count": 25,
   "metadata": {},
   "outputs": [],
   "source": [
    "with tf.name_scope(\"loss\"):\n",
    "    xentropy = tf.nn.sparse_softmax_cross_entropy_with_logits(logits=logits, labels=y)\n",
    "    loss = tf.reduce_mean(xentropy, name=\"loss\")"
   ]
  },
  {
   "cell_type": "code",
   "execution_count": 26,
   "metadata": {
    "collapsed": true
   },
   "outputs": [],
   "source": [
    "with tf.name_scope(\"train\"):\n",
    "    training_op = tf.train.AdamOptimizer(learning_rate=learning_rate).minimize(loss)"
   ]
  },
  {
   "cell_type": "code",
   "execution_count": 27,
   "metadata": {
    "collapsed": true
   },
   "outputs": [],
   "source": [
    "with tf.name_scope(\"eval\"):\n",
    "    #correct = tf.equal(tf.argmax(logits, 1), tf.argmax(y, 1))\n",
    "    correct = tf.nn.in_top_k(logits, y, 1)\n",
    "    accuracy = tf.reduce_mean(tf.cast(correct, tf.float32), name=\"accuracy\")"
   ]
  },
  {
   "cell_type": "code",
   "execution_count": 28,
   "metadata": {
    "collapsed": true
   },
   "outputs": [],
   "source": [
    "init = tf.global_variables_initializer()\n",
    "saver = tf.train.Saver()"
   ]
  },
  {
   "cell_type": "code",
   "execution_count": 36,
   "metadata": {
    "scrolled": false
   },
   "outputs": [
    {
     "name": "stdout",
     "output_type": "stream",
     "text": [
      "Epoch:  0 Valid accuracy:  0.775299\n",
      "Epoch:  1 Valid accuracy:  0.832971\n",
      "Epoch:  2 Valid accuracy:  0.849293\n",
      "Epoch:  3 Valid accuracy:  0.869423\n",
      "Epoch:  4 Valid accuracy:  0.821545\n",
      "Epoch:  5 Valid accuracy:  0.855822\n",
      "Epoch:  6 Valid accuracy:  0.848749\n",
      "Epoch:  7 Valid accuracy:  0.855277\n",
      "Epoch:  8 Valid accuracy:  0.872144\n",
      "Epoch:  9 Valid accuracy:  0.85691\n",
      "Epoch:  10 Valid accuracy:  0.825898\n",
      "Epoch:  11 Valid accuracy:  0.883025\n",
      "Epoch:  12 Valid accuracy:  0.902067\n",
      "Epoch:  13 Valid accuracy:  0.865615\n",
      "Epoch:  14 Valid accuracy:  0.89445\n",
      "Epoch:  15 Valid accuracy:  0.890098\n",
      "Epoch:  16 Valid accuracy:  0.884657\n",
      "Epoch:  17 Valid accuracy:  0.88901\n",
      "Epoch:  18 Valid accuracy:  0.898259\n",
      "Epoch:  19 Valid accuracy:  0.890098\n",
      "Epoch:  20 Valid accuracy:  0.865071\n",
      "Epoch:  21 Valid accuracy:  0.888466\n",
      "Epoch:  22 Valid accuracy:  0.897715\n",
      "Epoch:  23 Valid accuracy:  0.880849\n",
      "Epoch:  24 Valid accuracy:  0.898259\n",
      "Epoch:  25 Valid accuracy:  0.881937\n",
      "Epoch:  26 Valid accuracy:  0.887378\n",
      "Epoch:  27 Valid accuracy:  0.887378\n",
      "Epoch:  28 Valid accuracy:  0.895539\n",
      "Epoch:  29 Valid accuracy:  0.883025\n",
      "Epoch:  30 Valid accuracy:  0.886289\n",
      "Epoch:  31 Valid accuracy:  0.875408\n",
      "Epoch:  32 Valid accuracy:  0.897715\n",
      "Epoch:  33 Valid accuracy:  0.902067\n",
      "Epoch:  34 Valid accuracy:  0.885201\n",
      "Epoch:  35 Valid accuracy:  0.885745\n",
      "Epoch:  36 Valid accuracy:  0.877584\n",
      "Epoch:  37 Valid accuracy:  0.880305\n",
      "Epoch:  38 Valid accuracy:  0.894994\n",
      "Epoch:  39 Valid accuracy:  0.886833\n",
      "Epoch:  40 Valid accuracy:  0.899347\n",
      "Epoch:  41 Valid accuracy:  0.88901\n",
      "Epoch:  42 Valid accuracy:  0.896627\n",
      "Epoch:  43 Valid accuracy:  0.879761\n",
      "Epoch:  44 Valid accuracy:  0.876496\n",
      "Epoch:  45 Valid accuracy:  0.893362\n",
      "Epoch:  46 Valid accuracy:  0.886289\n",
      "Epoch:  47 Valid accuracy:  0.873776\n",
      "Epoch:  48 Valid accuracy:  0.880305\n",
      "Epoch:  49 Valid accuracy:  0.880305\n",
      "Epoch:  50 Valid accuracy:  0.885201\n",
      "Epoch:  51 Valid accuracy:  0.893906\n",
      "Epoch:  52 Valid accuracy:  0.862894\n",
      "Epoch:  53 Valid accuracy:  0.877584\n",
      "Epoch:  54 Valid accuracy:  0.881937\n",
      "Epoch:  55 Valid accuracy:  0.863438\n",
      "Epoch:  56 Valid accuracy:  0.869423\n",
      "Epoch:  57 Valid accuracy:  0.891186\n",
      "Epoch:  58 Valid accuracy:  0.887922\n",
      "Epoch:  59 Valid accuracy:  0.904244\n",
      "Epoch:  60 Valid accuracy:  0.884113\n",
      "Epoch:  61 Valid accuracy:  0.883025\n",
      "Epoch:  62 Valid accuracy:  0.885745\n",
      "Epoch:  63 Valid accuracy:  0.893362\n",
      "Epoch:  64 Valid accuracy:  0.903156\n",
      "Epoch:  65 Valid accuracy:  0.893362\n",
      "Epoch:  66 Valid accuracy:  0.880305\n",
      "Epoch:  67 Valid accuracy:  0.890098\n",
      "Epoch:  68 Valid accuracy:  0.890642\n",
      "Epoch:  69 Valid accuracy:  0.883025\n",
      "Epoch:  70 Valid accuracy:  0.8716\n",
      "Epoch:  71 Valid accuracy:  0.899891\n",
      "Epoch:  72 Valid accuracy:  0.888466\n",
      "Epoch:  73 Valid accuracy:  0.884113\n",
      "Epoch:  74 Valid accuracy:  0.9037\n",
      "Epoch:  75 Valid accuracy:  0.9037\n",
      "Epoch:  76 Valid accuracy:  0.899347\n",
      "Epoch:  77 Valid accuracy:  0.881393\n",
      "Epoch:  78 Valid accuracy:  0.886289\n",
      "Epoch:  79 Valid accuracy:  0.899891\n",
      "Epoch:  80 Valid accuracy:  0.871055\n",
      "Epoch:  81 Valid accuracy:  0.881937\n",
      "Epoch:  82 Valid accuracy:  0.873776\n",
      "Epoch:  83 Valid accuracy:  0.898803\n",
      "Epoch:  84 Valid accuracy:  0.875408\n",
      "Epoch:  85 Valid accuracy:  0.885745\n",
      "Epoch:  86 Valid accuracy:  0.890098\n",
      "Epoch:  87 Valid accuracy:  0.890642\n",
      "Epoch:  88 Valid accuracy:  0.896627\n",
      "Epoch:  89 Valid accuracy:  0.897171\n",
      "Epoch:  90 Valid accuracy:  0.884657\n",
      "Epoch:  91 Valid accuracy:  0.890098\n",
      "Epoch:  92 Valid accuracy:  0.888466\n",
      "Epoch:  93 Valid accuracy:  0.900435\n",
      "Epoch:  94 Valid accuracy:  0.886289\n",
      "Epoch:  95 Valid accuracy:  0.887378\n",
      "Epoch:  96 Valid accuracy:  0.885745\n",
      "Epoch:  97 Valid accuracy:  0.896083\n",
      "Epoch:  98 Valid accuracy:  0.884657\n",
      "Epoch:  99 Valid accuracy:  0.899347\n"
     ]
    }
   ],
   "source": [
    "with tf.Session() as sess:\n",
    "    sess.run(init)\n",
    "    \n",
    "    for epoch in range(n_epochs):\n",
    "        for X_batch, y_batch in get_batches(X_train, y_train, batch_size):\n",
    "            train_acc =  sess.run([training_op], feed_dict={X: X_batch, y: y_batch})\n",
    "        valid_acc = accuracy.eval(feed_dict={X: X_valid, y: y_valid})\n",
    "        \n",
    "        print(\"Epoch: \", epoch, \"Valid accuracy: \", valid_acc)\n",
    "    saver.save(sess, \"./har_cnn_model.ckpt\")"
   ]
  },
  {
   "cell_type": "code",
   "execution_count": 37,
   "metadata": {},
   "outputs": [
    {
     "name": "stdout",
     "output_type": "stream",
     "text": [
      "INFO:tensorflow:Restoring parameters from ./har_cnn_model.ckpt\n",
      "Test Accuracy:  0.949401\n"
     ]
    }
   ],
   "source": [
    "with tf.Session() as sess:\n",
    "    saver.restore(sess, \"./har_cnn_model.ckpt\")\n",
    "    test_acc = accuracy.eval(feed_dict={X: har_x_test, y: har_y_test})\n",
    "    print(\"Test Accuracy: \", test_acc)"
   ]
  },
  {
   "cell_type": "code",
   "execution_count": null,
   "metadata": {
    "collapsed": true
   },
   "outputs": [],
   "source": []
  }
 ],
 "metadata": {
  "kernelspec": {
   "display_name": "Python 3",
   "language": "python",
   "name": "python3"
  },
  "language_info": {
   "codemirror_mode": {
    "name": "ipython",
    "version": 3
   },
   "file_extension": ".py",
   "mimetype": "text/x-python",
   "name": "python",
   "nbconvert_exporter": "python",
   "pygments_lexer": "ipython3",
   "version": "3.6.1"
  }
 },
 "nbformat": 4,
 "nbformat_minor": 2
}
