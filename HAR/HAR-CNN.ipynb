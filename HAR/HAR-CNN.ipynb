{
 "cells": [
  {
   "cell_type": "code",
   "execution_count": 1,
   "metadata": {
    "collapsed": true
   },
   "outputs": [],
   "source": [
    "import numpy as np\n",
    "import os\n",
    "from utils.utilities import *\n",
    "from sklearn.model_selection import train_test_split\n",
    "import matplotlib.pyplot as plt\n",
    "%matplotlib inline"
   ]
  },
  {
   "cell_type": "code",
   "execution_count": 2,
   "metadata": {
    "collapsed": true
   },
   "outputs": [],
   "source": [
    "import tensorflow as tf"
   ]
  },
  {
   "cell_type": "code",
   "execution_count": 3,
   "metadata": {},
   "outputs": [
    {
     "name": "stdout",
     "output_type": "stream",
     "text": [
      "1.1.0\n"
     ]
    }
   ],
   "source": [
    "print(tf.__version__)"
   ]
  },
  {
   "cell_type": "markdown",
   "metadata": {},
   "source": [
    "## Load data"
   ]
  },
  {
   "cell_type": "code",
   "execution_count": 4,
   "metadata": {
    "collapsed": true
   },
   "outputs": [],
   "source": [
    "DATASET_PATH = \"./dataset/UCI HAR Dataset/\""
   ]
  },
  {
   "cell_type": "code",
   "execution_count": 5,
   "metadata": {
    "collapsed": true
   },
   "outputs": [],
   "source": [
    "INPUT_SIGNAL_TYPES = [\n",
    "    \"body_acc_x_\",\n",
    "    \"body_acc_y_\",\n",
    "    \"body_acc_z_\",\n",
    "    \"body_gyro_x_\",\n",
    "    \"body_gyro_y_\",\n",
    "    \"body_gyro_z_\",\n",
    "    \"total_acc_x_\",\n",
    "    \"total_acc_y_\",\n",
    "    \"total_acc_z_\"\n",
    "]"
   ]
  },
  {
   "cell_type": "code",
   "execution_count": 6,
   "metadata": {
    "collapsed": true
   },
   "outputs": [],
   "source": [
    "def normalize(dataset):\n",
    "    mu = np.mean(dataset,axis = 0)\n",
    "    sigma = np.std(dataset,axis = 0)\n",
    "    return (dataset - mu)/sigma"
   ]
  },
  {
   "cell_type": "code",
   "execution_count": 7,
   "metadata": {
    "collapsed": true
   },
   "outputs": [],
   "source": [
    "def load_X(X_signals_paths):\n",
    "    X_signals = []\n",
    "    \n",
    "    for signal_type_path in X_signals_paths:\n",
    "        with open(signal_type_path, \"r\") as f:\n",
    "            X_signals.append(\n",
    "                [np.array(serie, dtype=np.float32)\n",
    "                    for serie in [row.replace('  ', ' ').strip().split(' ') for row in f]]\n",
    "            )\n",
    "    \n",
    "    return np.transpose(X_signals, (1, 2, 0))\n",
    "\n",
    "def load_y(y_path):\n",
    "\n",
    "    # Read dataset from disk, dealing with text file's syntax\n",
    "    with open(y_path, \"r\") as f:\n",
    "        y = np.array(\n",
    "            [elem for elem in [\n",
    "                row.replace('  ', ' ').strip().split(' ') for row in f\n",
    "            ]], \n",
    "            dtype=np.int32\n",
    "        )\n",
    "            \n",
    "    y = y.reshape(-1,)\n",
    "    # Substract 1 to each output class for friendly 0-based indexing \n",
    "    return y - 1"
   ]
  },
  {
   "cell_type": "code",
   "execution_count": 8,
   "metadata": {
    "collapsed": true
   },
   "outputs": [],
   "source": [
    "X_train_signals_paths = [\n",
    "    DATASET_PATH + \"train/Inertial Signals/\" + signal + \"train.txt\" for signal in INPUT_SIGNAL_TYPES\n",
    "]\n",
    "X_test_signals_paths = [\n",
    "    DATASET_PATH + \"test/Inertial Signals/\" + signal + \"test.txt\" for signal in INPUT_SIGNAL_TYPES\n",
    "]"
   ]
  },
  {
   "cell_type": "code",
   "execution_count": 9,
   "metadata": {
    "collapsed": true
   },
   "outputs": [],
   "source": [
    "har_X_train = load_X(X_train_signals_paths)\n",
    "har_X_test = load_X(X_test_signals_paths)"
   ]
  },
  {
   "cell_type": "code",
   "execution_count": 10,
   "metadata": {
    "collapsed": true
   },
   "outputs": [],
   "source": [
    "y_train_path = DATASET_PATH + \"train/y_train.txt\"\n",
    "y_test_path = DATASET_PATH + \"test/y_test.txt\""
   ]
  },
  {
   "cell_type": "code",
   "execution_count": 11,
   "metadata": {
    "collapsed": true
   },
   "outputs": [],
   "source": [
    "har_y_train = load_y(y_train_path)\n",
    "har_y_test = load_y(y_test_path)"
   ]
  },
  {
   "cell_type": "code",
   "execution_count": 12,
   "metadata": {
    "scrolled": true
   },
   "outputs": [
    {
     "data": {
      "text/plain": [
       "array([[  1.80851493e-04,   1.07668098e-02,   5.55606782e-02,\n",
       "          3.01912203e-02,   6.60136193e-02,   2.28586402e-02,\n",
       "          1.01281703e+00,  -1.23216704e-01,   1.02934100e-01],\n",
       "       [  1.01385601e-02,   6.57948013e-03,   5.51248305e-02,\n",
       "          4.37107086e-02,   4.26989682e-02,   1.03157200e-02,\n",
       "          1.02283299e+00,  -1.26875594e-01,   1.05687201e-01],\n",
       "       [  9.27557424e-03,   8.92887823e-03,   4.84047309e-02,\n",
       "          3.56878005e-02,   7.48501793e-02,   1.32496897e-02,\n",
       "          1.02202797e+00,  -1.24003701e-01,   1.02102503e-01],\n",
       "       [  5.06589701e-03,   7.48868287e-03,   4.97749709e-02,\n",
       "          4.04020995e-02,   5.73197417e-02,   1.77512094e-02,\n",
       "          1.01787698e+00,  -1.24927901e-01,   1.06552698e-01],\n",
       "       [  1.08102504e-02,   6.14096597e-03,   4.30131406e-02,\n",
       "          4.70965393e-02,   5.23428395e-02,   2.55336706e-03,\n",
       "          1.02367997e+00,  -1.25766695e-01,   1.02813497e-01]], dtype=float32)"
      ]
     },
     "execution_count": 12,
     "metadata": {},
     "output_type": "execute_result"
    }
   ],
   "source": [
    "har_X_train[0,:5,:]"
   ]
  },
  {
   "cell_type": "code",
   "execution_count": 13,
   "metadata": {
    "collapsed": true
   },
   "outputs": [],
   "source": [
    "har_X_train_normed = normalize(har_X_train)\n",
    "\n",
    "har_X_test_normed = normalize(har_X_test)"
   ]
  },
  {
   "cell_type": "code",
   "execution_count": 14,
   "metadata": {
    "scrolled": false
   },
   "outputs": [
    {
     "data": {
      "text/plain": [
       "array([[ 0.0179253 ,  0.08916598,  0.45599705,  0.07384627,  0.15212578,\n",
       "         0.07611518,  0.50424069, -0.38581914,  0.03500727],\n",
       "       [ 0.0658422 ,  0.06247361,  0.45153531,  0.10030045,  0.08640711,\n",
       "         0.03174567,  0.5277757 , -0.39257327,  0.04352249],\n",
       "       [ 0.05548249,  0.08657477,  0.38995227,  0.08249854,  0.17086257,\n",
       "         0.04503585,  0.52233887, -0.38307676,  0.03290027],\n",
       "       [ 0.02846305,  0.06980946,  0.40222469,  0.09644815,  0.12866127,\n",
       "         0.06168577,  0.50963807, -0.38724896,  0.04469172],\n",
       "       [ 0.05352   ,  0.05137179,  0.34389135,  0.1155603 ,  0.12104151,\n",
       "        -0.00249764,  0.52176511, -0.39227575,  0.03471272]], dtype=float32)"
      ]
     },
     "execution_count": 14,
     "metadata": {},
     "output_type": "execute_result"
    }
   ],
   "source": [
    "har_X_train_normed[0,:5,:]"
   ]
  },
  {
   "cell_type": "markdown",
   "metadata": {},
   "source": [
    "## Prepare data"
   ]
  },
  {
   "cell_type": "code",
   "execution_count": 15,
   "metadata": {
    "collapsed": true
   },
   "outputs": [],
   "source": [
    "X_train, X_valid, y_train, y_valid = train_test_split(har_X_train_normed, har_y_train, random_state=42)"
   ]
  },
  {
   "cell_type": "code",
   "execution_count": 16,
   "metadata": {
    "scrolled": true
   },
   "outputs": [
    {
     "data": {
      "text/plain": [
       "((5514, 128, 9), (5514,))"
      ]
     },
     "execution_count": 16,
     "metadata": {},
     "output_type": "execute_result"
    }
   ],
   "source": [
    "X_train.shape, y_train.shape"
   ]
  },
  {
   "cell_type": "code",
   "execution_count": 17,
   "metadata": {},
   "outputs": [
    {
     "data": {
      "text/plain": [
       "(1838, 128, 9)"
      ]
     },
     "execution_count": 17,
     "metadata": {},
     "output_type": "execute_result"
    }
   ],
   "source": [
    "X_valid.shape"
   ]
  },
  {
   "cell_type": "code",
   "execution_count": 18,
   "metadata": {},
   "outputs": [
    {
     "data": {
      "text/plain": [
       "(2947, 128, 9)"
      ]
     },
     "execution_count": 18,
     "metadata": {},
     "output_type": "execute_result"
    }
   ],
   "source": [
    "har_X_test.shape"
   ]
  },
  {
   "cell_type": "code",
   "execution_count": 19,
   "metadata": {
    "scrolled": true
   },
   "outputs": [
    {
     "data": {
      "text/plain": [
       "array([[ 0.01165315, -0.02939904,  0.1068262 ,  0.4374637 ,  0.53134918,\n",
       "         0.1365279 ,  1.04121602, -0.26979589,  0.02377977],\n",
       "       [ 0.01310909, -0.03972867,  0.1524549 ,  0.4682641 ,  0.7210685 ,\n",
       "         0.09762239,  1.041803  , -0.28002501,  0.07629271]], dtype=float32)"
      ]
     },
     "execution_count": 19,
     "metadata": {},
     "output_type": "execute_result"
    }
   ],
   "source": [
    "har_X_test[0][:2]"
   ]
  },
  {
   "cell_type": "code",
   "execution_count": 20,
   "metadata": {
    "scrolled": false
   },
   "outputs": [
    {
     "data": {
      "text/plain": [
       "5"
      ]
     },
     "execution_count": 20,
     "metadata": {},
     "output_type": "execute_result"
    }
   ],
   "source": [
    "np.amax(har_y_test)"
   ]
  },
  {
   "cell_type": "code",
   "execution_count": 21,
   "metadata": {
    "scrolled": true
   },
   "outputs": [
    {
     "data": {
      "text/plain": [
       "5"
      ]
     },
     "execution_count": 21,
     "metadata": {},
     "output_type": "execute_result"
    }
   ],
   "source": [
    "np.amax(har_y_train)"
   ]
  },
  {
   "cell_type": "code",
   "execution_count": 22,
   "metadata": {
    "collapsed": true
   },
   "outputs": [],
   "source": [
    "from collections import Counter"
   ]
  },
  {
   "cell_type": "code",
   "execution_count": 23,
   "metadata": {
    "collapsed": true
   },
   "outputs": [],
   "source": [
    "c_test = Counter(har_y_test)"
   ]
  },
  {
   "cell_type": "code",
   "execution_count": 24,
   "metadata": {},
   "outputs": [
    {
     "data": {
      "text/plain": [
       "Counter({0: 496, 1: 471, 2: 420, 3: 491, 4: 532, 5: 537})"
      ]
     },
     "execution_count": 24,
     "metadata": {},
     "output_type": "execute_result"
    }
   ],
   "source": [
    "c_test"
   ]
  },
  {
   "cell_type": "code",
   "execution_count": 25,
   "metadata": {},
   "outputs": [
    {
     "data": {
      "text/plain": [
       "Counter({0: 1226, 1: 1073, 2: 986, 3: 1286, 4: 1374, 5: 1407})"
      ]
     },
     "execution_count": 25,
     "metadata": {},
     "output_type": "execute_result"
    }
   ],
   "source": [
    "c_train = Counter(har_y_train)\n",
    "c_train"
   ]
  },
  {
   "cell_type": "markdown",
   "metadata": {},
   "source": [
    "# Build CNN model"
   ]
  },
  {
   "cell_type": "markdown",
   "metadata": {},
   "source": [
    "## Hyperparameters"
   ]
  },
  {
   "cell_type": "code",
   "execution_count": 105,
   "metadata": {
    "collapsed": true
   },
   "outputs": [],
   "source": [
    "batch_size = 200\n",
    "learning_rate = 0.001\n",
    "n_epochs = 100\n",
    "\n",
    "# outputs\n",
    "n_classes = 6\n",
    "\n",
    "seq_len = 128\n",
    "n_channels = 9"
   ]
  },
  {
   "cell_type": "code",
   "execution_count": 27,
   "metadata": {
    "collapsed": true
   },
   "outputs": [],
   "source": [
    "n_batches = X_train.shape[0] // batch_size"
   ]
  },
  {
   "cell_type": "markdown",
   "metadata": {},
   "source": [
    "## first CNN model"
   ]
  },
  {
   "cell_type": "code",
   "execution_count": 28,
   "metadata": {
    "collapsed": true
   },
   "outputs": [],
   "source": [
    "tf.reset_default_graph()\n",
    "\n",
    "X = tf.placeholder(tf.float32, (None, seq_len, n_channels), name=\"X\")\n",
    "y = tf.placeholder(tf.int32, (None), name=\"y\")\n",
    "\n",
    "# is in training phase\n",
    "training = tf.placeholder_with_default(False, shape=(), name=\"training\")\n"
   ]
  },
  {
   "cell_type": "code",
   "execution_count": 29,
   "metadata": {},
   "outputs": [
    {
     "name": "stdout",
     "output_type": "stream",
     "text": [
      "[None, 128, 64]\n"
     ]
    }
   ],
   "source": [
    "with tf.name_scope(\"cnn\"):\n",
    "    \n",
    "    # Convolutional layers\n",
    "    conv1 = tf.layers.conv1d(X, \n",
    "                             filters=32, \n",
    "                             kernel_size=2, \n",
    "                             strides=1,\n",
    "                             padding=\"same\",\n",
    "                             activation=tf.nn.relu)\n",
    "\n",
    "    conv2 = tf.layers.conv1d(conv1,\n",
    "                             filters=64, \n",
    "                             kernel_size=2,\n",
    "                             strides=1,\n",
    "                             padding=\"same\",\n",
    "                             activation=tf.nn.relu)\n",
    "\n",
    "    \n",
    "    last_shape = conv2.get_shape().as_list()\n",
    "    print(last_shape)\n",
    "    # Fully Connected layers\n",
    "    flat = tf.reshape(conv2, (-1, last_shape[1] * last_shape[2]))\n",
    "   \n",
    "    fc1 = tf.layers.dense(flat, 100, activation=tf.nn.relu)\n",
    "    fc2 = tf.layers.dense(fc1, 100, activation=tf.nn.relu)\n",
    "    \n",
    "    logits = tf.layers.dense(fc2, n_classes)\n",
    "    \n",
    "    "
   ]
  },
  {
   "cell_type": "code",
   "execution_count": 30,
   "metadata": {},
   "outputs": [
    {
     "data": {
      "text/plain": [
       "TensorShape([Dimension(None), Dimension(6)])"
      ]
     },
     "execution_count": 30,
     "metadata": {},
     "output_type": "execute_result"
    }
   ],
   "source": [
    "logits.get_shape()"
   ]
  },
  {
   "cell_type": "code",
   "execution_count": 31,
   "metadata": {
    "collapsed": true
   },
   "outputs": [],
   "source": [
    "with tf.name_scope(\"loss\"):\n",
    "    xentropy = tf.nn.sparse_softmax_cross_entropy_with_logits(logits=logits, labels=y)\n",
    "    loss = tf.reduce_mean(xentropy, name=\"loss\")"
   ]
  },
  {
   "cell_type": "code",
   "execution_count": 32,
   "metadata": {
    "collapsed": true
   },
   "outputs": [],
   "source": [
    "with tf.name_scope(\"train\"):\n",
    "    optimizer = tf.train.AdamOptimizer(learning_rate=learning_rate)\n",
    "    training_op = optimizer.minimize(loss)"
   ]
  },
  {
   "cell_type": "code",
   "execution_count": 33,
   "metadata": {
    "collapsed": true
   },
   "outputs": [],
   "source": [
    "with tf.name_scope(\"eval\"):\n",
    "    #correct = tf.equal(tf.argmax(logits, 1), tf.argmax(y, 1))\n",
    "    correct = tf.nn.in_top_k(logits, y, 1)\n",
    "    accuracy = tf.reduce_mean(tf.cast(correct, tf.float32), name=\"accuracy\")"
   ]
  },
  {
   "cell_type": "code",
   "execution_count": 34,
   "metadata": {
    "collapsed": true
   },
   "outputs": [],
   "source": [
    "init = tf.global_variables_initializer()\n",
    "saver = tf.train.Saver()"
   ]
  },
  {
   "cell_type": "code",
   "execution_count": 35,
   "metadata": {
    "scrolled": false
   },
   "outputs": [
    {
     "name": "stdout",
     "output_type": "stream",
     "text": [
      "Epoch:  0 Valid accuracy:  0.755169\n",
      "Epoch:  10 Valid accuracy:  0.939608\n",
      "Epoch:  20 Valid accuracy:  0.945049\n",
      "Epoch:  30 Valid accuracy:  0.957563\n",
      "Epoch:  40 Valid accuracy:  0.957018\n",
      "Epoch:  50 Valid accuracy:  0.957018\n",
      "Epoch:  60 Valid accuracy:  0.961915\n",
      "Epoch:  70 Valid accuracy:  0.963547\n",
      "Epoch:  80 Valid accuracy:  0.963003\n",
      "Epoch:  90 Valid accuracy:  0.954298\n",
      "Epoch:  100 Valid accuracy:  0.967356\n",
      "Epoch:  110 Valid accuracy:  0.966812\n",
      "Epoch:  120 Valid accuracy:  0.972796\n",
      "Epoch:  130 Valid accuracy:  0.973341\n",
      "Epoch:  140 Valid accuracy:  0.972796\n",
      "Epoch:  150 Valid accuracy:  0.973885\n",
      "Epoch:  160 Valid accuracy:  0.972252\n",
      "Epoch:  170 Valid accuracy:  0.974973\n",
      "Epoch:  180 Valid accuracy:  0.975517\n",
      "Epoch:  190 Valid accuracy:  0.973885\n"
     ]
    }
   ],
   "source": [
    "with tf.Session() as sess:\n",
    "    sess.run(init)\n",
    "    \n",
    "    for epoch in range(n_epochs):\n",
    "        shuffled_idx = np.random.permutation(X_train.shape[0])\n",
    "        X_random = X_train[shuffled_idx]\n",
    "        y_random = y_train[shuffled_idx]\n",
    "        for i in range(n_batches):\n",
    "            X_batch = X_random[i * batch_size:(i+1) * batch_size]\n",
    "            y_batch = y_random[i * batch_size:(i+1) * batch_size]\n",
    "            train_acc =  sess.run([training_op], feed_dict={X: X_batch, y: y_batch, training: True})\n",
    "        valid_acc = accuracy.eval(feed_dict={X: X_valid, y: y_valid})\n",
    "        \n",
    "        if epoch % 10 == 0:\n",
    "            print(\"Epoch: \", epoch, \"Valid accuracy: \", valid_acc)\n",
    "    saver.save(sess, \"./model/har_cnn_model.ckpt\")"
   ]
  },
  {
   "cell_type": "code",
   "execution_count": 36,
   "metadata": {},
   "outputs": [
    {
     "name": "stdout",
     "output_type": "stream",
     "text": [
      "INFO:tensorflow:Restoring parameters from ./model/har_cnn_model.ckpt\n",
      "Test Accuracy:  0.902952\n"
     ]
    }
   ],
   "source": [
    "with tf.Session() as sess:\n",
    "    saver.restore(sess, \"./model/har_cnn_model.ckpt\")\n",
    "    test_acc = accuracy.eval(feed_dict={X: har_X_test_normed, y: har_y_test})\n",
    "    print(\"Test Accuracy: \", test_acc)"
   ]
  },
  {
   "cell_type": "code",
   "execution_count": null,
   "metadata": {
    "collapsed": true
   },
   "outputs": [],
   "source": []
  },
  {
   "cell_type": "markdown",
   "metadata": {},
   "source": [
    "## CNN model with batch norm"
   ]
  },
  {
   "cell_type": "code",
   "execution_count": 37,
   "metadata": {
    "collapsed": true
   },
   "outputs": [],
   "source": [
    "tf.reset_default_graph()\n",
    "\n",
    "X = tf.placeholder(tf.float32, (None, seq_len, n_channels), name=\"X\")\n",
    "y = tf.placeholder(tf.int32, (None), name=\"y\")\n",
    "\n",
    "# is in training phase\n",
    "training = tf.placeholder_with_default(False, shape=(), name=\"training\")\n",
    "\n",
    "# learning rate exponential decay\n",
    "global_step = tf.Variable(0, trainable=False)\n",
    "starter_learning_rate = 0.01\n",
    "learning_rate = tf.train.exponential_decay(starter_learning_rate, global_step,\n",
    "                                           100, 0.96, staircase=True)"
   ]
  },
  {
   "cell_type": "code",
   "execution_count": 38,
   "metadata": {},
   "outputs": [
    {
     "name": "stdout",
     "output_type": "stream",
     "text": [
      "[None, 16, 96]\n"
     ]
    }
   ],
   "source": [
    "with tf.name_scope(\"cnn\"):\n",
    "    \n",
    "    # Convolutional layers\n",
    "    conv1 = tf.layers.conv1d(X, \n",
    "                             filters=32, \n",
    "                             kernel_size=2, \n",
    "                             strides=1,\n",
    "                             padding=\"same\",\n",
    "                             activation=tf.nn.relu)\n",
    "    max_pool_1 = tf.layers.max_pooling1d(inputs=conv1, pool_size=2, strides=2, padding='same')\n",
    "\n",
    "    conv2 = tf.layers.conv1d(max_pool_1,\n",
    "                             filters=64, \n",
    "                             kernel_size=2,\n",
    "                             strides=1,\n",
    "                             padding=\"same\",\n",
    "                             activation=tf.nn.relu)\n",
    "    max_pool_2 = tf.layers.max_pooling1d(inputs=conv2, pool_size=2, strides=2, padding='same')\n",
    "\n",
    "    conv3 = tf.layers.conv1d(max_pool_2,\n",
    "                             filters=96, \n",
    "                             kernel_size=2,\n",
    "                             strides=1,\n",
    "                             padding=\"same\",\n",
    "                             activation=tf.nn.relu)\n",
    "    max_pool_3 = tf.layers.max_pooling1d(inputs=conv3, pool_size=2, strides=2, padding='same')\n",
    "    \n",
    "    last_shape = max_pool_3.get_shape().as_list()\n",
    "    print(last_shape)\n",
    "    # Fully Connected layers\n",
    "    flat = tf.reshape(max_pool_3, (-1, last_shape[1] * last_shape[2]))\n",
    "    #drop = tf.nn.dropout(flat, keep_prob=1.0, training=training)\n",
    "    \n",
    "    fc1 = tf.layers.dense(flat, 100)\n",
    "    bn_fc1 = tf.layers.batch_normalization(fc1, training=training)\n",
    "    bn_fc1_act = tf.nn.relu(bn_fc1)\n",
    "    \n",
    "    fc2 = tf.layers.dense(bn_fc1_act, 100)\n",
    "    bn_fc2 = tf.layers.batch_normalization(fc2, training=training)\n",
    "    bn_fc2_act = tf.nn.relu(bn_fc2)\n",
    "    \n",
    "    logits_before_bn = tf.layers.dense(bn_fc2_act, n_classes)\n",
    "    logits = tf.layers.batch_normalization(logits_before_bn, training=training)\n",
    "    #logits = tf.layers.dense(bn_fc2_act, n_classes)\n",
    "    \n",
    "    "
   ]
  },
  {
   "cell_type": "code",
   "execution_count": 39,
   "metadata": {},
   "outputs": [
    {
     "data": {
      "text/plain": [
       "TensorShape([Dimension(None), Dimension(6)])"
      ]
     },
     "execution_count": 39,
     "metadata": {},
     "output_type": "execute_result"
    }
   ],
   "source": [
    "logits.get_shape()"
   ]
  },
  {
   "cell_type": "code",
   "execution_count": 40,
   "metadata": {
    "collapsed": true
   },
   "outputs": [],
   "source": [
    "with tf.name_scope(\"loss\"):\n",
    "    xentropy = tf.nn.sparse_softmax_cross_entropy_with_logits(logits=logits, labels=y)\n",
    "    loss = tf.reduce_mean(xentropy, name=\"loss\")"
   ]
  },
  {
   "cell_type": "code",
   "execution_count": 41,
   "metadata": {
    "collapsed": true
   },
   "outputs": [],
   "source": [
    "with tf.name_scope(\"train\"):\n",
    "    extra_update_ops = tf.get_collection(tf.GraphKeys.UPDATE_OPS)\n",
    "    with tf.control_dependencies(extra_update_ops):\n",
    "        optimizer = tf.train.AdamOptimizer(learning_rate=learning_rate)\n",
    "        training_op = optimizer.minimize(loss, global_step=global_step)"
   ]
  },
  {
   "cell_type": "code",
   "execution_count": 42,
   "metadata": {
    "collapsed": true
   },
   "outputs": [],
   "source": [
    "with tf.name_scope(\"eval\"):\n",
    "    #correct = tf.equal(tf.argmax(logits, 1), tf.argmax(y, 1))\n",
    "    correct = tf.nn.in_top_k(logits, y, 1)\n",
    "    accuracy = tf.reduce_mean(tf.cast(correct, tf.float32), name=\"accuracy\")"
   ]
  },
  {
   "cell_type": "code",
   "execution_count": 43,
   "metadata": {
    "collapsed": true
   },
   "outputs": [],
   "source": [
    "init = tf.global_variables_initializer()\n",
    "saver = tf.train.Saver()"
   ]
  },
  {
   "cell_type": "code",
   "execution_count": 44,
   "metadata": {
    "scrolled": false
   },
   "outputs": [
    {
     "name": "stdout",
     "output_type": "stream",
     "text": [
      "Epoch:  0 Learning rate: 0.01 Valid accuracy:  0.139282\n",
      "Epoch:  10 Learning rate: 0.01 Valid accuracy:  0.960283\n",
      "Epoch:  20 Learning rate: 0.0096 Valid accuracy:  0.978781\n",
      "Epoch:  30 Learning rate: 0.009216 Valid accuracy:  0.975517\n",
      "Epoch:  40 Learning rate: 0.00884736 Valid accuracy:  0.983134\n",
      "Epoch:  50 Learning rate: 0.00849346 Valid accuracy:  0.980413\n",
      "Epoch:  60 Learning rate: 0.00815373 Valid accuracy:  0.98531\n",
      "Epoch:  70 Learning rate: 0.00782758 Valid accuracy:  0.980413\n",
      "Epoch:  80 Learning rate: 0.00751447 Valid accuracy:  0.988575\n",
      "Epoch:  90 Learning rate: 0.00721389 Valid accuracy:  0.989663\n",
      "Epoch:  100 Learning rate: 0.00692534 Valid accuracy:  0.990751\n",
      "Epoch:  110 Learning rate: 0.00692534 Valid accuracy:  0.991295\n",
      "Epoch:  120 Learning rate: 0.00664832 Valid accuracy:  0.991295\n",
      "Epoch:  130 Learning rate: 0.00638239 Valid accuracy:  0.991839\n",
      "Epoch:  140 Learning rate: 0.0061271 Valid accuracy:  0.991839\n",
      "Epoch:  150 Learning rate: 0.00588201 Valid accuracy:  0.991839\n",
      "Epoch:  160 Learning rate: 0.00564673 Valid accuracy:  0.991839\n",
      "Epoch:  170 Learning rate: 0.00542086 Valid accuracy:  0.991839\n",
      "Epoch:  180 Learning rate: 0.00520403 Valid accuracy:  0.991839\n",
      "Epoch:  190 Learning rate: 0.00499587 Valid accuracy:  0.991839\n"
     ]
    }
   ],
   "source": [
    "with tf.Session() as sess:\n",
    "    sess.run(init)\n",
    "    \n",
    "    for epoch in range(n_epochs):\n",
    "        shuffled_idx = np.random.permutation(X_train.shape[0])\n",
    "        X_random = X_train[shuffled_idx]\n",
    "        y_random = y_train[shuffled_idx]\n",
    "        for i in range(n_batches):\n",
    "            X_batch = X_random[i * batch_size:(i+1) * batch_size]\n",
    "            y_batch = y_random[i * batch_size:(i+1) * batch_size]\n",
    "            train_acc =  sess.run([training_op], feed_dict={X: X_batch, y: y_batch, training: True})\n",
    "        valid_acc = accuracy.eval(feed_dict={X: X_valid, y: y_valid})\n",
    "        \n",
    "        if epoch % 10 == 0:\n",
    "            print(\"Epoch: \", epoch,\"Learning rate:\", sess.run(optimizer._lr), \"Valid accuracy: \", valid_acc)\n",
    "    saver.save(sess, \"./model/har_cnn_model.ckpt\")"
   ]
  },
  {
   "cell_type": "code",
   "execution_count": 45,
   "metadata": {
    "scrolled": true
   },
   "outputs": [
    {
     "name": "stdout",
     "output_type": "stream",
     "text": [
      "INFO:tensorflow:Restoring parameters from ./model/har_cnn_model.ckpt\n",
      "Valid accuracy:  0.992383\n",
      "Test Accuracy:  0.943332\n"
     ]
    }
   ],
   "source": [
    "with tf.Session() as sess:\n",
    "    saver.restore(sess, \"./model/har_cnn_model.ckpt\")\n",
    "    valid_acc = accuracy.eval(feed_dict={X: X_valid, y: y_valid})\n",
    "    test_acc = accuracy.eval(feed_dict={X: har_X_test_normed, y: har_y_test})\n",
    "    print(\"Valid accuracy: \", valid_acc)\n",
    "    print(\"Test Accuracy: \", test_acc)"
   ]
  },
  {
   "cell_type": "code",
   "execution_count": null,
   "metadata": {
    "collapsed": true
   },
   "outputs": [],
   "source": []
  },
  {
   "cell_type": "markdown",
   "metadata": {},
   "source": [
    "## CNN model with more regularization"
   ]
  },
  {
   "cell_type": "code",
   "execution_count": 182,
   "metadata": {
    "collapsed": true
   },
   "outputs": [],
   "source": [
    "dropout_rate=0.3\n",
    "n_epochs = 800"
   ]
  },
  {
   "cell_type": "code",
   "execution_count": 183,
   "metadata": {
    "collapsed": true
   },
   "outputs": [],
   "source": [
    "tf.reset_default_graph()\n",
    "\n",
    "X = tf.placeholder(tf.float32, (None, seq_len, n_channels), name=\"X\")\n",
    "y = tf.placeholder(tf.int32, (None), name=\"y\")\n",
    "\n",
    "# is in training phase\n",
    "training = tf.placeholder_with_default(False, shape=(), name=\"training\")\n",
    "\n",
    "# learning rate exponential decay\n",
    "global_step = tf.Variable(0, trainable=False)\n",
    "starter_learning_rate = 0.0001\n",
    "learning_rate = tf.train.exponential_decay(starter_learning_rate, global_step,\n",
    "                                           400, 0.96, staircase=True)"
   ]
  },
  {
   "cell_type": "code",
   "execution_count": 184,
   "metadata": {},
   "outputs": [
    {
     "name": "stdout",
     "output_type": "stream",
     "text": [
      "[None, 16, 96]\n"
     ]
    }
   ],
   "source": [
    "with tf.name_scope(\"cnn\"):\n",
    "    \n",
    "    # Convolutional layers\n",
    "    conv1 = tf.layers.conv1d(X, \n",
    "                             filters=96, \n",
    "                             kernel_size=2, \n",
    "                             strides=1,\n",
    "                             padding=\"same\",\n",
    "                             activation=tf.nn.relu)\n",
    "    max_pool_1 = tf.layers.max_pooling1d(inputs=conv1, pool_size=2, strides=2, padding='same')\n",
    "    #drop1 = tf.layers.dropout(max_pool_1, dropout_rate, training=training)\n",
    "    \n",
    "    conv2 = tf.layers.conv1d(max_pool_1,\n",
    "                             filters=256, \n",
    "                             kernel_size=2,\n",
    "                             strides=1,\n",
    "                             padding=\"same\",\n",
    "                             activation=tf.nn.relu)\n",
    "    max_pool_2 = tf.layers.max_pooling1d(inputs=conv2, pool_size=2, strides=2, padding='same')\n",
    "    #drop2 = tf.layers.dropout(max_pool_2, dropout_rate, training=training)\n",
    "    \n",
    "    conv3 = tf.layers.conv1d(max_pool_2,\n",
    "                             filters=96, \n",
    "                             kernel_size=5,\n",
    "                             strides=1,\n",
    "                             padding=\"same\",\n",
    "                             activation=tf.nn.relu)\n",
    "    max_pool_3 = tf.layers.max_pooling1d(inputs=conv3, pool_size=2, strides=2, padding='same')\n",
    "    #drop3 = tf.layers.dropout(max_pool_3, dropout_rate, training=training)\n",
    "    \n",
    "    last_shape = max_pool_3.get_shape().as_list()\n",
    "    print(last_shape)\n",
    "    # Fully Connected layers\n",
    "    flat = tf.reshape(max_pool_3, (-1, last_shape[1] * last_shape[2]))\n",
    "    \n",
    "    \n",
    "    fc1 = tf.layers.dense(flat, 300, kernel_regularizer=tf.contrib.layers.l2_regularizer(0.0001))\n",
    "    bn_fc1 = tf.layers.batch_normalization(fc1, training=training)\n",
    "    bn_fc1_act = tf.nn.relu(bn_fc1)\n",
    "    drop1 = tf.layers.dropout(bn_fc1_act, dropout_rate, training=training)\n",
    "    \n",
    "    fc2 = tf.layers.dense(drop1, 300, kernel_regularizer=tf.contrib.layers.l2_regularizer(0.0001))\n",
    "    bn_fc2 = tf.layers.batch_normalization(fc2, training=training)\n",
    "    bn_fc2_act = tf.nn.relu(bn_fc2)\n",
    "    drop2 = tf.layers.dropout(bn_fc2_act, dropout_rate, training=training)\n",
    "    \n",
    "    logits_before_bn = tf.layers.dense(drop2, n_classes)\n",
    "    logits = tf.layers.batch_normalization(logits_before_bn, training=training)\n",
    "    #logits = tf.layers.dense(flat, n_classes)\n",
    "    \n",
    "    "
   ]
  },
  {
   "cell_type": "code",
   "execution_count": 185,
   "metadata": {},
   "outputs": [
    {
     "data": {
      "text/plain": [
       "TensorShape([Dimension(None), Dimension(6)])"
      ]
     },
     "execution_count": 185,
     "metadata": {},
     "output_type": "execute_result"
    }
   ],
   "source": [
    "logits.get_shape()"
   ]
  },
  {
   "cell_type": "code",
   "execution_count": 186,
   "metadata": {},
   "outputs": [],
   "source": [
    "with tf.name_scope(\"loss\"):\n",
    "    xentropy = tf.nn.sparse_softmax_cross_entropy_with_logits(logits=logits, labels=y)\n",
    "    reg_loss = tf.get_collection(tf.GraphKeys.REGULARIZATION_LOSSES)\n",
    "    loss = tf.add_n(reg_loss + [tf.reduce_mean(xentropy)], name=\"loss\")"
   ]
  },
  {
   "cell_type": "code",
   "execution_count": 187,
   "metadata": {},
   "outputs": [],
   "source": [
    "with tf.name_scope(\"train\"):\n",
    "    extra_update_ops = tf.get_collection(tf.GraphKeys.UPDATE_OPS)\n",
    "    with tf.control_dependencies(extra_update_ops):\n",
    "        #optimizer = tf.train.MomentumOptimizer(learning_rate=learning_rate, momentum=0.9)\n",
    "        optimizer = tf.train.AdamOptimizer(learning_rate=learning_rate)\n",
    "        training_op = optimizer.minimize(loss, global_step=global_step)"
   ]
  },
  {
   "cell_type": "code",
   "execution_count": 188,
   "metadata": {
    "collapsed": true
   },
   "outputs": [],
   "source": [
    "with tf.name_scope(\"eval\"):\n",
    "    #correct = tf.equal(tf.argmax(logits, 1), tf.argmax(y, 1))\n",
    "    correct = tf.nn.in_top_k(logits, y, 1)\n",
    "    accuracy = tf.reduce_mean(tf.cast(correct, tf.float32), name=\"accuracy\")"
   ]
  },
  {
   "cell_type": "code",
   "execution_count": 189,
   "metadata": {
    "collapsed": true
   },
   "outputs": [],
   "source": [
    "init = tf.global_variables_initializer()\n",
    "saver = tf.train.Saver()"
   ]
  },
  {
   "cell_type": "code",
   "execution_count": 191,
   "metadata": {
    "scrolled": true
   },
   "outputs": [
    {
     "name": "stdout",
     "output_type": "stream",
     "text": [
      "Epoch:  0 Loss:  1.33341 Valid accuracy:  0.182807\n",
      "Epoch:  5 Loss:  0.821939 Valid accuracy:  0.616975\n",
      "Epoch:  10 Loss:  0.675122 Valid accuracy:  0.92111\n",
      "Epoch:  15 Loss:  0.566769 Valid accuracy:  0.945593\n",
      "Epoch:  20 Loss:  0.594539 Valid accuracy:  0.952122\n",
      "Epoch:  25 Loss:  0.474179 Valid accuracy:  0.951034\n",
      "Epoch:  30 Loss:  0.49471 Valid accuracy:  0.955386\n",
      "Epoch:  35 Loss:  0.490799 Valid accuracy:  0.958107\n",
      "Epoch:  40 Loss:  0.435741 Valid accuracy:  0.957018\n",
      "Epoch:  45 Loss:  0.511263 Valid accuracy:  0.958107\n",
      "Epoch:  50 Loss:  0.448011 Valid accuracy:  0.957562\n",
      "Epoch:  55 Loss:  0.442497 Valid accuracy:  0.957563\n",
      "Epoch:  60 Loss:  0.411824 Valid accuracy:  0.955386\n",
      "Epoch:  65 Loss:  0.415154 Valid accuracy:  0.957563\n",
      "Epoch:  70 Loss:  0.436305 Valid accuracy:  0.957562\n",
      "Epoch:  75 Loss:  0.393108 Valid accuracy:  0.958107\n",
      "Epoch:  80 Loss:  0.416108 Valid accuracy:  0.960827\n",
      "Epoch:  85 Loss:  0.399803 Valid accuracy:  0.961371\n",
      "Epoch:  90 Loss:  0.370778 Valid accuracy:  0.963547\n",
      "Epoch:  95 Loss:  0.386015 Valid accuracy:  0.965724\n",
      "Best Loss:  0.370778\n"
     ]
    }
   ],
   "source": [
    "best_loss = np.infty\n",
    "epochs_without_progress = 0\n",
    "max_epochs_without_progress=50\n",
    "\n",
    "with tf.Session() as sess:\n",
    "    sess.run(init)\n",
    "    \n",
    "    for epoch in range(n_epochs):\n",
    "        shuffled_idx = np.random.permutation(X_train.shape[0])\n",
    "        X_random = X_train[shuffled_idx]\n",
    "        y_random = y_train[shuffled_idx]\n",
    "        \n",
    "        for i in range(n_batches):\n",
    "            X_batch = X_random[i * batch_size:(i+1) * batch_size]\n",
    "            y_batch = y_random[i * batch_size:(i+1) * batch_size]\n",
    "            train_acc, loss_val =  sess.run([training_op, loss], feed_dict={X: X_batch, y: y_batch, training: True})\n",
    "        \n",
    "        \n",
    "        if epoch % 5 == 0:\n",
    "            valid_acc = accuracy.eval(feed_dict={X: X_valid, y: y_valid})\n",
    "            print(\"Epoch: \", epoch, \"Loss: \", loss_val, \"Valid accuracy: \", valid_acc)\n",
    "            if np.around(loss_val, decimals=3) < best_loss:\n",
    "                saver.save(sess, \"./model/har_cnn_model.ckpt\")\n",
    "                best_loss = loss_val\n",
    "            else:\n",
    "                epochs_without_progress +=5\n",
    "                if epochs_without_progress > max_epochs_without_progress:\n",
    "                    break\n",
    "                    \n",
    "    print(\"Best Loss: \", best_loss)"
   ]
  },
  {
   "cell_type": "code",
   "execution_count": 192,
   "metadata": {
    "scrolled": false
   },
   "outputs": [
    {
     "name": "stdout",
     "output_type": "stream",
     "text": [
      "INFO:tensorflow:Restoring parameters from ./model/har_cnn_model.ckpt\n",
      "Valid accuracy:  0.963547\n",
      "Test Accuracy:  0.938242\n"
     ]
    }
   ],
   "source": [
    "with tf.Session() as sess:\n",
    "    saver.restore(sess, \"./model/har_cnn_model.ckpt\")\n",
    "    valid_acc = accuracy.eval(feed_dict={X: X_valid, y: y_valid})\n",
    "    test_acc = accuracy.eval(feed_dict={X: har_X_test_normed, y: har_y_test})\n",
    "    print(\"Valid accuracy: \", valid_acc)\n",
    "    print(\"Test Accuracy: \", test_acc)"
   ]
  },
  {
   "cell_type": "code",
   "execution_count": null,
   "metadata": {
    "collapsed": true
   },
   "outputs": [],
   "source": []
  },
  {
   "cell_type": "code",
   "execution_count": null,
   "metadata": {
    "collapsed": true
   },
   "outputs": [],
   "source": []
  }
 ],
 "metadata": {
  "kernelspec": {
   "display_name": "Python 3",
   "language": "python",
   "name": "python3"
  },
  "language_info": {
   "codemirror_mode": {
    "name": "ipython",
    "version": 3
   },
   "file_extension": ".py",
   "mimetype": "text/x-python",
   "name": "python",
   "nbconvert_exporter": "python",
   "pygments_lexer": "ipython3",
   "version": "3.6.2"
  }
 },
 "nbformat": 4,
 "nbformat_minor": 2
}
