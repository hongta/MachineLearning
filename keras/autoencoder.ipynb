{
 "cells": [
  {
   "cell_type": "markdown",
   "metadata": {},
   "source": [
    "source: https://blog.keras.io/building-autoencoders-in-keras.html"
   ]
  },
  {
   "cell_type": "code",
   "execution_count": 1,
   "metadata": {
    "collapsed": true
   },
   "outputs": [],
   "source": [
    "import os\n",
    "os.environ['KERAS_BACKEND'] = 'tensorflow'"
   ]
  },
  {
   "cell_type": "code",
   "execution_count": 2,
   "metadata": {},
   "outputs": [
    {
     "name": "stderr",
     "output_type": "stream",
     "text": [
      "Using TensorFlow backend.\n"
     ]
    }
   ],
   "source": [
    "from keras.layers import Input, Dense\n",
    "from keras.models import Model"
   ]
  },
  {
   "cell_type": "markdown",
   "metadata": {},
   "source": [
    "## first autoencoder"
   ]
  },
  {
   "cell_type": "code",
   "execution_count": 3,
   "metadata": {
    "collapsed": true
   },
   "outputs": [],
   "source": [
    "#model 1\n",
    "\n",
    "# the size of encoded repressentations\n",
    "encoding_dim = 32\n",
    "\n",
    "input_img = Input(shape=(784,))\n",
    "encoded = Dense(encoding_dim, activation='relu')(input_img)\n",
    "# \"decoded\" is the lossy reconstruction of the input\n",
    "decoded = Dense(784, activation='sigmoid')(encoded)\n",
    "\n",
    "autoencoder = Model(input_img, decoded)"
   ]
  },
  {
   "cell_type": "code",
   "execution_count": 4,
   "metadata": {
    "collapsed": true
   },
   "outputs": [],
   "source": [
    "# model 2 encoder\n",
    "\n",
    "# this model maps input to its encoded representaion\n",
    "encoder = Model(input_img, encoded)\n",
    "\n"
   ]
  },
  {
   "cell_type": "code",
   "execution_count": 5,
   "metadata": {
    "collapsed": true
   },
   "outputs": [],
   "source": [
    "# model 3 decoder\n",
    "\n",
    "encoded_input = Input(shape=(encoding_dim,))\n",
    "\n",
    "# retrieve the last layer of the autoencoder model\n",
    "decoder_layer = autoencoder.layers[-1]\n",
    "\n",
    "decoder = Model(encoded_input, decoder_layer(encoded_input))"
   ]
  },
  {
   "cell_type": "code",
   "execution_count": 6,
   "metadata": {
    "collapsed": true
   },
   "outputs": [],
   "source": [
    "# model 1\n",
    "autoencoder.compile(optimizer='adadelta',\n",
    "                    loss='binary_crossentropy')"
   ]
  },
  {
   "cell_type": "code",
   "execution_count": 7,
   "metadata": {
    "collapsed": true
   },
   "outputs": [],
   "source": [
    "from keras.datasets import mnist\n",
    "import numpy as np\n",
    "\n",
    "(x_train, _), (x_test, _) = mnist.load_data()"
   ]
  },
  {
   "cell_type": "code",
   "execution_count": 8,
   "metadata": {},
   "outputs": [
    {
     "data": {
      "text/plain": [
       "((60000, 28, 28), (28, 28))"
      ]
     },
     "execution_count": 8,
     "metadata": {},
     "output_type": "execute_result"
    }
   ],
   "source": [
    "x_train.shape, x_train.shape[1:]"
   ]
  },
  {
   "cell_type": "code",
   "execution_count": 9,
   "metadata": {},
   "outputs": [
    {
     "name": "stdout",
     "output_type": "stream",
     "text": [
      "(60000, 784)\n",
      "(10000, 784)\n"
     ]
    }
   ],
   "source": [
    "# normalized all values to [0, 1]\n",
    "x_train = x_train.astype('float32') / 255.\n",
    "x_test = x_test.astype('float32') / 255.\n",
    "x_train = x_train.reshape((len(x_train), np.prod(x_train.shape[1:])))  # (60000, 28 x 28)\n",
    "x_test = x_test.reshape((len(x_test), np.prod(x_test.shape[1:])))\n",
    "\n",
    "print(x_train.shape)\n",
    "print(x_test.shape)"
   ]
  },
  {
   "cell_type": "code",
   "execution_count": 10,
   "metadata": {},
   "outputs": [
    {
     "name": "stdout",
     "output_type": "stream",
     "text": [
      "Train on 60000 samples, validate on 10000 samples\n",
      "Epoch 1/50\n",
      "60000/60000 [==============================] - 2s - loss: 0.3714 - val_loss: 0.2727\n",
      "Epoch 2/50\n",
      "60000/60000 [==============================] - 1s - loss: 0.2654 - val_loss: 0.2546\n",
      "Epoch 3/50\n",
      "60000/60000 [==============================] - 1s - loss: 0.2431 - val_loss: 0.2296\n",
      "Epoch 4/50\n",
      "60000/60000 [==============================] - 1s - loss: 0.2214 - val_loss: 0.2115\n",
      "Epoch 5/50\n",
      "60000/60000 [==============================] - 1s - loss: 0.2064 - val_loss: 0.1991\n",
      "Epoch 6/50\n",
      "60000/60000 [==============================] - 1s - loss: 0.1955 - val_loss: 0.1897\n",
      "Epoch 7/50\n",
      "60000/60000 [==============================] - 1s - loss: 0.1873 - val_loss: 0.1824\n",
      "Epoch 8/50\n",
      "60000/60000 [==============================] - 1s - loss: 0.1806 - val_loss: 0.1763\n",
      "Epoch 9/50\n",
      "60000/60000 [==============================] - 1s - loss: 0.1748 - val_loss: 0.1710\n",
      "Epoch 10/50\n",
      "60000/60000 [==============================] - 1s - loss: 0.1697 - val_loss: 0.1660\n",
      "Epoch 11/50\n",
      "60000/60000 [==============================] - 1s - loss: 0.1651 - val_loss: 0.1615\n",
      "Epoch 12/50\n",
      "60000/60000 [==============================] - 1s - loss: 0.1608 - val_loss: 0.1574\n",
      "Epoch 13/50\n",
      "60000/60000 [==============================] - 1s - loss: 0.1568 - val_loss: 0.1535\n",
      "Epoch 14/50\n",
      "60000/60000 [==============================] - 1s - loss: 0.1531 - val_loss: 0.1499\n",
      "Epoch 15/50\n",
      "60000/60000 [==============================] - 1s - loss: 0.1496 - val_loss: 0.1464\n",
      "Epoch 16/50\n",
      "60000/60000 [==============================] - 1s - loss: 0.1463 - val_loss: 0.1433\n",
      "Epoch 17/50\n",
      "60000/60000 [==============================] - 1s - loss: 0.1433 - val_loss: 0.1403\n",
      "Epoch 18/50\n",
      "60000/60000 [==============================] - 1s - loss: 0.1405 - val_loss: 0.1377\n",
      "Epoch 19/50\n",
      "60000/60000 [==============================] - 1s - loss: 0.1379 - val_loss: 0.1350\n",
      "Epoch 20/50\n",
      "60000/60000 [==============================] - 1s - loss: 0.1355 - val_loss: 0.1327\n",
      "Epoch 21/50\n",
      "60000/60000 [==============================] - 1s - loss: 0.1332 - val_loss: 0.1305\n",
      "Epoch 22/50\n",
      "60000/60000 [==============================] - 1s - loss: 0.1310 - val_loss: 0.1284\n",
      "Epoch 23/50\n",
      "60000/60000 [==============================] - 1s - loss: 0.1290 - val_loss: 0.1263\n",
      "Epoch 24/50\n",
      "60000/60000 [==============================] - 1s - loss: 0.1271 - val_loss: 0.1245\n",
      "Epoch 25/50\n",
      "60000/60000 [==============================] - 1s - loss: 0.1252 - val_loss: 0.1227\n",
      "Epoch 26/50\n",
      "60000/60000 [==============================] - 1s - loss: 0.1235 - val_loss: 0.1210\n",
      "Epoch 27/50\n",
      "60000/60000 [==============================] - 1s - loss: 0.1219 - val_loss: 0.1194\n",
      "Epoch 28/50\n",
      "60000/60000 [==============================] - 1s - loss: 0.1203 - val_loss: 0.1179\n",
      "Epoch 29/50\n",
      "60000/60000 [==============================] - 1s - loss: 0.1189 - val_loss: 0.1165\n",
      "Epoch 30/50\n",
      "60000/60000 [==============================] - 1s - loss: 0.1175 - val_loss: 0.1152\n",
      "Epoch 31/50\n",
      "60000/60000 [==============================] - 1s - loss: 0.1163 - val_loss: 0.1140\n",
      "Epoch 32/50\n",
      "60000/60000 [==============================] - 1s - loss: 0.1151 - val_loss: 0.1128\n",
      "Epoch 33/50\n",
      "60000/60000 [==============================] - 1s - loss: 0.1140 - val_loss: 0.1118\n",
      "Epoch 34/50\n",
      "60000/60000 [==============================] - 1s - loss: 0.1130 - val_loss: 0.1108\n",
      "Epoch 35/50\n",
      "60000/60000 [==============================] - 1s - loss: 0.1120 - val_loss: 0.1099\n",
      "Epoch 36/50\n",
      "60000/60000 [==============================] - 1s - loss: 0.1111 - val_loss: 0.1090\n",
      "Epoch 37/50\n",
      "60000/60000 [==============================] - 1s - loss: 0.1103 - val_loss: 0.1082\n",
      "Epoch 38/50\n",
      "60000/60000 [==============================] - 1s - loss: 0.1095 - val_loss: 0.1075\n",
      "Epoch 39/50\n",
      "60000/60000 [==============================] - 1s - loss: 0.1088 - val_loss: 0.1067\n",
      "Epoch 40/50\n",
      "60000/60000 [==============================] - 1s - loss: 0.1081 - val_loss: 0.1061\n",
      "Epoch 41/50\n",
      "60000/60000 [==============================] - 1s - loss: 0.1075 - val_loss: 0.1055\n",
      "Epoch 42/50\n",
      "60000/60000 [==============================] - 1s - loss: 0.1069 - val_loss: 0.1049\n",
      "Epoch 43/50\n",
      "60000/60000 [==============================] - 1s - loss: 0.1063 - val_loss: 0.1044\n",
      "Epoch 44/50\n",
      "60000/60000 [==============================] - 1s - loss: 0.1058 - val_loss: 0.1038\n",
      "Epoch 45/50\n",
      "60000/60000 [==============================] - 1s - loss: 0.1052 - val_loss: 0.1033\n",
      "Epoch 46/50\n",
      "60000/60000 [==============================] - 1s - loss: 0.1048 - val_loss: 0.1029\n",
      "Epoch 47/50\n",
      "60000/60000 [==============================] - 1s - loss: 0.1043 - val_loss: 0.1024\n",
      "Epoch 48/50\n",
      "60000/60000 [==============================] - 1s - loss: 0.1039 - val_loss: 0.1020\n",
      "Epoch 49/50\n",
      "60000/60000 [==============================] - 1s - loss: 0.1034 - val_loss: 0.1016\n",
      "Epoch 50/50\n",
      "60000/60000 [==============================] - 1s - loss: 0.1030 - val_loss: 0.1012\n"
     ]
    },
    {
     "data": {
      "text/plain": [
       "<keras.callbacks.History at 0x1a38d59630>"
      ]
     },
     "execution_count": 10,
     "metadata": {},
     "output_type": "execute_result"
    }
   ],
   "source": [
    "# model 1\n",
    "autoencoder.fit(x_train,\n",
    "                x_train, # output is same as input\n",
    "                epochs=50,\n",
    "                batch_size=256,\n",
    "                shuffle=True,\n",
    "                validation_data=(x_test, x_test))\n"
   ]
  },
  {
   "cell_type": "code",
   "execution_count": 11,
   "metadata": {},
   "outputs": [
    {
     "name": "stdout",
     "output_type": "stream",
     "text": [
      "(10000, 32)\n"
     ]
    }
   ],
   "source": [
    "encoded_imgs = encoder.predict(x_test)\n",
    "print(encoded_imgs.shape)\n",
    "decoded_imgs = decoder.predict(encoded_imgs)"
   ]
  },
  {
   "cell_type": "code",
   "execution_count": 12,
   "metadata": {},
   "outputs": [
    {
     "data": {
      "image/png": "[encoded data removed]",
      "text/plain": [
       "<matplotlib.figure.Figure at 0x1a47a439b0>"
      ]
     },
     "metadata": {},
     "output_type": "display_data"
    }
   ],
   "source": [
    "import matplotlib.pyplot as plt\n",
    "%matplotlib inline\n",
    "n = 10 # number of digits we will display\n",
    "plt.figure(figsize=(20, 4))\n",
    "for i in range(n):\n",
    "    # display original\n",
    "    ax = plt.subplot(2, n, i + 1)\n",
    "    plt.imshow(x_test[i].reshape(28, 28))\n",
    "    plt.gray()\n",
    "    ax.get_xaxis().set_visible(False)\n",
    "    ax.get_yaxis().set_visible(False)\n",
    "    \n",
    "    # display reconstruction\n",
    "    ax = plt.subplot(2, n, i + 1 + n)\n",
    "    plt.imshow(decoded_imgs[i].reshape(28, 28))\n",
    "    plt.gray()\n",
    "    ax.get_xaxis().set_visible(False)\n",
    "    ax.get_yaxis().set_visible(False)\n",
    "plt.show()"
   ]
  },
  {
   "cell_type": "markdown",
   "metadata": {},
   "source": [
    "## Sparse Autoencoder"
   ]
  },
  {
   "cell_type": "markdown",
   "metadata": {},
   "source": [
    "### implement sparse autoencoder with L1 regularization"
   ]
  },
  {
   "cell_type": "code",
   "execution_count": 13,
   "metadata": {
    "collapsed": true
   },
   "outputs": [],
   "source": [
    "from keras import regularizers\n",
    "\n",
    "encoding_dim = 32\n",
    "input_img = Input(shape=(784,))\n",
    "encoded = Dense(encoding_dim, \n",
    "                activation='relu',\n",
    "                activity_regularizer=regularizers.l1(10e-5))(input_img)\n",
    "decoded = Dense(784, activation='sigmoid')(encoded)\n",
    "\n",
    "autoencoder = Model(input_img, decoded)"
   ]
  },
  {
   "cell_type": "code",
   "execution_count": 14,
   "metadata": {
    "collapsed": true
   },
   "outputs": [],
   "source": [
    "autoencoder.compile(optimizer='adadelta',\n",
    "                    loss='binary_crossentropy')"
   ]
  },
  {
   "cell_type": "code",
   "execution_count": 15,
   "metadata": {},
   "outputs": [
    {
     "name": "stdout",
     "output_type": "stream",
     "text": [
      "Train on 60000 samples, validate on 10000 samples\n",
      "Epoch 1/100\n",
      "60000/60000 [==============================] - 1s - loss: 0.6835 - val_loss: 0.6606\n",
      "Epoch 2/100\n",
      "60000/60000 [==============================] - 1s - loss: 0.6440 - val_loss: 0.6272\n",
      "Epoch 3/100\n",
      "60000/60000 [==============================] - 1s - loss: 0.6111 - val_loss: 0.5952\n",
      "Epoch 4/100\n",
      "60000/60000 [==============================] - 1s - loss: 0.5802 - val_loss: 0.5655\n",
      "Epoch 5/100\n",
      "60000/60000 [==============================] - 1s - loss: 0.5519 - val_loss: 0.5386\n",
      "Epoch 6/100\n",
      "60000/60000 [==============================] - 1s - loss: 0.5264 - val_loss: 0.5146\n",
      "Epoch 7/100\n",
      "60000/60000 [==============================] - 1s - loss: 0.5036 - val_loss: 0.4932\n",
      "Epoch 8/100\n",
      "60000/60000 [==============================] - 1s - loss: 0.4835 - val_loss: 0.4744\n",
      "Epoch 9/100\n",
      "60000/60000 [==============================] - 1s - loss: 0.4658 - val_loss: 0.4577\n",
      "Epoch 10/100\n",
      "60000/60000 [==============================] - 1s - loss: 0.4501 - val_loss: 0.4430\n",
      "Epoch 11/100\n",
      "60000/60000 [==============================] - 1s - loss: 0.4362 - val_loss: 0.4299\n",
      "Epoch 12/100\n",
      "60000/60000 [==============================] - 1s - loss: 0.4239 - val_loss: 0.4183\n",
      "Epoch 13/100\n",
      "60000/60000 [==============================] - 1s - loss: 0.4129 - val_loss: 0.4079\n",
      "Epoch 14/100\n",
      "60000/60000 [==============================] - 1s - loss: 0.4030 - val_loss: 0.3986\n",
      "Epoch 15/100\n",
      "60000/60000 [==============================] - 1s - loss: 0.3942 - val_loss: 0.3902\n",
      "Epoch 16/100\n",
      "60000/60000 [==============================] - 1s - loss: 0.3862 - val_loss: 0.3826\n",
      "Epoch 17/100\n",
      "60000/60000 [==============================] - 1s - loss: 0.3790 - val_loss: 0.3758\n",
      "Epoch 18/100\n",
      "60000/60000 [==============================] - 1s - loss: 0.3725 - val_loss: 0.3696\n",
      "Epoch 19/100\n",
      "60000/60000 [==============================] - 1s - loss: 0.3665 - val_loss: 0.3639\n",
      "Epoch 20/100\n",
      "60000/60000 [==============================] - 1s - loss: 0.3611 - val_loss: 0.3587\n",
      "Epoch 21/100\n",
      "60000/60000 [==============================] - 1s - loss: 0.3561 - val_loss: 0.3539\n",
      "Epoch 22/100\n",
      "60000/60000 [==============================] - 1s - loss: 0.3516 - val_loss: 0.3496\n",
      "Epoch 23/100\n",
      "60000/60000 [==============================] - 1s - loss: 0.3474 - val_loss: 0.3455\n",
      "Epoch 24/100\n",
      "60000/60000 [==============================] - 1s - loss: 0.3435 - val_loss: 0.3418\n",
      "Epoch 25/100\n",
      "60000/60000 [==============================] - 1s - loss: 0.3399 - val_loss: 0.3384\n",
      "Epoch 26/100\n",
      "60000/60000 [==============================] - 1s - loss: 0.3366 - val_loss: 0.3352\n",
      "Epoch 27/100\n",
      "60000/60000 [==============================] - 1s - loss: 0.3335 - val_loss: 0.3322\n",
      "Epoch 28/100\n",
      "60000/60000 [==============================] - 1s - loss: 0.3307 - val_loss: 0.3294\n",
      "Epoch 29/100\n",
      "60000/60000 [==============================] - 1s - loss: 0.3280 - val_loss: 0.3269\n",
      "Epoch 30/100\n",
      "60000/60000 [==============================] - 1s - loss: 0.3255 - val_loss: 0.3245\n",
      "Epoch 31/100\n",
      "60000/60000 [==============================] - 1s - loss: 0.3232 - val_loss: 0.3222\n",
      "Epoch 32/100\n",
      "60000/60000 [==============================] - 1s - loss: 0.3210 - val_loss: 0.3201\n",
      "Epoch 33/100\n",
      "60000/60000 [==============================] - 1s - loss: 0.3189 - val_loss: 0.3181\n",
      "Epoch 34/100\n",
      "60000/60000 [==============================] - 1s - loss: 0.3170 - val_loss: 0.3162\n",
      "Epoch 35/100\n",
      "60000/60000 [==============================] - 1s - loss: 0.3152 - val_loss: 0.3145\n",
      "Epoch 36/100\n",
      "60000/60000 [==============================] - 1s - loss: 0.3135 - val_loss: 0.3128\n",
      "Epoch 37/100\n",
      "60000/60000 [==============================] - 1s - loss: 0.3119 - val_loss: 0.3112\n",
      "Epoch 38/100\n",
      "60000/60000 [==============================] - 1s - loss: 0.3103 - val_loss: 0.3097\n",
      "Epoch 39/100\n",
      "60000/60000 [==============================] - 1s - loss: 0.3089 - val_loss: 0.3083\n",
      "Epoch 40/100\n",
      "60000/60000 [==============================] - 1s - loss: 0.3075 - val_loss: 0.3070\n",
      "Epoch 41/100\n",
      "60000/60000 [==============================] - 1s - loss: 0.3062 - val_loss: 0.3057\n",
      "Epoch 42/100\n",
      "60000/60000 [==============================] - 1s - loss: 0.3050 - val_loss: 0.3045\n",
      "Epoch 43/100\n",
      "60000/60000 [==============================] - 1s - loss: 0.3038 - val_loss: 0.3034\n",
      "Epoch 44/100\n",
      "60000/60000 [==============================] - 1s - loss: 0.3027 - val_loss: 0.3023\n",
      "Epoch 45/100\n",
      "60000/60000 [==============================] - 1s - loss: 0.3016 - val_loss: 0.3012\n",
      "Epoch 46/100\n",
      "60000/60000 [==============================] - 1s - loss: 0.3006 - val_loss: 0.3002\n",
      "Epoch 47/100\n",
      "60000/60000 [==============================] - 1s - loss: 0.2997 - val_loss: 0.2993\n",
      "Epoch 48/100\n",
      "60000/60000 [==============================] - 1s - loss: 0.2987 - val_loss: 0.2984\n",
      "Epoch 49/100\n",
      "60000/60000 [==============================] - 1s - loss: 0.2979 - val_loss: 0.2975\n",
      "Epoch 50/100\n",
      "60000/60000 [==============================] - 1s - loss: 0.2970 - val_loss: 0.2967\n",
      "Epoch 51/100\n",
      "60000/60000 [==============================] - 1s - loss: 0.2962 - val_loss: 0.2959\n",
      "Epoch 52/100\n",
      "60000/60000 [==============================] - 1s - loss: 0.2954 - val_loss: 0.2951\n",
      "Epoch 53/100\n",
      "60000/60000 [==============================] - 1s - loss: 0.2947 - val_loss: 0.2944\n",
      "Epoch 54/100\n",
      "60000/60000 [==============================] - 1s - loss: 0.2940 - val_loss: 0.2937\n",
      "Epoch 55/100\n",
      "60000/60000 [==============================] - 1s - loss: 0.2933 - val_loss: 0.2930\n",
      "Epoch 56/100\n",
      "60000/60000 [==============================] - 1s - loss: 0.2926 - val_loss: 0.2924\n",
      "Epoch 57/100\n",
      "60000/60000 [==============================] - 1s - loss: 0.2920 - val_loss: 0.2917\n",
      "Epoch 58/100\n",
      "60000/60000 [==============================] - 1s - loss: 0.2914 - val_loss: 0.2911\n",
      "Epoch 59/100\n",
      "60000/60000 [==============================] - 1s - loss: 0.2908 - val_loss: 0.2906\n",
      "Epoch 60/100\n",
      "60000/60000 [==============================] - 1s - loss: 0.2902 - val_loss: 0.2900\n",
      "Epoch 61/100\n",
      "60000/60000 [==============================] - 1s - loss: 0.2897 - val_loss: 0.2895\n",
      "Epoch 62/100\n",
      "60000/60000 [==============================] - 1s - loss: 0.2892 - val_loss: 0.2889\n",
      "Epoch 63/100\n",
      "60000/60000 [==============================] - 1s - loss: 0.2886 - val_loss: 0.2884\n",
      "Epoch 64/100\n",
      "60000/60000 [==============================] - 1s - loss: 0.2882 - val_loss: 0.2880\n",
      "Epoch 65/100\n",
      "60000/60000 [==============================] - 1s - loss: 0.2877 - val_loss: 0.2875\n",
      "Epoch 66/100\n",
      "60000/60000 [==============================] - 1s - loss: 0.2872 - val_loss: 0.2870\n",
      "Epoch 67/100\n",
      "60000/60000 [==============================] - 1s - loss: 0.2868 - val_loss: 0.2866\n",
      "Epoch 68/100\n",
      "60000/60000 [==============================] - 1s - loss: 0.2864 - val_loss: 0.2862\n",
      "Epoch 69/100\n",
      "60000/60000 [==============================] - 1s - loss: 0.2859 - val_loss: 0.2858\n",
      "Epoch 70/100\n",
      "60000/60000 [==============================] - 1s - loss: 0.2855 - val_loss: 0.2854\n",
      "Epoch 71/100\n",
      "60000/60000 [==============================] - 1s - loss: 0.2851 - val_loss: 0.2850\n",
      "Epoch 72/100\n",
      "60000/60000 [==============================] - 1s - loss: 0.2848 - val_loss: 0.2846\n",
      "Epoch 73/100\n",
      "60000/60000 [==============================] - 1s - loss: 0.2844 - val_loss: 0.2842\n",
      "Epoch 74/100\n",
      "60000/60000 [==============================] - 1s - loss: 0.2840 - val_loss: 0.2839\n",
      "Epoch 75/100\n",
      "60000/60000 [==============================] - 1s - loss: 0.2837 - val_loss: 0.2835\n",
      "Epoch 76/100\n",
      "60000/60000 [==============================] - 1s - loss: 0.2834 - val_loss: 0.2832\n",
      "Epoch 77/100\n",
      "60000/60000 [==============================] - 1s - loss: 0.2830 - val_loss: 0.2829\n",
      "Epoch 78/100\n",
      "60000/60000 [==============================] - 1s - loss: 0.2827 - val_loss: 0.2826\n",
      "Epoch 79/100\n",
      "60000/60000 [==============================] - 1s - loss: 0.2824 - val_loss: 0.2823\n",
      "Epoch 80/100\n",
      "60000/60000 [==============================] - 1s - loss: 0.2821 - val_loss: 0.2820\n",
      "Epoch 81/100\n",
      "60000/60000 [==============================] - 1s - loss: 0.2818 - val_loss: 0.2817\n",
      "Epoch 82/100\n",
      "60000/60000 [==============================] - 1s - loss: 0.2815 - val_loss: 0.2814\n",
      "Epoch 83/100\n",
      "60000/60000 [==============================] - 1s - loss: 0.2813 - val_loss: 0.2811\n",
      "Epoch 84/100\n",
      "60000/60000 [==============================] - 1s - loss: 0.2810 - val_loss: 0.2808\n",
      "Epoch 85/100\n"
     ]
    },
    {
     "name": "stdout",
     "output_type": "stream",
     "text": [
      "60000/60000 [==============================] - 1s - loss: 0.2807 - val_loss: 0.2806\n",
      "Epoch 86/100\n",
      "60000/60000 [==============================] - 1s - loss: 0.2805 - val_loss: 0.2803\n",
      "Epoch 87/100\n",
      "60000/60000 [==============================] - 1s - loss: 0.2802 - val_loss: 0.2801\n",
      "Epoch 88/100\n",
      "60000/60000 [==============================] - 1s - loss: 0.2800 - val_loss: 0.2798\n",
      "Epoch 89/100\n",
      "60000/60000 [==============================] - 1s - loss: 0.2798 - val_loss: 0.2796\n",
      "Epoch 90/100\n",
      "60000/60000 [==============================] - 1s - loss: 0.2795 - val_loss: 0.2794\n",
      "Epoch 91/100\n",
      "60000/60000 [==============================] - 1s - loss: 0.2793 - val_loss: 0.2792\n",
      "Epoch 92/100\n",
      "60000/60000 [==============================] - 1s - loss: 0.2791 - val_loss: 0.2789\n",
      "Epoch 93/100\n",
      "60000/60000 [==============================] - 1s - loss: 0.2789 - val_loss: 0.2787\n",
      "Epoch 94/100\n",
      "60000/60000 [==============================] - 1s - loss: 0.2787 - val_loss: 0.2785\n",
      "Epoch 95/100\n",
      "60000/60000 [==============================] - 1s - loss: 0.2785 - val_loss: 0.2783\n",
      "Epoch 96/100\n",
      "60000/60000 [==============================] - 1s - loss: 0.2783 - val_loss: 0.2781\n",
      "Epoch 97/100\n",
      "60000/60000 [==============================] - 1s - loss: 0.2781 - val_loss: 0.2779\n",
      "Epoch 98/100\n",
      "60000/60000 [==============================] - 1s - loss: 0.2779 - val_loss: 0.2777\n",
      "Epoch 99/100\n",
      "60000/60000 [==============================] - 1s - loss: 0.2777 - val_loss: 0.2776\n",
      "Epoch 100/100\n",
      "60000/60000 [==============================] - 1s - loss: 0.2775 - val_loss: 0.2774\n"
     ]
    },
    {
     "data": {
      "text/plain": [
       "<keras.callbacks.History at 0x1a38c42e10>"
      ]
     },
     "execution_count": 15,
     "metadata": {},
     "output_type": "execute_result"
    }
   ],
   "source": [
    "autoencoder.fit(x_train,\n",
    "                x_train,\n",
    "                epochs=100,\n",
    "                batch_size=256,\n",
    "                shuffle=True,\n",
    "                validation_data=(x_test, x_test))"
   ]
  },
  {
   "cell_type": "markdown",
   "metadata": {},
   "source": [
    "## Deep autoencoder"
   ]
  },
  {
   "cell_type": "code",
   "execution_count": 16,
   "metadata": {
    "collapsed": true
   },
   "outputs": [],
   "source": [
    "input_img = Input(shape=(784,))\n",
    "encoded = Dense(128, activation='relu')(input_img)\n",
    "encoded = Dense(64, activation='relu')(encoded)\n",
    "\n",
    "encoded = Dense(32, activation='relu')(encoded)\n",
    "\n",
    "decoded = Dense(64, activation='relu')(encoded)\n",
    "decoded = Dense(128, activation='relu')(decoded)\n",
    "decoded = Dense(784, activation='sigmoid')(decoded)"
   ]
  },
  {
   "cell_type": "code",
   "execution_count": 17,
   "metadata": {
    "collapsed": true
   },
   "outputs": [],
   "source": [
    "autoencoder = Model(input_img, decoded)\n",
    "autoencoder.compile(optimizer='adadelta',\n",
    "                    loss=\"binary_crossentropy\")"
   ]
  },
  {
   "cell_type": "code",
   "execution_count": 18,
   "metadata": {},
   "outputs": [
    {
     "name": "stdout",
     "output_type": "stream",
     "text": [
      "Train on 60000 samples, validate on 10000 samples\n",
      "Epoch 1/100\n",
      "60000/60000 [==============================] - 1s - loss: 0.3595 - val_loss: 0.2643\n",
      "Epoch 2/100\n",
      "60000/60000 [==============================] - 1s - loss: 0.2594 - val_loss: 0.2543\n",
      "Epoch 3/100\n",
      "60000/60000 [==============================] - 1s - loss: 0.2471 - val_loss: 0.2403\n",
      "Epoch 4/100\n",
      "60000/60000 [==============================] - 1s - loss: 0.2322 - val_loss: 0.2233\n",
      "Epoch 5/100\n",
      "60000/60000 [==============================] - 1s - loss: 0.2157 - val_loss: 0.2065\n",
      "Epoch 6/100\n",
      "60000/60000 [==============================] - 1s - loss: 0.1986 - val_loss: 0.1926\n",
      "Epoch 7/100\n",
      "60000/60000 [==============================] - 1s - loss: 0.1883 - val_loss: 0.1825\n",
      "Epoch 8/100\n",
      "60000/60000 [==============================] - 1s - loss: 0.1804 - val_loss: 0.1763\n",
      "Epoch 9/100\n",
      "60000/60000 [==============================] - 1s - loss: 0.1736 - val_loss: 0.1722\n",
      "Epoch 10/100\n",
      "60000/60000 [==============================] - 1s - loss: 0.1691 - val_loss: 0.1657\n",
      "Epoch 11/100\n",
      "60000/60000 [==============================] - 1s - loss: 0.1650 - val_loss: 0.1613\n",
      "Epoch 12/100\n",
      "60000/60000 [==============================] - 1s - loss: 0.1612 - val_loss: 0.1575\n",
      "Epoch 13/100\n",
      "60000/60000 [==============================] - 1s - loss: 0.1572 - val_loss: 0.1543\n",
      "Epoch 14/100\n",
      "60000/60000 [==============================] - 1s - loss: 0.1538 - val_loss: 0.1514\n",
      "Epoch 15/100\n",
      "60000/60000 [==============================] - 1s - loss: 0.1507 - val_loss: 0.1482\n",
      "Epoch 16/100\n",
      "60000/60000 [==============================] - 1s - loss: 0.1478 - val_loss: 0.1440\n",
      "Epoch 17/100\n",
      "60000/60000 [==============================] - 1s - loss: 0.1452 - val_loss: 0.1435\n",
      "Epoch 18/100\n",
      "60000/60000 [==============================] - 1s - loss: 0.1429 - val_loss: 0.1423\n",
      "Epoch 19/100\n",
      "60000/60000 [==============================] - 1s - loss: 0.1408 - val_loss: 0.1393\n",
      "Epoch 20/100\n",
      "60000/60000 [==============================] - 1s - loss: 0.1389 - val_loss: 0.1361\n",
      "Epoch 21/100\n",
      "60000/60000 [==============================] - 1s - loss: 0.1370 - val_loss: 0.1346\n",
      "Epoch 22/100\n",
      "60000/60000 [==============================] - 1s - loss: 0.1352 - val_loss: 0.1334\n",
      "Epoch 23/100\n",
      "60000/60000 [==============================] - 1s - loss: 0.1338 - val_loss: 0.1312\n",
      "Epoch 24/100\n",
      "60000/60000 [==============================] - 1s - loss: 0.1325 - val_loss: 0.1312\n",
      "Epoch 25/100\n",
      "60000/60000 [==============================] - 1s - loss: 0.1315 - val_loss: 0.1303\n",
      "Epoch 26/100\n",
      "60000/60000 [==============================] - 1s - loss: 0.1305 - val_loss: 0.1295\n",
      "Epoch 27/100\n",
      "60000/60000 [==============================] - 1s - loss: 0.1297 - val_loss: 0.1280\n",
      "Epoch 28/100\n",
      "60000/60000 [==============================] - 1s - loss: 0.1288 - val_loss: 0.1265\n",
      "Epoch 29/100\n",
      "60000/60000 [==============================] - 1s - loss: 0.1279 - val_loss: 0.1263\n",
      "Epoch 30/100\n",
      "60000/60000 [==============================] - 1s - loss: 0.1272 - val_loss: 0.1247\n",
      "Epoch 31/100\n",
      "60000/60000 [==============================] - 1s - loss: 0.1265 - val_loss: 0.1240\n",
      "Epoch 32/100\n",
      "60000/60000 [==============================] - 1s - loss: 0.1256 - val_loss: 0.1229\n",
      "Epoch 33/100\n",
      "60000/60000 [==============================] - 1s - loss: 0.1247 - val_loss: 0.1218\n",
      "Epoch 34/100\n",
      "60000/60000 [==============================] - 1s - loss: 0.1241 - val_loss: 0.1213\n",
      "Epoch 35/100\n",
      "60000/60000 [==============================] - 1s - loss: 0.1231 - val_loss: 0.1211\n",
      "Epoch 36/100\n",
      "60000/60000 [==============================] - 1s - loss: 0.1224 - val_loss: 0.1199\n",
      "Epoch 37/100\n",
      "60000/60000 [==============================] - 1s - loss: 0.1215 - val_loss: 0.1190\n",
      "Epoch 38/100\n",
      "60000/60000 [==============================] - 1s - loss: 0.1207 - val_loss: 0.1188\n",
      "Epoch 39/100\n",
      "60000/60000 [==============================] - 1s - loss: 0.1199 - val_loss: 0.1176\n",
      "Epoch 40/100\n",
      "60000/60000 [==============================] - 1s - loss: 0.1190 - val_loss: 0.1179\n",
      "Epoch 41/100\n",
      "60000/60000 [==============================] - 1s - loss: 0.1181 - val_loss: 0.1166\n",
      "Epoch 42/100\n",
      "60000/60000 [==============================] - 1s - loss: 0.1174 - val_loss: 0.1153\n",
      "Epoch 43/100\n",
      "60000/60000 [==============================] - 1s - loss: 0.1166 - val_loss: 0.1151\n",
      "Epoch 44/100\n",
      "60000/60000 [==============================] - 1s - loss: 0.1159 - val_loss: 0.1145\n",
      "Epoch 45/100\n",
      "60000/60000 [==============================] - 1s - loss: 0.1152 - val_loss: 0.1143\n",
      "Epoch 46/100\n",
      "60000/60000 [==============================] - 1s - loss: 0.1145 - val_loss: 0.1134\n",
      "Epoch 47/100\n",
      "60000/60000 [==============================] - 1s - loss: 0.1139 - val_loss: 0.1118\n",
      "Epoch 48/100\n",
      "60000/60000 [==============================] - 1s - loss: 0.1135 - val_loss: 0.1128\n",
      "Epoch 49/100\n",
      "60000/60000 [==============================] - 1s - loss: 0.1129 - val_loss: 0.1110\n",
      "Epoch 50/100\n",
      "60000/60000 [==============================] - 1s - loss: 0.1125 - val_loss: 0.1108\n",
      "Epoch 51/100\n",
      "60000/60000 [==============================] - 1s - loss: 0.1120 - val_loss: 0.1105\n",
      "Epoch 52/100\n",
      "60000/60000 [==============================] - 1s - loss: 0.1116 - val_loss: 0.1103\n",
      "Epoch 53/100\n",
      "60000/60000 [==============================] - 1s - loss: 0.1112 - val_loss: 0.1098\n",
      "Epoch 54/100\n",
      "60000/60000 [==============================] - 1s - loss: 0.1109 - val_loss: 0.1096\n",
      "Epoch 55/100\n",
      "60000/60000 [==============================] - 1s - loss: 0.1106 - val_loss: 0.1097\n",
      "Epoch 56/100\n",
      "60000/60000 [==============================] - 1s - loss: 0.1101 - val_loss: 0.1096\n",
      "Epoch 57/100\n",
      "60000/60000 [==============================] - 1s - loss: 0.1098 - val_loss: 0.1082\n",
      "Epoch 58/100\n",
      "60000/60000 [==============================] - 1s - loss: 0.1096 - val_loss: 0.1090\n",
      "Epoch 59/100\n",
      "60000/60000 [==============================] - 1s - loss: 0.1093 - val_loss: 0.1073\n",
      "Epoch 60/100\n",
      "60000/60000 [==============================] - 1s - loss: 0.1089 - val_loss: 0.1076\n",
      "Epoch 61/100\n",
      "60000/60000 [==============================] - 1s - loss: 0.1087 - val_loss: 0.1081\n",
      "Epoch 62/100\n",
      "60000/60000 [==============================] - 1s - loss: 0.1083 - val_loss: 0.1077\n",
      "Epoch 63/100\n",
      "60000/60000 [==============================] - 1s - loss: 0.1080 - val_loss: 0.1076\n",
      "Epoch 64/100\n",
      "60000/60000 [==============================] - 1s - loss: 0.1078 - val_loss: 0.1057\n",
      "Epoch 65/100\n",
      "60000/60000 [==============================] - 1s - loss: 0.1074 - val_loss: 0.1059\n",
      "Epoch 66/100\n",
      "60000/60000 [==============================] - 1s - loss: 0.1072 - val_loss: 0.1055\n",
      "Epoch 67/100\n",
      "60000/60000 [==============================] - 1s - loss: 0.1068 - val_loss: 0.1062\n",
      "Epoch 68/100\n",
      "60000/60000 [==============================] - 1s - loss: 0.1066 - val_loss: 0.1057\n",
      "Epoch 69/100\n",
      "60000/60000 [==============================] - 1s - loss: 0.1064 - val_loss: 0.1061\n",
      "Epoch 70/100\n",
      "60000/60000 [==============================] - 1s - loss: 0.1061 - val_loss: 0.1047\n",
      "Epoch 71/100\n",
      "60000/60000 [==============================] - 1s - loss: 0.1058 - val_loss: 0.1045\n",
      "Epoch 72/100\n",
      "60000/60000 [==============================] - 1s - loss: 0.1054 - val_loss: 0.1040\n",
      "Epoch 73/100\n",
      "60000/60000 [==============================] - 1s - loss: 0.1052 - val_loss: 0.1037\n",
      "Epoch 74/100\n",
      "60000/60000 [==============================] - 1s - loss: 0.1050 - val_loss: 0.1032\n",
      "Epoch 75/100\n",
      "60000/60000 [==============================] - 1s - loss: 0.1046 - val_loss: 0.1036\n",
      "Epoch 76/100\n",
      "60000/60000 [==============================] - 1s - loss: 0.1045 - val_loss: 0.1044\n",
      "Epoch 77/100\n",
      "60000/60000 [==============================] - 1s - loss: 0.1041 - val_loss: 0.1029\n",
      "Epoch 78/100\n",
      "60000/60000 [==============================] - 1s - loss: 0.1040 - val_loss: 0.1026\n",
      "Epoch 79/100\n",
      "60000/60000 [==============================] - 1s - loss: 0.1038 - val_loss: 0.1023\n",
      "Epoch 80/100\n",
      "60000/60000 [==============================] - 1s - loss: 0.1034 - val_loss: 0.1027\n",
      "Epoch 81/100\n",
      "60000/60000 [==============================] - 1s - loss: 0.1033 - val_loss: 0.1037\n",
      "Epoch 82/100\n",
      "60000/60000 [==============================] - 1s - loss: 0.1030 - val_loss: 0.1013\n",
      "Epoch 83/100\n",
      "60000/60000 [==============================] - 1s - loss: 0.1028 - val_loss: 0.1019\n",
      "Epoch 84/100\n",
      "60000/60000 [==============================] - 1s - loss: 0.1026 - val_loss: 0.1016\n",
      "Epoch 85/100\n"
     ]
    },
    {
     "name": "stdout",
     "output_type": "stream",
     "text": [
      "60000/60000 [==============================] - 1s - loss: 0.1024 - val_loss: 0.1022\n",
      "Epoch 86/100\n",
      "60000/60000 [==============================] - 1s - loss: 0.1022 - val_loss: 0.1005\n",
      "Epoch 87/100\n",
      "60000/60000 [==============================] - 1s - loss: 0.1019 - val_loss: 0.1005\n",
      "Epoch 88/100\n",
      "60000/60000 [==============================] - 1s - loss: 0.1018 - val_loss: 0.1008\n",
      "Epoch 89/100\n",
      "60000/60000 [==============================] - 1s - loss: 0.1015 - val_loss: 0.1015\n",
      "Epoch 90/100\n",
      "60000/60000 [==============================] - 1s - loss: 0.1013 - val_loss: 0.1031\n",
      "Epoch 91/100\n",
      "60000/60000 [==============================] - 1s - loss: 0.1012 - val_loss: 0.1006\n",
      "Epoch 92/100\n",
      "60000/60000 [==============================] - 1s - loss: 0.1009 - val_loss: 0.0994\n",
      "Epoch 93/100\n",
      "60000/60000 [==============================] - 1s - loss: 0.1008 - val_loss: 0.0999\n",
      "Epoch 94/100\n",
      "60000/60000 [==============================] - 1s - loss: 0.1006 - val_loss: 0.1013\n",
      "Epoch 95/100\n",
      "60000/60000 [==============================] - 1s - loss: 0.1004 - val_loss: 0.0994\n",
      "Epoch 96/100\n",
      "60000/60000 [==============================] - 1s - loss: 0.1003 - val_loss: 0.0991\n",
      "Epoch 97/100\n",
      "60000/60000 [==============================] - 1s - loss: 0.1001 - val_loss: 0.0997\n",
      "Epoch 98/100\n",
      "60000/60000 [==============================] - 1s - loss: 0.1000 - val_loss: 0.0982\n",
      "Epoch 99/100\n",
      "60000/60000 [==============================] - 1s - loss: 0.0998 - val_loss: 0.0982\n",
      "Epoch 100/100\n",
      "60000/60000 [==============================] - 1s - loss: 0.0996 - val_loss: 0.0991\n"
     ]
    },
    {
     "data": {
      "text/plain": [
       "<keras.callbacks.History at 0x1a6934a438>"
      ]
     },
     "execution_count": 18,
     "metadata": {},
     "output_type": "execute_result"
    }
   ],
   "source": [
    "autoencoder.fit(x_train,\n",
    "                x_train,\n",
    "                epochs=100,\n",
    "                batch_size=256,\n",
    "                shuffle=True,\n",
    "                validation_data=(x_test, x_test))"
   ]
  },
  {
   "cell_type": "code",
   "execution_count": 19,
   "metadata": {},
   "outputs": [
    {
     "data": {
      "image/png": "[encoded data removed]",
      "text/plain": [
       "<matplotlib.figure.Figure at 0x1a60cd2f98>"
      ]
     },
     "metadata": {},
     "output_type": "display_data"
    }
   ],
   "source": [
    "import matplotlib.pyplot as plt\n",
    "%matplotlib inline\n",
    "n = 10 # number of digits we will display\n",
    "\n",
    "y_pred = autoencoder.predict(x_test[:n,:])\n",
    "plt.figure(figsize=(20, 4))\n",
    "for i in range(n):\n",
    "    # display original\n",
    "    ax = plt.subplot(2, n, i + 1)\n",
    "    plt.imshow(x_test[i].reshape(28, 28))\n",
    "    plt.gray()\n",
    "    ax.get_xaxis().set_visible(False)\n",
    "    ax.get_yaxis().set_visible(False)\n",
    "    \n",
    "    # display reconstruction\n",
    "    ax = plt.subplot(2, n, i + 1 + n)\n",
    "    plt.imshow(y_pred[i].reshape(28, 28))\n",
    "    plt.gray()\n",
    "    ax.get_xaxis().set_visible(False)\n",
    "    ax.get_yaxis().set_visible(False)\n",
    "plt.show()"
   ]
  },
  {
   "cell_type": "markdown",
   "metadata": {},
   "source": [
    "## Convolutional autoencoder"
   ]
  },
  {
   "cell_type": "code",
   "execution_count": 20,
   "metadata": {
    "collapsed": true
   },
   "outputs": [],
   "source": [
    "from keras.layers import Input, Dense, Conv2D, MaxPooling2D, UpSampling2D\n",
    "from keras.models import Model\n",
    "from keras import backend as K"
   ]
  },
  {
   "cell_type": "code",
   "execution_count": 21,
   "metadata": {
    "collapsed": true
   },
   "outputs": [],
   "source": [
    "input_img = Input(shape=(28, 28, 1))\n",
    "\n",
    "x = Conv2D(16, (3, 3), activation='relu', padding='same')(input_img)\n",
    "x = MaxPooling2D((2, 2), padding='same')(x)\n",
    "x = Conv2D(8, (3, 3), activation='relu', padding='same')(x)\n",
    "x = MaxPooling2D((2, 2), padding='same')(x)\n",
    "x = Conv2D(8, (3, 3), activation='relu', padding='same')(x)\n",
    "encoded = MaxPooling2D((2, 2), padding='same')(x)\n",
    "# encoded shape (4, 4, 8)\n",
    "\n",
    "x = Conv2D(8, (3, 3), activation='relu', padding='same')(encoded)\n",
    "x = UpSampling2D((2, 2))(x)\n",
    "x = Conv2D(8, (3, 3), activation='relu', padding='same')(x)\n",
    "x = UpSampling2D((2, 2))(x)\n",
    "x = Conv2D(16, (3, 3), activation='relu')(x)\n",
    "x = UpSampling2D((2, 2))(x)\n",
    "\n",
    "decoded = Conv2D(1, (3, 3), activation='sigmoid', padding='same')(x)\n",
    "\n",
    "autoencoder = Model(input_img, decoded)"
   ]
  },
  {
   "cell_type": "code",
   "execution_count": 22,
   "metadata": {
    "collapsed": true
   },
   "outputs": [],
   "source": [
    "autoencoder.compile(optimizer='adadelta',\n",
    "                    loss='binary_crossentropy')"
   ]
  },
  {
   "cell_type": "code",
   "execution_count": 23,
   "metadata": {
    "collapsed": true
   },
   "outputs": [],
   "source": [
    "from keras.datasets import mnist\n",
    "import numpy as np\n",
    "\n",
    "(x_train, _), (x_test, _) = mnist.load_data()\n",
    "\n",
    "x_train = x_train.astype('float32') / 255.\n",
    "x_test = x_test.astype('float32') / 255.\n",
    "\n",
    "x_train = np.reshape(x_train, (len(x_train), 28, 28, 1))\n",
    "x_test = np.reshape(x_test, (len(x_test), 28, 28, 1))"
   ]
  },
  {
   "cell_type": "code",
   "execution_count": 24,
   "metadata": {},
   "outputs": [
    {
     "name": "stdout",
     "output_type": "stream",
     "text": [
      "Train on 60000 samples, validate on 10000 samples\n",
      "Epoch 1/50\n",
      "60000/60000 [==============================] - 6s - loss: 0.2194 - val_loss: 0.1662\n",
      "Epoch 2/50\n",
      "60000/60000 [==============================] - 5s - loss: 0.1562 - val_loss: 0.1479\n",
      "Epoch 3/50\n",
      "60000/60000 [==============================] - 5s - loss: 0.1415 - val_loss: 0.1371\n",
      "Epoch 4/50\n",
      "60000/60000 [==============================] - 5s - loss: 0.1340 - val_loss: 0.1298\n",
      "Epoch 5/50\n",
      "60000/60000 [==============================] - 5s - loss: 0.1291 - val_loss: 0.1278\n",
      "Epoch 6/50\n",
      "60000/60000 [==============================] - 5s - loss: 0.1250 - val_loss: 0.1233\n",
      "Epoch 7/50\n",
      "60000/60000 [==============================] - 5s - loss: 0.1219 - val_loss: 0.1188\n",
      "Epoch 8/50\n",
      "60000/60000 [==============================] - 5s - loss: 0.1197 - val_loss: 0.1158\n",
      "Epoch 9/50\n",
      "60000/60000 [==============================] - 5s - loss: 0.1174 - val_loss: 0.1163\n",
      "Epoch 10/50\n",
      "60000/60000 [==============================] - 5s - loss: 0.1162 - val_loss: 0.1139\n",
      "Epoch 11/50\n",
      "60000/60000 [==============================] - 5s - loss: 0.1148 - val_loss: 0.1147\n",
      "Epoch 12/50\n",
      "60000/60000 [==============================] - 5s - loss: 0.1135 - val_loss: 0.1151\n",
      "Epoch 13/50\n",
      "60000/60000 [==============================] - 5s - loss: 0.1127 - val_loss: 0.1131\n",
      "Epoch 14/50\n",
      "60000/60000 [==============================] - 5s - loss: 0.1116 - val_loss: 0.1080\n",
      "Epoch 15/50\n",
      "60000/60000 [==============================] - 5s - loss: 0.1107 - val_loss: 0.1081\n",
      "Epoch 16/50\n",
      "60000/60000 [==============================] - 5s - loss: 0.1101 - val_loss: 0.1092\n",
      "Epoch 17/50\n",
      "60000/60000 [==============================] - 5s - loss: 0.1097 - val_loss: 0.1098\n",
      "Epoch 18/50\n",
      "60000/60000 [==============================] - 5s - loss: 0.1089 - val_loss: 0.1086\n",
      "Epoch 19/50\n",
      "60000/60000 [==============================] - 5s - loss: 0.1082 - val_loss: 0.1064\n",
      "Epoch 20/50\n",
      "60000/60000 [==============================] - 5s - loss: 0.1080 - val_loss: 0.1066\n",
      "Epoch 21/50\n",
      "60000/60000 [==============================] - 5s - loss: 0.1071 - val_loss: 0.1054\n",
      "Epoch 22/50\n",
      "60000/60000 [==============================] - 5s - loss: 0.1067 - val_loss: 0.1052\n",
      "Epoch 23/50\n",
      "60000/60000 [==============================] - 5s - loss: 0.1063 - val_loss: 0.1069\n",
      "Epoch 24/50\n",
      "60000/60000 [==============================] - 5s - loss: 0.1060 - val_loss: 0.1056\n",
      "Epoch 25/50\n",
      "60000/60000 [==============================] - 5s - loss: 0.1054 - val_loss: 0.1039\n",
      "Epoch 26/50\n",
      "60000/60000 [==============================] - 5s - loss: 0.1052 - val_loss: 0.1030\n",
      "Epoch 27/50\n",
      "60000/60000 [==============================] - 5s - loss: 0.1047 - val_loss: 0.1029\n",
      "Epoch 28/50\n",
      "60000/60000 [==============================] - 5s - loss: 0.1045 - val_loss: 0.1024\n",
      "Epoch 29/50\n",
      "60000/60000 [==============================] - 5s - loss: 0.1041 - val_loss: 0.1053\n",
      "Epoch 30/50\n",
      "60000/60000 [==============================] - 5s - loss: 0.1038 - val_loss: 0.1037\n",
      "Epoch 31/50\n",
      "60000/60000 [==============================] - 5s - loss: 0.1038 - val_loss: 0.1033\n",
      "Epoch 32/50\n",
      "60000/60000 [==============================] - 5s - loss: 0.1033 - val_loss: 0.0999\n",
      "Epoch 33/50\n",
      "60000/60000 [==============================] - 5s - loss: 0.1029 - val_loss: 0.1017\n",
      "Epoch 34/50\n",
      "60000/60000 [==============================] - 5s - loss: 0.1025 - val_loss: 0.1010\n",
      "Epoch 35/50\n",
      "60000/60000 [==============================] - 5s - loss: 0.1023 - val_loss: 0.1010\n",
      "Epoch 36/50\n",
      "60000/60000 [==============================] - 5s - loss: 0.1022 - val_loss: 0.1025\n",
      "Epoch 37/50\n",
      "60000/60000 [==============================] - 5s - loss: 0.1019 - val_loss: 0.1012\n",
      "Epoch 38/50\n",
      "60000/60000 [==============================] - 5s - loss: 0.1019 - val_loss: 0.1006\n",
      "Epoch 39/50\n",
      "60000/60000 [==============================] - 5s - loss: 0.1015 - val_loss: 0.1001\n",
      "Epoch 40/50\n",
      "60000/60000 [==============================] - 5s - loss: 0.1012 - val_loss: 0.0992\n",
      "Epoch 41/50\n",
      "60000/60000 [==============================] - 5s - loss: 0.1008 - val_loss: 0.0981\n",
      "Epoch 42/50\n",
      "60000/60000 [==============================] - 5s - loss: 0.1007 - val_loss: 0.0991\n",
      "Epoch 43/50\n",
      "60000/60000 [==============================] - 5s - loss: 0.1003 - val_loss: 0.0999\n",
      "Epoch 44/50\n",
      "60000/60000 [==============================] - 5s - loss: 0.1001 - val_loss: 0.0996\n",
      "Epoch 45/50\n",
      "60000/60000 [==============================] - 5s - loss: 0.0999 - val_loss: 0.0976\n",
      "Epoch 46/50\n",
      "60000/60000 [==============================] - 5s - loss: 0.0997 - val_loss: 0.0985\n",
      "Epoch 47/50\n",
      "60000/60000 [==============================] - 5s - loss: 0.0994 - val_loss: 0.0974\n",
      "Epoch 48/50\n",
      "60000/60000 [==============================] - 5s - loss: 0.0995 - val_loss: 0.0985\n",
      "Epoch 49/50\n",
      "60000/60000 [==============================] - 5s - loss: 0.0994 - val_loss: 0.0970\n",
      "Epoch 50/50\n",
      "60000/60000 [==============================] - 5s - loss: 0.0989 - val_loss: 0.0964\n"
     ]
    },
    {
     "data": {
      "text/plain": [
       "<keras.callbacks.History at 0x1a6870af28>"
      ]
     },
     "execution_count": 24,
     "metadata": {},
     "output_type": "execute_result"
    }
   ],
   "source": [
    "from keras.callbacks import TensorBoard\n",
    "\n",
    "autoencoder.fit(x_train,\n",
    "                x_train,\n",
    "                epochs=50,\n",
    "                batch_size=128,\n",
    "                shuffle=True,\n",
    "                validation_data=(x_test, x_test),\n",
    "                callbacks=[TensorBoard(log_dir='./tmp/autoencoder')])"
   ]
  },
  {
   "cell_type": "code",
   "execution_count": 26,
   "metadata": {},
   "outputs": [
    {
     "data": {
      "image/png": "[encoded data removed]",
      "text/plain": [
       "<matplotlib.figure.Figure at 0x1a58f50860>"
      ]
     },
     "metadata": {},
     "output_type": "display_data"
    }
   ],
   "source": [
    "decoded_imgs = autoencoder.predict(x_test)\n",
    "\n",
    "n = 10\n",
    "plt.figure(figsize=(20, 4))\n",
    "for i in range(n):\n",
    "    # display original\n",
    "    ax = plt.subplot(2, n, i+1)\n",
    "    plt.imshow(x_test[i].reshape(28, 28))\n",
    "    plt.gray()\n",
    "    ax.get_xaxis().set_visible(False)\n",
    "    ax.get_yaxis().set_visible(False)\n",
    "\n",
    "    # display reconstruction\n",
    "    ax = plt.subplot(2, n, i + +1 + n)\n",
    "    plt.imshow(decoded_imgs[i].reshape(28, 28))\n",
    "    plt.gray()\n",
    "    ax.get_xaxis().set_visible(False)\n",
    "    ax.get_yaxis().set_visible(False)\n",
    "plt.show()"
   ]
  },
  {
   "cell_type": "markdown",
   "metadata": {},
   "source": [
    "We can also have a look at the 128-dimensional encoded representations. These representations are 8x4x4, so we reshape them to 4x32 in order to be able to display them as grayscale images."
   ]
  },
  {
   "cell_type": "code",
   "execution_count": 27,
   "metadata": {
    "collapsed": true
   },
   "outputs": [],
   "source": [
    "encoder = Model(input_img, encoded)\n",
    "encoded_imgs = encoder.predict(x_test)\n"
   ]
  },
  {
   "cell_type": "code",
   "execution_count": 29,
   "metadata": {
    "scrolled": true
   },
   "outputs": [
    {
     "data": {
      "image/png": "[encoded data removed]",
      "text/plain": [
       "<matplotlib.figure.Figure at 0x1a76764748>"
      ]
     },
     "metadata": {},
     "output_type": "display_data"
    }
   ],
   "source": [
    "n = 10\n",
    "plt.figure(figsize=(20, 8))\n",
    "for i in range(n):\n",
    "    ax = plt.subplot(1, n, i+1)\n",
    "    plt.imshow(encoded_imgs[i].reshape(4, 4 * 8).T)\n",
    "    plt.gray()\n",
    "    ax.get_xaxis().set_visible(False)\n",
    "    ax.get_yaxis().set_visible(False)\n",
    "plt.show()"
   ]
  },
  {
   "cell_type": "markdown",
   "metadata": {},
   "source": [
    "## Application to image denoising"
   ]
  },
  {
   "cell_type": "code",
   "execution_count": 30,
   "metadata": {
    "collapsed": true
   },
   "outputs": [],
   "source": [
    "from keras.datasets import mnist\n",
    "import numpy as np\n",
    "\n",
    "(x_train, _), (x_test, _) = mnist.load_data()\n",
    "x_train = x_train.astype('float32') / 255.\n",
    "x_test = x_test.astype('float32') / 255.\n",
    "x_train = np.reshape(x_train, (len(x_train), 28, 28, 1))\n",
    "x_test = np.reshape(x_test, (len(x_test), 28, 28, 1))\n",
    "\n",
    "noise_factor = 0.5\n",
    "x_train_noisy = x_train + noise_factor * np.random.normal(loc=0.0, scale=1.0, size=x_train.shape)\n",
    "x_test_noisy = x_test + noise_factor * np.random.normal(loc=0.0, scale=1.0, size=x_test.shape)\n",
    "\n",
    "x_train_noisy = np.clip(x_train_noisy, 0., 1.)\n",
    "x_test_noisy = np.clip(x_test_noisy, 0., 1.)\n"
   ]
  },
  {
   "cell_type": "code",
   "execution_count": 31,
   "metadata": {},
   "outputs": [
    {
     "data": {
      "image/png": "[encoded data removed]",
      "text/plain": [
       "<matplotlib.figure.Figure at 0x1a76c459e8>"
      ]
     },
     "metadata": {},
     "output_type": "display_data"
    }
   ],
   "source": [
    "n = 10\n",
    "plt.figure(figsize=(20, 2))\n",
    "for i in range(n):\n",
    "    ax = plt.subplot(1, n, i+1)\n",
    "    plt.imshow(x_test_noisy[i].reshape(28, 28))\n",
    "    plt.gray()\n",
    "    ax.get_xaxis().set_visible(False)\n",
    "    ax.get_yaxis().set_visible(False)\n",
    "plt.show()"
   ]
  },
  {
   "cell_type": "code",
   "execution_count": 32,
   "metadata": {
    "collapsed": true
   },
   "outputs": [],
   "source": [
    "input_img = Input(shape=(28, 28, 1))\n",
    "\n",
    "x = Conv2D(32, (3, 3), activation='relu', padding='same')(input_img)\n",
    "x = MaxPooling2D((2, 2), padding='same')(x)\n",
    "x = Conv2D(32, (3, 3), activation='relu', padding='same')(x)\n",
    "encoded = MaxPooling2D((2, 2), padding='same')(x)\n",
    "\n",
    "# (7, 7, 32)\n",
    "\n",
    "x = Conv2D(32, (3, 3), activation='relu', padding='same')(encoded)\n",
    "x = UpSampling2D((2, 2))(x)\n",
    "x = Conv2D(32, (3, 3), activation='relu', padding='same')(x)\n",
    "x = UpSampling2D((2, 2))(x)\n",
    "decoded = Conv2D(1, (3, 3), activation='sigmoid', padding='same')(x)\n",
    "\n",
    "autoencoder = Model(input_img, decoded)"
   ]
  },
  {
   "cell_type": "code",
   "execution_count": 33,
   "metadata": {
    "collapsed": true
   },
   "outputs": [],
   "source": [
    "autoencoder.compile(optimizer='adadelta',\n",
    "                    loss='binary_crossentropy')"
   ]
  },
  {
   "cell_type": "code",
   "execution_count": 34,
   "metadata": {
    "scrolled": true
   },
   "outputs": [
    {
     "name": "stdout",
     "output_type": "stream",
     "text": [
      "Train on 60000 samples, validate on 10000 samples\n",
      "Epoch 1/100\n",
      "60000/60000 [==============================] - 7s - loss: 0.2016 - val_loss: 0.1354\n",
      "Epoch 2/100\n",
      "60000/60000 [==============================] - 7s - loss: 0.1256 - val_loss: 0.1166\n",
      "Epoch 3/100\n",
      "60000/60000 [==============================] - 7s - loss: 0.1160 - val_loss: 0.1113\n",
      "Epoch 4/100\n",
      "60000/60000 [==============================] - 7s - loss: 0.1114 - val_loss: 0.1104\n",
      "Epoch 5/100\n",
      "60000/60000 [==============================] - 7s - loss: 0.1087 - val_loss: 0.1070\n",
      "Epoch 6/100\n",
      "60000/60000 [==============================] - 7s - loss: 0.1063 - val_loss: 0.1048\n",
      "Epoch 7/100\n",
      "60000/60000 [==============================] - 7s - loss: 0.1050 - val_loss: 0.1049\n",
      "Epoch 8/100\n",
      "60000/60000 [==============================] - 7s - loss: 0.1038 - val_loss: 0.1024\n",
      "Epoch 9/100\n",
      "60000/60000 [==============================] - 7s - loss: 0.1028 - val_loss: 0.1018\n",
      "Epoch 10/100\n",
      "60000/60000 [==============================] - 7s - loss: 0.1021 - val_loss: 0.1003\n",
      "Epoch 11/100\n",
      "60000/60000 [==============================] - 7s - loss: 0.1016 - val_loss: 0.1007\n",
      "Epoch 12/100\n",
      "60000/60000 [==============================] - 7s - loss: 0.1013 - val_loss: 0.1014\n",
      "Epoch 13/100\n",
      "60000/60000 [==============================] - 7s - loss: 0.1007 - val_loss: 0.0992\n",
      "Epoch 14/100\n",
      "60000/60000 [==============================] - 7s - loss: 0.1004 - val_loss: 0.0995\n",
      "Epoch 15/100\n",
      "60000/60000 [==============================] - 7s - loss: 0.1001 - val_loss: 0.0994\n",
      "Epoch 16/100\n",
      "60000/60000 [==============================] - 7s - loss: 0.0997 - val_loss: 0.0984\n",
      "Epoch 17/100\n",
      "60000/60000 [==============================] - 7s - loss: 0.0995 - val_loss: 0.0990\n",
      "Epoch 18/100\n",
      "60000/60000 [==============================] - 7s - loss: 0.0991 - val_loss: 0.0981\n",
      "Epoch 19/100\n",
      "60000/60000 [==============================] - 7s - loss: 0.0990 - val_loss: 0.0980\n",
      "Epoch 20/100\n",
      "60000/60000 [==============================] - 7s - loss: 0.0987 - val_loss: 0.0976\n",
      "Epoch 21/100\n",
      "60000/60000 [==============================] - 7s - loss: 0.0985 - val_loss: 0.0989\n",
      "Epoch 22/100\n",
      "60000/60000 [==============================] - 7s - loss: 0.0983 - val_loss: 0.0990\n",
      "Epoch 23/100\n",
      "60000/60000 [==============================] - 7s - loss: 0.0982 - val_loss: 0.0975\n",
      "Epoch 24/100\n",
      "60000/60000 [==============================] - 7s - loss: 0.0980 - val_loss: 0.0981\n",
      "Epoch 25/100\n",
      "60000/60000 [==============================] - 7s - loss: 0.0979 - val_loss: 0.0969\n",
      "Epoch 26/100\n",
      "60000/60000 [==============================] - 7s - loss: 0.0977 - val_loss: 0.0969\n",
      "Epoch 27/100\n",
      "60000/60000 [==============================] - 7s - loss: 0.0976 - val_loss: 0.0967\n",
      "Epoch 28/100\n",
      "60000/60000 [==============================] - 7s - loss: 0.0975 - val_loss: 0.0967\n",
      "Epoch 29/100\n",
      "60000/60000 [==============================] - 7s - loss: 0.0973 - val_loss: 0.0970\n",
      "Epoch 30/100\n",
      "60000/60000 [==============================] - 7s - loss: 0.0972 - val_loss: 0.0963\n",
      "Epoch 31/100\n",
      "60000/60000 [==============================] - 7s - loss: 0.0971 - val_loss: 0.0966\n",
      "Epoch 32/100\n",
      "60000/60000 [==============================] - 7s - loss: 0.0970 - val_loss: 0.0968\n",
      "Epoch 33/100\n",
      "60000/60000 [==============================] - 7s - loss: 0.0969 - val_loss: 0.0961\n",
      "Epoch 34/100\n",
      "60000/60000 [==============================] - 7s - loss: 0.0968 - val_loss: 0.0964\n",
      "Epoch 35/100\n",
      "60000/60000 [==============================] - 7s - loss: 0.0967 - val_loss: 0.0960\n",
      "Epoch 36/100\n",
      "60000/60000 [==============================] - 7s - loss: 0.0966 - val_loss: 0.0959\n",
      "Epoch 37/100\n",
      "60000/60000 [==============================] - 7s - loss: 0.0965 - val_loss: 0.0959\n",
      "Epoch 38/100\n",
      "60000/60000 [==============================] - 7s - loss: 0.0963 - val_loss: 0.0961\n",
      "Epoch 39/100\n",
      "60000/60000 [==============================] - 7s - loss: 0.0964 - val_loss: 0.0960\n",
      "Epoch 40/100\n",
      "60000/60000 [==============================] - 7s - loss: 0.0963 - val_loss: 0.0960\n",
      "Epoch 41/100\n",
      "60000/60000 [==============================] - 7s - loss: 0.0962 - val_loss: 0.0957\n",
      "Epoch 42/100\n",
      "60000/60000 [==============================] - 7s - loss: 0.0962 - val_loss: 0.0956\n",
      "Epoch 43/100\n",
      "60000/60000 [==============================] - 7s - loss: 0.0961 - val_loss: 0.0953\n",
      "Epoch 44/100\n",
      "60000/60000 [==============================] - 7s - loss: 0.0960 - val_loss: 0.0960\n",
      "Epoch 45/100\n",
      "60000/60000 [==============================] - 8s - loss: 0.0959 - val_loss: 0.0952\n",
      "Epoch 46/100\n",
      "60000/60000 [==============================] - 8s - loss: 0.0959 - val_loss: 0.0952\n",
      "Epoch 47/100\n",
      "60000/60000 [==============================] - 8s - loss: 0.0958 - val_loss: 0.0951\n",
      "Epoch 48/100\n",
      "60000/60000 [==============================] - 8s - loss: 0.0959 - val_loss: 0.0951\n",
      "Epoch 49/100\n",
      "60000/60000 [==============================] - 8s - loss: 0.0958 - val_loss: 0.0951\n",
      "Epoch 50/100\n",
      "60000/60000 [==============================] - 8s - loss: 0.0957 - val_loss: 0.0962\n",
      "Epoch 51/100\n",
      "60000/60000 [==============================] - 8s - loss: 0.0956 - val_loss: 0.0953\n",
      "Epoch 52/100\n",
      "60000/60000 [==============================] - 8s - loss: 0.0955 - val_loss: 0.0950\n",
      "Epoch 53/100\n",
      "60000/60000 [==============================] - 8s - loss: 0.0955 - val_loss: 0.0949\n",
      "Epoch 54/100\n",
      "60000/60000 [==============================] - 8s - loss: 0.0955 - val_loss: 0.0950\n",
      "Epoch 55/100\n",
      "60000/60000 [==============================] - 7s - loss: 0.0954 - val_loss: 0.0949\n",
      "Epoch 56/100\n",
      "60000/60000 [==============================] - 7s - loss: 0.0954 - val_loss: 0.0950\n",
      "Epoch 57/100\n",
      "60000/60000 [==============================] - 7s - loss: 0.0953 - val_loss: 0.0951\n",
      "Epoch 58/100\n",
      "60000/60000 [==============================] - 7s - loss: 0.0953 - val_loss: 0.0962\n",
      "Epoch 59/100\n",
      "60000/60000 [==============================] - 7s - loss: 0.0952 - val_loss: 0.0951\n",
      "Epoch 60/100\n",
      "60000/60000 [==============================] - 7s - loss: 0.0952 - val_loss: 0.0948\n",
      "Epoch 61/100\n",
      "60000/60000 [==============================] - 7s - loss: 0.0952 - val_loss: 0.0949\n",
      "Epoch 62/100\n",
      "60000/60000 [==============================] - 7s - loss: 0.0951 - val_loss: 0.0953\n",
      "Epoch 63/100\n",
      "60000/60000 [==============================] - 7s - loss: 0.0951 - val_loss: 0.0949\n",
      "Epoch 64/100\n",
      "60000/60000 [==============================] - 7s - loss: 0.0950 - val_loss: 0.0959\n",
      "Epoch 65/100\n",
      "60000/60000 [==============================] - 7s - loss: 0.0950 - val_loss: 0.0945\n",
      "Epoch 66/100\n",
      "60000/60000 [==============================] - 7s - loss: 0.0950 - val_loss: 0.0945\n",
      "Epoch 67/100\n",
      "60000/60000 [==============================] - 7s - loss: 0.0949 - val_loss: 0.0950\n",
      "Epoch 68/100\n",
      "60000/60000 [==============================] - 7s - loss: 0.0949 - val_loss: 0.0945\n",
      "Epoch 69/100\n",
      "60000/60000 [==============================] - 7s - loss: 0.0949 - val_loss: 0.0946\n",
      "Epoch 70/100\n",
      "60000/60000 [==============================] - 7s - loss: 0.0949 - val_loss: 0.0948\n",
      "Epoch 71/100\n",
      "60000/60000 [==============================] - 7s - loss: 0.0948 - val_loss: 0.0955\n",
      "Epoch 72/100\n",
      "60000/60000 [==============================] - 7s - loss: 0.0948 - val_loss: 0.0944\n",
      "Epoch 73/100\n",
      "60000/60000 [==============================] - 7s - loss: 0.0948 - val_loss: 0.0945\n",
      "Epoch 74/100\n",
      "60000/60000 [==============================] - 7s - loss: 0.0947 - val_loss: 0.0945\n",
      "Epoch 75/100\n",
      "60000/60000 [==============================] - 7s - loss: 0.0947 - val_loss: 0.0944\n",
      "Epoch 76/100\n",
      "60000/60000 [==============================] - 7s - loss: 0.0947 - val_loss: 0.0942\n",
      "Epoch 77/100\n",
      "60000/60000 [==============================] - 7s - loss: 0.0946 - val_loss: 0.0942\n",
      "Epoch 78/100\n",
      "60000/60000 [==============================] - 7s - loss: 0.0946 - val_loss: 0.0942\n",
      "Epoch 79/100\n",
      "60000/60000 [==============================] - 7s - loss: 0.0947 - val_loss: 0.0943\n",
      "Epoch 80/100\n",
      "60000/60000 [==============================] - 7s - loss: 0.0946 - val_loss: 0.0943\n",
      "Epoch 81/100\n",
      "60000/60000 [==============================] - 7s - loss: 0.0945 - val_loss: 0.0946\n",
      "Epoch 82/100\n",
      "60000/60000 [==============================] - 7s - loss: 0.0946 - val_loss: 0.0945\n",
      "Epoch 83/100\n",
      "60000/60000 [==============================] - 7s - loss: 0.0945 - val_loss: 0.0944\n",
      "Epoch 84/100\n",
      "60000/60000 [==============================] - 7s - loss: 0.0945 - val_loss: 0.0941\n",
      "Epoch 85/100\n"
     ]
    },
    {
     "name": "stdout",
     "output_type": "stream",
     "text": [
      "60000/60000 [==============================] - 7s - loss: 0.0945 - val_loss: 0.0943\n",
      "Epoch 86/100\n",
      "60000/60000 [==============================] - 7s - loss: 0.0945 - val_loss: 0.0950\n",
      "Epoch 87/100\n",
      "60000/60000 [==============================] - 7s - loss: 0.0945 - val_loss: 0.0944\n",
      "Epoch 88/100\n",
      "60000/60000 [==============================] - 7s - loss: 0.0944 - val_loss: 0.0945\n",
      "Epoch 89/100\n",
      "60000/60000 [==============================] - 7s - loss: 0.0944 - val_loss: 0.0942\n",
      "Epoch 90/100\n",
      "60000/60000 [==============================] - 7s - loss: 0.0944 - val_loss: 0.0945\n",
      "Epoch 91/100\n",
      "60000/60000 [==============================] - 7s - loss: 0.0943 - val_loss: 0.0940\n",
      "Epoch 92/100\n",
      "60000/60000 [==============================] - 7s - loss: 0.0943 - val_loss: 0.0940\n",
      "Epoch 93/100\n",
      "60000/60000 [==============================] - 7s - loss: 0.0943 - val_loss: 0.0939\n",
      "Epoch 94/100\n",
      "60000/60000 [==============================] - 7s - loss: 0.0943 - val_loss: 0.0939\n",
      "Epoch 95/100\n",
      "60000/60000 [==============================] - 7s - loss: 0.0943 - val_loss: 0.0942\n",
      "Epoch 96/100\n",
      "60000/60000 [==============================] - 7s - loss: 0.0943 - val_loss: 0.0946\n",
      "Epoch 97/100\n",
      "60000/60000 [==============================] - 7s - loss: 0.0942 - val_loss: 0.0938\n",
      "Epoch 98/100\n",
      "60000/60000 [==============================] - 7s - loss: 0.0942 - val_loss: 0.0939\n",
      "Epoch 99/100\n",
      "60000/60000 [==============================] - 7s - loss: 0.0942 - val_loss: 0.0940\n",
      "Epoch 100/100\n",
      "60000/60000 [==============================] - 7s - loss: 0.0942 - val_loss: 0.0939\n"
     ]
    },
    {
     "data": {
      "text/plain": [
       "<keras.callbacks.History at 0x1a7e4e77b8>"
      ]
     },
     "execution_count": 34,
     "metadata": {},
     "output_type": "execute_result"
    }
   ],
   "source": [
    "autoencoder.fit(x_train_noisy,\n",
    "                x_train,\n",
    "                epochs=100,\n",
    "                batch_size=128,\n",
    "                shuffle=True,\n",
    "                validation_data = (x_test_noisy, x_test),\n",
    "                callbacks=[TensorBoard(log_dir='./tmp/tb', histogram_freq=0, write_graph=False)])"
   ]
  },
  {
   "cell_type": "code",
   "execution_count": 36,
   "metadata": {},
   "outputs": [
    {
     "data": {
      "image/png": "[encoded data removed]",
      "text/plain": [
       "<matplotlib.figure.Figure at 0x1a69f06e80>"
      ]
     },
     "metadata": {},
     "output_type": "display_data"
    }
   ],
   "source": [
    "decoded_imgs = autoencoder.predict(x_test_noisy)\n",
    "\n",
    "n = 10\n",
    "plt.figure(figsize=(20, 4))\n",
    "for i in range(n):\n",
    "    # display original\n",
    "    ax = plt.subplot(2, n, i+1)\n",
    "    plt.imshow(x_test_noisy[i].reshape(28, 28))\n",
    "    plt.gray()\n",
    "    ax.get_xaxis().set_visible(False)\n",
    "    ax.get_yaxis().set_visible(False)\n",
    "\n",
    "    # display reconstruction\n",
    "    ax = plt.subplot(2, n, i + +1 + n)\n",
    "    plt.imshow(decoded_imgs[i].reshape(28, 28))\n",
    "    plt.gray()\n",
    "    ax.get_xaxis().set_visible(False)\n",
    "    ax.get_yaxis().set_visible(False)\n",
    "plt.show()"
   ]
  },
  {
   "cell_type": "markdown",
   "metadata": {},
   "source": [
    "## Seq2Seq Autoencoder"
   ]
  },
  {
   "cell_type": "code",
   "execution_count": null,
   "metadata": {
    "collapsed": true
   },
   "outputs": [],
   "source": [
    "from keras.layers import Input, LSTM, RepeatVector\n",
    "from keras.models import Model\n",
    "\n",
    "inputs = Input(shape=(timesteps, input_dim))\n",
    "encoded = LSTM(latent_dim)(inputs)\n",
    "\n",
    "decoded = RepeatVector(timesteps)(encoded)\n",
    "decoded = LSTM(input_dim, return_sequences=True)(decoded)\n",
    "\n",
    "sequence_autoencoder = Model(inputs, decoded)\n",
    "encoder = Model(inputs, encoded)"
   ]
  },
  {
   "cell_type": "code",
   "execution_count": null,
   "metadata": {
    "collapsed": true
   },
   "outputs": [],
   "source": []
  }
 ],
 "metadata": {
  "kernelspec": {
   "display_name": "Python 3",
   "language": "python",
   "name": "python3"
  },
  "language_info": {
   "codemirror_mode": {
    "name": "ipython",
    "version": 3
   },
   "file_extension": ".py",
   "mimetype": "text/x-python",
   "name": "python",
   "nbconvert_exporter": "python",
   "pygments_lexer": "ipython3",
   "version": "3.6.2"
  }
 },
 "nbformat": 4,
 "nbformat_minor": 2
}
