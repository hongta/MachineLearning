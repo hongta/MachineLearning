{
 "cells": [
  {
   "cell_type": "markdown",
   "metadata": {},
   "source": [
    "source: [Wassertein ACGAN with Keras](https://myurasov.github.io/2017/09/24/wasserstein-gan-keras.html)"
   ]
  },
  {
   "cell_type": "code",
   "execution_count": 1,
   "metadata": {
    "collapsed": true
   },
   "outputs": [],
   "source": [
    "import os\n",
    "os.environ['KERAS_BACKEND'] = 'tensorflow'"
   ]
  },
  {
   "cell_type": "code",
   "execution_count": 2,
   "metadata": {},
   "outputs": [
    {
     "name": "stderr",
     "output_type": "stream",
     "text": [
      "Using TensorFlow backend.\n"
     ]
    }
   ],
   "source": [
    "import numpy as np\n",
    "import matplotlib.pyplot as plt\n",
    "%matplotlib inline\n",
    "%config InlineBackend.figure_format = 'retina'\n",
    "\n",
    "import keras\n",
    "import keras.backend as K\n",
    "from keras.datasets import mnist\n",
    "from keras import layers, models, optimizers, callbacks, initializers\n",
    "from keras.utils.generic_utils import Progbar"
   ]
  },
  {
   "cell_type": "code",
   "execution_count": 3,
   "metadata": {},
   "outputs": [
    {
     "name": "stdout",
     "output_type": "stream",
     "text": [
      "Keras: 2.0.8\n"
     ]
    }
   ],
   "source": [
    "print(\"Keras:\", keras.__version__)\n"
   ]
  },
  {
   "cell_type": "code",
   "execution_count": 4,
   "metadata": {
    "collapsed": true
   },
   "outputs": [],
   "source": [
    "# random seed\n",
    "RND = 777\n",
    "\n",
    "# output settings\n",
    "RUN = 'F'\n",
    "OUT_DIR = 'out/' + RUN\n",
    "TENSORBOARD_DIR = 'model/' + RUN\n",
    "SAVE_SAMPLE_IMAGES = False\n",
    "\n",
    "BATCH_SIZE = 100\n",
    "ITERATIONS = 20000\n",
    "\n",
    "# size of the random vector used to initialize G\n",
    "Z_SIZE = 100\n",
    "\n",
    "# number of iterations D is trained for per each G iteration\n",
    "D_ITERS = 5\n"
   ]
  },
  {
   "cell_type": "code",
   "execution_count": 5,
   "metadata": {
    "collapsed": true
   },
   "outputs": [],
   "source": [
    "np.random.seed(RND)"
   ]
  },
  {
   "cell_type": "code",
   "execution_count": 6,
   "metadata": {
    "collapsed": true
   },
   "outputs": [],
   "source": [
    "if not os.path.isdir(OUT_DIR): os.makedirs(OUT_DIR)"
   ]
  },
  {
   "cell_type": "markdown",
   "metadata": {},
   "source": [
    "### Loss function for Discriminator"
   ]
  },
  {
   "cell_type": "code",
   "execution_count": 7,
   "metadata": {
    "collapsed": true
   },
   "outputs": [],
   "source": [
    "# basically return mean(y_pred)\n",
    "# but with ability to inverse it for minimization (when y_true == -1)\n",
    "def wasserstein(y_true, y_pred):\n",
    "    return K.mean(y_true * y_pred)"
   ]
  },
  {
   "cell_type": "markdown",
   "metadata": {},
   "source": [
    "### Creating Discriminator"
   ]
  },
  {
   "cell_type": "code",
   "execution_count": 8,
   "metadata": {
    "collapsed": true
   },
   "outputs": [],
   "source": [
    "def create_D():\n",
    "    \n",
    "    # weights are initialized from normal distribution with below params\n",
    "    weight_init = initializers.RandomNormal(mean=0., stddev=0.02)\n",
    "    \n",
    "    input_image = layers.Input(shape=(28, 28, 1), name='input_image')\n",
    "    \n",
    "    x = layers.Conv2D(32,\n",
    "                      (3, 3),\n",
    "                      padding='same',\n",
    "                      name='conv_1',\n",
    "                      kernel_initializer=weight_init)(input_image)\n",
    "    x = layers.LeakyReLU()(x)\n",
    "    x = layers.MaxPool2D(pool_size=2)(x)\n",
    "    x = layers.Dropout(0.3)(x)\n",
    "    \n",
    "    x = layers.Conv2D(64,\n",
    "                      (3, 3),\n",
    "                      padding='same',\n",
    "                      name='conv_2',\n",
    "                      kernel_initializer=weight_init)(x)\n",
    "    x = layers.MaxPool2D(pool_size=1)(x)\n",
    "    x = layers.LeakyReLU()(x)\n",
    "    x = layers.Dropout(0.3)(x)\n",
    "    \n",
    "    x = layers.Conv2D(128,\n",
    "                      (3, 3), \n",
    "                      padding='same',\n",
    "                      name='conv_3',\n",
    "                      kernel_initializer=weight_init)(x)\n",
    "    x = layers.MaxPool2D(pool_size=2)(x)\n",
    "    x = layers.LeakyReLU()(x)\n",
    "    x = layers.Dropout(0.3)(x)\n",
    "    \n",
    "    x = layers.Conv2D(256,\n",
    "                      (3, 3),\n",
    "                      padding='same',\n",
    "                      name='conv_4',\n",
    "                      kernel_initializer=weight_init)(x)\n",
    "    x = layers.MaxPool2D(pool_size=1)(x)\n",
    "    x = layers.LeakyReLU()(x)\n",
    "    x = layers.Dropout(0.3)(x)\n",
    "    \n",
    "    features = layers.Flatten()(x)\n",
    "    \n",
    "    output_is_fake = layers.Dense(1,\n",
    "                                  activation='linear',\n",
    "                                  name='output_is_fake')(features)\n",
    "    output_class = layers.Dense(10,\n",
    "                                activation='softmax',\n",
    "                                name='output_class')(features)\n",
    "    return models.Model(inputs=[input_image],\n",
    "                        outputs=[output_is_fake, output_class], name='D')\n",
    "    "
   ]
  },
  {
   "cell_type": "code",
   "execution_count": 9,
   "metadata": {
    "collapsed": true
   },
   "outputs": [],
   "source": [
    "def create_G(Z_SIZE=Z_SIZE):\n",
    "    DICT_LEN = 10\n",
    "    EMBEDDING_LEN = Z_SIZE\n",
    "    \n",
    "    weight_init = initializers.RandomNormal(mean=0., stddev=0.02)\n",
    "    \n",
    "    input_class = layers.Input(shape=(1, ), dtype='int32', name='input_class')\n",
    "    \n",
    "    e = layers.Embedding(DICT_LEN,\n",
    "                         EMBEDDING_LEN,\n",
    "                         embeddings_initializer='glorot_uniform')(input_class)\n",
    "    embedded_class = layers.Flatten(name='embedded_class')(e)\n",
    "    \n",
    "    input_z = layers.Input(shape=(Z_SIZE, ), name='input_z')\n",
    "    \n",
    "    # hadamard product\n",
    "    h = layers.multiply([input_z, embedded_class], name='h')\n",
    "    \n",
    "    # cnn part\n",
    "    x = layers.Dense(1024)(h)\n",
    "    x = layers.LeakyReLU()(x)\n",
    "    \n",
    "    x = layers.Dense(128 * 7 * 7)(x)\n",
    "    x = layers.LeakyReLU()(x)\n",
    "    x = layers.Reshape((7, 7, 128))(x)\n",
    "    \n",
    "    x = layers.UpSampling2D(size=(2, 2))(x)\n",
    "    x = layers.Conv2D(256, (5, 5), padding='same', kernel_initializer=weight_init)(x)\n",
    "    x = layers.LeakyReLU()(x)\n",
    "    \n",
    "    x = layers.UpSampling2D(size=(2, 2))(x)\n",
    "    x = layers.Conv2D(128, (5, 5), padding='same', kernel_initializer=weight_init)(x)\n",
    "    x = layers.LeakyReLU()(x)\n",
    "    \n",
    "    x = layers.Conv2D(1,\n",
    "                      (2, 2),\n",
    "                      padding='same',\n",
    "                      activation='tanh', \n",
    "                      name='output_generated_image',\n",
    "                      kernel_initializer=weight_init)(x)\n",
    "    return models.Model(inputs=[input_z, input_class], outputs=x, name='G')"
   ]
  },
  {
   "cell_type": "code",
   "execution_count": 16,
   "metadata": {
    "collapsed": true
   },
   "outputs": [],
   "source": [
    "D = create_D()"
   ]
  },
  {
   "cell_type": "code",
   "execution_count": 23,
   "metadata": {
    "collapsed": true
   },
   "outputs": [],
   "source": [
    "G = create_G()"
   ]
  },
  {
   "cell_type": "code",
   "execution_count": null,
   "metadata": {
    "collapsed": true
   },
   "outputs": [],
   "source": []
  }
 ],
 "metadata": {
  "kernelspec": {
   "display_name": "Python 3",
   "language": "python",
   "name": "python3"
  },
  "language_info": {
   "codemirror_mode": {
    "name": "ipython",
    "version": 3
   },
   "file_extension": ".py",
   "mimetype": "text/x-python",
   "name": "python",
   "nbconvert_exporter": "python",
   "pygments_lexer": "ipython3",
   "version": "3.6.2"
  }
 },
 "nbformat": 4,
 "nbformat_minor": 2
}
